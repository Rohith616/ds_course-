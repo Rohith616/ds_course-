{
  "nbformat": 4,
  "nbformat_minor": 0,
  "metadata": {
    "colab": {
      "name": "Elmo_Word_Embedding.ipynb",
      "provenance": [],
      "collapsed_sections": []
    },
    "kernelspec": {
      "display_name": "Python 3",
      "name": "python3"
    }
  },
  "cells": [
    {
      "cell_type": "markdown",
      "metadata": {
        "id": "AqMpQA9mI_vc"
      },
      "source": [
        "**Problem Statement**\n",
        "\n",
        "The dataset we are refering to here contains headlines, URLs, and categories for 422,937 news stories collected by a web aggregator between March 10th, 2014 and August 10th, 2014.\n",
        "\n",
        "News categories included in this dataset include business; science and technology; entertainment; and health. Different news articles that refer to the same news item (e.g., several articles about recently released employment statistics) are also categorized together.\n",
        "\n",
        "Source:Kaggle"
      ]
    },
    {
      "cell_type": "code",
      "metadata": {
        "id": "NKO2F8ofW00L"
      },
      "source": [
        "from google.colab import drive\n",
        "drive.mount('/content/drive')"
      ],
      "execution_count": null,
      "outputs": []
    },
    {
      "cell_type": "markdown",
      "metadata": {
        "id": "fIsvCfOGW4ar"
      },
      "source": [
        "# New section"
      ]
    },
    {
      "cell_type": "markdown",
      "metadata": {
        "id": "W_HKUSbhKgBL"
      },
      "source": [
        "**Acknowledgments**\n",
        "\n",
        "\n",
        "This dataset comes from the UCI Machine Learning Repository. Any publications that use this data should cite the repository as follows:\n",
        "\n",
        "Lichman, M. (2013). UCI Machine Learning Repository [http://archive.ics.uci.edu/ml]. Irvine, CA: University of California, School of Information and Computer Science.\n",
        "\n",
        "This specific dataset can be found in the UCI ML Repository at this URL\n",
        "\n"
      ]
    },
    {
      "cell_type": "code",
      "metadata": {
        "id": "hSKfN6entzKs"
      },
      "source": [
        "#Import libraries\n",
        "\n",
        "import pandas as pd\n",
        "import numpy as np\n",
        "import spacy\n",
        "from tqdm import tqdm\n",
        "import re\n",
        "import time\n",
        "import pickle\n",
        "pd.set_option('display.max_colwidth', 200)"
      ],
      "execution_count": null,
      "outputs": []
    },
    {
      "cell_type": "code",
      "metadata": {
        "id": "r47PyCLXLYLR"
      },
      "source": [
        "#Read the dataset\n",
        "\n",
        "dataframe=pd.read_csv('uci-news-aggregator.csv')"
      ],
      "execution_count": null,
      "outputs": []
    },
    {
      "cell_type": "code",
      "metadata": {
        "colab": {
          "base_uri": "https://localhost:8080/",
          "height": 751
        },
        "id": "z6wJDT_0MIVv",
        "outputId": "7d0c77a6-05b5-40ed-bf9e-66b1f5ca27fd"
      },
      "source": [
        "dataframe.head()"
      ],
      "execution_count": null,
      "outputs": [
        {
          "output_type": "execute_result",
          "data": {
            "text/html": [
              "<div>\n",
              "<style scoped>\n",
              "    .dataframe tbody tr th:only-of-type {\n",
              "        vertical-align: middle;\n",
              "    }\n",
              "\n",
              "    .dataframe tbody tr th {\n",
              "        vertical-align: top;\n",
              "    }\n",
              "\n",
              "    .dataframe thead th {\n",
              "        text-align: right;\n",
              "    }\n",
              "</style>\n",
              "<table border=\"1\" class=\"dataframe\">\n",
              "  <thead>\n",
              "    <tr style=\"text-align: right;\">\n",
              "      <th></th>\n",
              "      <th>ID</th>\n",
              "      <th>TITLE</th>\n",
              "      <th>URL</th>\n",
              "      <th>PUBLISHER</th>\n",
              "      <th>CATEGORY</th>\n",
              "      <th>STORY</th>\n",
              "      <th>HOSTNAME</th>\n",
              "      <th>TIMESTAMP</th>\n",
              "    </tr>\n",
              "  </thead>\n",
              "  <tbody>\n",
              "    <tr>\n",
              "      <th>0</th>\n",
              "      <td>1</td>\n",
              "      <td>Fed official says weak data caused by weather, should not slow taper</td>\n",
              "      <td>http://www.latimes.com/business/money/la-fi-mo-federal-reserve-plosser-stimulus-economy-20140310,0,1312750.story\\?track=rss</td>\n",
              "      <td>Los Angeles Times</td>\n",
              "      <td>b</td>\n",
              "      <td>ddUyU0VZz0BRneMioxUPQVP6sIxvM</td>\n",
              "      <td>www.latimes.com</td>\n",
              "      <td>1394470370698</td>\n",
              "    </tr>\n",
              "    <tr>\n",
              "      <th>1</th>\n",
              "      <td>2</td>\n",
              "      <td>Fed's Charles Plosser sees high bar for change in pace of tapering</td>\n",
              "      <td>http://www.livemint.com/Politics/H2EvwJSK2VE6OF7iK1g3PP/Feds-Charles-Plosser-sees-high-bar-for-change-in-pace-of-ta.html</td>\n",
              "      <td>Livemint</td>\n",
              "      <td>b</td>\n",
              "      <td>ddUyU0VZz0BRneMioxUPQVP6sIxvM</td>\n",
              "      <td>www.livemint.com</td>\n",
              "      <td>1394470371207</td>\n",
              "    </tr>\n",
              "    <tr>\n",
              "      <th>2</th>\n",
              "      <td>3</td>\n",
              "      <td>US open: Stocks fall after Fed official hints at accelerated tapering</td>\n",
              "      <td>http://www.ifamagazine.com/news/us-open-stocks-fall-after-fed-official-hints-at-accelerated-tapering-294436</td>\n",
              "      <td>IFA Magazine</td>\n",
              "      <td>b</td>\n",
              "      <td>ddUyU0VZz0BRneMioxUPQVP6sIxvM</td>\n",
              "      <td>www.ifamagazine.com</td>\n",
              "      <td>1394470371550</td>\n",
              "    </tr>\n",
              "    <tr>\n",
              "      <th>3</th>\n",
              "      <td>4</td>\n",
              "      <td>Fed risks falling 'behind the curve', Charles Plosser says</td>\n",
              "      <td>http://www.ifamagazine.com/news/fed-risks-falling-behind-the-curve-charles-plosser-says-294430</td>\n",
              "      <td>IFA Magazine</td>\n",
              "      <td>b</td>\n",
              "      <td>ddUyU0VZz0BRneMioxUPQVP6sIxvM</td>\n",
              "      <td>www.ifamagazine.com</td>\n",
              "      <td>1394470371793</td>\n",
              "    </tr>\n",
              "    <tr>\n",
              "      <th>4</th>\n",
              "      <td>5</td>\n",
              "      <td>Fed's Plosser: Nasty Weather Has Curbed Job Growth</td>\n",
              "      <td>http://www.moneynews.com/Economy/federal-reserve-charles-plosser-weather-job-growth/2014/03/10/id/557011</td>\n",
              "      <td>Moneynews</td>\n",
              "      <td>b</td>\n",
              "      <td>ddUyU0VZz0BRneMioxUPQVP6sIxvM</td>\n",
              "      <td>www.moneynews.com</td>\n",
              "      <td>1394470372027</td>\n",
              "    </tr>\n",
              "  </tbody>\n",
              "</table>\n",
              "</div>"
            ],
            "text/plain": [
              "   ID  ...      TIMESTAMP\n",
              "0   1  ...  1394470370698\n",
              "1   2  ...  1394470371207\n",
              "2   3  ...  1394470371550\n",
              "3   4  ...  1394470371793\n",
              "4   5  ...  1394470372027\n",
              "\n",
              "[5 rows x 8 columns]"
            ]
          },
          "metadata": {
            "tags": []
          },
          "execution_count": 17
        }
      ]
    },
    {
      "cell_type": "code",
      "metadata": {
        "colab": {
          "base_uri": "https://localhost:8080/"
        },
        "id": "lkWzPeWtOhmT",
        "outputId": "9b0be2fd-2959-4daa-cb50-8dedf190bf40"
      },
      "source": [
        "# Lets count the rows for each class\n",
        "\n",
        "dataframe['CATEGORY'].value_counts()\n",
        "\n"
      ],
      "execution_count": null,
      "outputs": [
        {
          "output_type": "execute_result",
          "data": {
            "text/plain": [
              "e    152469\n",
              "b    115967\n",
              "t    108344\n",
              "m     45639\n",
              "Name: CATEGORY, dtype: int64"
            ]
          },
          "metadata": {
            "tags": []
          },
          "execution_count": 18
        }
      ]
    },
    {
      "cell_type": "markdown",
      "metadata": {
        "id": "UwlgkuEcQOKy"
      },
      "source": [
        "As we can see classes are imbalanced let us do some class balance in the next step."
      ]
    },
    {
      "cell_type": "code",
      "metadata": {
        "colab": {
          "base_uri": "https://localhost:8080/",
          "height": 666
        },
        "id": "GzauqPkEQL4l",
        "outputId": "0c01cb1c-48e0-4867-9145-4eb6431bf5b0"
      },
      "source": [
        "e = dataframe[dataframe['CATEGORY']=='e'][:45639]\n",
        "b = dataframe[dataframe['CATEGORY']=='e'][:45639]\n",
        "t = dataframe[dataframe['CATEGORY']=='t'][:45639]\n",
        "m = dataframe[dataframe['CATEGORY']=='m'][:45639]\n",
        "type(e)\n",
        "new_df=pd.concat([e,b,t,m])\n",
        "new_df.head()\n"
      ],
      "execution_count": null,
      "outputs": [
        {
          "output_type": "execute_result",
          "data": {
            "text/html": [
              "<div>\n",
              "<style scoped>\n",
              "    .dataframe tbody tr th:only-of-type {\n",
              "        vertical-align: middle;\n",
              "    }\n",
              "\n",
              "    .dataframe tbody tr th {\n",
              "        vertical-align: top;\n",
              "    }\n",
              "\n",
              "    .dataframe thead th {\n",
              "        text-align: right;\n",
              "    }\n",
              "</style>\n",
              "<table border=\"1\" class=\"dataframe\">\n",
              "  <thead>\n",
              "    <tr style=\"text-align: right;\">\n",
              "      <th></th>\n",
              "      <th>ID</th>\n",
              "      <th>TITLE</th>\n",
              "      <th>URL</th>\n",
              "      <th>PUBLISHER</th>\n",
              "      <th>CATEGORY</th>\n",
              "      <th>STORY</th>\n",
              "      <th>HOSTNAME</th>\n",
              "      <th>TIMESTAMP</th>\n",
              "    </tr>\n",
              "  </thead>\n",
              "  <tbody>\n",
              "    <tr>\n",
              "      <th>2169</th>\n",
              "      <td>2170</td>\n",
              "      <td>George Zimmerman Has an Armed Life on the Move</td>\n",
              "      <td>http://www.wltx.com/story/news/nation/2014/03/10/george-zimmerman-life-trayvon-gun/6275113/</td>\n",
              "      <td>WLTX.com</td>\n",
              "      <td>e</td>\n",
              "      <td>d7RBEwyH92gFSrMjpl764nNfewB0M</td>\n",
              "      <td>www.wltx.com</td>\n",
              "      <td>1394517154092</td>\n",
              "    </tr>\n",
              "    <tr>\n",
              "      <th>2170</th>\n",
              "      <td>2171</td>\n",
              "      <td>George Zimmerman Signs Autographs At Florida Gun Show</td>\n",
              "      <td>http://www.huffingtonpost.co.uk/2014/03/10/george-zimmerman-signed-autographs_n_4938486.html\\?utm_hp_ref=uk</td>\n",
              "      <td>Huffington Post UK</td>\n",
              "      <td>e</td>\n",
              "      <td>d7RBEwyH92gFSrMjpl764nNfewB0M</td>\n",
              "      <td>www.huffingtonpost.co.uk</td>\n",
              "      <td>1394517154269</td>\n",
              "    </tr>\n",
              "    <tr>\n",
              "      <th>2171</th>\n",
              "      <td>2172</td>\n",
              "      <td>George Zimmerman Signed Autographs at an Orlando Gun Show — But Only 20  ...</td>\n",
              "      <td>http://www.blacknews.com/news/george-zimmerman-signed-autographs-at-an-orlando-gun-show-but-only-20-people-showed-up101101.html</td>\n",
              "      <td>BlackNews.com \\(press release\\)</td>\n",
              "      <td>e</td>\n",
              "      <td>d7RBEwyH92gFSrMjpl764nNfewB0M</td>\n",
              "      <td>www.blacknews.com</td>\n",
              "      <td>1394517154479</td>\n",
              "    </tr>\n",
              "    <tr>\n",
              "      <th>2172</th>\n",
              "      <td>2173</td>\n",
              "      <td>George Zimmerman back in controversy</td>\n",
              "      <td>http://www.wtxl.com/news/florida_news/george-zimmerman-back-in-controversy/article_0ca03ea0-a8c3-11e3-938c-001a4bcf6878.html</td>\n",
              "      <td>WTXL ABC 27</td>\n",
              "      <td>e</td>\n",
              "      <td>d7RBEwyH92gFSrMjpl764nNfewB0M</td>\n",
              "      <td>www.wtxl.com</td>\n",
              "      <td>1394517154639</td>\n",
              "    </tr>\n",
              "    <tr>\n",
              "      <th>2173</th>\n",
              "      <td>2174</td>\n",
              "      <td>George Zimmerman signs autographs at a Florida gun show</td>\n",
              "      <td>http://www.msnbc.com/the-last-word/zimmerman-signs-autographs-gun-show</td>\n",
              "      <td>MSNBC</td>\n",
              "      <td>e</td>\n",
              "      <td>d7RBEwyH92gFSrMjpl764nNfewB0M</td>\n",
              "      <td>www.msnbc.com</td>\n",
              "      <td>1394517154831</td>\n",
              "    </tr>\n",
              "  </tbody>\n",
              "</table>\n",
              "</div>"
            ],
            "text/plain": [
              "        ID  ...      TIMESTAMP\n",
              "2169  2170  ...  1394517154092\n",
              "2170  2171  ...  1394517154269\n",
              "2171  2172  ...  1394517154479\n",
              "2172  2173  ...  1394517154639\n",
              "2173  2174  ...  1394517154831\n",
              "\n",
              "[5 rows x 8 columns]"
            ]
          },
          "metadata": {
            "tags": []
          },
          "execution_count": 19
        }
      ]
    },
    {
      "cell_type": "code",
      "metadata": {
        "id": "007lKA0FTcmM"
      },
      "source": [
        ""
      ],
      "execution_count": null,
      "outputs": []
    },
    {
      "cell_type": "markdown",
      "metadata": {
        "id": "mzlZ_HLGjhpI"
      },
      "source": [
        "## Create sentence embeddings"
      ]
    },
    {
      "cell_type": "markdown",
      "metadata": {
        "id": "oaw9atOjW5LC"
      },
      "source": [
        "# New section"
      ]
    },
    {
      "cell_type": "code",
      "metadata": {
        "colab": {
          "base_uri": "https://localhost:8080/"
        },
        "id": "kh_PCAcuWK_L",
        "outputId": "e37934a4-149c-464c-9ca4-c398034d8f5c"
      },
      "source": [
        "!pip install tensorflow==1.15.0\n",
        "!pip install tensorflow_hub"
      ],
      "execution_count": null,
      "outputs": [
        {
          "output_type": "stream",
          "text": [
            "Requirement already satisfied: tensorflow==1.15.0 in /usr/local/lib/python3.6/dist-packages (1.15.0)\n",
            "Requirement already satisfied: gast==0.2.2 in /usr/local/lib/python3.6/dist-packages (from tensorflow==1.15.0) (0.2.2)\n",
            "Requirement already satisfied: google-pasta>=0.1.6 in /usr/local/lib/python3.6/dist-packages (from tensorflow==1.15.0) (0.2.0)\n",
            "Requirement already satisfied: keras-preprocessing>=1.0.5 in /usr/local/lib/python3.6/dist-packages (from tensorflow==1.15.0) (1.1.2)\n",
            "Requirement already satisfied: numpy<2.0,>=1.16.0 in /usr/local/lib/python3.6/dist-packages (from tensorflow==1.15.0) (1.18.5)\n",
            "Requirement already satisfied: tensorflow-estimator==1.15.1 in /usr/local/lib/python3.6/dist-packages (from tensorflow==1.15.0) (1.15.1)\n",
            "Requirement already satisfied: absl-py>=0.7.0 in /usr/local/lib/python3.6/dist-packages (from tensorflow==1.15.0) (0.10.0)\n",
            "Requirement already satisfied: wheel>=0.26 in /usr/local/lib/python3.6/dist-packages (from tensorflow==1.15.0) (0.35.1)\n",
            "Requirement already satisfied: grpcio>=1.8.6 in /usr/local/lib/python3.6/dist-packages (from tensorflow==1.15.0) (1.33.2)\n",
            "Requirement already satisfied: six>=1.10.0 in /usr/local/lib/python3.6/dist-packages (from tensorflow==1.15.0) (1.15.0)\n",
            "Requirement already satisfied: termcolor>=1.1.0 in /usr/local/lib/python3.6/dist-packages (from tensorflow==1.15.0) (1.1.0)\n",
            "Requirement already satisfied: keras-applications>=1.0.8 in /usr/local/lib/python3.6/dist-packages (from tensorflow==1.15.0) (1.0.8)\n",
            "Requirement already satisfied: opt-einsum>=2.3.2 in /usr/local/lib/python3.6/dist-packages (from tensorflow==1.15.0) (3.3.0)\n",
            "Requirement already satisfied: tensorboard<1.16.0,>=1.15.0 in /usr/local/lib/python3.6/dist-packages (from tensorflow==1.15.0) (1.15.0)\n",
            "Requirement already satisfied: astor>=0.6.0 in /usr/local/lib/python3.6/dist-packages (from tensorflow==1.15.0) (0.8.1)\n",
            "Requirement already satisfied: protobuf>=3.6.1 in /usr/local/lib/python3.6/dist-packages (from tensorflow==1.15.0) (3.12.4)\n",
            "Requirement already satisfied: wrapt>=1.11.1 in /usr/local/lib/python3.6/dist-packages (from tensorflow==1.15.0) (1.12.1)\n",
            "Requirement already satisfied: h5py in /usr/local/lib/python3.6/dist-packages (from keras-applications>=1.0.8->tensorflow==1.15.0) (2.10.0)\n",
            "Requirement already satisfied: setuptools>=41.0.0 in /usr/local/lib/python3.6/dist-packages (from tensorboard<1.16.0,>=1.15.0->tensorflow==1.15.0) (50.3.2)\n",
            "Requirement already satisfied: werkzeug>=0.11.15 in /usr/local/lib/python3.6/dist-packages (from tensorboard<1.16.0,>=1.15.0->tensorflow==1.15.0) (1.0.1)\n",
            "Requirement already satisfied: markdown>=2.6.8 in /usr/local/lib/python3.6/dist-packages (from tensorboard<1.16.0,>=1.15.0->tensorflow==1.15.0) (3.3.3)\n",
            "Requirement already satisfied: importlib-metadata; python_version < \"3.8\" in /usr/local/lib/python3.6/dist-packages (from markdown>=2.6.8->tensorboard<1.16.0,>=1.15.0->tensorflow==1.15.0) (2.0.0)\n",
            "Requirement already satisfied: zipp>=0.5 in /usr/local/lib/python3.6/dist-packages (from importlib-metadata; python_version < \"3.8\"->markdown>=2.6.8->tensorboard<1.16.0,>=1.15.0->tensorflow==1.15.0) (3.4.0)\n",
            "Requirement already satisfied: tensorflow_hub in /usr/local/lib/python3.6/dist-packages (0.10.0)\n",
            "Requirement already satisfied: protobuf>=3.8.0 in /usr/local/lib/python3.6/dist-packages (from tensorflow_hub) (3.12.4)\n",
            "Requirement already satisfied: numpy>=1.12.0 in /usr/local/lib/python3.6/dist-packages (from tensorflow_hub) (1.18.5)\n",
            "Requirement already satisfied: setuptools in /usr/local/lib/python3.6/dist-packages (from protobuf>=3.8.0->tensorflow_hub) (50.3.2)\n",
            "Requirement already satisfied: six>=1.9 in /usr/local/lib/python3.6/dist-packages (from protobuf>=3.8.0->tensorflow_hub) (1.15.0)\n"
          ],
          "name": "stdout"
        }
      ]
    },
    {
      "cell_type": "code",
      "metadata": {
        "id": "S8m8jL4Sjzk7"
      },
      "source": [
        "import tensorflow_hub as hub\n",
        "import tensorflow as tf"
      ],
      "execution_count": null,
      "outputs": []
    },
    {
      "cell_type": "code",
      "metadata": {
        "id": "spK2maL7jSul"
      },
      "source": [
        ""
      ],
      "execution_count": null,
      "outputs": []
    },
    {
      "cell_type": "code",
      "metadata": {
        "id": "sEFje1dzuQ-Z"
      },
      "source": [
        "x=list(new_df['TITLE'])"
      ],
      "execution_count": null,
      "outputs": []
    },
    {
      "cell_type": "code",
      "metadata": {
        "id": "ZtIa044ELwkS"
      },
      "source": [
        "elmo = hub.Module(\"https://tfhub.dev/google/elmo/2\", trainable=True)"
      ],
      "execution_count": null,
      "outputs": []
    },
    {
      "cell_type": "code",
      "metadata": {
        "id": "NxkaLxTIujPI",
        "colab": {
          "base_uri": "https://localhost:8080/"
        },
        "outputId": "b02984c8-0cac-43b6-d7af-345997b76767"
      },
      "source": [
        "# Provide input tensor and create embeddings\n",
        "input_tensor = [\"This tutorial is on elmo embeddings from tensorflow hub \",\n",
        "        \"TensorFlow hub provides many reusable pre trained models in several domains\"]\n",
        "\n",
        "embeddings_tensor = elmo(x[:100],\n",
        "    signature=\"default\",\n",
        "    as_dict=True)[\"elmo\"]"
      ],
      "execution_count": null,
      "outputs": [
        {
          "output_type": "stream",
          "text": [
            "INFO:tensorflow:Saver not created because there are no variables in the graph to restore\n"
          ],
          "name": "stdout"
        },
        {
          "output_type": "stream",
          "text": [
            "INFO:tensorflow:Saver not created because there are no variables in the graph to restore\n"
          ],
          "name": "stderr"
        }
      ]
    },
    {
      "cell_type": "code",
      "metadata": {
        "colab": {
          "base_uri": "https://localhost:8080/"
        },
        "id": "8bXPuNHyW3Kk",
        "outputId": "e0aecb34-cc38-4139-f2c7-07fc8b2551f2"
      },
      "source": [
        "with tf.Session() as sess:\n",
        "    sess.run(tf.global_variables_initializer())\n",
        "    embeddings = sess.run(embeddings_tensor)\n",
        "    print(embeddings.shape)\n",
        "    print(embeddings)\n"
      ],
      "execution_count": null,
      "outputs": [
        {
          "output_type": "stream",
          "text": [
            "(100, 16, 1024)\n",
            "[[[-0.6392205  -0.65110976 -0.34721714 ... -0.04088937 -0.10432049\n",
            "   -0.4799287 ]\n",
            "  [-0.02087877 -0.3912147   0.03618242 ... -0.12097799  0.19085339\n",
            "   -0.23720494]\n",
            "  [-0.4240775   0.20260103 -0.23037198 ...  0.11948571  0.53770876\n",
            "    0.02501076]\n",
            "  ...\n",
            "  [-0.02840841 -0.04353216  0.04130162 ...  0.02583168 -0.01429836\n",
            "   -0.01650422]\n",
            "  [-0.02840841 -0.04353216  0.04130162 ...  0.02583168 -0.01429836\n",
            "   -0.01650422]\n",
            "  [-0.02840841 -0.04353216  0.04130162 ...  0.02583168 -0.01429836\n",
            "   -0.01650422]]\n",
            "\n",
            " [[-0.6392205  -0.65110976 -0.34721714 ... -0.16485338 -0.18690848\n",
            "   -0.29432395]\n",
            "  [-0.02087877 -0.3912147   0.03618242 ... -0.49658692  0.11658592\n",
            "   -0.03891286]\n",
            "  [-0.06946222  0.77510756  0.078308   ...  0.14057837  0.16227551\n",
            "   -0.11987554]\n",
            "  ...\n",
            "  [-0.02840841 -0.04353216  0.04130162 ...  0.02583168 -0.01429836\n",
            "   -0.01650422]\n",
            "  [-0.02840841 -0.04353216  0.04130162 ...  0.02583168 -0.01429836\n",
            "   -0.01650422]\n",
            "  [-0.02840841 -0.04353216  0.04130162 ...  0.02583168 -0.01429836\n",
            "   -0.01650422]]\n",
            "\n",
            " [[-0.6392205  -0.65110976 -0.34721714 ... -0.3409062  -0.25926912\n",
            "   -0.22318256]\n",
            "  [-0.02087877 -0.3912147   0.03618242 ... -0.4941908   0.05411169\n",
            "    0.14461964]\n",
            "  [-0.7093986   0.10933129 -0.48605984 ...  0.06030739  0.05316962\n",
            "   -0.08290966]\n",
            "  ...\n",
            "  [-0.14670813 -0.01944728 -0.4378369  ...  0.33431923  0.16028169\n",
            "    0.8101481 ]\n",
            "  [-0.02840841 -0.04353216  0.04130162 ...  0.02583168 -0.01429836\n",
            "   -0.01650422]\n",
            "  [-0.02840841 -0.04353216  0.04130162 ...  0.02583168 -0.01429836\n",
            "   -0.01650422]]\n",
            "\n",
            " ...\n",
            "\n",
            " [[ 1.2605124   0.18743953 -0.30585986 ... -0.19784282  0.5896331\n",
            "    0.33722425]\n",
            "  [ 0.07481434 -0.2642523   1.0209267  ... -1.3036535   0.2825113\n",
            "   -0.06475899]\n",
            "  [ 0.33381116 -0.8382909  -0.18397948 ...  0.6674535   0.55267644\n",
            "   -0.0624251 ]\n",
            "  ...\n",
            "  [-0.02840841 -0.04353216  0.04130162 ...  0.02583168 -0.01429836\n",
            "   -0.01650422]\n",
            "  [-0.02840841 -0.04353216  0.04130162 ...  0.02583168 -0.01429836\n",
            "   -0.01650422]\n",
            "  [-0.02840841 -0.04353216  0.04130162 ...  0.02583168 -0.01429836\n",
            "   -0.01650422]]\n",
            "\n",
            " [[-0.73790634 -0.30125692  0.22274949 ... -0.2424341  -0.16880108\n",
            "   -0.39305508]\n",
            "  [ 0.08742914 -0.15311448  0.5736046  ... -1.4316854  -0.0921811\n",
            "    0.10433868]\n",
            "  [-0.7488661  -0.03842826 -0.03281027 ... -0.04544619 -0.5091896\n",
            "    0.02292691]\n",
            "  ...\n",
            "  [-0.02840841 -0.04353216  0.04130162 ...  0.02583168 -0.01429836\n",
            "   -0.01650422]\n",
            "  [-0.02840841 -0.04353216  0.04130162 ...  0.02583168 -0.01429836\n",
            "   -0.01650422]\n",
            "  [-0.02840841 -0.04353216  0.04130162 ...  0.02583168 -0.01429836\n",
            "   -0.01650422]]\n",
            "\n",
            " [[ 1.2605124   0.18743953 -0.30585986 ...  0.04642144  0.03950474\n",
            "    0.21715963]\n",
            "  [-0.44155672 -0.6611518   0.79246765 ... -1.0482272  -0.5924298\n",
            "   -0.09969805]\n",
            "  [ 0.42701256 -0.7241999  -0.45350593 ...  1.1079587   0.33852717\n",
            "    0.10664985]\n",
            "  ...\n",
            "  [-0.02840841 -0.04353216  0.04130162 ...  0.02583168 -0.01429836\n",
            "   -0.01650422]\n",
            "  [-0.02840841 -0.04353216  0.04130162 ...  0.02583168 -0.01429836\n",
            "   -0.01650422]\n",
            "  [-0.02840841 -0.04353216  0.04130162 ...  0.02583168 -0.01429836\n",
            "   -0.01650422]]]\n"
          ],
          "name": "stdout"
        }
      ]
    },
    {
      "cell_type": "code",
      "metadata": {
        "id": "Z7DGrak2qtm9"
      },
      "source": [
        "#The above created embeddings can be fed into neural net models to solve machine learning problems.\n",
        "\n",
        "\n"
      ],
      "execution_count": null,
      "outputs": []
    }
  ]
}