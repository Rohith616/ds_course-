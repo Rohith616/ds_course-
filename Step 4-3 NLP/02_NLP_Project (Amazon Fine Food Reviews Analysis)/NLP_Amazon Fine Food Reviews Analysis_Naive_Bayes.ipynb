{
 "cells": [
  {
   "cell_type": "markdown",
   "metadata": {},
   "source": [
    "<img src=\"data:image/jpeg;base64,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\" width=\"450\" height=\"550\">",
    
    "\n",
    "# Amazon Fine Food Reviews Analysis\n",
    "\n",
    "\n",
    "Data Source: https://www.kaggle.com/snap/amazon-fine-food-reviews\n",
    "\n",
    "\n",
    "<h4> Objective:</h4>\n",
    "Given a review, determine whether the review is positive or negative.\n",
    "\n",
    "<h4><li>How to determine if a review is positive or negative?</li></h4>\n",
    "We could use the Score/Rating. A rating of 4 or 5 could be cosnidered a positive review. A review of 1 or 2 could be considered negative. A review of 3 is nuetral and ignored. This is an approximate and proxy way of determining the polarity (positivity/negativity) of a review.\n",
    "\n",
    "\n",
    "<h1>Dataset</h1><br>\n",
    "This dataset consists of reviews of fine foods from amazon. The data span a period of more than 10 years, including all ~500,000 reviews up to October 2012. Reviews include product and user information, ratings, and a plain text review. It also includes reviews from all other Amazon categories.\n",
    "\n",
    "<h4>Attribute Information:</h4>\n",
    "\n",
    "There are a total of 10 columns in total in the Amazon Fine Food review dataset.\n",
    "\n",
    "- Id :  Row Id\n",
    "- ProductId : Unique identifier for the product.\n",
    "- UserId : Unique identifier for the user.\n",
    "- ProfileName : Profile Name of the User.\n",
    "- HelpfulnessNumerator : Number of users who found the review            helpful.\n",
    "- HelpfulnessDenominator : Number of users who indicated whether they found the review helpful or not.\n",
    "- Score : Rating between 1 and 5.\n",
    "- Time : Timestamp for the review.\n",
    "- Summary : Brief summary of the review.\n",
    "- Text : Text of the review."
   ]
  },
  {
   "cell_type": "markdown",
   "metadata": {},
   "source": [
    "### Importing the necessary libraries."
   ]
  },
  {
   "cell_type": "code",
   "execution_count": 1,
   "metadata": {},
   "outputs": [],
   "source": [
    "import pandas as pd\n",
    "import numpy as np\n",
    "import sqlite3\n",
    "import seaborn as sns\n",
    "import matplotlib.pyplot as plt\n",
    "%matplotlib inline\n",
    "sns.set(style='white', color_codes=True)\n",
    "\n",
    "import warnings\n",
    "warnings.filterwarnings(\"ignore\")"
   ]
  },
  {
   "cell_type": "markdown",
   "metadata": {},
   "source": [
    "### Load the data from SQLite Database."
   ]
  },
  {
   "cell_type": "code",
   "execution_count": 2,
   "metadata": {},
   "outputs": [],
   "source": [
    "# using the SQLite Table to read data.\n",
    "con = sqlite3.connect('database.sqlite') "
   ]
  },
  {
   "cell_type": "code",
   "execution_count": 3,
   "metadata": {},
   "outputs": [
    {
     "name": "stdout",
     "output_type": "stream",
     "text": [
      "(568454, 10)\n"
     ]
    },
    {
     "data": {
      "text/html": [
       "<div>\n",
       "<style scoped>\n",
       "    .dataframe tbody tr th:only-of-type {\n",
       "        vertical-align: middle;\n",
       "    }\n",
       "\n",
       "    .dataframe tbody tr th {\n",
       "        vertical-align: top;\n",
       "    }\n",
       "\n",
       "    .dataframe thead th {\n",
       "        text-align: right;\n",
       "    }\n",
       "</style>\n",
       "<table border=\"1\" class=\"dataframe\">\n",
       "  <thead>\n",
       "    <tr style=\"text-align: right;\">\n",
       "      <th></th>\n",
       "      <th>Id</th>\n",
       "      <th>ProductId</th>\n",
       "      <th>UserId</th>\n",
       "      <th>ProfileName</th>\n",
       "      <th>HelpfulnessNumerator</th>\n",
       "      <th>HelpfulnessDenominator</th>\n",
       "      <th>Score</th>\n",
       "      <th>Time</th>\n",
       "      <th>Summary</th>\n",
       "      <th>Text</th>\n",
       "    </tr>\n",
       "  </thead>\n",
       "  <tbody>\n",
       "    <tr>\n",
       "      <th>0</th>\n",
       "      <td>1</td>\n",
       "      <td>B001E4KFG0</td>\n",
       "      <td>A3SGXH7AUHU8GW</td>\n",
       "      <td>delmartian</td>\n",
       "      <td>1</td>\n",
       "      <td>1</td>\n",
       "      <td>5</td>\n",
       "      <td>1303862400</td>\n",
       "      <td>Good Quality Dog Food</td>\n",
       "      <td>I have bought several of the Vitality canned d...</td>\n",
       "    </tr>\n",
       "    <tr>\n",
       "      <th>1</th>\n",
       "      <td>2</td>\n",
       "      <td>B00813GRG4</td>\n",
       "      <td>A1D87F6ZCVE5NK</td>\n",
       "      <td>dll pa</td>\n",
       "      <td>0</td>\n",
       "      <td>0</td>\n",
       "      <td>1</td>\n",
       "      <td>1346976000</td>\n",
       "      <td>Not as Advertised</td>\n",
       "      <td>Product arrived labeled as Jumbo Salted Peanut...</td>\n",
       "    </tr>\n",
       "    <tr>\n",
       "      <th>2</th>\n",
       "      <td>3</td>\n",
       "      <td>B000LQOCH0</td>\n",
       "      <td>ABXLMWJIXXAIN</td>\n",
       "      <td>Natalia Corres \"Natalia Corres\"</td>\n",
       "      <td>1</td>\n",
       "      <td>1</td>\n",
       "      <td>4</td>\n",
       "      <td>1219017600</td>\n",
       "      <td>\"Delight\" says it all</td>\n",
       "      <td>This is a confection that has been around a fe...</td>\n",
       "    </tr>\n",
       "    <tr>\n",
       "      <th>3</th>\n",
       "      <td>4</td>\n",
       "      <td>B000UA0QIQ</td>\n",
       "      <td>A395BORC6FGVXV</td>\n",
       "      <td>Karl</td>\n",
       "      <td>3</td>\n",
       "      <td>3</td>\n",
       "      <td>2</td>\n",
       "      <td>1307923200</td>\n",
       "      <td>Cough Medicine</td>\n",
       "      <td>If you are looking for the secret ingredient i...</td>\n",
       "    </tr>\n",
       "    <tr>\n",
       "      <th>4</th>\n",
       "      <td>5</td>\n",
       "      <td>B006K2ZZ7K</td>\n",
       "      <td>A1UQRSCLF8GW1T</td>\n",
       "      <td>Michael D. Bigham \"M. Wassir\"</td>\n",
       "      <td>0</td>\n",
       "      <td>0</td>\n",
       "      <td>5</td>\n",
       "      <td>1350777600</td>\n",
       "      <td>Great taffy</td>\n",
       "      <td>Great taffy at a great price.  There was a wid...</td>\n",
       "    </tr>\n",
       "  </tbody>\n",
       "</table>\n",
       "</div>"
      ],
      "text/plain": [
       "   Id   ProductId          UserId                      ProfileName  \\\n",
       "0   1  B001E4KFG0  A3SGXH7AUHU8GW                       delmartian   \n",
       "1   2  B00813GRG4  A1D87F6ZCVE5NK                           dll pa   \n",
       "2   3  B000LQOCH0   ABXLMWJIXXAIN  Natalia Corres \"Natalia Corres\"   \n",
       "3   4  B000UA0QIQ  A395BORC6FGVXV                             Karl   \n",
       "4   5  B006K2ZZ7K  A1UQRSCLF8GW1T    Michael D. Bigham \"M. Wassir\"   \n",
       "\n",
       "   HelpfulnessNumerator  HelpfulnessDenominator  Score        Time  \\\n",
       "0                     1                       1      5  1303862400   \n",
       "1                     0                       0      1  1346976000   \n",
       "2                     1                       1      4  1219017600   \n",
       "3                     3                       3      2  1307923200   \n",
       "4                     0                       0      5  1350777600   \n",
       "\n",
       "                 Summary                                               Text  \n",
       "0  Good Quality Dog Food  I have bought several of the Vitality canned d...  \n",
       "1      Not as Advertised  Product arrived labeled as Jumbo Salted Peanut...  \n",
       "2  \"Delight\" says it all  This is a confection that has been around a fe...  \n",
       "3         Cough Medicine  If you are looking for the secret ingredient i...  \n",
       "4            Great taffy  Great taffy at a great price.  There was a wid...  "
      ]
     },
     "execution_count": 3,
     "metadata": {},
     "output_type": "execute_result"
    }
   ],
   "source": [
    "con_rev = pd.read_sql_query(\"\"\" SELECT * FROM Reviews\"\"\", con) \n",
    "print(con_rev.shape)\n",
    "con_rev.head()"
   ]
  },
  {
   "cell_type": "code",
   "execution_count": 4,
   "metadata": {},
   "outputs": [
    {
     "name": "stdout",
     "output_type": "stream",
     "text": [
      "(525814, 10)\n"
     ]
    },
    {
     "data": {
      "text/html": [
       "<div>\n",
       "<style scoped>\n",
       "    .dataframe tbody tr th:only-of-type {\n",
       "        vertical-align: middle;\n",
       "    }\n",
       "\n",
       "    .dataframe tbody tr th {\n",
       "        vertical-align: top;\n",
       "    }\n",
       "\n",
       "    .dataframe thead th {\n",
       "        text-align: right;\n",
       "    }\n",
       "</style>\n",
       "<table border=\"1\" class=\"dataframe\">\n",
       "  <thead>\n",
       "    <tr style=\"text-align: right;\">\n",
       "      <th></th>\n",
       "      <th>Id</th>\n",
       "      <th>ProductId</th>\n",
       "      <th>UserId</th>\n",
       "      <th>ProfileName</th>\n",
       "      <th>HelpfulnessNumerator</th>\n",
       "      <th>HelpfulnessDenominator</th>\n",
       "      <th>Score</th>\n",
       "      <th>Time</th>\n",
       "      <th>Summary</th>\n",
       "      <th>Text</th>\n",
       "    </tr>\n",
       "  </thead>\n",
       "  <tbody>\n",
       "    <tr>\n",
       "      <th>0</th>\n",
       "      <td>1</td>\n",
       "      <td>B001E4KFG0</td>\n",
       "      <td>A3SGXH7AUHU8GW</td>\n",
       "      <td>delmartian</td>\n",
       "      <td>1</td>\n",
       "      <td>1</td>\n",
       "      <td>5</td>\n",
       "      <td>1303862400</td>\n",
       "      <td>Good Quality Dog Food</td>\n",
       "      <td>I have bought several of the Vitality canned d...</td>\n",
       "    </tr>\n",
       "    <tr>\n",
       "      <th>1</th>\n",
       "      <td>2</td>\n",
       "      <td>B00813GRG4</td>\n",
       "      <td>A1D87F6ZCVE5NK</td>\n",
       "      <td>dll pa</td>\n",
       "      <td>0</td>\n",
       "      <td>0</td>\n",
       "      <td>1</td>\n",
       "      <td>1346976000</td>\n",
       "      <td>Not as Advertised</td>\n",
       "      <td>Product arrived labeled as Jumbo Salted Peanut...</td>\n",
       "    </tr>\n",
       "    <tr>\n",
       "      <th>2</th>\n",
       "      <td>3</td>\n",
       "      <td>B000LQOCH0</td>\n",
       "      <td>ABXLMWJIXXAIN</td>\n",
       "      <td>Natalia Corres \"Natalia Corres\"</td>\n",
       "      <td>1</td>\n",
       "      <td>1</td>\n",
       "      <td>4</td>\n",
       "      <td>1219017600</td>\n",
       "      <td>\"Delight\" says it all</td>\n",
       "      <td>This is a confection that has been around a fe...</td>\n",
       "    </tr>\n",
       "    <tr>\n",
       "      <th>3</th>\n",
       "      <td>4</td>\n",
       "      <td>B000UA0QIQ</td>\n",
       "      <td>A395BORC6FGVXV</td>\n",
       "      <td>Karl</td>\n",
       "      <td>3</td>\n",
       "      <td>3</td>\n",
       "      <td>2</td>\n",
       "      <td>1307923200</td>\n",
       "      <td>Cough Medicine</td>\n",
       "      <td>If you are looking for the secret ingredient i...</td>\n",
       "    </tr>\n",
       "    <tr>\n",
       "      <th>4</th>\n",
       "      <td>5</td>\n",
       "      <td>B006K2ZZ7K</td>\n",
       "      <td>A1UQRSCLF8GW1T</td>\n",
       "      <td>Michael D. Bigham \"M. Wassir\"</td>\n",
       "      <td>0</td>\n",
       "      <td>0</td>\n",
       "      <td>5</td>\n",
       "      <td>1350777600</td>\n",
       "      <td>Great taffy</td>\n",
       "      <td>Great taffy at a great price.  There was a wid...</td>\n",
       "    </tr>\n",
       "  </tbody>\n",
       "</table>\n",
       "</div>"
      ],
      "text/plain": [
       "   Id   ProductId          UserId                      ProfileName  \\\n",
       "0   1  B001E4KFG0  A3SGXH7AUHU8GW                       delmartian   \n",
       "1   2  B00813GRG4  A1D87F6ZCVE5NK                           dll pa   \n",
       "2   3  B000LQOCH0   ABXLMWJIXXAIN  Natalia Corres \"Natalia Corres\"   \n",
       "3   4  B000UA0QIQ  A395BORC6FGVXV                             Karl   \n",
       "4   5  B006K2ZZ7K  A1UQRSCLF8GW1T    Michael D. Bigham \"M. Wassir\"   \n",
       "\n",
       "   HelpfulnessNumerator  HelpfulnessDenominator  Score        Time  \\\n",
       "0                     1                       1      5  1303862400   \n",
       "1                     0                       0      1  1346976000   \n",
       "2                     1                       1      4  1219017600   \n",
       "3                     3                       3      2  1307923200   \n",
       "4                     0                       0      5  1350777600   \n",
       "\n",
       "                 Summary                                               Text  \n",
       "0  Good Quality Dog Food  I have bought several of the Vitality canned d...  \n",
       "1      Not as Advertised  Product arrived labeled as Jumbo Salted Peanut...  \n",
       "2  \"Delight\" says it all  This is a confection that has been around a fe...  \n",
       "3         Cough Medicine  If you are looking for the secret ingredient i...  \n",
       "4            Great taffy  Great taffy at a great price.  There was a wid...  "
      ]
     },
     "execution_count": 4,
     "metadata": {},
     "output_type": "execute_result"
    }
   ],
   "source": [
    "#filtering only positive and negative reviews i.e. not taking into consideration those reviews with Score=3\n",
    "\n",
    "filtered_data = pd.read_sql_query(\"\"\" SELECT * FROM Reviews WHERE Score != 3 \"\"\", con) \n",
    "print(filtered_data.shape)\n",
    "filtered_data.head()"
   ]
  },
  {
   "cell_type": "code",
   "execution_count": 5,
   "metadata": {},
   "outputs": [],
   "source": [
    "# Give reviews with Score>3 a positive rating, and reviews with a score<3 a negative rating.\n",
    "def partition(x):\n",
    "    if x < 3:\n",
    "        return 0\n",
    "    return 1"
   ]
  },
  {
   "cell_type": "code",
   "execution_count": 6,
   "metadata": {},
   "outputs": [
    {
     "name": "stdout",
     "output_type": "stream",
     "text": [
      "Number of data points in our data (525814, 10)\n"
     ]
    },
    {
     "data": {
      "text/html": [
       "<div>\n",
       "<style scoped>\n",
       "    .dataframe tbody tr th:only-of-type {\n",
       "        vertical-align: middle;\n",
       "    }\n",
       "\n",
       "    .dataframe tbody tr th {\n",
       "        vertical-align: top;\n",
       "    }\n",
       "\n",
       "    .dataframe thead th {\n",
       "        text-align: right;\n",
       "    }\n",
       "</style>\n",
       "<table border=\"1\" class=\"dataframe\">\n",
       "  <thead>\n",
       "    <tr style=\"text-align: right;\">\n",
       "      <th></th>\n",
       "      <th>Id</th>\n",
       "      <th>ProductId</th>\n",
       "      <th>UserId</th>\n",
       "      <th>ProfileName</th>\n",
       "      <th>HelpfulnessNumerator</th>\n",
       "      <th>HelpfulnessDenominator</th>\n",
       "      <th>Score</th>\n",
       "      <th>Time</th>\n",
       "      <th>Summary</th>\n",
       "      <th>Text</th>\n",
       "    </tr>\n",
       "  </thead>\n",
       "  <tbody>\n",
       "    <tr>\n",
       "      <th>0</th>\n",
       "      <td>1</td>\n",
       "      <td>B001E4KFG0</td>\n",
       "      <td>A3SGXH7AUHU8GW</td>\n",
       "      <td>delmartian</td>\n",
       "      <td>1</td>\n",
       "      <td>1</td>\n",
       "      <td>1</td>\n",
       "      <td>1303862400</td>\n",
       "      <td>Good Quality Dog Food</td>\n",
       "      <td>I have bought several of the Vitality canned d...</td>\n",
       "    </tr>\n",
       "    <tr>\n",
       "      <th>1</th>\n",
       "      <td>2</td>\n",
       "      <td>B00813GRG4</td>\n",
       "      <td>A1D87F6ZCVE5NK</td>\n",
       "      <td>dll pa</td>\n",
       "      <td>0</td>\n",
       "      <td>0</td>\n",
       "      <td>0</td>\n",
       "      <td>1346976000</td>\n",
       "      <td>Not as Advertised</td>\n",
       "      <td>Product arrived labeled as Jumbo Salted Peanut...</td>\n",
       "    </tr>\n",
       "    <tr>\n",
       "      <th>2</th>\n",
       "      <td>3</td>\n",
       "      <td>B000LQOCH0</td>\n",
       "      <td>ABXLMWJIXXAIN</td>\n",
       "      <td>Natalia Corres \"Natalia Corres\"</td>\n",
       "      <td>1</td>\n",
       "      <td>1</td>\n",
       "      <td>1</td>\n",
       "      <td>1219017600</td>\n",
       "      <td>\"Delight\" says it all</td>\n",
       "      <td>This is a confection that has been around a fe...</td>\n",
       "    </tr>\n",
       "  </tbody>\n",
       "</table>\n",
       "</div>"
      ],
      "text/plain": [
       "   Id   ProductId          UserId                      ProfileName  \\\n",
       "0   1  B001E4KFG0  A3SGXH7AUHU8GW                       delmartian   \n",
       "1   2  B00813GRG4  A1D87F6ZCVE5NK                           dll pa   \n",
       "2   3  B000LQOCH0   ABXLMWJIXXAIN  Natalia Corres \"Natalia Corres\"   \n",
       "\n",
       "   HelpfulnessNumerator  HelpfulnessDenominator  Score        Time  \\\n",
       "0                     1                       1      1  1303862400   \n",
       "1                     0                       0      0  1346976000   \n",
       "2                     1                       1      1  1219017600   \n",
       "\n",
       "                 Summary                                               Text  \n",
       "0  Good Quality Dog Food  I have bought several of the Vitality canned d...  \n",
       "1      Not as Advertised  Product arrived labeled as Jumbo Salted Peanut...  \n",
       "2  \"Delight\" says it all  This is a confection that has been around a fe...  "
      ]
     },
     "execution_count": 6,
     "metadata": {},
     "output_type": "execute_result"
    }
   ],
   "source": [
    "#changing reviews with score less than 3 to be positive and vice-versa\n",
    "actualScore = filtered_data['Score']\n",
    "positiveNegative = actualScore.map(partition) \n",
    "filtered_data['Score'] = positiveNegative\n",
    "print(\"Number of data points in our data\", filtered_data.shape)\n",
    "filtered_data.head(3)"
   ]
  },
  {
   "cell_type": "markdown",
   "metadata": {},
   "source": [
    "## Exploratory Data Analysis\n",
    "\n",
    "#### Data Cleaning: Deduplication\n",
    "\n"
   ]
  },
  {
   "cell_type": "code",
   "execution_count": 7,
   "metadata": {},
   "outputs": [
    {
     "name": "stdout",
     "output_type": "stream",
     "text": [
      "(364173, 10)\n"
     ]
    },
    {
     "data": {
      "text/html": [
       "<div>\n",
       "<style scoped>\n",
       "    .dataframe tbody tr th:only-of-type {\n",
       "        vertical-align: middle;\n",
       "    }\n",
       "\n",
       "    .dataframe tbody tr th {\n",
       "        vertical-align: top;\n",
       "    }\n",
       "\n",
       "    .dataframe thead th {\n",
       "        text-align: right;\n",
       "    }\n",
       "</style>\n",
       "<table border=\"1\" class=\"dataframe\">\n",
       "  <thead>\n",
       "    <tr style=\"text-align: right;\">\n",
       "      <th></th>\n",
       "      <th>Id</th>\n",
       "      <th>ProductId</th>\n",
       "      <th>UserId</th>\n",
       "      <th>ProfileName</th>\n",
       "      <th>HelpfulnessNumerator</th>\n",
       "      <th>HelpfulnessDenominator</th>\n",
       "      <th>Score</th>\n",
       "      <th>Time</th>\n",
       "      <th>Summary</th>\n",
       "      <th>Text</th>\n",
       "    </tr>\n",
       "  </thead>\n",
       "  <tbody>\n",
       "    <tr>\n",
       "      <th>0</th>\n",
       "      <td>1</td>\n",
       "      <td>B001E4KFG0</td>\n",
       "      <td>A3SGXH7AUHU8GW</td>\n",
       "      <td>delmartian</td>\n",
       "      <td>1</td>\n",
       "      <td>1</td>\n",
       "      <td>1</td>\n",
       "      <td>1303862400</td>\n",
       "      <td>Good Quality Dog Food</td>\n",
       "      <td>I have bought several of the Vitality canned d...</td>\n",
       "    </tr>\n",
       "    <tr>\n",
       "      <th>1</th>\n",
       "      <td>2</td>\n",
       "      <td>B00813GRG4</td>\n",
       "      <td>A1D87F6ZCVE5NK</td>\n",
       "      <td>dll pa</td>\n",
       "      <td>0</td>\n",
       "      <td>0</td>\n",
       "      <td>0</td>\n",
       "      <td>1346976000</td>\n",
       "      <td>Not as Advertised</td>\n",
       "      <td>Product arrived labeled as Jumbo Salted Peanut...</td>\n",
       "    </tr>\n",
       "    <tr>\n",
       "      <th>2</th>\n",
       "      <td>3</td>\n",
       "      <td>B000LQOCH0</td>\n",
       "      <td>ABXLMWJIXXAIN</td>\n",
       "      <td>Natalia Corres \"Natalia Corres\"</td>\n",
       "      <td>1</td>\n",
       "      <td>1</td>\n",
       "      <td>1</td>\n",
       "      <td>1219017600</td>\n",
       "      <td>\"Delight\" says it all</td>\n",
       "      <td>This is a confection that has been around a fe...</td>\n",
       "    </tr>\n",
       "  </tbody>\n",
       "</table>\n",
       "</div>"
      ],
      "text/plain": [
       "   Id   ProductId          UserId                      ProfileName  \\\n",
       "0   1  B001E4KFG0  A3SGXH7AUHU8GW                       delmartian   \n",
       "1   2  B00813GRG4  A1D87F6ZCVE5NK                           dll pa   \n",
       "2   3  B000LQOCH0   ABXLMWJIXXAIN  Natalia Corres \"Natalia Corres\"   \n",
       "\n",
       "   HelpfulnessNumerator  HelpfulnessDenominator  Score        Time  \\\n",
       "0                     1                       1      1  1303862400   \n",
       "1                     0                       0      0  1346976000   \n",
       "2                     1                       1      1  1219017600   \n",
       "\n",
       "                 Summary                                               Text  \n",
       "0  Good Quality Dog Food  I have bought several of the Vitality canned d...  \n",
       "1      Not as Advertised  Product arrived labeled as Jumbo Salted Peanut...  \n",
       "2  \"Delight\" says it all  This is a confection that has been around a fe...  "
      ]
     },
     "execution_count": 7,
     "metadata": {},
     "output_type": "execute_result"
    }
   ],
   "source": [
    "subset = {\"UserId\", \"ProfileName\", \"Time\", \"Text\"}\n",
    "data = filtered_data.drop_duplicates(subset=subset, keep=\"first\")\n",
    "print(data.shape)\n",
    "data.head(3)"
   ]
  },
  {
   "cell_type": "code",
   "execution_count": 8,
   "metadata": {},
   "outputs": [
    {
     "data": {
      "text/plain": [
       "69.25890143662969"
      ]
     },
     "execution_count": 8,
     "metadata": {},
     "output_type": "execute_result"
    }
   ],
   "source": [
    "#Checking to see how much % of data still remains\n",
    "(data['Id'].size)/(filtered_data['Id'].size)*100"
   ]
  },
  {
   "cell_type": "markdown",
   "metadata": {},
   "source": [
    "HelpfulnessNumerator - number of users who found the review helpful <br>\n",
    "HelpfulnessDenominator - number of users who indicated whether they found the review helpful or not"
   ]
  },
  {
   "cell_type": "code",
   "execution_count": 9,
   "metadata": {},
   "outputs": [
    {
     "data": {
      "text/html": [
       "<div>\n",
       "<style scoped>\n",
       "    .dataframe tbody tr th:only-of-type {\n",
       "        vertical-align: middle;\n",
       "    }\n",
       "\n",
       "    .dataframe tbody tr th {\n",
       "        vertical-align: top;\n",
       "    }\n",
       "\n",
       "    .dataframe thead th {\n",
       "        text-align: right;\n",
       "    }\n",
       "</style>\n",
       "<table border=\"1\" class=\"dataframe\">\n",
       "  <thead>\n",
       "    <tr style=\"text-align: right;\">\n",
       "      <th></th>\n",
       "      <th>Id</th>\n",
       "      <th>ProductId</th>\n",
       "      <th>UserId</th>\n",
       "      <th>ProfileName</th>\n",
       "      <th>HelpfulnessNumerator</th>\n",
       "      <th>HelpfulnessDenominator</th>\n",
       "      <th>Score</th>\n",
       "      <th>Time</th>\n",
       "      <th>Summary</th>\n",
       "      <th>Text</th>\n",
       "    </tr>\n",
       "  </thead>\n",
       "  <tbody>\n",
       "    <tr>\n",
       "      <th>41159</th>\n",
       "      <td>44737</td>\n",
       "      <td>B001EQ55RW</td>\n",
       "      <td>A2V0I904FH7ABY</td>\n",
       "      <td>Ram</td>\n",
       "      <td>3</td>\n",
       "      <td>2</td>\n",
       "      <td>1</td>\n",
       "      <td>1212883200</td>\n",
       "      <td>Pure cocoa taste with crunchy almonds inside</td>\n",
       "      <td>It was almost a 'love at first bite' - the per...</td>\n",
       "    </tr>\n",
       "    <tr>\n",
       "      <th>59301</th>\n",
       "      <td>64422</td>\n",
       "      <td>B000MIDROQ</td>\n",
       "      <td>A161DK06JJMCYF</td>\n",
       "      <td>J. E. Stephens \"Jeanne\"</td>\n",
       "      <td>3</td>\n",
       "      <td>1</td>\n",
       "      <td>1</td>\n",
       "      <td>1224892800</td>\n",
       "      <td>Bought This for My Son at College</td>\n",
       "      <td>My son loves spaghetti so I didn't hesitate or...</td>\n",
       "    </tr>\n",
       "  </tbody>\n",
       "</table>\n",
       "</div>"
      ],
      "text/plain": [
       "          Id   ProductId          UserId              ProfileName  \\\n",
       "41159  44737  B001EQ55RW  A2V0I904FH7ABY                      Ram   \n",
       "59301  64422  B000MIDROQ  A161DK06JJMCYF  J. E. Stephens \"Jeanne\"   \n",
       "\n",
       "       HelpfulnessNumerator  HelpfulnessDenominator  Score        Time  \\\n",
       "41159                     3                       2      1  1212883200   \n",
       "59301                     3                       1      1  1224892800   \n",
       "\n",
       "                                            Summary  \\\n",
       "41159  Pure cocoa taste with crunchy almonds inside   \n",
       "59301             Bought This for My Son at College   \n",
       "\n",
       "                                                    Text  \n",
       "41159  It was almost a 'love at first bite' - the per...  \n",
       "59301  My son loves spaghetti so I didn't hesitate or...  "
      ]
     },
     "execution_count": 9,
     "metadata": {},
     "output_type": "execute_result"
    }
   ],
   "source": [
    "#Checking IS 'HelpfulnessNumerator' always less than or equal to 'HelpfulnessDenominator' ?\n",
    "data[data['HelpfulnessNumerator'] > data['HelpfulnessDenominator']]"
   ]
  },
  {
   "cell_type": "code",
   "execution_count": 10,
   "metadata": {},
   "outputs": [
    {
     "name": "stdout",
     "output_type": "stream",
     "text": [
      "(364171, 10)\n"
     ]
    },
    {
     "data": {
      "text/html": [
       "<div>\n",
       "<style scoped>\n",
       "    .dataframe tbody tr th:only-of-type {\n",
       "        vertical-align: middle;\n",
       "    }\n",
       "\n",
       "    .dataframe tbody tr th {\n",
       "        vertical-align: top;\n",
       "    }\n",
       "\n",
       "    .dataframe thead th {\n",
       "        text-align: right;\n",
       "    }\n",
       "</style>\n",
       "<table border=\"1\" class=\"dataframe\">\n",
       "  <thead>\n",
       "    <tr style=\"text-align: right;\">\n",
       "      <th></th>\n",
       "      <th>Id</th>\n",
       "      <th>ProductId</th>\n",
       "      <th>UserId</th>\n",
       "      <th>ProfileName</th>\n",
       "      <th>HelpfulnessNumerator</th>\n",
       "      <th>HelpfulnessDenominator</th>\n",
       "      <th>Score</th>\n",
       "      <th>Time</th>\n",
       "      <th>Summary</th>\n",
       "      <th>Text</th>\n",
       "    </tr>\n",
       "  </thead>\n",
       "  <tbody>\n",
       "    <tr>\n",
       "      <th>0</th>\n",
       "      <td>1</td>\n",
       "      <td>B001E4KFG0</td>\n",
       "      <td>A3SGXH7AUHU8GW</td>\n",
       "      <td>delmartian</td>\n",
       "      <td>1</td>\n",
       "      <td>1</td>\n",
       "      <td>1</td>\n",
       "      <td>1303862400</td>\n",
       "      <td>Good Quality Dog Food</td>\n",
       "      <td>I have bought several of the Vitality canned d...</td>\n",
       "    </tr>\n",
       "    <tr>\n",
       "      <th>1</th>\n",
       "      <td>2</td>\n",
       "      <td>B00813GRG4</td>\n",
       "      <td>A1D87F6ZCVE5NK</td>\n",
       "      <td>dll pa</td>\n",
       "      <td>0</td>\n",
       "      <td>0</td>\n",
       "      <td>0</td>\n",
       "      <td>1346976000</td>\n",
       "      <td>Not as Advertised</td>\n",
       "      <td>Product arrived labeled as Jumbo Salted Peanut...</td>\n",
       "    </tr>\n",
       "    <tr>\n",
       "      <th>2</th>\n",
       "      <td>3</td>\n",
       "      <td>B000LQOCH0</td>\n",
       "      <td>ABXLMWJIXXAIN</td>\n",
       "      <td>Natalia Corres \"Natalia Corres\"</td>\n",
       "      <td>1</td>\n",
       "      <td>1</td>\n",
       "      <td>1</td>\n",
       "      <td>1219017600</td>\n",
       "      <td>\"Delight\" says it all</td>\n",
       "      <td>This is a confection that has been around a fe...</td>\n",
       "    </tr>\n",
       "  </tbody>\n",
       "</table>\n",
       "</div>"
      ],
      "text/plain": [
       "   Id   ProductId          UserId                      ProfileName  \\\n",
       "0   1  B001E4KFG0  A3SGXH7AUHU8GW                       delmartian   \n",
       "1   2  B00813GRG4  A1D87F6ZCVE5NK                           dll pa   \n",
       "2   3  B000LQOCH0   ABXLMWJIXXAIN  Natalia Corres \"Natalia Corres\"   \n",
       "\n",
       "   HelpfulnessNumerator  HelpfulnessDenominator  Score        Time  \\\n",
       "0                     1                       1      1  1303862400   \n",
       "1                     0                       0      0  1346976000   \n",
       "2                     1                       1      1  1219017600   \n",
       "\n",
       "                 Summary                                               Text  \n",
       "0  Good Quality Dog Food  I have bought several of the Vitality canned d...  \n",
       "1      Not as Advertised  Product arrived labeled as Jumbo Salted Peanut...  \n",
       "2  \"Delight\" says it all  This is a confection that has been around a fe...  "
      ]
     },
     "execution_count": 10,
     "metadata": {},
     "output_type": "execute_result"
    }
   ],
   "source": [
    "#\"HelpfulnessNumerator\" can't be grater than \"HelpfulnessDenominator\"\n",
    "#so taking dataframe inwhich \"HelpfulnessNumerator\" less than or equal to \"HelpfulnessDenominator\"\n",
    "\n",
    "data = data[data['HelpfulnessNumerator'] <= data['HelpfulnessDenominator']]\n",
    "data.reset_index(drop = True, inplace=True)\n",
    "print(data.shape)\n",
    "data.head(3)"
   ]
  },
  {
   "cell_type": "code",
   "execution_count": 11,
   "metadata": {},
   "outputs": [
    {
     "data": {
      "text/plain": [
       "Id                        0\n",
       "ProductId                 0\n",
       "UserId                    0\n",
       "ProfileName               0\n",
       "HelpfulnessNumerator      0\n",
       "HelpfulnessDenominator    0\n",
       "Score                     0\n",
       "Time                      0\n",
       "Summary                   0\n",
       "Text                      0\n",
       "dtype: int64"
      ]
     },
     "execution_count": 11,
     "metadata": {},
     "output_type": "execute_result"
    }
   ],
   "source": [
    "#Identifing missing Values\n",
    "miss_val = data.isna().sum()\n",
    "miss_val"
   ]
  },
  {
   "cell_type": "code",
   "execution_count": 12,
   "metadata": {},
   "outputs": [
    {
     "name": "stdout",
     "output_type": "stream",
     "text": [
      "1    307061\n",
      "0     57110\n",
      "Name: Score, dtype: int64\n",
      "**************************************************\n"
     ]
    },
    {
     "data": {
      "text/plain": [
       "Text(0.5, 1.0, 'Score distribution')"
      ]
     },
     "execution_count": 12,
     "metadata": {},
     "output_type": "execute_result"
    },
    {
     "data": {
      "image/png": "[encoded data removed]",
      "text/plain": [
       "<Figure size 432x288 with 1 Axes>"
      ]
     },
     "metadata": {},
     "output_type": "display_data"
    }
   ],
   "source": [
    "#data points for each class\n",
    "print(data['Score'].value_counts())\n",
    "print(\"*\"*50)\n",
    "\n",
    "#Count plot for Score\n",
    "sns.countplot('Score',data = data)\n",
    "plt.title(\"Score distribution\")"
   ]
  },
  {
   "cell_type": "markdown",
   "metadata": {},
   "source": [
    "## Text Preprocessing: Stemming, stop-word removal and Lemmatization."
   ]
  },
  {
   "cell_type": "code",
   "execution_count": 13,
   "metadata": {},
   "outputs": [],
   "source": [
    "#set of stopwords\n",
    "import re\n",
    "import nltk\n",
    "from nltk.corpus import stopwords\n",
    "stop = set(stopwords.words('english'))\n",
    "\n",
    "#initialising the snowball stemmer\n",
    "sno = nltk.stem.SnowballStemmer('english')                      \n",
    "\n",
    "\n",
    "#function to clean the word of any html-tags\n",
    "def cleanhtml(sentence): \n",
    "    cleanr = re.compile('<.*?>')\n",
    "    cleantext = re.sub(cleanr, ' ', sentence)\n",
    "    return cleantext\n",
    "\n",
    "\n",
    "\n",
    "#function to clean the word of any punctuation or special characters\n",
    "def cleanpunc(sentence): \n",
    "    cleaned = re.sub(r'[?|!|\\'|\"|#]',r'',sentence)\n",
    "    cleaned = re.sub(r'[.|,|)|(|\\|/]',r' ',cleaned)\n",
    "    return  cleaned\n",
    "\n",
    "\n",
    "#function to text summarization\n",
    "def final_sentence(text):\n",
    "    \n",
    "    text = text.split()\n",
    "    text = [cleanhtml(x) for x in text]\n",
    "    text = [cleanpunc(x) for x in text]\n",
    "    \n",
    "    def test(word):\n",
    "        if word.isalpha() and len(word) > 2 and word.lower() not in stop:\n",
    "            return True\n",
    "        else:\n",
    "            return False\n",
    "    \n",
    "    text = [x for x in text if test(x)]\n",
    "    \n",
    "    return ' '.join(text)"
   ]
  },
  {
   "cell_type": "code",
   "execution_count": 14,
   "metadata": {},
   "outputs": [
    {
     "name": "stdout",
     "output_type": "stream",
     "text": [
      "(364171, 11)\n"
     ]
    },
    {
     "data": {
      "text/html": [
       "<div>\n",
       "<style scoped>\n",
       "    .dataframe tbody tr th:only-of-type {\n",
       "        vertical-align: middle;\n",
       "    }\n",
       "\n",
       "    .dataframe tbody tr th {\n",
       "        vertical-align: top;\n",
       "    }\n",
       "\n",
       "    .dataframe thead th {\n",
       "        text-align: right;\n",
       "    }\n",
       "</style>\n",
       "<table border=\"1\" class=\"dataframe\">\n",
       "  <thead>\n",
       "    <tr style=\"text-align: right;\">\n",
       "      <th></th>\n",
       "      <th>Id</th>\n",
       "      <th>ProductId</th>\n",
       "      <th>UserId</th>\n",
       "      <th>ProfileName</th>\n",
       "      <th>HelpfulnessNumerator</th>\n",
       "      <th>HelpfulnessDenominator</th>\n",
       "      <th>Score</th>\n",
       "      <th>Time</th>\n",
       "      <th>Summary</th>\n",
       "      <th>Text</th>\n",
       "      <th>CleanedText</th>\n",
       "    </tr>\n",
       "  </thead>\n",
       "  <tbody>\n",
       "    <tr>\n",
       "      <th>0</th>\n",
       "      <td>1</td>\n",
       "      <td>B001E4KFG0</td>\n",
       "      <td>A3SGXH7AUHU8GW</td>\n",
       "      <td>delmartian</td>\n",
       "      <td>1</td>\n",
       "      <td>1</td>\n",
       "      <td>1</td>\n",
       "      <td>1303862400</td>\n",
       "      <td>Good Quality Dog Food</td>\n",
       "      <td>I have bought several of the Vitality canned d...</td>\n",
       "      <td>bought several Vitality canned dog food produc...</td>\n",
       "    </tr>\n",
       "    <tr>\n",
       "      <th>1</th>\n",
       "      <td>2</td>\n",
       "      <td>B00813GRG4</td>\n",
       "      <td>A1D87F6ZCVE5NK</td>\n",
       "      <td>dll pa</td>\n",
       "      <td>0</td>\n",
       "      <td>0</td>\n",
       "      <td>0</td>\n",
       "      <td>1346976000</td>\n",
       "      <td>Not as Advertised</td>\n",
       "      <td>Product arrived labeled as Jumbo Salted Peanut...</td>\n",
       "      <td>Product arrived labeled Jumbo Salted peanuts a...</td>\n",
       "    </tr>\n",
       "    <tr>\n",
       "      <th>2</th>\n",
       "      <td>3</td>\n",
       "      <td>B000LQOCH0</td>\n",
       "      <td>ABXLMWJIXXAIN</td>\n",
       "      <td>Natalia Corres \"Natalia Corres\"</td>\n",
       "      <td>1</td>\n",
       "      <td>1</td>\n",
       "      <td>1</td>\n",
       "      <td>1219017600</td>\n",
       "      <td>\"Delight\" says it all</td>\n",
       "      <td>This is a confection that has been around a fe...</td>\n",
       "      <td>confection around pillowy citrus gelatin nuts ...</td>\n",
       "    </tr>\n",
       "    <tr>\n",
       "      <th>3</th>\n",
       "      <td>4</td>\n",
       "      <td>B000UA0QIQ</td>\n",
       "      <td>A395BORC6FGVXV</td>\n",
       "      <td>Karl</td>\n",
       "      <td>3</td>\n",
       "      <td>3</td>\n",
       "      <td>0</td>\n",
       "      <td>1307923200</td>\n",
       "      <td>Cough Medicine</td>\n",
       "      <td>If you are looking for the secret ingredient i...</td>\n",
       "      <td>looking secret ingredient Robitussin believe f...</td>\n",
       "    </tr>\n",
       "    <tr>\n",
       "      <th>4</th>\n",
       "      <td>5</td>\n",
       "      <td>B006K2ZZ7K</td>\n",
       "      <td>A1UQRSCLF8GW1T</td>\n",
       "      <td>Michael D. Bigham \"M. Wassir\"</td>\n",
       "      <td>0</td>\n",
       "      <td>0</td>\n",
       "      <td>1</td>\n",
       "      <td>1350777600</td>\n",
       "      <td>Great taffy</td>\n",
       "      <td>Great taffy at a great price.  There was a wid...</td>\n",
       "      <td>Great taffy great wide assortment yummy Delive...</td>\n",
       "    </tr>\n",
       "  </tbody>\n",
       "</table>\n",
       "</div>"
      ],
      "text/plain": [
       "   Id   ProductId          UserId                      ProfileName  \\\n",
       "0   1  B001E4KFG0  A3SGXH7AUHU8GW                       delmartian   \n",
       "1   2  B00813GRG4  A1D87F6ZCVE5NK                           dll pa   \n",
       "2   3  B000LQOCH0   ABXLMWJIXXAIN  Natalia Corres \"Natalia Corres\"   \n",
       "3   4  B000UA0QIQ  A395BORC6FGVXV                             Karl   \n",
       "4   5  B006K2ZZ7K  A1UQRSCLF8GW1T    Michael D. Bigham \"M. Wassir\"   \n",
       "\n",
       "   HelpfulnessNumerator  HelpfulnessDenominator  Score        Time  \\\n",
       "0                     1                       1      1  1303862400   \n",
       "1                     0                       0      0  1346976000   \n",
       "2                     1                       1      1  1219017600   \n",
       "3                     3                       3      0  1307923200   \n",
       "4                     0                       0      1  1350777600   \n",
       "\n",
       "                 Summary                                               Text  \\\n",
       "0  Good Quality Dog Food  I have bought several of the Vitality canned d...   \n",
       "1      Not as Advertised  Product arrived labeled as Jumbo Salted Peanut...   \n",
       "2  \"Delight\" says it all  This is a confection that has been around a fe...   \n",
       "3         Cough Medicine  If you are looking for the secret ingredient i...   \n",
       "4            Great taffy  Great taffy at a great price.  There was a wid...   \n",
       "\n",
       "                                         CleanedText  \n",
       "0  bought several Vitality canned dog food produc...  \n",
       "1  Product arrived labeled Jumbo Salted peanuts a...  \n",
       "2  confection around pillowy citrus gelatin nuts ...  \n",
       "3  looking secret ingredient Robitussin believe f...  \n",
       "4  Great taffy great wide assortment yummy Delive...  "
      ]
     },
     "execution_count": 14,
     "metadata": {},
     "output_type": "execute_result"
    }
   ],
   "source": [
    "data['CleanedText'] = data['Text'].apply(final_sentence)\n",
    "print(data.shape)\n",
    "data.head()"
   ]
  },
  {
   "cell_type": "markdown",
   "metadata": {},
   "source": [
    "### Converting Text data into vector "
   ]
  },
  {
   "cell_type": "code",
   "execution_count": 15,
   "metadata": {},
   "outputs": [],
   "source": [
    "def Text_Into_Vector(model,data):\n",
    "    model_vect = model(ngram_range=(1,2)) #in scikit-learn\n",
    "    final_array = model_vect.fit_transform(data.values)\n",
    "\n",
    "    print(\"the type of count vectorizer \",type(final_array))\n",
    "    print(\"the shape of out text BOW vectorizer \",final_array.get_shape())\n",
    "    print(\"the number of unique words including both unigrams and bigrams \", final_array.get_shape()[1])\n",
    "    \n",
    "    return model_vect, final_array"
   ]
  },
  {
   "cell_type": "markdown",
   "metadata": {},
   "source": [
    "## Spliting data"
   ]
  },
  {
   "cell_type": "code",
   "execution_count": 16,
   "metadata": {},
   "outputs": [],
   "source": [
    "#split data into train, cross validate and test \n",
    "from sklearn.model_selection import train_test_split\n",
    "\n",
    "def Split_data(x_vec, y_vec):\n",
    "    X_train, X_test, Y_train, Y_test = train_test_split(x_vec, y_vec, test_size=.33, random_state=0)\n",
    "    X_tr, X_cv, Y_tr, Y_cv = train_test_split(X_train, Y_train, test_size=.33, random_state=0)\n",
    "    return X_tr, X_cv, X_test, Y_tr, Y_test, Y_cv, X_train, Y_train"
   ]
  },
  {
   "cell_type": "markdown",
   "metadata": {},
   "source": [
    "## Normalize Data"
   ]
  },
  {
   "cell_type": "code",
   "execution_count": 17,
   "metadata": {},
   "outputs": [],
   "source": [
    "#Normalize Data\n",
    "from sklearn import preprocessing\n",
    "from sklearn.preprocessing import Normalizer\n",
    "\n",
    "def Normalization(train, cv, test):\n",
    "    train=preprocessing.normalize(train)\n",
    "    cv=preprocessing.normalize(cv)\n",
    "    test=preprocessing.normalize(test)\n",
    "\n",
    "    print(\"Train Data Size \",train.get_shape())\n",
    "    print(\"CV Data Size: \",cv.shape)\n",
    "    print(\"Test Data Size: \",test.shape)\n",
    "    \n",
    "    return train, cv, test"
   ]
  },
  {
   "cell_type": "markdown",
   "metadata": {},
   "source": [
    "### Training Multinomial Naive Bayes Model"
   ]
  },
  {
   "cell_type": "code",
   "execution_count": 18,
   "metadata": {},
   "outputs": [],
   "source": [
    "from sklearn.naive_bayes import MultinomialNB\n",
    "from sklearn.metrics import roc_auc_score\n",
    "from sklearn.metrics import roc_curve\n",
    "import matplotlib.pylab as pyplt\n",
    "\n",
    "def Multinomial_NB(X_train,X_cv,Y_train,Y_cv):\n",
    "    #############################################################################\n",
    "    best_alpha=0\n",
    "    max_roc_auc=-1\n",
    "    pred_cv = []\n",
    "    pred_train = []\n",
    "    alpha=[10000,5000,1000,500,100,50,10,5,1,0.5,0.1,0.05,0.01,0.005,0.001,0.0005,0.0001,0.00005,0.00001]\n",
    "    #############################################################################\n",
    "\n",
    "    for i in alpha:\n",
    "        mulbnb = MultinomialNB(alpha=i)\n",
    "        mulbnb.fit(X_train,Y_train)\n",
    "        probs = mulbnb.predict_proba(X_cv)[:,1]     \n",
    "        prob = mulbnb.predict_proba(X_train)[:,1]\n",
    "        #############################################################################\n",
    "\n",
    "        auc_score_cv = roc_auc_score(Y_cv,probs)            #auc roc for cv\n",
    "        auc_score_train = roc_auc_score(Y_train,prob)       #auc roc for train\n",
    "        #############################################################################\n",
    "\n",
    "        print(i,\" ------> \",auc_score_cv)\n",
    "        #############################################################################\n",
    "\n",
    "        pred_cv.append(auc_score_cv)\n",
    "        pred_train.append(auc_score_train)\n",
    "        #############################################################################\n",
    "\n",
    "        if(max_roc_auc<auc_score_cv):\n",
    "            max_roc_auc=auc_score_cv\n",
    "            best_alpha=i\n",
    "\n",
    "    print(\"*\"*100)\n",
    "    print(f\"\\n Best alpha Value {best_alpha} with highest roc_auc Score is {max_roc_auc}\")\n",
    "    print(\"*\"*100)\n",
    "    #############################################################################\n",
    "\n",
    "    sns.set_style(\"darkgrid\")\n",
    "    plt.xscale('log')\n",
    "    plt.plot(alpha, pred_cv,'r-', label = 'CV Data')\n",
    "    plt.plot(alpha,pred_train,'g-', label ='Train Data')\n",
    "    plt.legend(loc='upper right')\n",
    "    plt.title(r'Auc Score v/s $\\alpha$')\n",
    "    plt.xlabel(r\"alpha values\",fontsize=12)\n",
    "    plt.ylabel(\"roc_auc\",fontsize=12)\n",
    "    plt.show()\n",
    "    print(\"*\"*100)\n",
    "    #############################################################################\n",
    "\n",
    "    # calculate roc curve\n",
    "    fpr, tpr, thresholds = roc_curve(Y_cv,probs)\n",
    "    # plot no skill\n",
    "    pyplt.plot([0, 1], [0, 1], linestyle='--')\n",
    "    # plot the roc curve for the model\n",
    "    pyplt.plot(fpr, tpr, marker='.')\n",
    "    pyplt.title(\"Line Plot of ROC Curve on Train Data\")\n",
    "    pyplt.ylabel('True Positive Rate')\n",
    "    pyplt.xlabel('False Positive Rate')\n",
    "    pyplt.show()\n",
    "    print(\"*\"*100)\n",
    "    \n",
    "    #############################################################################\n",
    "    return best_alpha"
   ]
  },
  {
   "cell_type": "markdown",
   "metadata": {},
   "source": [
    "### Testing Multinomial Naive Bayes Model"
   ]
  },
  {
   "cell_type": "code",
   "execution_count": 19,
   "metadata": {},
   "outputs": [],
   "source": [
    "import scikitplot.metrics as skplt\n",
    "from sklearn import metrics\n",
    "from sklearn.metrics import confusion_matrix\n",
    "\n",
    "\n",
    "def Testing_model(X_train,Y_train,X_test,Y_test,best_alpha):\n",
    "    \n",
    "    #############################################################################\n",
    "    bnb = MultinomialNB(alpha = best_alpha, fit_prior=True, class_prior=None)\n",
    "    bnb.fit(X_train,Y_train)\n",
    "    probs = bnb.predict_proba(X_test)[:,1]            # keep probabilities for the positive outcome only\n",
    "\n",
    "    #############################################################################\n",
    "    roc_auc = roc_auc_score(Y_test,probs)\n",
    "    print(\"AUC Score\",roc_auc)\n",
    "    print(\"*\"*70)\n",
    "    #############################################################################'\n",
    "\n",
    "    # calculate roc curve\n",
    "    fpr, tpr, thresholds = roc_curve(Y_test,probs)\n",
    "    # plot no skill\n",
    "    plt.plot([0, 1], [0, 1], linestyle='--')\n",
    "    # plot the roc curve for the model\n",
    "    plt.plot(fpr, tpr, marker='.')\n",
    "    plt.title(\"Line Plot of ROC Curve on Test Data\")\n",
    "    plt.ylabel('True Positive Rate')\n",
    "    plt.xlabel('False Positive Rate')    \n",
    "    plt.show()\n",
    "\n",
    "    #############################################################################\n",
    "    prediction=bnb.predict(X_test)\n",
    "    skplt.plot_confusion_matrix(Y_test,prediction)\n",
    "    #############################################################################\n",
    "\n",
    "    print(\"macro f1 score for data :\",metrics.f1_score(Y_test, prediction, average = 'macro'))\n",
    "    print(\"micro f1 score for data:\",metrics.f1_score(Y_test, prediction, average = 'micro'))\n",
    "    print(\"hamming loss for data:\",metrics.hamming_loss(Y_test,prediction))\n",
    "    print(\"*\"*70)\n",
    "    print(\"Precision recall report for data:\\n\",metrics.classification_report(Y_test, prediction))\n",
    "    print(\"*\"*70)\n",
    "    \n",
    "    return bnb,roc_auc\n",
    "\n",
    "    #############################################################################"
   ]
  },
  {
   "cell_type": "markdown",
   "metadata": {},
   "source": [
    "### Top features"
   ]
  },
  {
   "cell_type": "code",
   "execution_count": 20,
   "metadata": {},
   "outputs": [],
   "source": [
    "def Important_features(model, classifier):\n",
    "    neg = classifier.feature_log_prob_[0].argsort()\n",
    "    pos = classifier.feature_log_prob_[1].argsort()\n",
    "    top_pos_words = np.take(model.get_feature_names(),pos)\n",
    "    top_neg_words = np.take(model.get_feature_names(),neg)\n",
    "    imp_df = pd.DataFrame(columns = ['Pos_Words','Pos_Importance','Neg_Words','Neg_Importance'])\n",
    "    imp_df['Pos_Words'] = top_pos_words[::-1]\n",
    "    imp_df['Pos_Importance'] = np.take(classifier.feature_log_prob_[1],pos)[::-1]\n",
    "    imp_df['Neg_Words'] = top_neg_words[::-1]\n",
    "    imp_df['Neg_Importance'] = np.take(classifier.feature_log_prob_[0],neg)[::-1]\n",
    "    return imp_df"
   ]
  },
  {
   "cell_type": "markdown",
   "metadata": {},
   "source": [
    "### Individual Prediction"
   ]
  },
  {
   "cell_type": "code",
   "execution_count": 44,
   "metadata": {},
   "outputs": [],
   "source": [
    "def Individual_Prediction(model, classifier, review):\n",
    "    review = final_sentence(review)\n",
    "    review_vec = model.transform([review])\n",
    "    review_vec = preprocessing.normalize(review_vec)\n",
    "    pred = classifier.predict(review_vec)\n",
    "\n",
    "    return \"positive review\" if pred[0] == 1 else \"negative review\""
   ]
  },
  {
   "cell_type": "markdown",
   "metadata": {},
   "source": [
    "## Bag of Words (BoW)"
   ]
  },
  {
   "cell_type": "code",
   "execution_count": 22,
   "metadata": {},
   "outputs": [
    {
     "name": "stdout",
     "output_type": "stream",
     "text": [
      "the type of count vectorizer  <class 'scipy.sparse.csr.csr_matrix'>\n",
      "the shape of out text BOW vectorizer  (364171, 3474709)\n",
      "the number of unique words including both unigrams and bigrams  3474709\n"
     ]
    }
   ],
   "source": [
    "from sklearn.feature_extraction.text import CountVectorizer\n",
    "\n",
    "BOW, X = Text_Into_Vector(CountVectorizer,data['CleanedText'])"
   ]
  },
  {
   "cell_type": "code",
   "execution_count": 23,
   "metadata": {},
   "outputs": [
    {
     "data": {
      "text/plain": [
       "['aaa',\n",
       " 'aaa aaa',\n",
       " 'aaa able',\n",
       " 'aaa class',\n",
       " 'aaa cola',\n",
       " 'aaa condition',\n",
       " 'aaa dont',\n",
       " 'aaa hockey',\n",
       " 'aaa job',\n",
       " 'aaa magazine',\n",
       " 'aaa plus',\n",
       " 'aaa rating',\n",
       " 'aaa tue',\n",
       " 'aaaa',\n",
       " 'aaaaaaaaagghh',\n",
       " 'aaaaaaarrrrrggghhh',\n",
       " 'aaaaaaarrrrrggghhh dark',\n",
       " 'aaaaaah',\n",
       " 'aaaaaah melt',\n",
       " 'aaaaaahhh']"
      ]
     },
     "execution_count": 23,
     "metadata": {},
     "output_type": "execute_result"
    }
   ],
   "source": [
    "BOW.get_feature_names()[:20]"
   ]
  },
  {
   "cell_type": "code",
   "execution_count": 24,
   "metadata": {},
   "outputs": [
    {
     "data": {
      "text/plain": [
       "{'analyzer': 'word',\n",
       " 'binary': False,\n",
       " 'decode_error': 'strict',\n",
       " 'dtype': numpy.int64,\n",
       " 'encoding': 'utf-8',\n",
       " 'input': 'content',\n",
       " 'lowercase': True,\n",
       " 'max_df': 1.0,\n",
       " 'max_features': None,\n",
       " 'min_df': 1,\n",
       " 'ngram_range': (1, 2),\n",
       " 'preprocessor': None,\n",
       " 'stop_words': None,\n",
       " 'strip_accents': None,\n",
       " 'token_pattern': '(?u)\\\\b\\\\w\\\\w+\\\\b',\n",
       " 'tokenizer': None,\n",
       " 'vocabulary': None}"
      ]
     },
     "execution_count": 24,
     "metadata": {},
     "output_type": "execute_result"
    }
   ],
   "source": [
    "BOW.get_params()"
   ]
  },
  {
   "cell_type": "code",
   "execution_count": 25,
   "metadata": {},
   "outputs": [],
   "source": [
    "#split data into train, cross validate and test \n",
    "\n",
    "X_tr, X_cv, X_test, Y_tr, Y_test, Y_cv, X_train, Y_train = Split_data(X, data['Score'])"
   ]
  },
  {
   "cell_type": "code",
   "execution_count": 26,
   "metadata": {
    "scrolled": true
   },
   "outputs": [
    {
     "name": "stdout",
     "output_type": "stream",
     "text": [
      "X_test, Y_test (120177, 3474709) (120177,)\n",
      "X_tr, Y_tr (163475, 3474709) (163475,)\n",
      "X_cv, Y_cv (80519, 3474709) (80519,)\n",
      "X_Train, Y_Train (243994, 3474709) (243994,)\n"
     ]
    }
   ],
   "source": [
    "print('X_test, Y_test', X_test.shape, Y_test.shape)\n",
    "print('X_tr, Y_tr', X_tr.shape, Y_tr.shape)\n",
    "print('X_cv, Y_cv', X_cv.shape, Y_cv.shape)\n",
    "print('X_Train, Y_Train', X_train.shape, Y_train.shape)"
   ]
  },
  {
   "cell_type": "code",
   "execution_count": 27,
   "metadata": {},
   "outputs": [
    {
     "name": "stdout",
     "output_type": "stream",
     "text": [
      "Train Data Size  (163475, 3474709)\n",
      "CV Data Size:  (80519, 3474709)\n",
      "Test Data Size:  (120177, 3474709)\n"
     ]
    }
   ],
   "source": [
    "# Normalization\n",
    "\n",
    "X_tr, X_cv, X_test = Normalization(X_tr, X_cv, X_test)"
   ]
  },
  {
   "cell_type": "markdown",
   "metadata": {},
   "source": [
    "#### Navie Bayes for BOW"
   ]
  },
  {
   "cell_type": "code",
   "execution_count": 28,
   "metadata": {},
   "outputs": [
    {
     "name": "stdout",
     "output_type": "stream",
     "text": [
      "10000  ------>  0.6111583167089375\n",
      "5000  ------>  0.6145155649406144\n",
      "1000  ------>  0.628614842053753\n",
      "500  ------>  0.6367734085316683\n",
      "100  ------>  0.6584930541766909\n",
      "50  ------>  0.6693181832677322\n",
      "10  ------>  0.6983596977921045\n",
      "5  ------>  0.7135046880412861\n",
      "1  ------>  0.7660992482025781\n",
      "0.5  ------>  0.8034533701963218\n",
      "0.1  ------>  0.9034667012030657\n",
      "0.05  ------>  0.9189048015587753\n",
      "0.01  ------>  0.9175127312491211\n",
      "0.005  ------>  0.9157508910131609\n",
      "0.001  ------>  0.909563938140043\n",
      "0.0005  ------>  0.9053448403105996\n",
      "0.0001  ------>  0.8931149189924641\n",
      "5e-05  ------>  0.8873560408133327\n",
      "1e-05  ------>  0.8740097044589022\n",
      "****************************************************************************************************\n",
      "\n",
      " Best alpha Value 0.05 with highest roc_auc Score is 0.9189048015587753\n",
      "****************************************************************************************************\n"
     ]
    },
    {
     "data": {
      "image/png": "[encoded data removed]",
      "text/plain": [
       "<Figure size 432x288 with 1 Axes>"
      ]
     },
     "metadata": {},
     "output_type": "display_data"
    },
    {
     "name": "stdout",
     "output_type": "stream",
     "text": [
      "****************************************************************************************************\n"
     ]
    },
    {
     "data": {
      "image/png": "[encoded data removed]",
      "text/plain": [
       "<Figure size 432x288 with 1 Axes>"
      ]
     },
     "metadata": {},
     "output_type": "display_data"
    },
    {
     "name": "stdout",
     "output_type": "stream",
     "text": [
      "****************************************************************************************************\n"
     ]
    }
   ],
   "source": [
    "#training NB \n",
    "\n",
    "best_alpha_bow = Multinomial_NB(X_tr,X_cv,Y_tr,Y_cv)"
   ]
  },
  {
   "cell_type": "code",
   "execution_count": 29,
   "metadata": {},
   "outputs": [
    {
     "name": "stdout",
     "output_type": "stream",
     "text": [
      "AUC Score 0.9209823342029133\n",
      "**********************************************************************\n"
     ]
    },
    {
     "data": {
      "image/png": "[encoded data removed]",
      "text/plain": [
       "<Figure size 432x288 with 1 Axes>"
      ]
     },
     "metadata": {},
     "output_type": "display_data"
    },
    {
     "name": "stdout",
     "output_type": "stream",
     "text": [
      "macro f1 score for data : 0.6467429611555733\n",
      "micro f1 score for data: 0.8739359444818892\n",
      "hamming loss for data: 0.12606405551811078\n",
      "**********************************************************************\n",
      "Precision recall report for data:\n",
      "               precision    recall  f1-score   support\n",
      "\n",
      "           0       0.87      0.23      0.36     18834\n",
      "           1       0.87      0.99      0.93    101343\n",
      "\n",
      "    accuracy                           0.87    120177\n",
      "   macro avg       0.87      0.61      0.65    120177\n",
      "weighted avg       0.87      0.87      0.84    120177\n",
      "\n",
      "**********************************************************************\n"
     ]
    },
    {
     "data": {
      "image/png": "[encoded data removed]",
      "text/plain": [
       "<Figure size 432x288 with 2 Axes>"
      ]
     },
     "metadata": {},
     "output_type": "display_data"
    }
   ],
   "source": [
    "# Testing NB Model\n",
    "\n",
    "NB_bow, roc_auc_bow = Testing_model(X_tr,Y_tr,X_test,Y_test,best_alpha_bow)"
   ]
  },
  {
   "cell_type": "code",
   "execution_count": 30,
   "metadata": {},
   "outputs": [
    {
     "data": {
      "text/html": [
       "<div>\n",
       "<style scoped>\n",
       "    .dataframe tbody tr th:only-of-type {\n",
       "        vertical-align: middle;\n",
       "    }\n",
       "\n",
       "    .dataframe tbody tr th {\n",
       "        vertical-align: top;\n",
       "    }\n",
       "\n",
       "    .dataframe thead th {\n",
       "        text-align: right;\n",
       "    }\n",
       "</style>\n",
       "<table border=\"1\" class=\"dataframe\">\n",
       "  <thead>\n",
       "    <tr style=\"text-align: right;\">\n",
       "      <th></th>\n",
       "      <th>Pos_Words</th>\n",
       "      <th>Pos_Importance</th>\n",
       "      <th>Neg_Words</th>\n",
       "      <th>Neg_Importance</th>\n",
       "    </tr>\n",
       "  </thead>\n",
       "  <tbody>\n",
       "    <tr>\n",
       "      <th>0</th>\n",
       "      <td>like</td>\n",
       "      <td>-5.194557</td>\n",
       "      <td>like</td>\n",
       "      <td>-5.485752</td>\n",
       "    </tr>\n",
       "    <tr>\n",
       "      <th>1</th>\n",
       "      <td>great</td>\n",
       "      <td>-5.274154</td>\n",
       "      <td>taste</td>\n",
       "      <td>-5.951648</td>\n",
       "    </tr>\n",
       "    <tr>\n",
       "      <th>2</th>\n",
       "      <td>good</td>\n",
       "      <td>-5.386931</td>\n",
       "      <td>product</td>\n",
       "      <td>-5.981940</td>\n",
       "    </tr>\n",
       "    <tr>\n",
       "      <th>3</th>\n",
       "      <td>love</td>\n",
       "      <td>-5.495140</td>\n",
       "      <td>would</td>\n",
       "      <td>-5.992919</td>\n",
       "    </tr>\n",
       "    <tr>\n",
       "      <th>4</th>\n",
       "      <td>one</td>\n",
       "      <td>-5.646232</td>\n",
       "      <td>one</td>\n",
       "      <td>-6.100033</td>\n",
       "    </tr>\n",
       "    <tr>\n",
       "      <th>...</th>\n",
       "      <td>...</td>\n",
       "      <td>...</td>\n",
       "      <td>...</td>\n",
       "      <td>...</td>\n",
       "    </tr>\n",
       "    <tr>\n",
       "      <th>3474704</th>\n",
       "      <td>home jalapeno</td>\n",
       "      <td>-16.904796</td>\n",
       "      <td>phony chemically</td>\n",
       "      <td>-15.772229</td>\n",
       "    </tr>\n",
       "    <tr>\n",
       "      <th>3474705</th>\n",
       "      <td>home jam</td>\n",
       "      <td>-16.904796</td>\n",
       "      <td>phony cappuccinos</td>\n",
       "      <td>-15.772229</td>\n",
       "    </tr>\n",
       "    <tr>\n",
       "      <th>3474706</th>\n",
       "      <td>together actually</td>\n",
       "      <td>-16.904796</td>\n",
       "      <td>phony butter</td>\n",
       "      <td>-15.772229</td>\n",
       "    </tr>\n",
       "    <tr>\n",
       "      <th>3474707</th>\n",
       "      <td>home jammies</td>\n",
       "      <td>-16.904796</td>\n",
       "      <td>phony baloney</td>\n",
       "      <td>-15.772229</td>\n",
       "    </tr>\n",
       "    <tr>\n",
       "      <th>3474708</th>\n",
       "      <td>flours shaped</td>\n",
       "      <td>-16.904796</td>\n",
       "      <td>aaa</td>\n",
       "      <td>-15.772229</td>\n",
       "    </tr>\n",
       "  </tbody>\n",
       "</table>\n",
       "<p>3474709 rows × 4 columns</p>\n",
       "</div>"
      ],
      "text/plain": [
       "                 Pos_Words  Pos_Importance          Neg_Words  Neg_Importance\n",
       "0                     like       -5.194557               like       -5.485752\n",
       "1                    great       -5.274154              taste       -5.951648\n",
       "2                     good       -5.386931            product       -5.981940\n",
       "3                     love       -5.495140              would       -5.992919\n",
       "4                      one       -5.646232                one       -6.100033\n",
       "...                    ...             ...                ...             ...\n",
       "3474704      home jalapeno      -16.904796   phony chemically      -15.772229\n",
       "3474705           home jam      -16.904796  phony cappuccinos      -15.772229\n",
       "3474706  together actually      -16.904796       phony butter      -15.772229\n",
       "3474707       home jammies      -16.904796      phony baloney      -15.772229\n",
       "3474708      flours shaped      -16.904796                aaa      -15.772229\n",
       "\n",
       "[3474709 rows x 4 columns]"
      ]
     },
     "execution_count": 30,
     "metadata": {},
     "output_type": "execute_result"
    }
   ],
   "source": [
    "# Top features using NB and BOW\n",
    "\n",
    "Important_features(BOW, NB_bow)"
   ]
  },
  {
   "cell_type": "markdown",
   "metadata": {},
   "source": [
    "## TF-IDF"
   ]
  },
  {
   "cell_type": "code",
   "execution_count": 31,
   "metadata": {},
   "outputs": [
    {
     "name": "stdout",
     "output_type": "stream",
     "text": [
      "the type of count vectorizer  <class 'scipy.sparse.csr.csr_matrix'>\n",
      "the shape of out text BOW vectorizer  (364171, 3474709)\n",
      "the number of unique words including both unigrams and bigrams  3474709\n"
     ]
    }
   ],
   "source": [
    "## TFidf Vectorizer\n",
    "from sklearn.feature_extraction.text import TfidfVectorizer\n",
    "\n",
    "TfIdf, X = Text_Into_Vector(TfidfVectorizer,data['CleanedText'])"
   ]
  },
  {
   "cell_type": "code",
   "execution_count": 32,
   "metadata": {},
   "outputs": [
    {
     "data": {
      "text/plain": [
       "['aaa',\n",
       " 'aaa aaa',\n",
       " 'aaa able',\n",
       " 'aaa class',\n",
       " 'aaa cola',\n",
       " 'aaa condition',\n",
       " 'aaa dont',\n",
       " 'aaa hockey',\n",
       " 'aaa job',\n",
       " 'aaa magazine',\n",
       " 'aaa plus',\n",
       " 'aaa rating',\n",
       " 'aaa tue',\n",
       " 'aaaa',\n",
       " 'aaaaaaaaagghh',\n",
       " 'aaaaaaarrrrrggghhh',\n",
       " 'aaaaaaarrrrrggghhh dark',\n",
       " 'aaaaaah',\n",
       " 'aaaaaah melt',\n",
       " 'aaaaaahhh']"
      ]
     },
     "execution_count": 32,
     "metadata": {},
     "output_type": "execute_result"
    }
   ],
   "source": [
    "TfIdf.get_feature_names()[:20]"
   ]
  },
  {
   "cell_type": "code",
   "execution_count": 33,
   "metadata": {},
   "outputs": [
    {
     "data": {
      "text/plain": [
       "{'analyzer': 'word',\n",
       " 'binary': False,\n",
       " 'decode_error': 'strict',\n",
       " 'dtype': numpy.float64,\n",
       " 'encoding': 'utf-8',\n",
       " 'input': 'content',\n",
       " 'lowercase': True,\n",
       " 'max_df': 1.0,\n",
       " 'max_features': None,\n",
       " 'min_df': 1,\n",
       " 'ngram_range': (1, 2),\n",
       " 'norm': 'l2',\n",
       " 'preprocessor': None,\n",
       " 'smooth_idf': True,\n",
       " 'stop_words': None,\n",
       " 'strip_accents': None,\n",
       " 'sublinear_tf': False,\n",
       " 'token_pattern': '(?u)\\\\b\\\\w\\\\w+\\\\b',\n",
       " 'tokenizer': None,\n",
       " 'use_idf': True,\n",
       " 'vocabulary': None}"
      ]
     },
     "execution_count": 33,
     "metadata": {},
     "output_type": "execute_result"
    }
   ],
   "source": [
    "TfIdf.get_params()"
   ]
  },
  {
   "cell_type": "code",
   "execution_count": 34,
   "metadata": {},
   "outputs": [],
   "source": [
    "#split data into train, cross validate and test \n",
    "\n",
    "X_tr, X_cv, X_test, Y_tr, Y_test, Y_cv, X_train, Y_train = Split_data(X, data['Score'])"
   ]
  },
  {
   "cell_type": "code",
   "execution_count": 35,
   "metadata": {},
   "outputs": [
    {
     "name": "stdout",
     "output_type": "stream",
     "text": [
      "X_test, Y_test (120177, 3474709) (120177,)\n",
      "X_tr, Y_tr (163475, 3474709) (163475,)\n",
      "X_cv, Y_cv (80519, 3474709) (80519,)\n",
      "X_Train, Y_Train (243994, 3474709) (243994,)\n"
     ]
    }
   ],
   "source": [
    "print('X_test, Y_test', X_test.shape, Y_test.shape)\n",
    "print('X_tr, Y_tr', X_tr.shape, Y_tr.shape)\n",
    "print('X_cv, Y_cv', X_cv.shape, Y_cv.shape)\n",
    "print('X_Train, Y_Train', X_train.shape, Y_train.shape)"
   ]
  },
  {
   "cell_type": "code",
   "execution_count": 36,
   "metadata": {},
   "outputs": [
    {
     "name": "stdout",
     "output_type": "stream",
     "text": [
      "Train Data Size  (163475, 3474709)\n",
      "CV Data Size:  (80519, 3474709)\n",
      "Test Data Size:  (120177, 3474709)\n"
     ]
    }
   ],
   "source": [
    "# Normalize Data\n",
    "\n",
    "X_tr, X_cv, X_test = Normalization(X_tr, X_cv, X_test)"
   ]
  },
  {
   "cell_type": "markdown",
   "metadata": {},
   "source": [
    "#### Naive bayes for TF-idf"
   ]
  },
  {
   "cell_type": "code",
   "execution_count": 37,
   "metadata": {},
   "outputs": [
    {
     "name": "stdout",
     "output_type": "stream",
     "text": [
      "10000  ------>  0.6374523430571146\n",
      "5000  ------>  0.6381727888543773\n",
      "1000  ------>  0.6430910743700347\n",
      "500  ------>  0.6476871462307296\n",
      "100  ------>  0.6668859458766916\n",
      "50  ------>  0.6791041302228038\n",
      "10  ------>  0.7150002552856136\n",
      "5  ------>  0.7337342666031237\n",
      "1  ------>  0.7933609275264643\n",
      "0.5  ------>  0.8298920705520662\n",
      "0.1  ------>  0.8983067251447\n",
      "0.05  ------>  0.9012337852272319\n",
      "0.01  ------>  0.8933885443603953\n",
      "0.005  ------>  0.890919159111641\n",
      "0.001  ------>  0.882478944138137\n",
      "0.0005  ------>  0.8773440941903231\n",
      "0.0001  ------>  0.8638083811921488\n",
      "5e-05  ------>  0.857866377889614\n",
      "1e-05  ------>  0.8448007833396809\n",
      "****************************************************************************************************\n",
      "\n",
      " Best alpha Value 0.05 with highest roc_auc Score is 0.9012337852272319\n",
      "****************************************************************************************************\n"
     ]
    },
    {
     "data": {
      "image/png": "[encoded data removed]",
      "text/plain": [
       "<Figure size 432x288 with 1 Axes>"
      ]
     },
     "metadata": {},
     "output_type": "display_data"
    },
    {
     "name": "stdout",
     "output_type": "stream",
     "text": [
      "****************************************************************************************************\n"
     ]
    },
    {
     "data": {
      "image/png": "[encoded data removed]",
      "text/plain": [
       "<Figure size 432x288 with 1 Axes>"
      ]
     },
     "metadata": {},
     "output_type": "display_data"
    },
    {
     "name": "stdout",
     "output_type": "stream",
     "text": [
      "****************************************************************************************************\n"
     ]
    }
   ],
   "source": [
    "#Training NB model\n",
    "\n",
    "best_alpha_idf = Multinomial_NB(X_tr,X_cv,Y_tr,Y_cv)"
   ]
  },
  {
   "cell_type": "code",
   "execution_count": 38,
   "metadata": {},
   "outputs": [
    {
     "name": "stdout",
     "output_type": "stream",
     "text": [
      "AUC Score 0.904010060518541\n",
      "**********************************************************************\n"
     ]
    },
    {
     "data": {
      "image/png": "[encoded data removed]",
      "text/plain": [
       "<Figure size 432x288 with 1 Axes>"
      ]
     },
     "metadata": {},
     "output_type": "display_data"
    },
    {
     "name": "stdout",
     "output_type": "stream",
     "text": [
      "macro f1 score for data : 0.7375149782110274\n",
      "micro f1 score for data: 0.8872579611739351\n",
      "hamming loss for data: 0.11274203882606489\n",
      "**********************************************************************\n",
      "Precision recall report for data:\n",
      "               precision    recall  f1-score   support\n",
      "\n",
      "           0       0.75      0.42      0.54     18834\n",
      "           1       0.90      0.97      0.94    101343\n",
      "\n",
      "    accuracy                           0.89    120177\n",
      "   macro avg       0.83      0.70      0.74    120177\n",
      "weighted avg       0.88      0.89      0.87    120177\n",
      "\n",
      "**********************************************************************\n"
     ]
    },
    {
     "data": {
      "image/png": "[encoded data removed]",
      "text/plain": [
       "<Figure size 432x288 with 2 Axes>"
      ]
     },
     "metadata": {},
     "output_type": "display_data"
    }
   ],
   "source": [
    "# Testing NB Model\n",
    "\n",
    "NB_tfidf, roc_auc_idf = Testing_model(X_tr,Y_tr,X_test,Y_test,best_alpha_idf)"
   ]
  },
  {
   "cell_type": "code",
   "execution_count": 39,
   "metadata": {},
   "outputs": [
    {
     "data": {
      "text/html": [
       "<div>\n",
       "<style scoped>\n",
       "    .dataframe tbody tr th:only-of-type {\n",
       "        vertical-align: middle;\n",
       "    }\n",
       "\n",
       "    .dataframe tbody tr th {\n",
       "        vertical-align: top;\n",
       "    }\n",
       "\n",
       "    .dataframe thead th {\n",
       "        text-align: right;\n",
       "    }\n",
       "</style>\n",
       "<table border=\"1\" class=\"dataframe\">\n",
       "  <thead>\n",
       "    <tr style=\"text-align: right;\">\n",
       "      <th></th>\n",
       "      <th>Pos_Words</th>\n",
       "      <th>Pos_Importance</th>\n",
       "      <th>Neg_Words</th>\n",
       "      <th>Neg_Importance</th>\n",
       "    </tr>\n",
       "  </thead>\n",
       "  <tbody>\n",
       "    <tr>\n",
       "      <th>0</th>\n",
       "      <td>great</td>\n",
       "      <td>-6.374487</td>\n",
       "      <td>like</td>\n",
       "      <td>-6.744460</td>\n",
       "    </tr>\n",
       "    <tr>\n",
       "      <th>1</th>\n",
       "      <td>like</td>\n",
       "      <td>-6.423118</td>\n",
       "      <td>taste</td>\n",
       "      <td>-7.018721</td>\n",
       "    </tr>\n",
       "    <tr>\n",
       "      <th>2</th>\n",
       "      <td>good</td>\n",
       "      <td>-6.501029</td>\n",
       "      <td>product</td>\n",
       "      <td>-7.029185</td>\n",
       "    </tr>\n",
       "    <tr>\n",
       "      <th>3</th>\n",
       "      <td>love</td>\n",
       "      <td>-6.541061</td>\n",
       "      <td>would</td>\n",
       "      <td>-7.041933</td>\n",
       "    </tr>\n",
       "    <tr>\n",
       "      <th>4</th>\n",
       "      <td>coffee</td>\n",
       "      <td>-6.732261</td>\n",
       "      <td>one</td>\n",
       "      <td>-7.241319</td>\n",
       "    </tr>\n",
       "    <tr>\n",
       "      <th>...</th>\n",
       "      <td>...</td>\n",
       "      <td>...</td>\n",
       "      <td>...</td>\n",
       "      <td>...</td>\n",
       "    </tr>\n",
       "    <tr>\n",
       "      <th>3474704</th>\n",
       "      <td>prejudge coffee</td>\n",
       "      <td>-16.867552</td>\n",
       "      <td>phony chemically</td>\n",
       "      <td>-15.752789</td>\n",
       "    </tr>\n",
       "    <tr>\n",
       "      <th>3474705</th>\n",
       "      <td>going pouring</td>\n",
       "      <td>-16.867552</td>\n",
       "      <td>phony cappuccinos</td>\n",
       "      <td>-15.752789</td>\n",
       "    </tr>\n",
       "    <tr>\n",
       "      <th>3474706</th>\n",
       "      <td>going powdered</td>\n",
       "      <td>-16.867552</td>\n",
       "      <td>phony butter</td>\n",
       "      <td>-15.752789</td>\n",
       "    </tr>\n",
       "    <tr>\n",
       "      <th>3474707</th>\n",
       "      <td>going practices</td>\n",
       "      <td>-16.867552</td>\n",
       "      <td>phony baloney</td>\n",
       "      <td>-15.752789</td>\n",
       "    </tr>\n",
       "    <tr>\n",
       "      <th>3474708</th>\n",
       "      <td>starbucks chain</td>\n",
       "      <td>-16.867552</td>\n",
       "      <td>aaa</td>\n",
       "      <td>-15.752789</td>\n",
       "    </tr>\n",
       "  </tbody>\n",
       "</table>\n",
       "<p>3474709 rows × 4 columns</p>\n",
       "</div>"
      ],
      "text/plain": [
       "               Pos_Words  Pos_Importance          Neg_Words  Neg_Importance\n",
       "0                  great       -6.374487               like       -6.744460\n",
       "1                   like       -6.423118              taste       -7.018721\n",
       "2                   good       -6.501029            product       -7.029185\n",
       "3                   love       -6.541061              would       -7.041933\n",
       "4                 coffee       -6.732261                one       -7.241319\n",
       "...                  ...             ...                ...             ...\n",
       "3474704  prejudge coffee      -16.867552   phony chemically      -15.752789\n",
       "3474705    going pouring      -16.867552  phony cappuccinos      -15.752789\n",
       "3474706   going powdered      -16.867552       phony butter      -15.752789\n",
       "3474707  going practices      -16.867552      phony baloney      -15.752789\n",
       "3474708  starbucks chain      -16.867552                aaa      -15.752789\n",
       "\n",
       "[3474709 rows x 4 columns]"
      ]
     },
     "execution_count": 39,
     "metadata": {},
     "output_type": "execute_result"
    }
   ],
   "source": [
    "# Top features using NB and tfidf\n",
    "\n",
    "Important_features(TfIdf, NB_tfidf)"
   ]
  },
  {
   "cell_type": "markdown",
   "metadata": {},
   "source": [
    "## Conclusion"
   ]
  },
  {
   "cell_type": "code",
   "execution_count": 40,
   "metadata": {},
   "outputs": [
    {
     "data": {
      "text/markdown": [
       "****Final Conclusion for MultiNomialNB Model:****"
      ],
      "text/plain": [
       "<IPython.core.display.Markdown object>"
      ]
     },
     "metadata": {},
     "output_type": "display_data"
    },
    {
     "name": "stdout",
     "output_type": "stream",
     "text": [
      "+------------+---------------+--------------------+--------------------+\n",
      "| Vectorizer |     Model     | Hyperameter(alpha) |   Test Auc Score   |\n",
      "+------------+---------------+--------------------+--------------------+\n",
      "|    BoW     | MultinomialNB |        0.05        | 0.9209823342029133 |\n",
      "|   Tf-Idf   | MultinomialNB |        0.05        | 0.904010060518541  |\n",
      "+------------+---------------+--------------------+--------------------+\n"
     ]
    }
   ],
   "source": [
    "from prettytable import PrettyTable\n",
    "\n",
    "x = PrettyTable()\n",
    "x.field_names = [\"Vectorizer\", \"Model\", \"Hyperameter(alpha)\",\"Test Auc Score\"]\n",
    "\n",
    "####################################################################################\n",
    "x.add_row([\"BoW\",\"MultinomialNB\",best_alpha_bow, roc_auc_bow])\n",
    "x.add_row([\"Tf-Idf\",\"MultinomialNB\",best_alpha_idf, roc_auc_idf])\n",
    "\n",
    "####################################################################################\n",
    "from IPython.display import Markdown, display\n",
    "def printmd(string):\n",
    "    display(Markdown(string))\n",
    "    \n",
    "####################################################################################\n",
    "printmd('****Final Conclusion for MultiNomialNB Model:****')\n",
    "print(x)"
   ]
  },
  {
   "cell_type": "markdown",
   "metadata": {},
   "source": [
    "# ============================================================="
   ]
  },
  {
   "cell_type": "markdown",
   "metadata": {},
   "source": [
    "### Individual prediction"
   ]
  },
  {
   "cell_type": "code",
   "execution_count": 45,
   "metadata": {},
   "outputs": [
    {
     "name": "stdout",
     "output_type": "stream",
     "text": [
      "Prediction using BOW: positive review\n",
      "Prediction using TF-Idf: positive review\n"
     ]
    }
   ],
   "source": [
    "# Individual prediction\n",
    "review = \"\"\"Great, healthier alternative to the usual bhujia we Indians are used to having along with our tea or our beer.\n",
    "            Much less salt than traditional tea snacks as well. I love the variety of texture as well with the very \n",
    "            crunchy peas to soft cheese bits, the sesame seed coated snack to good old roasted peanuts. It is pretty \n",
    "            expensive though, at 600rs at a kilo perhaps the most expensive tea snack Ive ever had.\"\"\"\n",
    "\n",
    "print(\"Prediction using BOW:\", Individual_Prediction(BOW, NB_bow, review))\n",
    "print(\"Prediction using TF-Idf:\", Individual_Prediction(TfIdf, NB_tfidf, review))"
   ]
  },
  {
   "cell_type": "code",
   "execution_count": null,
   "metadata": {},
   "outputs": [],
   "source": []
  }
 ],
 "metadata": {
  "kernelspec": {
   "display_name": "Python 3",
   "language": "python",
   "name": "python3"
  },
  "language_info": {
   "codemirror_mode": {
    "name": "ipython",
    "version": 3
   },
   "file_extension": ".py",
   "mimetype": "text/x-python",
   "name": "python",
   "nbconvert_exporter": "python",
   "pygments_lexer": "ipython3",
   "version": "3.8.3"
  }
 },
 "nbformat": 4,
 "nbformat_minor": 4
}
