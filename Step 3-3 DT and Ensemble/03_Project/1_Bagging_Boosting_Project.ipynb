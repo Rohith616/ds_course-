{
 "cells": [
  {
   "cell_type": "markdown",
   "metadata": {},
   "source": [
    "<img src=\"data:image/jpeg;base64,/9j/4AAQSkZJRgABAQAAAQABAAD/2wCEAAkGBxMREhUSEhMVFRUXGBkXGBgYFhoXGRsWGBkeFxYZFxoaHykgGholGxgXITEhJikrLi8uFx8zODMtNyguLisBCgoKDg0OGxAQGzImICUvLS0tLSstLS8wLTAtLS0tLS8tLS0tLy0tLi0vLS0tLS0tLS0rLS0rNS0tLS0vLS0tL//AABEIAIYBeAMBIgACEQEDEQH/xAAcAAACAgMBAQAAAAAAAAAAAAAABAEFAgMGBwj/xABDEAABAgMEAwsKBwACAgMAAAABAhEAAyEEEjFRBUFhEyIyM1JTYnGBkZIGFBcjcoKhscHRB0JUc5PS8BWyFvEkouH/xAAaAQACAwEBAAAAAAAAAAAAAAAAAgEDBAUG/8QAOxEAAQICBwUHAwIGAgMAAAAAAQACAxEEEiExQVHREzJhcZEFFSKBocHwM1KxFKIjgpLC4fFCcgYkYv/aAAwDAQACEQMRAD8A7b0ky+YX4x9oPSPK5lfjH2jzWCPY90UT7fU6r33cVB+w/wBTtV6V6SZfML8Y+0HpJlcwvxj7R5rBB3RRPt9TqjuKg/Z+52q9K9JMrmF+MfaI9JMvmF+MfaPN4lGIie6KJ9vqdVPcVB+z9ztV6UPxEQXazrLBzvhQZmkYn8SJfML8Y+0UVrRLZRG5JBlqZAKCQQpDMpBN7EsTWhiJirOqYUqEm7Lny0JIYPKN+9VNViiXVjhnGQUKiG3ZnyJ1tv5ZTWFvZ1BInsj5OPAZ234ZG1dB6REV/wDjrLVO+FBg5pmQO2MT+JEvmF+MfaKO0pAkzCsSkqXKuncyhi0+WoNcLOz4cmNPlMiQJfq7r3/VlO5hpbKoq6oqUeCXUAceqJbQqGSBUvJG8cJcbf8ACZnZtAc4N2ZtJG87CU8bb/TOxdF6SZXML8Y+0HpJlcwvxj7R5rBGnuiifb6nVa+4qD9n7nar0r0kyuYX4x9oPSTK5hfjH2jzWCDuiifb6nVHcVB+z9ztV6V6SZfML8Y+0YzPxKlAPuK/GPtHnEabRhEjsiiT3fU6pInYdCDSQz9ztV6R6T5XML8Y+0HpPlcwvxj7R5fBFvc1D+z1Oqx900X7fU6r1D0nyuYX4x9oPSfK5hfjH2jy+CI7mof2ep1R3TRft9TqvUfSfK5hfjH2jKb+JaEkhVmWCMQVgEdYaPLUGo646/SBlzVkqMlIVOTuahcKihQN4zAC5FEcJqvtiiN2ZQ4ZHgsM8XTslhjeZ8AqIvZ9FhkCpfPE4S1nyBXQ+k6X+nX4x9oPSdL/AE6/GPtHPzUSSXSJIm3DdBMq5e3RN0kA3Aq4V0OQ1s+0WKXfCEpkuZjTAVJcIUhBTuTnNUzgVoNTRn/S0GUzDNxO8cL8brbDibOKp/S0SUzDNxO8cL/LI4mxXZ/ExAxsyw4fhjA4HCD0nS/06/GPtHKzp0qUkqSmUpTSAxAXigmZQ67wS+XbDSbLJvrRKEopMyaC6kqUEAeq3NzhjVNXFdUO+g0NjSXQz/UcBM4+QzKk0OigTMM/1HKZx8hmbLFf+k+VzC/GPtB6T5XML8Y+0eYLxPXERtPYtDB3fU6rZ3RRft9TqvUPSfK5hfjH2g9J8rmF+MfaPL4Ijuah/Z6nVHdNF+31Oq9Q9J8rmF+MfaErV+L8tCrvmqz74/rHnkUmluN91MU0jsmiMZNrfU6rPSuzKOyHWaMczqvWPTPK/Sr/AJB/WD0zyv0q/wCQf1jx2CMPd1Hy9Sud+khZL2L0zyv0q/5B/WD0zyv0q/5B/WPHYIO7qPl6lH6SFkvZR+MKGKvM5jBgTugYEuwJu62PcYw9M0r9Iv8AkH9Y888nZrSZqEiSpZXKUEzrl0pSF3iN0IDi8naxMWcmTZrzIFnMrdpomqWpN9MkKZG5lRvtcqCmpVQ5RmfR6O1xBbdxOU/W5uZyVLoUJpIl68J/6zXY+maV+kX/ACD+sZD8ZJf6OZ/IP6xxCJckIDokKliXJKDfQmYud6szUrVevgEmaDe3qQARgCd1qWlCbQlG4PMkBQRdkApuzd8l0EoKwnfBi5F0s4hdjR5yqfu5c7p24AiU1GzhZevLVdiv8YkJLKscwHIzAD3XYx9M0r9Iv+Qf1jkVLs4mgXZCkrtEtCyq6ppJQi8UkneByrfBqjGkK2SzS12chKZKgJMxayVI3UTkrUUNW/duCXgLpcvAINHlMsOGJxnP8edl2AIcKUy09eei7f0zyv0q/wCQf1g9M8r9Kv8AkH9Y8dMEa+7qPl6lX/pIWS9i9M8r9Kv+Qf1g9M8r9Kv+Qf1jx2CDu6j5epR+khZL2L0zyv0q/wCQf1gjx2CDu6j5epR+khZLubDLSpYCsCa1A+JwjcqbJ1Sy7coYsejmx7Ix0XxqevU/0IMLLxMd2U3HkMTxXuqtZ5vuGJ45Jzd5HNKx5Ywd24OVIxE6U3Fq8QxYdHNz2wnExOzHHqdU2zHHq7VObtJ5pXjG3o7R3HOkCfI5s/yDMdHIK7xyarCWcjGJEGy59TqjZc+p1Thnym4CnbljFj0c2PZGSLXJBBEtVC434zfk5UhGCAwwc+p1QYYOJ6nVWVo0iiY26JWogMHmYYGgusKue2NZtEnmlfyDb0dqe450RgiBCaBIT6nVQITWiQmBzOqdE+TzavGMx0cgrvGVcTOlNxan9oYsejmx7IUgidmOPU6qdmOPU6p3ziTzavGM/ZypGInyebV4xs6PX3jKqkEGzGZ6nVGzHHq7VWUoSlhTIIIBIdT4P0dqfCc6VFqwiy0Z+f8AbV8usfXqMVtqwghCTiOSqIkHDhx91nZUICFKUCohQAAITQg11nED/GJM+TzSvGMxsyCh27IJXEr9pObYL2t8ISi0NmTPPM5DiucG1iZ/k5Dim93lNxan9sYt1Z1jLd5PNK8YzPRyYdkJQQ2zHHqdU2zHHqdU5u8nml+MbOjsPeOTWfOZXNr8fX0dqe48qibHKIidnLPqdUbMcep1VpI0giWq8mWsH9wYOKVTkCO3ZGxOmmCm3R14ndKkkMS7P8dkU8EVmAwmZE+ZOqQwGG8T8ynjaJXNr8YzPRyYdm2N8jSqUJKEpWAcQJjO4ANbr1ZXiGW+qoIZ0Frr7eZJ90zoTXXz6nVOG0SeaX4xt6O0dx5VJ3eTzSvGMx0cnHbCUETsxmep1U7Mcep1Te7ym4tT+2MW6s6xInyeaV4xmejkUjs2wnBBsxx6nVGzHHqdU5akJuJUkFLkggqfghOwayr/AArzGluN91MdPP4lHtL/AOqdv0Hbq5jS3G+6mM0b6fn7lZKV9Hz9ymF7igJBlqWSlKiRMAqWJDBJajjt2Rq3eS3FKdsd01sztczc/CJ0pjLd+Ll4vltJp1U2QjHLY0ETM+p1XHaJifunhPkcyv8Ak1OehkUj3TnSN3kc0v8Al2J6GYV4hlVKCG2Y49Tqmqj4SnvOJHNTP5Nh6GZT4TnSfOJPNTMec1PhwMnHa8INBE1Bx6nVFTn1OqdE+S3FLdsd113QHa5ynLbW2xItEnmpmPOanPQyKR7pzojBBUGZ6nVFUfCU8LRI5qZ/J7PQ2K8QyqynTAEoyUiYEF3SJlC7mu8ci9dLYb3bSogiDDab/wAnVBYD/s6p/d5D8SvHndTu3AycdrxiJ0luLU7Y7prYB2uZuW2tthKCJqDj1OqKo+Ep3d5HMzP5NTlvyZFI9050N3kcyv8Ak6uhsV4hlVKAQCGOPU6oqD4TqmdIyQiYpKcAaVfVmw+UTGemD65fX9BtPzMEEN3hHIIbaAuw0Vxqev8A2o/IwsvEwzovjU9f+xI+YhZeMdNu+eQ917Vu+eQ/LlCQ9IspdlRKSFzHKixCR3gl8OrtyfToiUCuoBCQVdd3fEdrN2xFrmlSnWXDnXmXND2xkjvc+JsgZACbpGRM60mtxG6S4iRAlIi2WaM9z4mzBkAJmRtM5yaP6STaDKUjemf+SDUloA1bz7ucIlCpU4F03FDKgrQOCcKu4yiuSolg7DV94lU0HroAQwwDYZ4Qn6JgPgm05gmd/Gx07yHVpHApDRGNPgFU5gnPGe9mQ6fnNRaZBQWIbKMCkijVi0tCSuSlf5kkJOd1qP8A/b4RKtKkkqKCaKFXxUVEnbwvgItgRnvZOUyCQZXTGI4OHiF8gcVbCjPe3dmRMGVloxE8HDxDIFVJTGyzSFTFBKElRODAknqAhq1TzNoEUBegwfV/so9G8l9GCyykMgKmzE3iSWZJAIS7HZ2vEUumGjwg5zbTcJ+d+Sop1P8A0sIPc3xGwCfnMm6QXDf+JWsC9uJbJnV3Y/CKabKKSUqBBFCCGIO0R7NuyrxUHMxgCi6QGBJFdVSd87FmZ4o/K/RItMmZNuBM2ViQXvICQouWDsFOOo5xz6P2s90QNigSOInZO6w3jiLFzKL2290UMjNABxbOzmCTMTlaLPVeZRMBERHeXpU7o3837as8tgMV1qwiw0c2/duCrG7i23X1VivtWEJD3z5LO+5/ILKVxC/aT/1Xs+vZkpDkniV+0n/qva/w7RrUCTlF7BMn5gFgYLXc/YLKVLKiAA7lgNpwiyVLkyBvvWTMg10ZgtU1yp1waMQZcuZNIZXATsKg79wV3iE1lyTMe8wuddGd9n0jC+tGiuhzIa2wyJBcZA3i0NAcJlpBLjImQk6h5L4hZOQF4BkSZA4WyAIyMzzBe/5NDMZKMeDcIp13n+MZKscuci9L3inICXoSADvAKuXAbuNGiv3QkgqYEANTIUDDE07dcEpZKhcvXiX3uOL0GrVCmi1fpEtOc3EfzNMg4ZneyIvSbCruGqc5uI8wbCMzvZEG1aDLIUzG9EBJyi3ti7qpc4BypJduUSUrbLB+2Mf+Sx9WC6nq5/KUhgcGf4RohR3xGB4ZzE7iCQRdgQRNWsiPc0ODfW43EeRF+KqSIb0fo2bPVdlS1KPRS7dZwA64ZlSV2qbLQEsVKSka+ETU9V74R63YbOLMncZEsEICXLgFROKiAN8aPiMhGen080ZoAb4jgTYBmbrMs+Cy02nGjtAq+I4E2ATlMn8Lyu0+SlslpvLkKYY3Q/eA5ilIahj3SROWCdz37l1Oky7qjjXsG9YkazHD/iFodJQi1oTcvG6tIwvFyD10IOdIzULtZ0SJs4oAncRMW5EG0TwKoonabokTZxQBO4jPIg224f5XBQQQR212E5O4iX7S88kbG+Pdr5jS3G+6mOmnNuKMHvKydrqG2547W1xzOluN91MY430/P3Kw0r6P83uVnpMVl/to+XUPr1mEod0may/20ZZbCfp1CEgI5sIeELks3Vss8hS1BCQSpRYAYkmLaYiRZ96obtNHC33qgcnTVRGuoHXEaMG5SJ07BZIlJOsFYJWRkboZ+nC9tRMJv2gL3RaUmWSCL2ABN7EXQwbZGRxdFjFhMmCywkOc6w4W1Wg2yINYGcwqnGs6U7PUnQJlWl5ZSHs0kly4EtaWFGZYW78LHBhjq3L0KJ0kz5CVpYkFKi7sLx3JWKmGoh6HGK+dMVfddyWpCUgJKGcpYAXbrXmrvmwOyGBbilElMibNvBV9aX3qVjAywNlTFLoMRlUwPC4m2Zc5spFxBwkZAB98zfNIWESqWHmSLj/i0KpCCcA+vsjECL3SUzcZu6oSyZ0oLugs26JdYGwLCqZCME6bZnlAm+Vkkk1vXqOKUp2CNsOM6Ixr2tsIBvuzB4g2K5ry4AgKlix0VoO02okSJK5jYlI3o61Gg7TDnk/oxVvtkqUXTfu3lYm6hIvqrrISe0x7rZwZCNxs0hKZUo3HG+I3oUVbmGKzXNya1imlUswZNA8RE7bh8Niqj0ipIAWrwnSnkjbbMm/Os8xKRioMsDaooJYdcUcfSVntK0JIljdpYCiVK9VVyVByN/UnAABmJePJ/wAU/JxFmmS7RJTdlTwSUjBMwMSBkCC7bDCUammI6o8W4S/EjcUsGk1nVXBcLAIIBHRC2J7TXHrd8dbg4DMA/CCMdLtuymZn1XWwGF2ndBFcMeAcgkZuhdjonjU446n+gJhZeJhnRbbonBn1s3xp3wsrGOo3fPIe69q3fPIf3J/Qq98pOtSSkZ3iGSO9u+FZ6KnN2aNUtd0uMYtJstM8XkkBesYOcSQBrc4d2zHFdsIpiOMmuABORaTInJrgbXWBtUTvmM0Q7GIYh3SACciJyJyBnIm5shO+xB6AqZn+X/uNYAYnDINDa7EsEJUkjVQF/jiY3SbCUj1hCUu4cMo6qPjR9lIl1JgwwDWFtwFpNpMmgTrG+xtpF+BRt4TADWFt0rZ2ndAnWPACZxwWxM0y5N4sSpf5gD+XaDyvhCf/ACK8keBP9Yxt9qvlhwQGHUMIWgo9GaWl0RorOJJsBlkJ/wDy0AHCYJFhUwIAql0RomTM2AyyF2DQAeIVlZtMqSFBpe+AHAThXUA0erWCZusqTMQRwBiLwqACKEVBDR4vHQ+THlVMsu8UL8ol2cuDrIP5TsjJT+zGvbXgNAdOZsAnZL8XTXO7V7LMZlejgB4JNw8UxI8LpSn+V6Eq+khyozGS5SVLDA13qUFhwqRq0vawizWlSgQFBSQ6VJJKpSUhgoA4/IxWf+aWW8ZjTnKQlmDMCTysa4xyPlL5SrtZCWuSwaJBftUdZjBA7PjRIgrsqgSmTzBkBfhnICa5NF7LjxYrdowtAkSTZiDIC/CQtkAVRrLkxjBEx6lezJTui8V/trz5OyK21YRYaNHD9hXy6j/tcV9qwhIe+fJZ33P5BbJXErx4Sc2wXsb4xrs9tUjAJI6SUk99TGUriV4PeTk7XVdrfCFIsDGumHAG3ETwGa5wa10w4Ttx5BdDP0gq0ylgpAKbpASlnSkFFdZYrTFDkaP8q6422G1GWoFnBoXwINK7CIfmaPCzfk74GpTisayCE1pSo+Ec+GIdBJZYyGSC02BoNUNLTgJkBwJkHE1bx4szQyjEtuYbRkLAJE3C6YNxnK+9KYzuu6p0uGLMo5sMRGpNCCCQX1UbIg/7CG/MSpS96pJxSkJJqTwalwAHrXCGZVlTKZc4hwKIpeJxTfGqrjOLn0iDCk0GZwaJTNlzW5XTNjW3ucAE5jMYAJzOQvNlwF0sJ3C8mxTbrQqUiUgBLhF4uAWvFRAqC1LvfCX/ACS+SjwI+0L2q0GYorOZPf8ASNUNR6IxsMbRrS4zJsBtcS4yMrpky4JoUBoYK4BNpNgvJmfLJdN5P+UJTNkJmJlhCZqVE3ACCSASCBgH1NhHqdokTHKkLSL13EVoasp2DjYY8GEdx5N+XhkoEuekrADJUOEBqBJLKHaI5vaPZZkH0ZonbMSFszWnznf6XSXM7R7Pc6T4DRPEWW2znzn55LuZMy6thuhAUb7CZMBJTUb2WzvdOMc95eWoIsKJZcGYoMCGLJBJJBqPyj3oxmeXlmlhZlInLUpZUyykAKIAZwosKYARwendMzbXNMyYdiUjAJyEUULs+KYzXvaWhsjbeSJysvlM45Kih0CKYzXvaWhsjbeSOHn6BVsEEEenXok3O4hHtLzyT2RzOluN91MdPOHqZftK+SNn17tfMaW433UxijfT8/crDSvon/sfyVs0oay8eLl4vlqcCnVTbGFm0gtAAAQwL1lSycXxKSfjE6TZ5bNxaHZsWq7a+usJxy2sa5gDhPmuQ0AttXT6R0qu2SJq1BAWJqVkISEi4pJQ9KqIN2pc1hW2TbQhFltK5iFPxYvhSkCUqgWk4Oe+K7RttMlbsFJIKVJOCkHhJP31ECHlaKCiJkh5yHBKBWYkPVK0JrsvJcdUYNnBozqrgAz/AIzAkJtquZM2NJInaQHTq4KmqyHYRZb+LRPD4FlbbcifOXMtNSqWLm5M26FIKAb2TkHW8VCWoyjecghmYfV3/wA8OnR6lqVdlLSp94gS1KoTUE4hg2ovFlMIkhC7QJe6S0BCJSAkF0uUrtAGursd8qj0iwPhUcNYy0yADARg2wACYAt8TgaovJvUgtZY23h5Zfk3YrTpq2KlmVLAQ6JSEqvS0KIUXWQ6kk0vs2wxW/8AKTOTL/hl/wBIXnzjMUVKLqUSSc3Lk98a4ug0VjIYa8AnEyFpNpNonIkkjIFOyE0NANq7/wAgPKlRtlmlTRLSgBUtJCEpN6Y5S5AoCogMGFY9Zn2ScFEy1puqmXylilTXQkgLcjEA8HZHzQlTVEeoeTP4rmWgS7XLVMKQAJqGvEdNJYE7QeyMVKoJHigNHEAZkmeVszO5ZqRRzOsweS7iRabt9IE4ouzEsETpoMy9+UiU2N8YnGOL/GW2pEmyWf8APxhGsAJuB+slXhMbp/4o2aRK3Oyyp0xTqIM5VAVqKi5vFRAJwp1x5jpjSk21TVTpyry1Gp1AagBqAGqJotFftA9wkBneT8vSwIDq9YiQCSgEEAjrhdFPaafdlu+Ot3wGZJgiNMD1yuv6DID5CCK4e4OQSM3Quw0Xxqevb9CDCy8TDWieNT1/7UfkYVXiY6jd48h7r2rd88h+XLGMkLIqC0YwRYDJWCxOS9JTEhgtQ2Xj9DC8yepWJPaY1wRUyCxhLmtAJvIAE+earbDYwktABN8gBPnmpiIIIsTqYd0fa0ISpK03rykqGxsR2vjqcwjEwr2B4kfmKR7A8SPyVquUWyQSxSALwN64nguNQLOLp670VU9YKnAYU1NgGJYYOattjVBCMghhmClZBDDMEqYIiCLVandFnh+wr5dY+vUYrrVhFjow8L9tWeWwGK61YQsPfPkqH3P5BbJXEr9pOeS9rfCEoclcQv2kfJez69h1JxczHn7Bc9l55+wRGaFlOBIjCCLE6dOlprNui2yvq+8KKWTiSYxgiuHCZDBDABO+QA/F6VjGsnVAE8hL8Igggh0yIsbDbUJRcWh98k9gZx3Bn/8A2K6CFewPEikewPEirhFskmhSkVxujIMWehcGmBvaorLSsKUSkMCaCNUEIyCGGYKhkINMwiCCCLlYm53Ey/aV8kbfoO3VzOleNHspjp53EI9peeSdjfHuo/MaW433UxijfT8/crDSvo/ze5WzSmMvHi5eeW0n7bIRh3SYrL/bR8uofXrMJRzYW6FyIe6ERkiYQXBIIwIoYxgh06eXpi0EXTOmEZGYsjueESXxgghIcNkMEMAAOQA/CVrQ2xolyRBA0NSdHTVi8Em7yjvUeJTJ+MM5waJuMuakkC9Z6NnolqJmIvAhhQKYuDgSHcAjH80OyNIyQQTJchKQWCarreVsrdIbIjXFlofQHnKUoM2Sm4TeCVJXMIxGGIDqq+vW0dbYdBWWzKQAi8ouylgKLpZ2GAoSaDVHn6f27Q6O8w7Xv+1s7gJ2mwSlbZMgYLHFpEMEi85BcKuahLLXZ1gKBIdAAVvUpoTiDdUpxgVa4V0jb5c1KrssBRUVE3QMSVYg5EJZmN0Ghj1OdaZS0lKwFJIcgpcMz4a457SnkhZ5pO5PKUxOaAQpiCG3tXZi29MYaL/5JBJ/9qG6HxmXDzsB5yDp38q2Ups/GCF5xAI6K22JCU7iZki+ggX0zCXAvkuQnF1jbTYIR03ojzYoAmypl5IVvFXilwCyxqNY9PDpUN5aAb7r7QMbss5La2K1y0aYPrldezIZKV8zBE6aPr1u+Ot3wHKAPwgiyHuDkEzN0Lr9GcanVXZ9SPmIWXiYa0RxqccdT/QEwqvEx1W755D3XtW755D+5YwQQQ6dEEEECEQQQQIRBBBAhEEEECEQQRMCE3o5t+7cFWLYtTHX8Yr7VhFloz8/7a88tkVtqwhYe+fJUPufyCyk8Sv2k5cle1/h2jWpDsniF48NObYL2N8XhKLmY8/YLntvdz9giCCCHToggggQiCCCBCIIIIEIggggQiCCCJQm5zbkjB7ysn4KG254/eOZ0txvupjpp3EI9peeSeyOZ0rxvupjFG+l5+5WGlfR/mP5Kz0may/20ZZbCfp1CEoe0oay8eLl4vlqcCnVTbGOjrQZZKrl4U70qCxqzSHGRMcxhNSxchp8KVSgqLAEnIB8KmC4WdqYPqeLqZpgjgy1BJFCTVyi5doOBUm6NdXjM6bUG9UQkAkVLsSzuRUgpug5AprC14n2+oUVnZeq0DQYFnTPXaJSQpV24FX1gM4Kgh2JY0LdcLBVnT+WZMO0iWnuF4nvEKTkkF1Ah6hw1HIpscEdkW6dGWe6hW7h1B7pIDG6VMo1bUHbGEILd95MybhLkLLbM52qDZvFbbAq+m8gy5TEhkodRZN4XVqdRUSGYF9hiv0wllJO6LmEpqpRLuFqTR6gUBY1rDtn0ZIqozLyUgk1CaOlKXqakqOGF3bGnzeQJkrfXkKDr34FakJLcFhdBzqzQrKjX1m/i27O+aUSBmPwqpEwgghSgRgRQx0WjPLKdLYTAJyRhfqodSsdQxfCK222OUhBUld5V4AAKSXFTepUCnBNQ9YrYaPRoFLZVjMDhxF3I3jyIKdzGRB4gvQJ3ljKmJEuRIdagQyrqUhxWoODdUUOlJ1tnB1ulBDhKSlKGa8wAO+NXYuaxz8qYUkKSWI1wyjSUwAgEVADsLzJDCuOFIx0XsijUQ1oLBO+bpuI5Emzy85qpkBsMzaOtqYToO0X7hRdNHchgFKuAmuF4F8mhBcogBWokpzqlif+wjeNJTA5CyCSCWYOQXcsMduvXC6ppIYmjktqcs5+A7o6TNpPxEeqvFbFM6XbdlMzPqZsBhdp3QRlprj1u+Ot3wGZJ+MEEPcHIIZuhddoxt0S7M+tm+NIXXjDOix61PXt+hHzhZeJjqDfPIe69q3fPIf3LGCCCHViIImCBQogiYIEKIImCBCiCJiIFKImIggQnNG/n9hXy6j/ALXFfasIsdFnh+wr5dY+vUYrrVhCw98+SzvufyCzlNuK8HvJyfgq7YThyVxK/aTnkva3whOLmY8/YLnsvdz9giCCCHTogggiUIggggQiCCCBCIIIIhCIIIIEJyfxMv2l/JOz6ns18xpbjfdTHTTz6mX7S/8Aqjb9B1nVzOluN91MY430/P3KxUr6P8x/JWek2eWzcWjBsW1tr66wzo3SUxCUhMoLuKJSSkliTgO0im3VC+lcZf7cvPLaT/tUTo3SsyzhQQ2+Z3D4Ozd79aRlHJq1oYsnz+ZLiymxPydKTgQFSyQRRIvAkFIAKfBqzMbfPrQH9UapCgQC928qoNSazmOvDW8I/wDNrVRYBSQymoSLt062BIxIEE7TsxSlqZIvKCmrS6QUsQQaECuyKzCP2hLs+ASVvnFcxSlJukmoZmIphnDWjJElaTuqilV4MxAJDFw6t6Os/WEbROvqUsgAkuyQw7BGuNFWbZCzkrasxK5XSbLZwgPNU5qReSBwXGo1/K2o5hnibZLOEuJiiWUWvJxZRSnPk1ZqkUimghdmfuPooqHNbpwSAli5KXVsVeUG7gk9saYIItCdEEEECEQCCARIUp3TA9cvr+g2D5CCI0uXnK69h1DJSh8TBFUPcHIJGboXY6L41PX/ALUfkYWXjDWjE+tTXXs+pA+IhVeJjqt3zyHuvajfPIe6xgiYIsViY0dZRNmJl3gm8QHIJbsEPSdBKUQkKS5DgALNCWSCyWD7aZtFXInFCgpJYguDtENS9KzUlwoatQYXcGGAIcsRhGaK2KT4CLsc7eHySzRWxSfARdjnbw5LcNDKYl0hgCATUm5fIDBsOqDRujN1RMJUd6KAB3IBNNZwAYYO+AMLnSUw/m6qDk3MuTSCyaRmSuAdb4OxwdNKFqUhXNjVTIidkvfD29krmxqpkROyXvhlwK2WDRpmhbFihiaUA1knUA3xhqX5PTSlCmDKbUqgKSsHCu9SVMl+8xXWe2rlklKsWJZtWzLZhG5OlZrJqmhobqXZsCWchiQxpA9saZqkSwny1+YIeI1Y1SJYTnlr8wW+boRaQrfJpeu4gqASFkpcUZKgWLHtpFWYsp2l5hl3GSHKiVBKRRQSCEsN6GTqZ3itMWQREl45eXzl8sFkEPA8fp81vvwERMEEXK5OaMPD/bVnlsBiutWEWGjm37twFZYttivtWELD3z5Kh9z+QWcniF+0j/qvZ9ew6k4ckn1Kx0k5cle1/h2jWnF7MefsFz23u5+wRBBBDp1Y2DRZmy1LC0g30IAL1vhRvOzABj3nY+yXoVRTfBdJJS4SRViQQSACDdVh2tCVmti5bhBZyDgDUOxDihqe8xtGk5oASCGGG9D0BAcs5ACiwODxkeI0zVIlh0tw6LO8RZmREsJ8rcM/hU2rRykJCnSagEAlwSlwC4GIyfCN2kNFbnKlzASbwchqCgIcjA1wocDgRCc22LUCFFwSCaDFIYfCNkzSUxSNzUUlNCzByQGSSWckCjvgWiasXw2jjx9PNTKL4bRfbx9PPyTKNCrUmWpLes4L6yCxbMAAEnpRsPk7MZRaiQ/BVUNeLb2lK1bLGE0aTmpCQF0S10MCzOaONp63rANKzN9wN9iLiGBZnSPyltYaFqx53iXLjp6zusktWPOxw+HT4MIt+j1SgHKS6iksTQhipJcCocYOK4wnDekLeqcpywDkhIADFTPgA5oKmtBCkXwa1Xx3q6HXqivfiiCCCLU6cnH1Ev2l55I2N8e6j8xpbjfdTHTTm3JGd5WWSO3P/PHM6W433UxijfT8/crDSvon/t7lZ6TFZf7aPl7I+vWYSh3SZrL/AG0ZZbCfp1CEo5sPdC5LLkRaL0Q0tM0TEEGVuhDKBT6xUpKODUkp1Ux1MTVxZS9LrShMsJQyQAOEDRW6CoL8N1bHOcREr2Vc7eSH1sFvV5OzQQks5CSCQpIZSlJqFpChVCtWraIVGjTusuVeBC7t1SQSClRa8AQFUrQgGkMnygmO91ANMElIoSrAFsVKO14XTpQhSFBCHlgBB39ACSBwq1Jxzitu2/5Su9Zf6SDaYrLSuizJnbkl1A3bpYb4qALAglKg5a8CQcRjDE/yZnIUEm7UgfmGKrhLKSDdSpnLNvgQ4jRatMqmlBWiXvAyboKLodwE3SGAJJbac4zVp6YVKXcQFKSpCilJS6VcJ7pDk547YP40hdPHj6/Cjx2SUo0Eu4JijvChagbqhVCCsDfAOCBilxEStBTTMMujhcyXQLVvpd0K4CSW34q3dEK07MKQm6hgm7QEOLm574gureb0EuQIzV5QTCXKJRoQQUOFXiFKKgSylEpSbxcukViP4/BR/EW1Hk1MUUpSpJUUlSwy94RNMq6WSX3yTUUoXoHNLOlFCilQZSSQRkQWIi0Tp+YPyoOIN5N57yt0N68Te37qD4ElmeKtanJLM5dhh2Q8PaTNdM2tPxLCAQQCLwrU9po+vW7463fAcoA/AQRjpdt2UzM+pmwHJp3QRXD3ByCRm6F1lkmlKgpOO1/pWNirUjmx3q2p5W1+yIgjqlgJmva1ATNbfOUcyjF8V5u3C7I1C2S+aT3q2J5Wx+2IgiTCaM+p1UmG0Z9StnnkvmUd6+l0tvwESLUjmUd68weVsI947GIIWoJf5KYQm8ep1Ws2pGG5h8HdWRS/C2v2Rs86RzKO9eb8rKkEEOIbTn1OqXZjj1OqgWpHMo715DpbPjGXnaOZR3r29LaPCNrkEJUHwlNsm8ep1UC1I5lHevMHlbCPeOxtZtSG4pPerIp5W1+yCCCoOPUo2TePU6rZ5yjmUd6835XZEC1I5lHevZ0th74IIYw2jPqdVAhN49Tqp8+SHuywmhFCrA3ul1eBO16604QQRLGhrrFXEYGtdJFntN1JQUhQJBq+IBSMCM37BtfMWxHMp71ZhXK2Ee8YIIsbDBt5Ylc7ZtNvuVHnKG4pPer2eV2xPnUvmU96syrlZFuyCCGENpz6lGzHHqdUC1I5pPevo9LYfEdjBtSOaT3r6XS2jwja5BE7JvHqdUCGJ49TqjzuXzKe9WYVysgR7xiPOUc0nvV7PK7YIIgw2jPqUbMcep1U+dy+ZT3qzKuVkQPdEAtSOaT3r6PS2HxHYxBE7JvHqdVOzHHqdUG1I5pPevpdLaPCNrnnUvmU96swrlZBu2CCAwm8ep1UbMcep1Uecobik96srvK7YPPEcynvVmVcraB7oiYIXZj4So2Y49TqsLRaLyQkJCQCSwKsSAk4k5P29Tc3pbjfdTBBGakCUOQ4LPTQGwpDMe62eeg3b0pCilKUuSuoSzOysg1MzGO7p4O4y8ndeLM/CzD9sEEcwMHHqVxywKBa0cxL75mZVy9oHuja8i0o5mX3zOj0+ifEdjEETsxx6nVFQINpRzKO+Zt6e0eEbXPO0cxLxfGZm7cPIN2wQROzHHqdUVApE9LNuMvBndfJd+FsfrOUR52jmJeeMzMqbh7QPdG14giKg49TqoqhAtiOYl98zZ09h8R2NJnp5mX3ryUnldvujbBBBsxx6nVTUCPPEcxLxfGZm7cPIN2xAtSMNxRgzuvIB+FsfrMEEFQcep1RUCnztHMS88ZmZU3D2ge6Nrx54jmJffM2dPYfEdjEEFQcep1RVC1Wq0GYorOJxqT8SSfjBBBDASEgpAkF/9k=\" width=\"450\" height=\"550\">",
    
    "\n",
    "## Understanding the Business Problem\n",
    "TalkingData is a Chinese big data company, and one of their areas of expertise is mobile advertisements.\n",
    "\n",
    "In mobile advertisements, click fraud is a major source of losses. Click fraud is the practice of repeatedly clicking on an advertisement hosted on a website with the intention of generating revenue for the host website or draining revenue from the advertiser.\n",
    "\n",
    "In this case, TalkingData happens to be serving the advertisers (their clients). TalkingData cover a whopping approx. 70% of the active mobile devices in China, of which 90% are potentially fraudulent (i.e. the user is actually not going to download the app after clicking).\n",
    "\n",
    "You can imagine the amount of money they can help clients save if they are able to predict whether a given click is fraudulent (or equivalently, whether a given click will result in a download).\n",
    "\n",
    "Their current approach to solve this problem is that they've generated a blacklist of IP addresses - those IPs which produce lots of clicks, but never install any apps. Now, they want to try some advanced techniques to predict the probability of a click being genuine/fraud.\n",
    "\n",
    "In this problem, we will use the features associated with clicks, such as IP address, operating system, device type, time of click etc. to predict the probability of a click being fraud.\n",
    "\n"
   ]
  },
  {
   "cell_type": "markdown",
   "metadata": {},
   "source": [
    "# Project on Bagging and Boosting ensemble model:\n",
    "\n",
    "\n",
    "**The data contains observations of about 240 million clicks, and whether a given click resulted in a download or not (1/0):**\n",
    "\n",
    "The detailed data dictionary is mentioned here:\n",
    "- ```ip```: ip address of click.\n",
    "- ```app```: app id for marketing.\n",
    "- ```device```: device type id of user mobile phone (e.g., iphone 6 plus, iphone 7, huawei mate 7, etc.)\n",
    "- ```os```: os version id of user mobile phone\n",
    "- ```channel```: channel id of mobile ad publisher\n",
    "- ```click_time```: timestamp of click (UTC)\n",
    "- ```attributed_time```: if user download the app for after clicking an ad, this is the time of the app download\n",
    "- ```is_attributed```: the target that is to be predicted, indicating the app was downloaded\n",
    "\n",
    "Let's try finding some useful trends in the data.\n",
    "\n",
    "    **1. Explore the dataset for anomalies and missing values and take corrective actions if necessary.**\n",
    "\n",
    "    **2. Which column has maximum number of unique values present among all the available columns**\n",
    "\n",
    "    **3. Use an appropriate technique to get rid of all the apps that are very rare (say which comprise of less                than 20% clicks) and plot the rest..** \n",
    "\n",
    "    **4. By using Pandas derive new features such as - 'day_of_week' , 'day_of_year' , 'month' , and 'hour' as                  float/int datatypes using the 'click_time' column . Add the newly derived columns in original dataset.**\n",
    "\n",
    "    **5. Divide the data into training and testing subsets into 80:20 ratio(Train_data = 80% , Testing_data = 20%) and\n",
    "         check the average download rates('is_attributed') for train and test data, scores should be comparable.**\n",
    "\n",
    "    **6. Apply XGBoostClassifier with default parameters on training data and make first 10 prediction for Test data.          NOTE: Use y_pred = model.predict_proba(X_test) since we need probabilities to compute AUC.** \n",
    "\n",
    "    **7. On evaluating the predictions made by the model what is the AUC/ROC score with default hyperparameters.**\n",
    "\n",
    "    **8. Compute feature importance score and name the top 5 features/columns .**\n",
    "    \n",
    "    **9. Apply BaggingClassifier with base_estimator LogisticRegression and compute AUC/ROC score.\n",
    "    \n",
    "    **10.  On the basis of AUC/ROC score which one will you choose from BaggingClassifier and XGBoostClassifier and              why?What does AUC/ROC score signifies?\n",
    "    \n",
    "    **11.  What is the accuracy for BaggingClassifier and XGBoostClassifier?()\n",
    " ### All the Best!!!"
   ]
  },
  {
   "cell_type": "code",
   "execution_count": null,
   "metadata": {},
   "outputs": [],
   "source": []
  },
  {
   "cell_type": "code",
   "execution_count": null,
   "metadata": {},
   "outputs": [],
   "source": []
  }
 ],
 "metadata": {
  "kernelspec": {
   "display_name": "Python 3",
   "language": "python",
   "name": "python3"
  },
  "language_info": {
   "codemirror_mode": {
    "name": "ipython",
    "version": 3
   },
   "file_extension": ".py",
   "mimetype": "text/x-python",
   "name": "python",
   "nbconvert_exporter": "python",
   "pygments_lexer": "ipython3",
   "version": "3.8.3"
  }
 },
 "nbformat": 4,
 "nbformat_minor": 4
}
