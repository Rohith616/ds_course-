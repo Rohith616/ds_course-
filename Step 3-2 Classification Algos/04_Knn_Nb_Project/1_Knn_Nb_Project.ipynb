{
  "nbformat": 4,
  "nbformat_minor": 0,
  "metadata": {
    "colab": {
      "name": "knn_nb_project.ipynb",
      "provenance": []
    },
    "kernelspec": {
      "name": "python3",
      "display_name": "Python 3"
    }
  },
  "cells": [
    {
      "cell_type": "markdown",
      "metadata": {
        "id": "t7-X1JDAMqo1",
        "colab_type": "text"
      },
      "source": [
        "# Introduction",
        "\n",
        "Naive Bayes is a classification algorithm which is based on Bayes theorem with strong and naïve independence assumptions. It simplifies learning by assuming that features are independent of given class.This paper surveys about naïve Bayes algorithm, which describes its concept, hidden naïve Bayes, text classification, traditional naïve Bayes and machine learning. Also represents augmented naïve Bayes by examples. And at the end some applications of naïve Bayes and its advantages and disadvantages has discussed for a better understanding of the algorithm.",
        "\n",
        "# Biomechanical Features of Orthopedic Patients\n",
        "\n",
        "In this project we are provided with multiple instances of orthopedic parameters and we are also provided with their classification as **Normal** or **Abnormal**\n",
        "\n",
        "![img](https://user-images.githubusercontent.com/67789350/105318173-2d45f880-5be9-11eb-9acf-58bf5d130fbc.png)\n",
        "\n",
        "To get started , first download the csv file from this [link](https://drive.google.com/file/d/1uPHmxoTvoemq8X54Y5GehYy13_J404Zn/view?usp=sharing)\n",
        "\n",
        "We have to implement K Nearest Neighbour, the algorithm is used to classify points according to class of their K nearest neighbour point\n",
        "\n",
        "And also on the the same dataset Implement a Gaussian Naive Bayes based classifier\n",
        "\n",
        "### Now that you have the dataset , let us get started !\n",
        "\n"
      ]
    },
    {
      "cell_type": "markdown",
      "metadata": {
        "id": "MiPdHMNyO40s",
        "colab_type": "text"
      },
      "source": [
        "# Section I : Accessing the Data\n",
        "\n",
        "- Make a pandas DataFrame from the CSV\n",
        "- How many variables does the dataset contain?\n",
        "- What is the data about?\n",
        "- What are we trying to predict here?"
      ]
    },
    {
      "cell_type": "markdown",
      "metadata": {
        "id": "xLerJKl5Q6bm",
        "colab_type": "text"
      },
      "source": [
        "# Section II : Exploratory Data Analysis\n",
        "\n",
        "- Perform some descriptive statistics and make a note of your findings \n",
        "- Plot appropriate graphs to understand the relation between the variables.\n",
        "- Point out any observations and comment on the strength of the relationships if any."
      ]
    },
    {
      "cell_type": "markdown",
      "metadata": {
        "id": "1cmw0hSgSkaW",
        "colab_type": "text"
      },
      "source": [
        "#Section III : Prepare data for Training!\n",
        "\n",
        "- Make a new column `symptom_class` with the abnormal rows as 1 and the normal rows as 0, drop the `class` column\n",
        "- Split the entire dataset into independent features and symptoms as the response variable\n",
        "- Normalize the variables.\n"
      ]
    },
    {
      "cell_type": "markdown",
      "metadata": {
        "id": "-Hgd2l7sXW8M",
        "colab_type": "text"
      },
      "source": [
        "#Section IV : Training with KNN\n",
        "\n",
        "- Use `train_test_split` from `sklearn` and split the parameters and classes into train and test sets \n",
        "- Starting with **three** nearest neighbours , train your KNN model and make a note of accuracy and other diagnostics for both training and test sets.\n",
        "- Try with increasing the **k** value and check if there is any improvement in model performance. Use different value to arrive at the optimal value of **k**.\n",
        "- Evaluate your final model using appropriate metrics for classification and comment on them."
      ]
    },
    {
      "cell_type": "markdown",
      "metadata": {
        "id": "tHvR1btyYyx4",
        "colab_type": "text"
      },
      "source": [
        "#Section V : Training with Naive Bayes\n",
        "\n",
        "- Now , fit a Naive Bayes Classifier to the same data. \n",
        "- Train a NB model with default arguments and make a note of training and test metrics\n",
        "- What are your inferences on the relative performance between the KNN and NB based models? \n",
        "- Which of these models would you recommend and with what reasons ?"
      ]
    },
    {
      "cell_type": "markdown",
      "metadata": {
        "id": "tXj7vZe0Z4o6",
        "colab_type": "text"
      },
      "source": [
        "#Section VI : Wraping it up ! (This is optional but good for... like spinach...)\n",
        "\n",
        "- Which of these models performed better ? \n",
        "- Test these two models on other datasets as well !\n",
        "  - To get started you could try these on \n",
        "    - The IRIS Dataset\n",
        "    - The Breast Cancer Dataset\n",
        "- What other datasets these two models would perform well in?\n",
        "\n"
      ]
    }
  ]
}
