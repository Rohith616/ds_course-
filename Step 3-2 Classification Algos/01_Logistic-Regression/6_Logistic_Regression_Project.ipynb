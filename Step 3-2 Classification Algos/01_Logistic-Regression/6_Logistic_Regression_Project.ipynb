{
 "cells": [
  {
   "cell_type": "markdown",
   "metadata": {
    "colab_type": "text",
    "id": "pdq8Axf-C1Kh"
   },
   "source": [
    "# **Project Introduction**\n",
    "\n",
    "In this project you will be provided with real world data which is related with direct marketing campaigns (phone calls) of a Portuguese banking institution. \n",
    "\n",
    "The classification goal is to predict if the client will subscribe a term deposit (variable y).\n",
    "\n",
    "![img](https://www.esa.int/var/esa/storage/images/esa_multimedia/images/2014/06/portuguese_bank/14568311-1-eng-GB/Portuguese_bank_pillars.jpg)\n",
    "\n",
    "We are a data science team in thier offices and it our task to make the most sense of the data provided by the company\n",
    "\n",
    "![img](https://www.expatica.com/app/uploads/sites/8/2017/05/banking-in-portugal-1920x1080.jpg)"
   ]
  },
  {
   "cell_type": "markdown",
   "metadata": {
    "colab_type": "text",
    "id": "E54UZbgMC7OT"
   },
   "source": [
    "# Let us Get Started!\n",
    "\n",
    "As you remember our task is to explore our Bank's Marketing campaign and create meaningful insights from the data\n",
    "\n",
    "The step one should be accessing the data \n",
    "\n",
    "Our data has been curated by [UCI Machine Learning Repository](https://archive.ics.uci.edu/ml/index.php) which is an excellent datahouse of various real world problems! \n",
    "\n",
    "We are going to use the Banking Data described by our friends in UCI [here](https://archive.ics.uci.edu/ml/datasets/Bank+Marketing)\n",
    "\n",
    "The data can also be downloaded from the Tech I.S. [Github](https://raw.githubusercontent.com/madmashup/targeted-marketing-predictive-engine/master/banking.csv) Repository \n",
    "\n"
   ]
  },
  {
   "cell_type": "markdown",
   "metadata": {
    "colab_type": "text",
    "id": "GcXcLWmgE1sL"
   },
   "source": [
    "# Good Start!\n",
    "\n",
    "Now that you have your dataset , let us go through the problems one by one!"
   ]
  },
  {
   "cell_type": "markdown",
   "metadata": {
    "colab_type": "text",
    "id": "RH_tEEQjWpC1"
   },
   "source": [
    "# Section I : Data Loading\n",
    "\n",
    "Part I : Load the dataset into the notebook <br>\n",
    "Part II : Explore and make note of Attribute Information from UCI <br>\n",
    "Part III : What is the significance of the `y` column in the dataset and what are the value counts of the `y` column? <br>\n",
    "Part IV : What is the ratio of the two classes ? Are they balanced ? <br>"
   ]
  },
  {
   "cell_type": "markdown",
   "metadata": {
    "colab_type": "text",
    "id": "cbOevzTEiLaN"
   },
   "source": [
    "# Section II : Data Cleaning \n",
    "\n",
    "Since this is real world data , A good practice is to make sure the dataset is devoid of any nuances \n",
    "\n",
    "Part I : Get the `dtypes` of all the columns of our dataset <br>\n",
    "Part II : Refering to the UCI data description , explore the data in your columns and check if there are any errors <br>\n",
    "Part III : Make note of the deviation in the dataset compared to the description provided by [UCI](https://archive.ics.uci.edu/ml/datasets/Bank+Marketing) <br>\n",
    "Part IV : Using Data Cleaning principles you learned from [Pandas Tutorial](https://github.com/Tech-i-s/data-science-course-wiki/tree/master/common/step%201-4%20(Pandas)) figure out the best ways to get rid of the dirty data \n",
    "Part V : Print the cleaned data\n",
    "\n"
   ]
  },
  {
   "cell_type": "markdown",
   "metadata": {
    "colab_type": "text",
    "id": "tLat-RKjwp43"
   },
   "source": [
    "# Section III : Exploring data with Group by\n",
    "\n",
    "In this section , we must create some primitive EDA\n",
    "\n",
    "Use the `groupby` function on the mean of the following columns :\n",
    "\n",
    "I : y <br>\n",
    "II : job <br>\n",
    "III : marital<br>\n",
    "IV : education<br>\n",
    "\n",
    "Make a note of what you learn from the outputs !\n",
    "\n",
    "\n"
   ]
  },
  {
   "cell_type": "markdown",
   "metadata": {
    "colab_type": "text",
    "id": "o8a7aMTxUJOU"
   },
   "source": [
    "# Section III : Exploratory Data Analysis\n",
    "\n",
    "Let us put Matplotlib to use !\n",
    "\n",
    "Part I : Create bar graphs to the frequency of purchase with respect to the job , martial etc <br>\n",
    "Part II : Also create stacked bars to same data columns with respect to <br>\n",
    "Part III : Explore the age column using a histogram and note down your observations"
   ]
  },
  {
   "cell_type": "markdown",
   "metadata": {
    "colab_type": "text",
    "id": "_65Q3sz9UU_4"
   },
   "source": [
    "# Section IV : Categorical Variable Encoding \n",
    "\n",
    "Part I : Create dummy variables for your categorial variables <br>\n",
    "part II : Explore your new dataset with these new dummy variables !"
   ]
  },
  {
   "cell_type": "markdown",
   "metadata": {
    "colab_type": "text",
    "id": "FSW-nsJsqAIj"
   },
   "source": [
    "# Section V : Preliminary Training \n",
    "\n",
    "Part I : Import your [Logisitc Regression libraries](https://scikit-learn.org/stable/modules/generated/sklearn.linear_model.LogisticRegression.html) <br>\n",
    "Part II : Split your train and test dataset and train on the data <br>\n",
    "Part III : Make note of the classification report and other metrics "
   ]
  },
  {
   "cell_type": "markdown",
   "metadata": {
    "colab_type": "text",
    "id": "BCfLv1hhww98"
   },
   "source": [
    "# Section VI : Let's Improve the performance !\n",
    "\n",
    "Part 0 : What was your answer to **Section - Part IV**? Do you think class imbalance affects the model performance? Explore [SMOTE implementation](https://arxiv.org/pdf/1106.1813.pdf)\n",
    "\n",
    "Part I : Make note of the performance from the last training <br>\n",
    "Part II : Try implementing [SMOTE](http://imbalanced-learn.org/en/stable/over_sampling.html#smote-variants) to balance the two class labels <br>\n",
    "Part III :  Make note of the `y` label data now , what are the rations now ?"
   ]
  },
  {
   "cell_type": "markdown",
   "metadata": {
    "colab_type": "text",
    "id": "DncWH6zR8sB7"
   },
   "source": [
    "# Section VII : Let us Re-Train!\n",
    "\n",
    "Part I : Explore what [RFE](https://scikit-learn.org/stable/modules/generated/sklearn.feature_selection.RFE.html) means <br>\n",
    "Part II : Implement your training process inside the RFE <br>\n",
    "Part III : What are the best columns that your RFE found? Please make a list of it "
   ]
  },
  {
   "cell_type": "markdown",
   "metadata": {
    "colab_type": "text",
    "id": "P0_eMX8ya8y1"
   },
   "source": [
    "# Section VIII : Training time !\n",
    "\n",
    "Now that you have found the best columns for this problem\n",
    "\n",
    "Part I : Now train the model with the new data you have created after the RFE <br>\n",
    "Part II : Create the prediction system to get the metrics such as accuracy"
   ]
  },
  {
   "cell_type": "markdown",
   "metadata": {
    "colab_type": "text",
    "id": "JzdaF30Ibu6V"
   },
   "source": [
    "# Section IX : Additional Metrics\n",
    "\n",
    "Accuracy is not always the best metric \n",
    "\n",
    "Part I : Explore what [Confusion Matrix](https://www.geeksforgeeks.org/confusion-matrix-machine-learning/#:~:text=A%20confusion%20matrix%20is%20a,the%20performance%20of%20an%20algorithm.) means <br>\n",
    "Part II : Create the confusion matrix for the predictions and make note of the outputs <br>\n",
    "Part III : Create a classification report and make note of various outputs "
   ]
  },
  {
   "cell_type": "markdown",
   "metadata": {
    "colab_type": "text",
    "id": "YFZgjzCLdaCP"
   },
   "source": [
    "# Section X : What's next?\n",
    "\n",
    "Part I : Make a note of difference in performance? <br>\n",
    "Part II : Can you recommend more improvements that could give much better results in all metrics?"
   ]
  }
 ],
 "metadata": {
  "colab": {
   "name": "Logistic-Regression-Project.ipynb",
   "provenance": []
  },
  "kernelspec": {
   "display_name": "Python 3",
   "language": "python",
   "name": "python3"
  },
  "language_info": {
   "codemirror_mode": {
    "name": "ipython",
    "version": 3
   },
   "file_extension": ".py",
   "mimetype": "text/x-python",
   "name": "python",
   "nbconvert_exporter": "python",
   "pygments_lexer": "ipython3",
   "version": "3.7.6"
  }
 },
 "nbformat": 4,
 "nbformat_minor": 1
}
