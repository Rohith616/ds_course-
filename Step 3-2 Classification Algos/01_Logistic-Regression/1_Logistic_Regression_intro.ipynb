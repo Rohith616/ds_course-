{
 "cells": [
  {
   "cell_type": "markdown",
   "metadata": {
    "colab_type": "text",
    "id": "AyBsfX56LzNG"
   },
   "source": [
    "## Getting Started with Logistic Regression !\n",
    "![alt text](https://s3.amazonaws.com/assets.datacamp.com/blog_assets/Machine+Learning+R/iris-machinelearning.png)\n",
    "\n",
    "In this notebook , you are going to learn how to write a simple logistic regression program to classify an iris species as either ( **virginica, setosa, or versicolor**) based off of the pedal length, pedal height, sepal length, and sepal height using a machine learning algorithm called Logistic Regression."
   ]
  },
  {
   "cell_type": "markdown",
   "metadata": {
    "colab_type": "text",
    "id": "yoWHM1wmM4Qk"
   },
   "source": [
    "### Logistic Regression in Summary\n",
    "\n",
    "Logistic regression is a model that uses a logistic function to model a dependent variable. Like all regression analyses, the logistic regression is a predictive analysis. \n",
    "\n",
    "![alt text](https://machinelearningblogcom.files.wordpress.com/2018/04/bildschirmfoto-2018-04-23-um-12-05-381.png?w=736)\n",
    "\n",
    "Logistic regression is used to describe data and to explain the relationship between one dependent variable and one or more nominal, ordinal, interval or ratio-level independent variables.\n",
    "\n",
    "This model takes the input values as x and gives the output values as f(x) i.e. 0 or 1. If I need to built a machine learning model then each data point of independent variable will be x (i.e. sum of x1 * w1 + x2 * w2 . . . .so on ) and this will give a value that is between 0 to 1. If I consider that 0.50 as deciding value or threshold. Then any result above 0.5 would be taken as 1 and below that as 0.\n",
    "\n",
    "This is what a sigmoid function looks like\n",
    "\n",
    "![alt text](https://upload.wikimedia.org/wikipedia/commons/thumb/8/88/Logistic-curve.svg/1200px-Logistic-curve.svg.png)"
   ]
  },
  {
   "cell_type": "markdown",
   "metadata": {
    "colab_type": "text",
    "id": "70cuxKsqO0gY"
   },
   "source": [
    "### Defining the Problem\n",
    "\n",
    "We will start by stating what I want this program to do. I want this program to predict/classify the iris species as either ( **virginica, setosa, or versicolor**) based off of the **pedal length, pedal height, sepal length, and sepal height**"
   ]
  },
  {
   "cell_type": "markdown",
   "metadata": {
    "colab_type": "text",
    "id": "qO8NxoVXQ5Af"
   },
   "source": [
    "### Imports\n",
    "\n",
    "Let us start with importing the dependencies, that will make this program a little easier to write. I’m importing the machine learning library **sklearn, seaborn, and matplotlib** which you you might have come across during your earlier courses with TechIS"
   ]
  },
  {
   "cell_type": "code",
   "execution_count": 3,
   "metadata": {
    "colab": {},
    "colab_type": "code",
    "id": "UnkNnXiTLRlD"
   },
   "outputs": [],
   "source": [
    "# Import the dependencies\n",
    "import matplotlib.pyplot as plt\n",
    "import seaborn as sns\n",
    "from sklearn.linear_model import LogisticRegression\n",
    "from sklearn.metrics import classification_report\n",
    "from sklearn.metrics import accuracy_score\n",
    "from sklearn.model_selection import train_test_split\n",
    "from sklearn.metrics import mean_squared_error,mean_absolute_error, r2_score"
   ]
  },
  {
   "cell_type": "markdown",
   "metadata": {
    "colab_type": "text",
    "id": "0kX4gmnkRVlV"
   },
   "source": [
    "Next I will load the data set from the seaborn library, store it into a variable called data and just run a describe function on it to get some rudimentary idea about whats in the dataset\n",
    "\n",
    "\n",
    "---\n",
    "\n",
    "\n",
    "One thing to note is, the Iris dataset can easily be called into any of \n",
    "your notebooks and put into a variable through:\n",
    "\n",
    "                data = sns.load_dataset(\"iris\")\n",
    "\n",
    "\n",
    "\n",
    "\n",
    "\n"
   ]
  },
  {
   "cell_type": "code",
   "execution_count": null,
   "metadata": {
    "colab": {},
    "colab_type": "code",
    "id": "kfyR7g2FPp6O"
   },
   "outputs": [],
   "source": [
    "#Load the data set\n",
    "data = sns.load_dataset(\"iris\")\n",
    "display(data.head())\n",
    "display(data.describe(),\"The Three possible species\",data.species.unique())"
   ]
  },
  {
   "cell_type": "markdown",
   "metadata": {
    "colab_type": "text",
    "id": "Sisc2hRKSPLu"
   },
   "source": [
    "Start preparing the training data set by storing all of the independent variables/ columns/features into a variable called ‘X’ which include the columns - `sepal_length , sepal_width , petal_length and petal_width`\n",
    "\n",
    "and store the independent variable/target into a variable called ‘y’ - which is the column name - `species`\n"
   ]
  },
  {
   "cell_type": "code",
   "execution_count": null,
   "metadata": {
    "colab": {},
    "colab_type": "code",
    "id": "e6JML8ubSx1o"
   },
   "outputs": [],
   "source": [
    "# X = feature values, all the columns except the species column\n",
    "X = data.iloc[:, :-1]\n",
    "display(X)\n",
    "\n",
    "# y = target values, only the species column\n",
    "y = data.iloc[:, -1]\n",
    "display(y)"
   ]
  },
  {
   "cell_type": "markdown",
   "metadata": {
    "colab_type": "text",
    "id": "XcwK_X8AUX6i"
   },
   "source": [
    "### Let's plot the relation between the features and the species !\n",
    "\n",
    "We will use a scatter plot to show this relation. The sepal length will be blue, sepal width will be green, petal length will be red and petal width will be black."
   ]
  },
  {
   "cell_type": "code",
   "execution_count": null,
   "metadata": {
    "colab": {},
    "colab_type": "code",
    "id": "nzNPNrsSUm54"
   },
   "outputs": [],
   "source": [
    "# Plot the relation of each feature with each species\n",
    "plt.xlabel('Features')\n",
    "plt.ylabel('Species')\n",
    "\n",
    "pltX = data.loc[:, 'sepal_length']\n",
    "pltY = data.loc[:,'species']\n",
    "plt.scatter(pltX, pltY, color='blue', label='sepal_length')\n",
    "\n",
    "pltX = data.loc[:, 'sepal_width']\n",
    "pltY = data.loc[:,'species']\n",
    "plt.scatter(pltX, pltY, color='green', label='sepal_width')\n",
    "\n",
    "pltX = data.loc[:, 'petal_length']\n",
    "pltY = data.loc[:,'species']\n",
    "plt.scatter(pltX, pltY, color='red', label='petal_length')\n",
    "\n",
    "pltX = data.loc[:, 'petal_width']\n",
    "pltY = data.loc[:,'species']\n",
    "plt.scatter(pltX, pltY, color='black', label='petal_width')\n",
    "\n",
    "plt.legend(loc=4, prop={'size':8})\n",
    "plt.show()"
   ]
  },
  {
   "cell_type": "markdown",
   "metadata": {
    "colab_type": "text",
    "id": "oIJymBPFi02f"
   },
   "source": [
    "### EDA\n",
    "\n",
    "Here we can see that given 4 features i.e sepal length, sepal width, petal length, and petal width determine whether a flower is Setosa, Versicolor or Virginica.\n",
    "\n",
    "Let us try to plot 2-D Scatter plot with colour for each flower."
   ]
  },
  {
   "cell_type": "code",
   "execution_count": null,
   "metadata": {
    "colab": {},
    "colab_type": "code",
    "id": "iF4MxGAbjE2B"
   },
   "outputs": [],
   "source": [
    "sns.set_style(\"whitegrid\");\n",
    "sns.FacetGrid(data,hue=\"species\",size=8) \\\n",
    "    .map(plt.scatter,\"sepal_length\",\"sepal_width\") \\\n",
    "    .add_legend()\n",
    "plt.show()"
   ]
  },
  {
   "cell_type": "markdown",
   "metadata": {
    "colab_type": "text",
    "id": "8TzypfqVjbx6"
   },
   "source": [
    "### Post EDA\n",
    "\n",
    "Some Conclusions that can be derived from the graph are :\n",
    "\n",
    "- Blue points can be easily separated from red and green by drawing a line.\n",
    "- But red and green data points cannot be easily separated.\n",
    "- Using sepal_length and sepal_width features, we can distinguish Setosa flowers from others.\n",
    "- Separating Versicolor from Viginica is much harder as they have considerable overlap."
   ]
  },
  {
   "cell_type": "markdown",
   "metadata": {
    "colab_type": "text",
    "id": "phKxQuoWkJHE"
   },
   "source": [
    "### Optional : Additional EDA \n",
    "\n",
    "We could also make use of 3-D plots"
   ]
  },
  {
   "cell_type": "code",
   "execution_count": null,
   "metadata": {
    "colab": {},
    "colab_type": "code",
    "id": "rLMyiY7Vkfin"
   },
   "outputs": [],
   "source": [
    "import plotly.express as px\n",
    "fig = px.scatter_3d(data, x='sepal_length', y='sepal_width', z='petal_width',color='species')\n",
    "fig.show()"
   ]
  },
  {
   "cell_type": "markdown",
   "metadata": {
    "colab_type": "text",
    "id": "lfeyJ3A0k20w"
   },
   "source": [
    "Here we are using plotly library for plotting as you can see we have used sepal length on the x-axis, sepal width on the y-axis and petal length on the z-axis."
   ]
  },
  {
   "cell_type": "markdown",
   "metadata": {
    "colab_type": "text",
    "id": "fBaCQztflf5d"
   },
   "source": [
    "### Optional : Pair Plots for EDA\n",
    "\n",
    "A pairs plot allows us to see both distribution of single variables and relationships between two variables.\n",
    "For example, let’s say we have four features ‘sepal length’, ‘sepal width’, ‘petal length’ and ‘petal width’ in our iris dataset. In that case, we will have 4C2 plots i.e. 6 unique plots. The pairs in this case will be :\n",
    "\n",
    "- sepal length, sepal width\n",
    "- sepal length, petal length\n",
    "- sepal length, petal width\n",
    "- sepal width, petal length\n",
    "- sepal width, petal width\n",
    "- petal length, petal width"
   ]
  },
  {
   "cell_type": "code",
   "execution_count": null,
   "metadata": {
    "colab": {},
    "colab_type": "code",
    "id": "k-62UF7Hl1s9"
   },
   "outputs": [],
   "source": [
    "sns.set_style(\"whitegrid\");\n",
    "sns.pairplot(data,hue=\"species\",size=3);\n",
    "plt.show()"
   ]
  },
  {
   "cell_type": "markdown",
   "metadata": {
    "colab_type": "text",
    "id": "F28uta7Eophk"
   },
   "source": [
    "### As Seen Above, The Pair Plots Can Be Divided Into Three Parts:\n",
    "\n",
    "- The diagonal plot which showcases the histogram. The histogram allows us to see the PDF/Probability distribution of a single variable\n",
    "- Upper triangle and lower triangle which shows us the scatter plot.\n",
    "- The scatter plots show us the relationship between the features. These upper and lower triangles are the mirror image of each other."
   ]
  },
  {
   "cell_type": "markdown",
   "metadata": {
    "colab_type": "text",
    "id": "iwRtuO3F3zW6"
   },
   "source": [
    "### Spliting the Dataset into Training and Testing\n",
    "\n",
    "Split the data into 80% training and 20 % testing by using the method train_test_split() from the sklearn.model_selection library, and store the data into x_train, x_test, y_train, and y_test."
   ]
  },
  {
   "cell_type": "code",
   "execution_count": 9,
   "metadata": {
    "colab": {},
    "colab_type": "code",
    "id": "kUFwN9jG3y9a"
   },
   "outputs": [],
   "source": [
    "#Split the data into 80% training and 20% testing\n",
    "x_train, x_test, y_train, y_test = train_test_split(X, y, test_size=0.2)"
   ]
  },
  {
   "cell_type": "markdown",
   "metadata": {
    "colab_type": "text",
    "id": "9gS5rodZ7Tvv"
   },
   "source": [
    "### Let's Start Training!\n",
    "\n",
    "Create and train the Logistic Regression model !"
   ]
  },
  {
   "cell_type": "code",
   "execution_count": null,
   "metadata": {
    "colab": {},
    "colab_type": "code",
    "id": "JRfdHnpk7TcR"
   },
   "outputs": [],
   "source": [
    "#Train the model\n",
    "model = LogisticRegression(verbose=1)\n",
    "model.fit(x_train, y_train) #Training the model"
   ]
  },
  {
   "cell_type": "markdown",
   "metadata": {
    "colab_type": "text",
    "id": "YP3UsF3z8X70"
   },
   "source": [
    "### But did it work?\n",
    "\n",
    "Now that the model is trained, we will print the predictions and get a few metrics from the model based off of the testing data set.\n",
    "\n",
    "For prediction we are going to pass in our `x_test` and get some predictions out and save them in the `predictions` variable \n",
    "\n",
    "Then we are going to call in the classification"
   ]
  },
  {
   "cell_type": "code",
   "execution_count": null,
   "metadata": {
    "colab": {},
    "colab_type": "code",
    "id": "2ZFsr6rP8jM-"
   },
   "outputs": [],
   "source": [
    "#Test the model\n",
    "predictions = model.predict(x_test)\n",
    "print(predictions)# printing predictions\n",
    "\n",
    "print()# Printing new line\n",
    "\n",
    "#Check precision, recall, f1-score\n",
    "print( classification_report(y_test, predictions) )"
   ]
  },
  {
   "cell_type": "markdown",
   "metadata": {
    "colab_type": "text",
    "id": "6DS3C43MMevt"
   },
   "source": [
    "## Scoring and Metrics"
   ]
  },
  {
   "cell_type": "code",
   "execution_count": null,
   "metadata": {
    "colab": {},
    "colab_type": "code",
    "id": "vw7X_EBALrAE"
   },
   "outputs": [],
   "source": [
    "from sklearn.metrics import plot_confusion_matrix\n",
    "\n",
    "print( \"The accuracy of the Model\",accuracy_score(y_test, predictions))\n",
    "\n",
    "class_names = ['setosa','versicolor','virginica']\n",
    "\n",
    "titles_options = [(\"Confusion matrix, without normalization\", None),\n",
    "                  (\"Normalized confusion matrix\", 'true')]\n",
    "for title, normalize in titles_options:\n",
    "    disp = plot_confusion_matrix(model, x_test, y_test,\n",
    "                                 display_labels=class_names,\n",
    "                                 cmap=plt.cm.Blues,\n",
    "                                 normalize=normalize)\n",
    "    disp.ax_.set_title(title)\n",
    "\n",
    "    print(title)\n",
    "    print(disp.confusion_matrix)\n",
    "\n",
    "plt.show()"
   ]
  }
 ],
 "metadata": {
  "colab": {
   "collapsed_sections": [],
   "name": "Logistic-Regression-intro.ipynb",
   "provenance": []
  },
  "kernelspec": {
   "display_name": "Python 3",
   "language": "python",
   "name": "python3"
  },
  "language_info": {
   "codemirror_mode": {
    "name": "ipython",
    "version": 3
   },
   "file_extension": ".py",
   "mimetype": "text/x-python",
   "name": "python",
   "nbconvert_exporter": "python",
   "pygments_lexer": "ipython3",
   "version": "3.7.6"
  }
 },
 "nbformat": 4,
 "nbformat_minor": 1
}
