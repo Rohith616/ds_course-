{
 "cells": [
  {
   "cell_type": "markdown",
   "metadata": {},
   "source": [
    "# <u>Calculus for Data Science</u>\n",
    "\n",
    "\n",
    "<b>Calculus</b> is a intrinsic field of maths and especially in many machine learning algorithms that we cannot think of skipping this course to learn the essence of Data Science.<br>\n",
    "<b>Differential Calculus</b> cuts something into small pieces to find how it changes.<br>\n",
    "<b>Integral Calculus</b> joins (integrates) the small pieces together to find how much there is."
   ]
  },
  {
   "cell_type": "markdown",
   "metadata": {},
   "source": [
    "#### <u>Slope</u>\n",
    "\n",
    "The slope is defined as the ratio of the altitude change to the horizontal distance between any two points on the line. <br><br>\n",
    "\n",
    "The inclination of a straight line is the angle which the line makes with the positive direction of x-axis. The tangent of the angle that a line makes with the positive direction of the x-axis is called slope or gradient of the line. The slope of a line is generally denoted by m. <br>\n",
    "<b>Given two points (x1, y1) and (x2, y2) on a line, the slope m of the line is y = (y2 – y1)/(x2 – x1)</b><br><br>\n",
    "The slope intercept form of a line is given by y = mx + b gives the slope of line m and y – intercept of line b. The inclination of the line with the horizontal axis is called slope of the line. The point at which curve cuts or crosses the y – axis is called y- intercept."
   ]
  },
  {
   "cell_type": "markdown",
   "metadata": {},
   "source": [
    "![Image_1](https://user-images.githubusercontent.com/71789009/108572514-71d3c980-7338-11eb-899e-e7235a24566a.png)"
   ]
  },
  {
   "cell_type": "markdown",
   "metadata": {},
   "source": [
    "#### Slope of a curve"
   ]
  },
  {
   "cell_type": "markdown",
   "metadata": {},
   "source": [
    "The main difference between the slope of a straight line and the slope of a curve is that the slope of a straight line remains constant while the slope of a curve changes between points.<br>\n",
    "we determine what the slope of a curveby using a tangent line if the values are constantly changing."
   ]
  },
  {
   "cell_type": "markdown",
   "metadata": {},
   "source": [
    "![image_2](https://user-images.githubusercontent.com/71789009/108573248-291d1000-733a-11eb-8ca1-3b25114c0457.png)"
   ]
  },
  {
   "cell_type": "markdown",
   "metadata": {},
   "source": [
    "The slope of a linear equation can be found with the formula: y = mx + b.  When dealing with a curved line, where the slope is changing, you can’t use the same formula.  You have to divide the change in y-values by the change in x-values, represented as:<br>\n",
    "\n",
    "m = change in y/change in x <br>\n",
    "\n",
    "In order to use this formula to find the slope of a curve, select two points to plug into the formula. "
   ]
  },
  {
   "cell_type": "markdown",
   "metadata": {},
   "source": [
    "![image_3](https://user-images.githubusercontent.com/71789009/108573323-494ccf00-733a-11eb-86a4-e3a96211c1bc.png)"
   ]
  },
  {
   "cell_type": "markdown",
   "metadata": {},
   "source": [
    "<b>Example:</b> Find m at the point (9, 3).<br>\n",
    "In the graph above the tangent line is again drawn in red.  The tangent touches the curve at (2.3, 5).  Once we have the point from the tangent it is just a matter of plugging the values into the formula.<br><br>\n",
    "\n",
    "m = (9-5)/(3-2.3) = 4/.7 = 5.71.<br>\n",
    "\n",
    "Thus the slope of the curve at point (9, 3) is 5.71."
   ]
  },
  {
   "cell_type": "markdown",
   "metadata": {},
   "source": [
    "## <u>Secant Line and Tangent Line</u>\n",
    "\n",
    "A <b>secant line</b>, also simply called a secant, is a line passing through two points of a curve. As the two points are brought together (or, more precisely, as one is brought towards the other), the secant line tends to a tangent line.\n",
    "\n",
    "The secant line connects two points (x,f(x)) and (a,f(a)) in the Cartesian plane on a curve described by a function y=f(x). It gives the average rate of change of f from x to a\n",
    "\n",
    "![image_4](https://user-images.githubusercontent.com/71789009/108573338-523da080-733a-11eb-8ccd-8b7221051a2c.png)\t\n",
    "<b>(1)</b>\n",
    "which is the slope of the line connecting the points (x,f(x)) and (a,f(a)). The limiting value\n",
    "\n",
    "![image_5](https://user-images.githubusercontent.com/71789009/108573352-58cc1800-733a-11eb-908f-7479a9e20b83.png)\t\n",
    "<b>(2)</b>\n",
    "as the point a approaches x gives the instantaneous slope of the tangent line to f(x) at each point x, which is a quantity known as the derivative of f(x), denoted f'(x) or df/dx.\n",
    "\n",
    "The use of secant lines to iteratively find the root of a function is known as the <b>secant method.</b>\n",
    "\n",
    "In abstract mathematics, the points connected by a secant line can be either <b>real</b> or <b>complex conjugate imaginary.</b>\n",
    "\n"
   ]
  },
  {
   "cell_type": "markdown",
   "metadata": {},
   "source": [
    "A <b>tangent line</b> is a line that touches a graph at only one point and is practically parallel to the graph at that point. It is the same as the instantaneous rate of change or the derivative ."
   ]
  },
  {
   "cell_type": "markdown",
   "metadata": {},
   "source": [
    "![image_6](https://user-images.githubusercontent.com/71789009/108573374-62ee1680-733a-11eb-8aa9-35c47ebe171b.png)"
   ]
  },
  {
   "cell_type": "markdown",
   "metadata": {},
   "source": [
    "## <u>Differentiation</u>\n",
    "In Mathematics, Differentiation can be defined as a derivative of a function with respect to an independent variable. Differentiation, in calculus, can be applied to measure the function per unit change in the independent variable.\n",
    "\n",
    "Let y = f(x) be a function of x. Then, the rate of change of “y” per unit change in “x” is given by:\n",
    "\n",
    "dy / dx\n",
    "\n",
    "If the function f(x) undergoes an infinitesimal change of ‘h’ near to any point ‘x’, then the derivative of the function is defined as:\n",
    "![image_7](https://user-images.githubusercontent.com/71789009/108573387-697c8e00-733a-11eb-9dc7-a08d7f18e1bd.png)"
   ]
  },
  {
   "cell_type": "markdown",
   "metadata": {},
   "source": [
    "![image_8](https://user-images.githubusercontent.com/71789009/108573400-726d5f80-733a-11eb-96de-0d86fd84c10b.png)"
   ]
  },
  {
   "cell_type": "markdown",
   "metadata": {},
   "source": [
    "\n",
    "\n",
    "\n",
    "\n",
    "### Differentiation Formulas\n",
    "\n",
    "The important Differentiation formulas are given below in the table. Here, let us consider f(x) is a function and f'(x) is the derivative of the function.\n",
    "\n",
    "![image_9](https://user-images.githubusercontent.com/71789009/108573414-7c8f5e00-733a-11eb-838e-f0bdfdcb1e99.png)\n",
    "\n",
    "### Differentiation Rules\n",
    "\n",
    "The basic differentiation rules that need to be followed are as follows:\n",
    "\n",
    "1) Sum and Difference Rule<br>\n",
    "2) Product Rule<br>\n",
    "3) Quotient Rule<br>\n",
    "4) Chain Rule<br>\n",
    "\n",
    "### 1) Sum or Difference Rule\n",
    "\n",
    "If the function is sum or difference of two functions, the derivative of the functions is the sum or difference of the individual functions, i.e.,\n",
    "\n",
    "<b>If f(x) = u(x) ± v(x)\n",
    "\n",
    "then, f'(x)=u'(x) ± v'(x)</b>\n",
    "\n",
    "### 2) Product Rule\n",
    "\n",
    "As per the product rule, if the function f(x) is product of two functions u(x) and v(x), the derivative of the function is,\n",
    "\n",
    "<b>If f(x)=u(x)×v(x)\n",
    "\n",
    "then, f′(x)=u′(x)×v(x)+u(x)×v′(x)</b>\n",
    "\n",
    "### 3) Quotient rule\n",
    "\n",
    "If the function f(x) is in the form of two functions [u(x)]/[v(x)], the derivative of the function is\n",
    "\n",
    "If, f(x)=u(x)v(x)\n",
    "\n",
    "<b>then, f′(x)=u′(x)×v(x)–u(x)×v′(x)(v(x))2</b>\n",
    "\n",
    "### 4) Chain Rule\n",
    "\n",
    "If a function y = f(x) = g(u) and if u = h(x), then the chain rule for differentiation is defined as,\n",
    "\n",
    "![image_10](https://user-images.githubusercontent.com/71789009/108573423-81eca880-733a-11eb-9203-b0f77682260e.png)\n",
    "\n",
    "This plays a major role in the method of substitution that helps to perform differentiation of composite functions.\n",
    "\n",
    "\n",
    "\n",
    "\n",
    "\n",
    "\n"
   ]
  },
  {
   "cell_type": "markdown",
   "metadata": {},
   "source": [
    "### <U>Partial Differentiation</U>"
   ]
  },
  {
   "cell_type": "markdown",
   "metadata": {},
   "source": [
    "In mathematics, sometimes the function depends on two or more than two variables. In this case, the derivative converts into the partial derivative since the function depends on several variables. Whereas, partial differential equation, is an equation containing one or more partial derivatives. Partial derivatives are usually used in vector calculus and differential geometry. "
   ]
  },
  {
   "cell_type": "markdown",
   "metadata": {},
   "source": [
    "### Partial Derivative Rules"
   ]
  },
  {
   "cell_type": "markdown",
   "metadata": {},
   "source": [
    "Just like ordinary derivatives, partial derivatives follows some rule like product rule, quotient rule, chain rule etc.<br>\n",
    "\n",
    "If u = f(x,y) then, partial derivatives follow some rules as the ordinary derivatives.\n",
    "\n"
   ]
  },
  {
   "cell_type": "markdown",
   "metadata": {},
   "source": [
    "### Product Rule:\n",
    "\n",
    "\n",
    "![image_11](https://user-images.githubusercontent.com/71789009/108573443-9892ff80-733a-11eb-8b47-b21b5d7c6f61.png)\n"
   ]
  },
  {
   "cell_type": "markdown",
   "metadata": {},
   "source": [
    "### Quotient Rule:\n",
    "\n",
    "![image_12](https://user-images.githubusercontent.com/71789009/108573451-a052a400-733a-11eb-97fd-672c1acc527f.png)\n"
   ]
  },
  {
   "cell_type": "markdown",
   "metadata": {},
   "source": [
    "### Power Rule:\n",
    "\n",
    "![image_13](https://user-images.githubusercontent.com/71789009/108573463-a8124880-733a-11eb-9f56-05510e0fae0a.png)\n"
   ]
  },
  {
   "cell_type": "markdown",
   "metadata": {},
   "source": [
    "### Chain Rule:\n",
    "\n",
    "![image_14](https://user-images.githubusercontent.com/71789009/108573478-b52f3780-733a-11eb-963f-6dd3cc12029b.png)"
   ]
  },
  {
   "cell_type": "markdown",
   "metadata": {},
   "source": [
    "## <u>Linear Function</u>\n",
    "A <b>linear function</b> is defined as a function that has either one or two variables without exponents. It is a function that graphs to the straight line. In case, if the function contains more variables, then the variables should be constant, or it might be the known variables for the function to remain it in the same linear function condition.\n",
    "\n",
    "Linear Function Graph has a straight line whose expression or formula is given by;\n",
    "\n",
    "                                                      y = f(x) = px + q \n",
    "\n",
    "It has one independent and one dependent variable. The independent variable is x and the dependent one is y. P is the constant term or the y-intercept and is also the value of the dependent variable. When x = 0, q is the coefficient of the independent variable known as slope which gives the rate of change of the dependent variable.\n",
    "\n"
   ]
  },
  {
   "cell_type": "markdown",
   "metadata": {},
   "source": [
    "\n",
    "## <u>NonLinear Function</u>\n",
    "\n",
    "A function which is not linear is called nonlinear function. In other words, a function which does not form a straight line in a graph. The examples of such functions are exponential function, parabolic function, inverse functions, quadratic function, etc. All these functions do not satisfy the linear equation y = m x + c. The expression for all these functions is different."
   ]
  },
  {
   "cell_type": "markdown",
   "metadata": {},
   "source": [
    "![image_15](https://user-images.githubusercontent.com/71789009/108573488-bd877280-733a-11eb-8cd3-6fe727bcee87.png)"
   ]
  },
  {
   "cell_type": "markdown",
   "metadata": {},
   "source": [
    "## <u>Maxima and Minima</u>"
   ]
  },
  {
   "cell_type": "markdown",
   "metadata": {},
   "source": [
    "Figure for the curve with stationary points is shown below. Thus it can be seen from the figure that before the slope becomes zero it was negative after it gets zero it becomes positive. It can be said dy/dx is -ve before stationary point dy/dx is +ve after stationary point. Hence it can be said d2 y/dx2 is positive at the stationary point shown below, Therefore it can be said wherever the double derivative is positive it is the point of <b>minima</b>. Vice versa wherever the double derivative is negative is negative is the point of <b>maxima</b> on the curve. This is also known as the second derivative test.\n",
    "\n"
   ]
  },
  {
   "attachments": {},
   "cell_type": "markdown",
   "metadata": {},
   "source": [
    "![image_16](https://user-images.githubusercontent.com/71789009/108573498-c5dfad80-733a-11eb-9754-ef541ab3f786.png)"
   ]
  },
  {
   "cell_type": "markdown",
   "metadata": {},
   "source": [
    "### Local Minima and Global Minima"
   ]
  },
  {
   "cell_type": "markdown",
   "metadata": {},
   "source": [
    "The point at which a function takes the minimum value is called as <b>global minima</b>. However, when the goal is to minimize the function and solved using optimization algorithms such as gradient descent, it may so happen that function may appear to have minimum value at different points.<br> Those several points which appear to be minima but is not the point where the function actually takes the minimum value is called as <b>local minima</b>. "
   ]
  },
  {
   "cell_type": "markdown",
   "metadata": {},
   "source": [
    "![image_17](https://user-images.githubusercontent.com/71789009/108573510-cd06bb80-733a-11eb-985c-c7f5c246a3a3.png)"
   ]
  },
  {
   "cell_type": "markdown",
   "metadata": {},
   "source": [
    "For <b>example :</b> In <b>gradient descent</b> we use this local and global minima in order to decrease the loss functions."
   ]
  },
  {
   "cell_type": "code",
   "execution_count": null,
   "metadata": {},
   "outputs": [],
   "source": []
  }
 ],
 "metadata": {
  "kernelspec": {
   "display_name": "Python 3",
   "language": "python",
   "name": "python3"
  },
  "language_info": {
   "codemirror_mode": {
    "name": "ipython",
    "version": 3
   },
   "file_extension": ".py",
   "mimetype": "text/x-python",
   "name": "python",
   "nbconvert_exporter": "python",
   "pygments_lexer": "ipython3",
   "version": "3.7.6"
  }
 },
 "nbformat": 4,
 "nbformat_minor": 4
}
