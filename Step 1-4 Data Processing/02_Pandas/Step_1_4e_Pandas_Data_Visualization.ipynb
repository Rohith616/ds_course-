{
  "nbformat": 4,
  "nbformat_minor": 0,
  "metadata": {
    "colab": {
      "name": "Step_1_4e_Pandas_Data_Visualization.ipynb",
      "provenance": [],
      "toc_visible": true
    },
    "kernelspec": {
      "name": "python3",
      "display_name": "Python 3"
    }
  },
  "cells": [
    {
      "cell_type": "markdown",
      "metadata": {
        "id": "Z0fmc8R_LJgZ",
        "colab_type": "text"
      },
      "source": [
        "# Load Pandas and NumPy"
      ]
    },
    {
      "cell_type": "code",
      "metadata": {
        "id": "EAZTBd_fyLCH",
        "colab_type": "code",
        "colab": {}
      },
      "source": [
        "# load pandas \n",
        "import pandas as pd\n",
        "\n",
        "# load numpy\n",
        "import numpy as np\n",
        "\n",
        "# load seaborn as sns \n",
        "# (only used for setting color palette)\n",
        "import seaborn as sns\n"
      ],
      "execution_count": null,
      "outputs": []
    },
    {
      "cell_type": "markdown",
      "metadata": {
        "id": "2WXZl2EtyFEe",
        "colab_type": "text"
      },
      "source": [
        "# Generate Data to Experiment Plotting Tools with:\n",
        "\n"
      ]
    },
    {
      "cell_type": "code",
      "metadata": {
        "id": "255A0PMQyXG2",
        "colab_type": "code",
        "colab": {}
      },
      "source": [
        "# generate an array with random numbers \n",
        "random_num_array = np.random.rand(10,4)\n",
        "\n",
        "# view random_num_array\n",
        "random_num_array\n",
        "# array has 10 rows and 4 coulmns\n",
        "# array values are random numbers between 0 and 1"
      ],
      "execution_count": null,
      "outputs": []
    },
    {
      "cell_type": "code",
      "metadata": {
        "id": "5Y7IWV84yhD9",
        "colab_type": "code",
        "colab": {}
      },
      "source": [
        "# create DataFrame called `data` from `random_num_array`\n",
        "data = pd.DataFrame(random_num_array, columns=['A','B','C','D'])\n",
        "\n",
        "# check `data` DataFrame\n",
        "data"
      ],
      "execution_count": null,
      "outputs": []
    },
    {
      "cell_type": "markdown",
      "metadata": {
        "id": "AM12dzSow45o",
        "colab_type": "text"
      },
      "source": [
        "# Bar Plot\n",
        "\n",
        "- we'll use the `data` DataFrame to create a variery of plots \n",
        "  - to visualize the quality of the random numbers generated in the numpy array"
      ]
    },
    {
      "cell_type": "markdown",
      "metadata": {
        "id": "C-aSXg-_MVcX",
        "colab_type": "text"
      },
      "source": [
        "### Regular Bar Plot \n"
      ]
    },
    {
      "cell_type": "code",
      "metadata": {
        "id": "kAeVXO3vw4oO",
        "colab_type": "code",
        "colab": {}
      },
      "source": [
        "# regular bar plot\n",
        "data.plot.bar(figsize=(16,9))"
      ],
      "execution_count": null,
      "outputs": []
    },
    {
      "cell_type": "markdown",
      "metadata": {
        "id": "RWuOixGwMTiJ",
        "colab_type": "text"
      },
      "source": [
        "### Stacked Bar Plot "
      ]
    },
    {
      "cell_type": "code",
      "metadata": {
        "id": "v45jJKE0MTY7",
        "colab_type": "code",
        "colab": {}
      },
      "source": [
        "# stacked bar plot \n",
        "data.plot.bar(stacked=True,figsize=(16,9))"
      ],
      "execution_count": null,
      "outputs": []
    },
    {
      "cell_type": "markdown",
      "metadata": {
        "id": "gxXnARePMmHU",
        "colab_type": "text"
      },
      "source": [
        "### Horizontal Bar Plot\n"
      ]
    },
    {
      "cell_type": "code",
      "metadata": {
        "id": "vCB1-3wEMtJe",
        "colab_type": "code",
        "colab": {}
      },
      "source": [
        "# create horizontal bar plot\n",
        "data.plot.barh(figsize=(16,9))"
      ],
      "execution_count": null,
      "outputs": []
    },
    {
      "cell_type": "markdown",
      "metadata": {
        "id": "thGgTAzLMstl",
        "colab_type": "text"
      },
      "source": [
        "### Horizontal Stacked Bar Plot\n",
        "\n",
        "\n",
        "\n"
      ]
    },
    {
      "cell_type": "code",
      "metadata": {
        "id": "TXoossqT95qL",
        "colab_type": "code",
        "colab": {}
      },
      "source": [
        "# create stacked horizontal bar plot \n",
        "data.plot.barh(figsize=(16,9),stacked=True)"
      ],
      "execution_count": null,
      "outputs": []
    },
    {
      "cell_type": "markdown",
      "metadata": {
        "id": "N6A8UQMO-YZD",
        "colab_type": "text"
      },
      "source": [
        "# Change Color Palette\n",
        "\n",
        "- [Seaborn - Color Palettes](https://seaborn.pydata.org/tutorial/color_palettes.html)"
      ]
    },
    {
      "cell_type": "code",
      "metadata": {
        "id": "V8_dKIeN-XJ8",
        "colab_type": "code",
        "colab": {}
      },
      "source": [
        "# set the color palette\n",
        "sns.set_palette('magma')\n",
        "\n",
        "# create horizontal bar graph \n",
        "data.plot.barh(figsize=(16,9),stacked=True)"
      ],
      "execution_count": null,
      "outputs": []
    },
    {
      "cell_type": "markdown",
      "metadata": {
        "id": "-9ynyzmDFCIn",
        "colab_type": "text"
      },
      "source": [
        "# Area Plot"
      ]
    },
    {
      "cell_type": "markdown",
      "metadata": {
        "id": "KKq7pgP-Fk92",
        "colab_type": "text"
      },
      "source": [
        "### Stacked Area Plot"
      ]
    },
    {
      "cell_type": "code",
      "metadata": {
        "id": "idGxnFJvFH-D",
        "colab_type": "code",
        "colab": {}
      },
      "source": [
        "# set the color palette\n",
        "sns.set_palette('muted')\n",
        "\n",
        "# make area plot - stacked by default\n",
        "data.plot.area(figsize=(16,9))"
      ],
      "execution_count": null,
      "outputs": []
    },
    {
      "cell_type": "markdown",
      "metadata": {
        "id": "EE8soqBhGXkv",
        "colab_type": "text"
      },
      "source": [
        "### Unstacked Area Plot"
      ]
    },
    {
      "cell_type": "code",
      "metadata": {
        "id": "1lfzkEwtGbfK",
        "colab_type": "code",
        "colab": {}
      },
      "source": [
        "# make area plot - unstacked \n",
        "data.plot.area(figsize=(16,9),stacked=False)"
      ],
      "execution_count": null,
      "outputs": []
    },
    {
      "cell_type": "markdown",
      "metadata": {
        "id": "rT4mDcxmG5J9",
        "colab_type": "text"
      },
      "source": [
        "# Diff Plot \n",
        "\n",
        "- one of the major benefits of using pandas directly is that many of pandas’ helpful DataFrame manipulations can be directly used. \n",
        "\n",
        "- for example, consider the result of `data.diff()`, which simply takes the difference between one row and the row before it (hence the presence of NaN in the first row)\n",
        "\n",
        "- this is helpful in many time series applications."
      ]
    },
    {
      "cell_type": "code",
      "metadata": {
        "id": "Q6gdZf-gHzWT",
        "colab_type": "code",
        "colab": {}
      },
      "source": [
        "# create a diff from data \n",
        "data.diff()"
      ],
      "execution_count": null,
      "outputs": []
    },
    {
      "cell_type": "markdown",
      "metadata": {
        "id": "tQsCdULxIibP",
        "colab_type": "text"
      },
      "source": [
        "- consider the following code, which plots out the differenced data, as well as demonstrating the usage of various parameters in pandas plotting, in this case, color"
      ]
    },
    {
      "cell_type": "code",
      "metadata": {
        "id": "zelc7IFeG73z",
        "colab_type": "code",
        "colab": {}
      },
      "source": [
        "data.diff().plot.box(vert=False,\n",
        "                     color={'medians':'lightblue',\n",
        "                            'boxes':'blue',\n",
        "                            'caps':'darkblue',});"
      ],
      "execution_count": null,
      "outputs": []
    },
    {
      "cell_type": "markdown",
      "metadata": {
        "id": "G8t6RyOhI2Kc",
        "colab_type": "text"
      },
      "source": [
        "# Rolling Mean \n",
        "\n"
      ]
    },
    {
      "cell_type": "markdown",
      "metadata": {
        "id": "m54rn3xHRunH",
        "colab_type": "text"
      },
      "source": [
        "- another application of pandas’ handy data manipulation functions is with `.rolling().mean()`\n",
        "\n",
        "- it takes the average rolling mean, a common statistical method to reduce the noisiness of data that averages moving windows of data\n",
        "\n"
      ]
    },
    {
      "cell_type": "code",
      "metadata": {
        "id": "4At9qlEXK3K9",
        "colab_type": "code",
        "colab": {}
      },
      "source": [
        "# generate numpy array with random number\n",
        "rand_values_vector = np.random.rand(100, 1)\n",
        "\n",
        "# generete DataFrame from \n",
        "data_two = pd.DataFrame(rand_values_vector, columns=['value']).reset_index()\n",
        "\n",
        "# check the DataFrame\n",
        "data_two"
      ],
      "execution_count": null,
      "outputs": []
    },
    {
      "cell_type": "code",
      "metadata": {
        "id": "AkY7FuuTWUy9",
        "colab_type": "code",
        "colab": {}
      },
      "source": [
        "# plot the values\n",
        "data_two['value'].plot(figsize=(16,9))\n",
        "\n",
        "# plot the rolling mean\n",
        "data_two['value'].rolling(10).mean().plot(figsize=(16,9))"
      ],
      "execution_count": null,
      "outputs": []
    },
    {
      "cell_type": "markdown",
      "metadata": {
        "id": "B526_QzzjXDw",
        "colab_type": "text"
      },
      "source": [
        "# Other Plots"
      ]
    },
    {
      "cell_type": "code",
      "metadata": {
        "id": "I8xkkygMjYOt",
        "colab_type": "code",
        "colab": {}
      },
      "source": [
        "# distribution plot\n",
        "data.plot.kde(figsize=(16,9)); "
      ],
      "execution_count": null,
      "outputs": []
    },
    {
      "cell_type": "code",
      "metadata": {
        "id": "6mtMOeOSlmBu",
        "colab_type": "code",
        "colab": {}
      },
      "source": [
        "# scatterplot x and y\n",
        "data.plot.scatter(x='A',y='B', \n",
        "                  c='C', #color of data points\n",
        "                  s=data['C']*200,figsize=(16,9)); #size of data points"
      ],
      "execution_count": null,
      "outputs": []
    },
    {
      "cell_type": "code",
      "metadata": {
        "id": "wG5RGn1YlxdL",
        "colab_type": "code",
        "colab": {}
      },
      "source": [
        "# hexbin x and y  \n",
        "data.plot.hexbin(x='C',y='D', \n",
        "                 gridsize=18,figsize=(16,9)); #hexagon dimensions"
      ],
      "execution_count": null,
      "outputs": []
    },
    {
      "cell_type": "markdown",
      "metadata": {
        "id": "nkeAbXVxe2iz",
        "colab_type": "text"
      },
      "source": [
        "# Sub Plots \n",
        "\n",
        "- one example of pandas doing heavy lifting in plotting for you is with subplots\n",
        "  - by enabling `subplots=True`, pandas automatically create subplots based on the columns\n",
        "  \n"
      ]
    },
    {
      "cell_type": "markdown",
      "metadata": {
        "id": "b18Cb_dHgunT",
        "colab_type": "text"
      },
      "source": [
        "### Pie Charts\n",
        "\n",
        "- for instance, consider the following generated DataFrame, which has two columns (X and Y), \n",
        "  - as well as five rows (indices A, B, C, D, E)\n",
        "\n",
        "- this will generate two pie charts, each with five sections"
      ]
    },
    {
      "cell_type": "code",
      "metadata": {
        "id": "xXco2HpZfIsO",
        "colab_type": "code",
        "colab": {}
      },
      "source": [
        "# generate a two column numpy array with random values\n",
        "rand_value_arr = np.random.rand(5, 2) # 5 Rows, 2 Columns\n",
        "\n",
        "# check rand value array\n",
        "rand_value_arr"
      ],
      "execution_count": null,
      "outputs": []
    },
    {
      "cell_type": "code",
      "metadata": {
        "id": "VGsIQNO7feZw",
        "colab_type": "code",
        "colab": {}
      },
      "source": [
        "# create DataFrame from rand value array \n",
        "data = pd.DataFrame(rand_value_arr,\n",
        "                    index=list(\"ABCDE\"), \n",
        "                    columns=list(\"XY\"))\n",
        "\n",
        "# create pie chart from DataFrame columns\n",
        "data.plot.pie(subplots=True, figsize=(8, 4));"
      ],
      "execution_count": null,
      "outputs": []
    },
    {
      "cell_type": "markdown",
      "metadata": {
        "id": "DNnz4vQDgzXs",
        "colab_type": "text"
      },
      "source": [
        "### Line Graphs\n",
        "\n",
        "- As another example of the convenience of subplots in direct-pandas plotting, consider plotting line data"
      ]
    },
    {
      "cell_type": "code",
      "metadata": {
        "id": "TelAoR0MgzBz",
        "colab_type": "code",
        "colab": {}
      },
      "source": [
        "# generate a two column numpy array with random values\n",
        "rand_value_arr = np.random.rand(100, 4) # 100 Rows, 4 Columns\n",
        "\n",
        "# check rand value array\n",
        "rand_value_arr"
      ],
      "execution_count": null,
      "outputs": []
    },
    {
      "cell_type": "code",
      "metadata": {
        "id": "QPqhCN7shK6k",
        "colab_type": "code",
        "colab": {}
      },
      "source": [
        "# create DataFrame with above array \n",
        "data = pd.DataFrame(rand_value_arr, columns=['A','B','C','D'])\n",
        "\n",
        "# plot subplots of each column\n",
        "data.plot(subplots=True,figsize=(20,10));"
      ],
      "execution_count": null,
      "outputs": []
    },
    {
      "cell_type": "code",
      "metadata": {
        "id": "yzFMXOvqh0HJ",
        "colab_type": "code",
        "colab": {}
      },
      "source": [
        "# another way to do the subplots \n",
        "data.plot(subplots=True,layout=(2,2), figsize=(20,10));"
      ],
      "execution_count": null,
      "outputs": []
    }
  ]
}