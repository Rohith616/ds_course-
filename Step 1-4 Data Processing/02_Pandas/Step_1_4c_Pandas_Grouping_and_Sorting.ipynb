{
  "nbformat": 4,
  "nbformat_minor": 0,
  "metadata": {
    "colab": {
      "name": "Step_1_4c_Pandas_Grouping_and_Sorting.ipynb",
      "provenance": [],
      "collapsed_sections": [],
      "toc_visible": true
    },
    "kernelspec": {
      "name": "python3",
      "display_name": "Python 3"
    }
  },
  "cells": [
    {
      "cell_type": "markdown",
      "metadata": {
        "id": "4h07qDZs-8he",
        "colab_type": "text"
      },
      "source": [
        "# Load Pandas"
      ]
    },
    {
      "cell_type": "code",
      "metadata": {
        "id": "MCo58KFtWWTX",
        "colab_type": "code",
        "colab": {}
      },
      "source": [
        "import pandas as pd"
      ],
      "execution_count": null,
      "outputs": []
    },
    {
      "cell_type": "markdown",
      "metadata": {
        "id": "0yYOu6iGdXY6",
        "colab_type": "text"
      },
      "source": [
        "# Load Data Set\n",
        "\n",
        "- we'll load the housing price data to continue experimenting with Pandas\n",
        "\n",
        "- [here](https://www.kaggle.com/c/home-data-for-ml-course/data) is the source of the data \n",
        "  - find the \"Download All\" button to download the entire data set\n",
        "\n"
      ]
    },
    {
      "cell_type": "code",
      "metadata": {
        "id": "nl6U0WJ8rT-X",
        "colab_type": "code",
        "colab": {}
      },
      "source": [
        "# read the csv from drive (google drive in this case)\n",
        "data = pd.read_csv('/content/drive/My Drive/Datasets/home-data-for-ml-course/train.csv')\n",
        "# add your own path above to read the train.csv file\n"
      ],
      "execution_count": null,
      "outputs": []
    },
    {
      "cell_type": "code",
      "metadata": {
        "id": "YtbBC6YrEem1",
        "colab_type": "code",
        "colab": {}
      },
      "source": [
        "# display the previously loaded DataFrame\n",
        "data"
      ],
      "execution_count": null,
      "outputs": []
    },
    {
      "cell_type": "markdown",
      "metadata": {
        "id": "cc3GJ-qbcKel",
        "colab_type": "text"
      },
      "source": [
        "# Grouping \n",
        "\n",
        "- often we want to group our data, and then do something specific to the group the data is in\n",
        "\n",
        "- we do this with the `groupby()` operation\n",
        "\n",
        "- you can think of each group we generate as being a slice of our DataFrame containing only data with values that match"
      ]
    },
    {
      "cell_type": "markdown",
      "metadata": {
        "id": "tBTy6mHYhvW6",
        "colab_type": "text"
      },
      "source": [
        "### `.count()` with `.groupby()`\n",
        "\n",
        "- one function we've seen before is the `value_counts()` function \n",
        "  - we can replicate what `value_counts()` does by doing the following"
      ]
    },
    {
      "cell_type": "code",
      "metadata": {
        "id": "jnFCOKb-W5Up",
        "colab_type": "code",
        "colab": {}
      },
      "source": [
        "# using `count()` to get the number of counts of Neighborhood entries\n",
        "data.groupby('Neighborhood').Neighborhood.count()"
      ],
      "execution_count": null,
      "outputs": []
    },
    {
      "cell_type": "code",
      "metadata": {
        "id": "zZaFA5Lkq3vo",
        "colab_type": "code",
        "colab": {}
      },
      "source": [
        "# using `value_counts()` to get the number of counts of Neighborhood entries\n",
        "data.Neighborhood.value_counts()"
      ],
      "execution_count": null,
      "outputs": []
    },
    {
      "cell_type": "markdown",
      "metadata": {
        "id": "Tu9px4zr5PY5",
        "colab_type": "text"
      },
      "source": [
        "### `.min()` with `.groupby()`\n",
        "\n",
        "- to get the least lot area in each Neighborhood "
      ]
    },
    {
      "cell_type": "code",
      "metadata": {
        "id": "8dnTKo0q5AgO",
        "colab_type": "code",
        "colab": {}
      },
      "source": [
        "# least LotArea in each Neighborhood \n",
        "data.groupby('Neighborhood').LotArea.min()"
      ],
      "execution_count": null,
      "outputs": []
    },
    {
      "cell_type": "markdown",
      "metadata": {
        "id": "XvA2mkjwD_Gk",
        "colab_type": "text"
      },
      "source": [
        "### `.apply()` with `.groupby()`\n",
        "- the output DataFrame of the `.groupby()` function is accessible to us directly using the `apply()` method \n",
        "  - we can then manipulate the data in any way we see fit"
      ]
    },
    {
      "cell_type": "code",
      "metadata": {
        "id": "DX7tE-I7EUVF",
        "colab_type": "code",
        "colab": {}
      },
      "source": [
        "# check the first year that appears for each neighboorhood\n",
        "data.groupby('Neighborhood').apply(lambda dataframe: dataframe.YearBuilt.iloc[0])"
      ],
      "execution_count": null,
      "outputs": []
    },
    {
      "cell_type": "markdown",
      "metadata": {
        "id": "--SINGcVFPVr",
        "colab_type": "text"
      },
      "source": [
        "- `.apply()` function can be used for even more fine grain control\n",
        "  - by using `.groupby()` with two columns: \n",
        "    - `Neighborhood` \n",
        "    - `YearBuilt`"
      ]
    },
    {
      "cell_type": "code",
      "metadata": {
        "id": "sJdNEX1DFZQ7",
        "colab_type": "code",
        "colab": {}
      },
      "source": [
        "# data to find the best conditon based on neighborhood and year built \n",
        "data.groupby(['Neighborhood','YearBuilt']).apply(lambda dataframe: dataframe.loc[dataframe.OverallCond.idxmax()])"
      ],
      "execution_count": null,
      "outputs": []
    },
    {
      "cell_type": "markdown",
      "metadata": {
        "id": "dpIZxr28OyNM",
        "colab_type": "text"
      },
      "source": [
        "- aside: [`.idxmax()`](https://pandas.pydata.org/pandas-docs/stable/reference/api/pandas.DataFrame.idxmax.html) documentation page"
      ]
    },
    {
      "cell_type": "markdown",
      "metadata": {
        "id": "F-zwSGpbPASF",
        "colab_type": "text"
      },
      "source": [
        "### `.agg()` with `.groupby()`\n",
        "\n",
        "- another `groupby()` method is `agg()`\n",
        " - it lets you run a bunch of different functions on your DataFrame simultaneously\n",
        " \n",
        "- for instance, we can generate a simple statistical summary of the dataset as follows:"
      ]
    },
    {
      "cell_type": "code",
      "metadata": {
        "id": "6lfZjqARO_zE",
        "colab_type": "code",
        "colab": {}
      },
      "source": [
        "# simple statistical summary of sale price by neighborhood\n",
        "data.groupby('Neighborhood').SalePrice.agg([len,min,max])"
      ],
      "execution_count": null,
      "outputs": []
    },
    {
      "cell_type": "markdown",
      "metadata": {
        "id": "pISsKu4JPuq4",
        "colab_type": "text"
      },
      "source": [
        "- effective use of `groupby()` will allow you to do lots of really powerful things with your dataset"
      ]
    },
    {
      "cell_type": "markdown",
      "metadata": {
        "id": "wRTVcor3cURV",
        "colab_type": "text"
      },
      "source": [
        "# Complex Indexing\n",
        "\n",
        "- in the examples we've seen so far \n",
        "  - we've been working with DataFrame or Series objects with a single-label index\n",
        "  \n",
        "- `groupby()` is slightly different \n",
        "  - depending on the operation we run, it will sometimes result in what is called a *multi-index*\n",
        "\n",
        "- a *multi-index* differs from a *regular index* in that it has multiple levels\n",
        "\n",
        "- *multi-index* example:"
      ]
    },
    {
      "cell_type": "code",
      "metadata": {
        "id": "5N_gbjKkQJeN",
        "colab_type": "code",
        "colab": {}
      },
      "source": [
        "# get the number of building types per year for each neighborhood\n",
        "building_types_in_neighborhood_per_year = data.groupby(['Neighborhood','YearBuilt']).BldgType.agg([len])\n",
        "building_types_in_neighborhood_per_year # this generates a multi-index DataFrame"
      ],
      "execution_count": null,
      "outputs": []
    },
    {
      "cell_type": "code",
      "metadata": {
        "id": "pk8yaTQBRCyJ",
        "colab_type": "code",
        "colab": {}
      },
      "source": [
        "#check type of index of this data \n",
        "type(building_types_in_neighborhood_per_year.index)"
      ],
      "execution_count": null,
      "outputs": []
    },
    {
      "cell_type": "markdown",
      "metadata": {
        "id": "L5SV9P0IRTId",
        "colab_type": "text"
      },
      "source": [
        "- [multi-indexing](https://pandas.pydata.org/pandas-docs/stable/user_guide/advanced.html) - pandas documentation page\n",
        "\n",
        "- multi-indices have several methods for dealing with their tiered structure which are absent for single-level indices\n",
        "\n",
        "- they also require two levels of labels to retrieve a value\n",
        "\n",
        "- the multi-index method you will use most often is the one for converting back to a regular index, the `reset_index()` method"
      ]
    },
    {
      "cell_type": "code",
      "metadata": {
        "id": "lB3kG-WFRgoM",
        "colab_type": "code",
        "colab": {}
      },
      "source": [
        "# convert multi-index to regular-index\n",
        "building_types_in_neighborhood_per_year.reset_index()"
      ],
      "execution_count": null,
      "outputs": []
    },
    {
      "cell_type": "markdown",
      "metadata": {
        "id": "uJAh6YgfcMw-",
        "colab_type": "text"
      },
      "source": [
        "# Sorting \n",
        "\n",
        "- looking at `building_types_in_neighborhood_per_year`,\n",
        "  - the grouping shows date in index order, not in value order\n",
        "  - i.e. when outputting the result of a `.groupby()`, the order of the rows is dependent on the values in the index, not in the resultant data\n",
        "\n",
        "- to get data in the order want it in we can sort it ourselves\n",
        "  - the `sort_values()` method is used for this"
      ]
    },
    {
      "cell_type": "code",
      "metadata": {
        "id": "bJJFZhKbSleo",
        "colab_type": "code",
        "colab": {}
      },
      "source": [
        "# reset the index and save it back into the same variable\n",
        "building_types_in_neighborhood_per_year = building_types_in_neighborhood_per_year.reset_index()\n",
        "\n",
        "# sort values by `len`\n",
        "building_types_in_neighborhood_per_year.sort_values(by='len')"
      ],
      "execution_count": null,
      "outputs": []
    },
    {
      "cell_type": "markdown",
      "metadata": {
        "id": "wstoDmFnUDYr",
        "colab_type": "text"
      },
      "source": [
        "- `.sort_values()` defaults to an ascending sort, where the lowest values go first\n",
        "\n",
        "- however, most of the time we want a descending sort, where the higher numbers go first"
      ]
    },
    {
      "cell_type": "code",
      "metadata": {
        "id": "LNV-6z-WSzn7",
        "colab_type": "code",
        "colab": {}
      },
      "source": [
        "# sort values by `len` in descending order\n",
        "building_types_in_neighborhood_per_year.sort_values(by='len', ascending=False)"
      ],
      "execution_count": null,
      "outputs": []
    },
    {
      "cell_type": "markdown",
      "metadata": {
        "id": "KLV7wuK_Vdk8",
        "colab_type": "text"
      },
      "source": [
        "- to sort by index values, use the method `sort_index()` \n",
        "- this method has the same arguments and default order"
      ]
    },
    {
      "cell_type": "code",
      "metadata": {
        "id": "w3IkRZzzViGm",
        "colab_type": "code",
        "colab": {}
      },
      "source": [
        "# sort values by index \n",
        "building_types_in_neighborhood_per_year.sort_index()"
      ],
      "execution_count": null,
      "outputs": []
    },
    {
      "cell_type": "markdown",
      "metadata": {
        "id": "s-7OLwyrVtKO",
        "colab_type": "text"
      },
      "source": [
        "- finally, you can sort by more than one column at a time:"
      ]
    },
    {
      "cell_type": "code",
      "metadata": {
        "id": "Baib_ijRVuxj",
        "colab_type": "code",
        "colab": {}
      },
      "source": [
        "# sort values by neighborhood and length\n",
        "building_types_in_neighborhood_per_year.sort_values(by=['Neighborhood','len'])"
      ],
      "execution_count": null,
      "outputs": []
    }
  ]
}