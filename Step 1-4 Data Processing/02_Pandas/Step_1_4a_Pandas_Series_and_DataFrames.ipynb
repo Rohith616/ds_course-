{
  "nbformat": 4,
  "nbformat_minor": 0,
  "metadata": {
    "colab": {
      "name": "Step_1_4a_Pandas_Series_and_DataFrames.ipynb",
      "provenance": [],
      "collapsed_sections": []
    },
    "kernelspec": {
      "name": "python3",
      "display_name": "Python 3"
    }
  },
  "cells": [
    {
      "cell_type": "markdown",
      "metadata": {
        "id": "OeAOQ5KB34TP",
        "colab_type": "text"
      },
      "source": [
        "# Pandas\n",
        "\n",
        "- pandas is an open source, BSD-licensed library providing high-performance, easy-to-use data structures and data analysis tools for the Python programming language\n",
        "- the most popular Python library for data analysis\n",
        "- pandas stands for \"*panel data*\": an econometrics term for multidimensional structured data sets\n",
        "- [Getting Started with Pandas - Pandas Documentation Page](https://pandas.pydata.org/docs/getting_started/index.html)"
      ]
    },
    {
      "cell_type": "code",
      "metadata": {
        "id": "Tq8TsKJA338t",
        "colab_type": "code",
        "colab": {}
      },
      "source": [
        "# import the pandas library\n",
        "import pandas as pd "
      ],
      "execution_count": null,
      "outputs": []
    },
    {
      "cell_type": "markdown",
      "metadata": {
        "id": "2aVxJkIw_dqF",
        "colab_type": "text"
      },
      "source": [
        "- There are two core objects in pandas: \n",
        "  - **DataFrame** \n",
        "  - **Series**"
      ]
    },
    {
      "cell_type": "markdown",
      "metadata": {
        "id": "Aoa0blf-YU9f",
        "colab_type": "text"
      },
      "source": [
        "# Creating Data"
      ]
    },
    {
      "cell_type": "markdown",
      "metadata": {
        "id": "2acZqbP2BAGl",
        "colab_type": "text"
      },
      "source": [
        "### DataFrame Creation\n",
        "\n",
        "- a DataFrame is a table \n",
        "  - it contains an array of individual entries \n",
        "  - each entry corresponds to a row and a column \n",
        "\n",
        "\n",
        "- use the `pd.DataFrame()` constructor to generate these DataFrame objects\n",
        "\n",
        "- the syntax for declaring a new DataFrame is a dictionary whose keys are the column names and whose values are a list of entries\n",
        "\n",
        "- this is the standard way of constructing a new DataFrame, and the one you are most likely to encounter"
      ]
    },
    {
      "cell_type": "code",
      "metadata": {
        "id": "HwfHP-4x3aAK",
        "colab_type": "code",
        "colab": {}
      },
      "source": [
        "# create a dictionary\n",
        "new_dictionary = {'Day': [50, 21], 'Night': [131, 2]}\n",
        "\n",
        "# create DataFrame from ditionary \n",
        "pd.DataFrame(new_dictionary)"
      ],
      "execution_count": null,
      "outputs": []
    },
    {
      "cell_type": "code",
      "metadata": {
        "id": "M7wJiIbY6IrE",
        "colab_type": "code",
        "colab": {}
      },
      "source": [
        "# create a dictionary\n",
        "new_dictionary = {'Bob': ['I liked it.', 'It was awful.'], 'Sue': ['Pretty good.', 'Bland.']}\n",
        "\n",
        "# create DataFrame from dictionary\n",
        "pd.DataFrame(new_dictionary)"
      ],
      "execution_count": null,
      "outputs": []
    },
    {
      "cell_type": "markdown",
      "metadata": {
        "id": "Cthp-N-gJcMi",
        "colab_type": "text"
      },
      "source": [
        "- the dictionary-list constructor assigns values to the column labels, but just uses an ascending count from 0 (0, 1, 2, 3, ...) for the row labels"
      ]
    },
    {
      "cell_type": "markdown",
      "metadata": {
        "id": "yr2ZN_iTBJV3",
        "colab_type": "text"
      },
      "source": [
        "### Series Creation\n",
        "\n",
        "- a Series is a sequence of data values\n",
        "  - if a DataFrame is a table, a Series is a list\n",
        "\n",
        "- you can create one with nothing more than a list\n",
        "  - a Series is, in essence, a single column of a DataFrame"
      ]
    },
    {
      "cell_type": "code",
      "metadata": {
        "id": "nkICS4dXZFs7",
        "colab_type": "code",
        "colab": {}
      },
      "source": [
        "# create a series from a python list\n",
        "pd.Series([1, 2, 3, 4, 5])"
      ],
      "execution_count": null,
      "outputs": []
    },
    {
      "cell_type": "markdown",
      "metadata": {
        "id": "luMXUEp8ZW9X",
        "colab_type": "text"
      },
      "source": [
        "- you can assign column values to the Series the same way as before, using an `index` parameter. \n",
        "\n",
        "- however, a Series does not have a column name, it only has one overall `name`"
      ]
    },
    {
      "cell_type": "code",
      "metadata": {
        "id": "o_8AjdN5ZitU",
        "colab_type": "code",
        "colab": {}
      },
      "source": [
        "# create a series from a python list \n",
        "# add row index labels and seriss name \n",
        "pd.Series([30, 35, 40], index=['2015 Sales', '2016 Sales', '2017 Sales'], name='Product A')"
      ],
      "execution_count": null,
      "outputs": []
    },
    {
      "cell_type": "markdown",
      "metadata": {
        "id": "cgTkqCNrZtWP",
        "colab_type": "text"
      },
      "source": [
        "- the Series and the DataFrame are intimately related\n",
        "\n",
        "- it's helpful to think of a DataFrame as actually being just a bunch of Series \"glued together\""
      ]
    },
    {
      "cell_type": "markdown",
      "metadata": {
        "id": "sfw7G8yQr884",
        "colab_type": "text"
      },
      "source": [
        "![Dataframe and Series](https://i.imgur.com/MQCBcpLl.jpg)"
      ]
    },
    {
      "cell_type": "markdown",
      "metadata": {
        "id": "j8XZeXy2AvhM",
        "colab_type": "text"
      },
      "source": [
        "# Reading data files\n",
        "\n",
        "- we are reading the `train.csv` file from the kaggle housing price dataset \n",
        "\n",
        "- find the data files [here](https://www.kaggle.com/c/home-data-for-ml-course/data)\n",
        "  - find the \"Download All\" button and click it to download"
      ]
    },
    {
      "cell_type": "code",
      "metadata": {
        "id": "nl6U0WJ8rT-X",
        "colab_type": "code",
        "colab": {}
      },
      "source": [
        "# read the csv from drive (from google drive in this case)\n",
        "data = pd.read_csv('/content/drive/My Drive/Datasets/home-data-for-ml-course/train.csv')\n",
        "# add your own path above to read the train.csv file"
      ],
      "execution_count": null,
      "outputs": []
    },
    {
      "cell_type": "code",
      "metadata": {
        "id": "oAAOTfy71MsZ",
        "colab_type": "code",
        "colab": {}
      },
      "source": [
        "# check data head (first five rows) of the DataFrame\n",
        "data.head()"
      ],
      "execution_count": null,
      "outputs": []
    },
    {
      "cell_type": "code",
      "metadata": {
        "id": "wq54tcqoWGY3",
        "colab_type": "code",
        "colab": {}
      },
      "source": [
        "# check data tail (last five rows) of the DataFrame\n",
        "data.tail()"
      ],
      "execution_count": null,
      "outputs": []
    },
    {
      "cell_type": "code",
      "metadata": {
        "id": "Z0cQz5zwghW9",
        "colab_type": "code",
        "colab": {}
      },
      "source": [
        "# specify number of rows to show\n",
        "data.head(10)"
      ],
      "execution_count": null,
      "outputs": []
    },
    {
      "cell_type": "code",
      "metadata": {
        "id": "2csJlpKSgmWn",
        "colab_type": "code",
        "colab": {}
      },
      "source": [
        "# specify number of rows to show\n",
        "data.head(7)"
      ],
      "execution_count": null,
      "outputs": []
    },
    {
      "cell_type": "code",
      "metadata": {
        "id": "9Fc5brngguFo",
        "colab_type": "code",
        "colab": {}
      },
      "source": [
        "# specify number of rows to show\n",
        "data.tail(11)"
      ],
      "execution_count": null,
      "outputs": []
    },
    {
      "cell_type": "code",
      "metadata": {
        "id": "RD8UcdUKgxd0",
        "colab_type": "code",
        "colab": {}
      },
      "source": [
        "# specify number of rows to show\n",
        "data.tail(3)"
      ],
      "execution_count": null,
      "outputs": []
    },
    {
      "cell_type": "markdown",
      "metadata": {
        "id": "L0oWJISMsQ6E",
        "colab_type": "text"
      },
      "source": [
        "# Native Accessors"
      ]
    },
    {
      "cell_type": "code",
      "metadata": {
        "id": "IfOZUr2Tr66p",
        "colab_type": "code",
        "colab": {}
      },
      "source": [
        "# Access the DataFrame\n",
        "data"
      ],
      "execution_count": null,
      "outputs": []
    },
    {
      "cell_type": "code",
      "metadata": {
        "id": "250Cgpl008IP",
        "colab_type": "code",
        "colab": {}
      },
      "source": [
        "# check the number of rows and columns in the DataFrame\n",
        "data.shape"
      ],
      "execution_count": null,
      "outputs": []
    },
    {
      "cell_type": "code",
      "metadata": {
        "id": "UH6GsYnOsJkc",
        "colab_type": "code",
        "colab": {}
      },
      "source": [
        "# column labels\n",
        "data.columns"
      ],
      "execution_count": null,
      "outputs": []
    },
    {
      "cell_type": "code",
      "metadata": {
        "id": "sMku2jFPtDUg",
        "colab_type": "code",
        "colab": {}
      },
      "source": [
        "# check the \"neighborhood\" column in 'data' DataFrame\n",
        "data.Neighborhood"
      ],
      "execution_count": null,
      "outputs": []
    },
    {
      "cell_type": "code",
      "metadata": {
        "id": "YdOcQ-1eth0S",
        "colab_type": "code",
        "colab": {}
      },
      "source": [
        "# check the \"neighborhood\" column in 'data' DataFrame\n",
        "data['Neighborhood']"
      ],
      "execution_count": null,
      "outputs": []
    },
    {
      "cell_type": "code",
      "metadata": {
        "id": "1L9xibyHtnLO",
        "colab_type": "code",
        "colab": {}
      },
      "source": [
        "# check the first entry in \"neighborhood\" column in 'data' DataFrame\n",
        "data['Neighborhood'][0]"
      ],
      "execution_count": null,
      "outputs": []
    },
    {
      "cell_type": "markdown",
      "metadata": {
        "id": "nHCNiFCPt0_x",
        "colab_type": "text"
      },
      "source": [
        "# Indexing in Pandas\n",
        "\n",
        "- the indexing operator and attribute selection work just like they do in the rest of the Python ecosystem\n",
        "\n",
        "- pandas also has its own accessor operators, `loc` and `iloc` for more advanced operations\n",
        "\n",
        "- Pandas indexing works in one of two paradigms\n",
        "  - `iloc`: index-based selection\n",
        "  - `loc`: label-based selection\n",
        "\n",
        "- both `loc` and `iloc` are row-first, column-second\n",
        "  - this is the opposite of what we do in native Python, which is column-first, row-second"
      ]
    },
    {
      "cell_type": "markdown",
      "metadata": {
        "id": "VsBCvxBtt7Oc",
        "colab_type": "text"
      },
      "source": [
        "### Index-based Selection: `iloc()`\n",
        "\n",
        "- the first paradigm is index-based selection \n",
        "  - it is selecting data based on its numerical position in the data \n",
        "  - `iloc` follows this paradigm"
      ]
    },
    {
      "cell_type": "code",
      "metadata": {
        "id": "Qs9_mGud9-fF",
        "colab_type": "code",
        "colab": {}
      },
      "source": [
        "# select the first row of data in a DataFrame\n",
        "data.iloc[0]"
      ],
      "execution_count": null,
      "outputs": []
    },
    {
      "cell_type": "code",
      "metadata": {
        "id": "tonrQfj3IvkZ",
        "colab_type": "code",
        "colab": {}
      },
      "source": [
        "# get the 11th column with iloc\n",
        "data.iloc[:,10]"
      ],
      "execution_count": null,
      "outputs": []
    },
    {
      "cell_type": "markdown",
      "metadata": {
        "id": "w0Xv_LrNL00r",
        "colab_type": "text"
      },
      "source": [
        "##### `:` operator \n",
        "\n",
        "- comes from native Python, means \"everything\". \n",
        "- when combined with other selectors, however, it can be used to indicate a range of values"
      ]
    },
    {
      "cell_type": "code",
      "metadata": {
        "id": "uMB7JvdqL8eK",
        "colab_type": "code",
        "colab": {}
      },
      "source": [
        "# get the first three rows from the 11th column\n",
        "data.iloc[:3, 10]"
      ],
      "execution_count": null,
      "outputs": []
    },
    {
      "cell_type": "code",
      "metadata": {
        "id": "c3uagjl_MKP1",
        "colab_type": "code",
        "colab": {}
      },
      "source": [
        "# get the 3rd and the 4th entries from the 11th column\n",
        "data.iloc[2:4,10]"
      ],
      "execution_count": null,
      "outputs": []
    },
    {
      "cell_type": "code",
      "metadata": {
        "id": "dW-mpNgKMaFG",
        "colab_type": "code",
        "colab": {}
      },
      "source": [
        "# pass a `list` to get 5th, 6th and 7th elements from 11th column\n",
        "data.iloc[[4, 5, 6], 10]"
      ],
      "execution_count": null,
      "outputs": []
    },
    {
      "cell_type": "code",
      "metadata": {
        "id": "rhS93qRANKd2",
        "colab_type": "code",
        "colab": {}
      },
      "source": [
        "# negative numbers can also be used in selection: last 5 rows of the DataFrame using -5 indexing\n",
        "data.iloc[-5:]"
      ],
      "execution_count": null,
      "outputs": []
    },
    {
      "cell_type": "markdown",
      "metadata": {
        "id": "JbCrbGYet_hX",
        "colab_type": "text"
      },
      "source": [
        "### Label-based Selection: `loc()` \n",
        "\n",
        "- second paradigm for attribute selection is the label-based selection\n",
        "- it's the data index value, not its position, which matters\n"
      ]
    },
    {
      "cell_type": "code",
      "metadata": {
        "id": "_0HudIP3OthY",
        "colab_type": "code",
        "colab": {}
      },
      "source": [
        "# to get the first entry in reviews, we would now do the following\n",
        "data.loc[0,'Id']"
      ],
      "execution_count": null,
      "outputs": []
    },
    {
      "cell_type": "markdown",
      "metadata": {
        "id": "D68s76ZVRAw0",
        "colab_type": "text"
      },
      "source": [
        "### `loc()` vs `iloc()`\n",
        "\n",
        "- `iloc` is conceptually simpler than `loc` because it ignores the dataset's indices \n",
        "\n",
        "- when we use `iloc`, we treat the dataset like a big matrix (a list of lists), \n",
        "  - one that we have to index into by position. \n",
        "  \n",
        "- `loc`, by contrast, uses the information in the indices to do its work \n",
        "\n",
        "- since your dataset usually has meaningful indices, it's usually easier to do things using `loc` instead"
      ]
    },
    {
      "cell_type": "markdown",
      "metadata": {
        "id": "rsZGhSj9Q0V5",
        "colab_type": "text"
      },
      "source": [
        "##### Choosing between `loc()` and `iloc()`\n",
        "\n",
        "- when choosing or transitioning between `loc` and `iloc`, there is one \"gotcha\" worth keeping in mind, which is that the two methods use slightly different indexing schemes\n",
        "\n",
        "- `iloc` uses the Python stdlib indexing scheme, where the first element of the range is included and the last one excluded. So 0:10 will select entries 0,...,9. loc, meanwhile, indexes inclusively. So 0:10 will select entries 0,...,10\n"
      ]
    },
    {
      "cell_type": "markdown",
      "metadata": {
        "id": "VNceCqGyuEay",
        "colab_type": "text"
      },
      "source": [
        "# Manipulating the Index\n",
        "\n",
        "- Label-based selection derives its power from the labels in the index. \n",
        "- Critically, the index we use is not immutable. \n",
        "  - We can manipulate the index in any way we see fit."
      ]
    },
    {
      "cell_type": "code",
      "metadata": {
        "id": "b2HYT47sT7Rc",
        "colab_type": "code",
        "colab": {}
      },
      "source": [
        "# change the row index to the iD column\n",
        "data.set_index('Id')"
      ],
      "execution_count": null,
      "outputs": []
    },
    {
      "cell_type": "markdown",
      "metadata": {
        "id": "y5ZyXQhruSMM",
        "colab_type": "text"
      },
      "source": [
        "# Conditional Selection"
      ]
    },
    {
      "cell_type": "markdown",
      "metadata": {
        "id": "-4IDIyi8gZFZ",
        "colab_type": "text"
      },
      "source": [
        "- find out all the uniue values that the Neighborhood can take using the `.unique()` built in function"
      ]
    },
    {
      "cell_type": "code",
      "metadata": {
        "id": "Zav5goihVS0F",
        "colab_type": "code",
        "colab": {}
      },
      "source": [
        "data.Neighborhood.unique()"
      ],
      "execution_count": null,
      "outputs": []
    },
    {
      "cell_type": "markdown",
      "metadata": {
        "id": "OwJ2y825gqZx",
        "colab_type": "text"
      },
      "source": [
        "- then create a boolean filter using `==` operator "
      ]
    },
    {
      "cell_type": "code",
      "metadata": {
        "id": "L_49Dsp2VjLx",
        "colab_type": "code",
        "colab": {}
      },
      "source": [
        "# create a simple boolean filter \n",
        "data.Neighborhood == 'Edwards'"
      ],
      "execution_count": null,
      "outputs": []
    },
    {
      "cell_type": "markdown",
      "metadata": {
        "id": "GYfF9DJrg0_Z",
        "colab_type": "text"
      },
      "source": [
        "- then extract entries from `data` DataFrame that match the filter condition"
      ]
    },
    {
      "cell_type": "code",
      "metadata": {
        "id": "7-3GyoDlV5hX",
        "colab_type": "code",
        "colab": {}
      },
      "source": [
        "# use the boolean filter to extract data using `loc`\n",
        "data.loc[data.Neighborhood == 'Edwards']"
      ],
      "execution_count": null,
      "outputs": []
    },
    {
      "cell_type": "markdown",
      "metadata": {
        "id": "S__QVEtQhDDy",
        "colab_type": "text"
      },
      "source": [
        "- the output is all 100 entries that correspond to the filter specification of `Neghborhood == Edwards`"
      ]
    },
    {
      "cell_type": "markdown",
      "metadata": {
        "id": "658OWXu8f9Gs",
        "colab_type": "text"
      },
      "source": [
        "### `|` - the pipe operator: element wise OR\n",
        "\n",
        "- the pipe operator is used in creating a complex boolean filter \n",
        "  - multiple conditionals can be used to filter the data \n",
        "  - `|` follows OR logic"
      ]
    },
    {
      "cell_type": "code",
      "metadata": {
        "id": "mocB1x9KMWCi",
        "colab_type": "code",
        "colab": {}
      },
      "source": [
        "# use boolean complex filter to extract entries\n",
        "data.loc[(data.Neighborhood == 'Edwards') | (data.LotFrontage >= 50.0)]"
      ],
      "execution_count": null,
      "outputs": []
    },
    {
      "cell_type": "markdown",
      "metadata": {
        "id": "NJEbq9bwMNH-",
        "colab_type": "text"
      },
      "source": [
        "### `&` - the 'ampersand' operator: element wise AND\n",
        "\n",
        "- this is similiar to `and` logical operator\n",
        "- use this to build complex queries in extracting specific entries "
      ]
    },
    {
      "cell_type": "code",
      "metadata": {
        "id": "MeBzf8iMMMgb",
        "colab_type": "code",
        "colab": {}
      },
      "source": [
        "# use boolean complex filter to extract entries\n",
        "data.loc[(data.Neighborhood == 'Edwards') & (data.LotArea >= 5000)]"
      ],
      "execution_count": null,
      "outputs": []
    },
    {
      "cell_type": "markdown",
      "metadata": {
        "id": "CNlVLokXutL2",
        "colab_type": "text"
      },
      "source": [
        "# Assigning Data\n",
        "\n",
        "- going the other way, assigning data to a DataFrame is easy. \n",
        "\n",
        "- you can assign either a constant value, or with an iterable of values"
      ]
    },
    {
      "cell_type": "code",
      "metadata": {
        "id": "bdV5wWcdO681",
        "colab_type": "code",
        "colab": {}
      },
      "source": [
        "# assign constant value to a newly created column \"Visitor\"\n",
        "data['Visitor'] = 'everyone'\n",
        "data['Visitor']"
      ],
      "execution_count": null,
      "outputs": []
    },
    {
      "cell_type": "code",
      "metadata": {
        "id": "V6dwS1wDPfQP",
        "colab_type": "code",
        "colab": {}
      },
      "source": [
        "# assign a range of backwards index to a newly created column called \"index_backwards\"\n",
        "data['index_backwards'] = range(len(data), 0, -1)\n",
        "data['index_backwards']"
      ],
      "execution_count": null,
      "outputs": []
    },
    {
      "cell_type": "code",
      "metadata": {
        "id": "ZuQV4YO9UhWx",
        "colab_type": "code",
        "colab": {}
      },
      "source": [
        "# check the columns headers for new columns added to the DataFrame\n",
        "data.columns"
      ],
      "execution_count": null,
      "outputs": []
    }
  ]
}