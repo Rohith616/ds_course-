{
  "cells": [
    {
      "cell_type": "markdown",
      "metadata": {
        "id": "yzbkHH7ZT5Cx",
        "colab_type": "text"
      },
      "source": [
        "# Manipulating Data with NumPy"
      ]
    },
    {
      "cell_type": "markdown",
      "metadata": {
        "id": "das2txP2T5Cy",
        "colab_type": "text"
      },
      "source": [
        "## 1. Introduction to NumPy:"
      ]
    },
    {
      "cell_type": "markdown",
      "metadata": {
        "id": "1n5Mcx36T5Cz",
        "colab_type": "raw"
      },
      "source": [
        "NumPy stands for \"Numerical Python\". It provides fast and efficient array operations of homogeneous data. It can perform typical numerical calculations on multidimensional arrays along with some other sophisticated functions. It provides ease working with linear algebra and carrying out complex calculations like Matrix inversion, Fourier Transfer, etc.\n",
        "\n",
        "Lets see, How NumPy different from lists:\n",
        "\n",
        "NumPy supports vectorized operations such as element-wise addition, substraction, etc which is not the case with basic lists."
      ]
    },
    {
      "cell_type": "code",
      "execution_count": null,
      "metadata": {
        "tags": []
      },
      "outputs": [],
      "source": [
        "# Example 1:\n",
        "\n",
        "\n",
        "lst = [10, 200, 90, 0]\n",
        "\n",
        "import numpy as np\n",
        "arr = np.array(lst)\n",
        "\n",
        "print(arr + 10)"
      ]
    },
    {
      "cell_type": "markdown",
      "metadata": {},
      "source": [
        "NumPy supports vectorized operations such as element-wise addition, substraction, etc which is not the case with basic lists."
      ]
    },
    {
      "cell_type": "code",
      "execution_count": null,
      "metadata": {
        "tags": []
      },
      "outputs": [],
      "source": [
        "# Example 2:\n",
        "\n",
        "lst = [22, 45, 78, 50]\n",
        "\n",
        "import numpy as np\n",
        "import sys\n",
        "arr = np.array(lst)\n",
        "print(arr.nbytes)\n",
        "print(sys.getsizeof(lst))"
      ]
    },
    {
      "cell_type": "markdown",
      "metadata": {},
      "source": [
        "Python stores info for each pointer as well as to an object they are pointing to. However, NumPy array stores uniform values."
      ]
    },
    {
      "cell_type": "markdown",
      "metadata": {
        "id": "8OI_8_coT5C0",
        "colab_type": "text"
      },
      "source": [
        "# 2. NumPy Object Creation:"
      ]
    },
    {
      "cell_type": "markdown",
      "metadata": {
        "colab_type": "raw",
        "id": "FAzqaS3nT5C1"
      },
      "source": [
        "Calculations using NumPy are peeformed using nd-array (n-dimensional array) object which can take any number of dimensions."
      ]
    },
    {
      "cell_type": "markdown",
      "metadata": {},
      "source": [
        "## 1. Array Creation:\n",
        "A Num-Py nd-array inputs basic Python list as an argument along with an explicit datatype (for typecasting) as shown below:"
      ]
    },
    {
      "cell_type": "code",
      "execution_count": null,
      "metadata": {
        "tags": []
      },
      "outputs": [],
      "source": [
        "import numpy as np\n",
        "a = np.array([1,2,3,4])               # creates a 1-dimensional array\n",
        "b = np.array([[1,2,3,4], [5,6,7,8]])    # creates a 2-dimensional array\n",
        "print(a)\n",
        "print('----')\n",
        "print(b)"
      ]
    },
    {
      "cell_type": "markdown",
      "metadata": {},
      "source": [
        "## Useful Functions "
      ]
    },
    {
      "cell_type": "markdown",
      "metadata": {},
      "source": [
        "#### Shape :"
      ]
    },
    {
      "cell_type": "code",
      "execution_count": null,
      "metadata": {
        "tags": []
      },
      "outputs": [],
      "source": [
        "a = np.array([1,2,3,4])\n",
        "b = np.array([[1,2,3,4], [5,6,7,8]])\n",
        "\n",
        "print('The shape of the array a is ', a.shape)\n",
        "print('The shape of the array b is ', b.shape)"
      ]
    },
    {
      "cell_type": "markdown",
      "metadata": {},
      "source": [
        "#### Dimensions:"
      ]
    },
    {
      "cell_type": "code",
      "execution_count": null,
      "metadata": {
        "tags": []
      },
      "outputs": [],
      "source": [
        "print('The dimensions of array a is ', a.ndim)\n",
        "print('The dimensions of array b is ', b.ndim)"
      ]
    },
    {
      "cell_type": "markdown",
      "metadata": {},
      "source": [
        "#### Size:"
      ]
    },
    {
      "cell_type": "code",
      "execution_count": null,
      "metadata": {
        "tags": []
      },
      "outputs": [],
      "source": [
        "print('The size of the array a is ', a.size)\n",
        "print('The size of the array b is ', b.size)"
      ]
    },
    {
      "cell_type": "markdown",
      "metadata": {},
      "source": [
        "#### Datatype:"
      ]
    },
    {
      "cell_type": "code",
      "execution_count": null,
      "metadata": {
        "tags": []
      },
      "outputs": [],
      "source": [
        "print('The datatype of the array a is ', a.dtype)\n",
        "print('The datatype of the array b is ', b.dtype)"
      ]
    },
    {
      "cell_type": "markdown",
      "metadata": {},
      "source": [
        "#### Itemsize:"
      ]
    },
    {
      "cell_type": "code",
      "execution_count": null,
      "metadata": {
        "tags": []
      },
      "outputs": [],
      "source": [
        "print('The number of bytes in each element of the array a is  ', a.itemsize)\n",
        "print('The number of bytes in each element of the array b is ', b.itemsize)"
      ]
    },
    {
      "cell_type": "markdown",
      "metadata": {},
      "source": [
        "## 2. Matrix Creation:\n",
        "\n",
        "Moving ahead let's learn creation of a matrix using NumPy. There are three methods:\n",
        "\n",
        "**Method 1**: Using NumPy array to form a matrix.\n",
        "\n",
        "**Method 2**: Using NumPy's inbuilt matrix function.\n",
        "\n",
        "**Method 3**: Using miscellaneois functions such as zeros(), ones(), etc."
      ]
    },
    {
      "cell_type": "markdown",
      "metadata": {},
      "source": [
        "- **Method 1**: Using array and reshape to convert array into matrix"
      ]
    },
    {
      "cell_type": "code",
      "execution_count": null,
      "metadata": {
        "tags": []
      },
      "outputs": [],
      "source": [
        "print(np.array([5,6,8,45,12,52]).reshape(2,3))\n"
      ]
    },
    {
      "cell_type": "markdown",
      "metadata": {},
      "source": [
        "- **Method II**: Using matrix function\n"
      ]
    },
    {
      "cell_type": "code",
      "execution_count": null,
      "metadata": {
        "tags": []
      },
      "outputs": [],
      "source": [
        "print(np.matrix([[1,2],[3,4]]))\n"
      ]
    },
    {
      "cell_type": "markdown",
      "metadata": {},
      "source": [
        "- **Method III**: Using misc. functions\n"
      ]
    },
    {
      "cell_type": "code",
      "execution_count": null,
      "metadata": {
        "tags": []
      },
      "outputs": [],
      "source": [
        "print(np.eye(3)) # Identity matrix\n"
      ]
    },
    {
      "cell_type": "code",
      "execution_count": null,
      "metadata": {
        "tags": []
      },
      "outputs": [],
      "source": [
        "print( np.zeros( (4,3) ) )\n"
      ]
    },
    {
      "cell_type": "code",
      "execution_count": null,
      "metadata": {
        "tags": []
      },
      "outputs": [],
      "source": [
        "print(np.ones( (3,3), dtype = np.float64 ))\n"
      ]
    },
    {
      "cell_type": "markdown",
      "metadata": {},
      "source": [
        "- **Useful Functions**:\n"
      ]
    },
    {
      "cell_type": "code",
      "execution_count": null,
      "metadata": {
        "tags": []
      },
      "outputs": [],
      "source": [
        "# NumPy array from 1 to 19\n",
        "print(np.arange(1,20,dtype='int32'))"
      ]
    },
    {
      "cell_type": "code",
      "execution_count": null,
      "metadata": {
        "tags": []
      },
      "outputs": [],
      "source": [
        "# NumPy array from 1 to 19 with step size 2\n",
        "print(np.arange(1,20,2,dtype='int8'))"
      ]
    },
    {
      "cell_type": "markdown",
      "metadata": {
        "id": "nlFjU1FsT5C1",
        "colab_type": "text"
      },
      "source": [
        "#### Practice Exercise:"
      ]
    },
    {
      "cell_type": "markdown",
      "metadata": {
        "id": "PuU4xLKQT5C2",
        "colab_type": "raw"
      },
      "source": [
        "1.  Store the marks and IDs of three students as NumPy arrays.\n",
        "    The marks are [20, 30, 40] and IDs are [0,2,4].\n",
        "    Store array for marks in a variable marks and the one for IDs in another variable ids.\n",
        "    Display both marks and ids.\n",
        "    \n",
        "2.  Given two NumPy arrays arr1 = [25, 56, 12, 85, 34, 75] and arr2 = [42, 3, 86, 32, 856, 46], solve the following:\n",
        "\n",
        "     a. Create a new NumPy array Narr with the shape equal to arr1 filled with random values.\n",
        "\n",
        "     b. Permanently change the dtype of arr1 to complex\n",
        "     \n",
        "     Hint:\n",
        "\n",
        "     Use np.random.rand()\n",
        "\n",
        "     Use astype(). \n",
        "     \n",
        "     Answer: [ 25.+0.j 56.+0.j 12.+0.j 85.+0.j 34.+0.j 75.+0.j]"
      ]
    },
    {
      "cell_type": "markdown",
      "metadata": {
        "id": "5c__ojKwT5C3",
        "colab_type": "text"
      },
      "source": [
        "## 3. Indexing and Slicing:"
      ]
    },
    {
      "cell_type": "markdown",
      "metadata": {
        "id": "LPRIfp4hT5C3",
        "colab_type": "text"
      },
      "source": [
        "### Indexing:\n",
        "\n",
        "We now know how to create different types of NumPy arrays and check their features. But how about accessing a particular value or taking a chunk of values from the array itself? In this topic, we are going to discuss exactly that.\n",
        "\n",
        "Like Python lists, the index starts at 0 for arrays as well. It follows the same pattern of array[start:stop: step]. Let us look at an example to observe this behaviour."
      ]
    },
    {
      "cell_type": "code",
      "execution_count": null,
      "metadata": {
        "tags": []
      },
      "outputs": [],
      "source": [
        "a = np.array([[1,2,3],[4,5,6],[7,8,9]])\n",
        "\n",
        "# Pull out second element of third row\n",
        "print(a[2][1])\n",
        "print('==========')\n",
        "# Pull out first two rows and columns\n",
        "print(a[:2,:2])\n",
        "print('==========')\n",
        "# Pull all elements of the third row\n",
        "print(a[2,:])"
      ]
    },
    {
      "cell_type": "markdown",
      "metadata": {},
      "source": [
        "### Integer Array Indexing:\n",
        "\n",
        "Integer array indexing allows you to construct arbitrary arrays using the data from another array. Let us understand from the example\n",
        "\n",
        "An example of integer array indexing:"
      ]
    },
    {
      "cell_type": "code",
      "execution_count": null,
      "metadata": {
        "tags": []
      },
      "outputs": [],
      "source": [
        "a=np.array([[1,2],[3,4],[5,6]])\n",
        "\n",
        "print(a[[0,1,2],[0,1,0]])\n",
        "print('==========')\n",
        "\n",
        "print(np.array([a[0,0],a[1,1],a[2,0]]))\n",
        "print('==========')\n",
        "\n",
        "print(a[[0,0],[1,1]])\n",
        "print('==========')\n",
        "\n",
        "print(np.array([a[0,1],a[0,1]]))"
      ]
    },
    {
      "cell_type": "markdown",
      "metadata": {},
      "source": [
        "Explanation: The print statements 1 & 2 and 3 & 4 yield the same results. In the first case, a[[0, 1, 2], [0, 1, 0]] essentially means we are indexing the value in first row-first column, second row-second column and third row-first column, which is the same as a[0, 0], a[1, 1], a[2, 0]]. Similarly, you should be able to deduce the logic behind the second case."
      ]
    },
    {
      "cell_type": "markdown",
      "metadata": {},
      "source": [
        "### Boolean Indexing:\n",
        "This type is generally used for comparison purposes. A boolean index array is of the same shape as the array-to-be-filtered and it contains only True and False values.\n",
        "\n",
        "Let's look at an example:"
      ]
    },
    {
      "cell_type": "code",
      "execution_count": null,
      "metadata": {
        "tags": []
      },
      "outputs": [],
      "source": [
        "a = np.array([[4,7,1],[2,5,7],[7,1,1]])\n",
        "\n",
        "# Boolean condition for values greater than 3\n",
        "mask = a > 3\n",
        "print(mask)\n",
        "\n",
        "# Masking for the above boolean condition in the array\n",
        "print(a[mask])"
      ]
    },
    {
      "cell_type": "markdown",
      "metadata": {},
      "source": [
        "#### Practice Exercise:\n",
        "\n",
        "- Create an array with values 3, 4.5, 3 + 5j and 0. Check the values are real or imaginary.\n",
        "\n",
        "Hint: Use functions .isreal(array) and .iscomplex(array)"
      ]
    },
    {
      "cell_type": "markdown",
      "metadata": {},
      "source": [
        "## 4. Vectorization:\n",
        "\n",
        "Vectorization is the ability of NumPy by which we can perform operations on entire arrays rather than on a single element.\n",
        "\n",
        "\n"
      ]
    },
    {
      "cell_type": "code",
      "execution_count": null,
      "metadata": {
        "tags": []
      },
      "outputs": [],
      "source": [
        "#Example:\n",
        "\n",
        "import numpy as np\n",
        "arr = np.array([1,2,3,4,5,6,7])\n",
        "print(arr[arr > 2])"
      ]
    },
    {
      "cell_type": "markdown",
      "metadata": {},
      "source": [
        "The output of above code block will be \"[3,4,5,6,7]\" as it compares each element being greater than or less than 2.\n"
      ]
    },
    {
      "cell_type": "markdown",
      "metadata": {},
      "source": [
        "**Vectorized Operations**:\n",
        "\n"
      ]
    },
    {
      "cell_type": "code",
      "execution_count": null,
      "metadata": {},
      "outputs": [],
      "source": [
        "# Creating two arrays for operations\n",
        "\n",
        "a = np.array([[1,2,3],[4,5,6],[7,8,9]])\n",
        "b = np.array([[10,11,12],[13,14,15],[16,17,18]])\n"
      ]
    },
    {
      "cell_type": "markdown",
      "metadata": {},
      "source": [
        "Addition :"
      ]
    },
    {
      "cell_type": "code",
      "execution_count": null,
      "metadata": {
        "tags": []
      },
      "outputs": [],
      "source": [
        "print(a+b)\n"
      ]
    },
    {
      "cell_type": "markdown",
      "metadata": {},
      "source": [
        "Substraction :"
      ]
    },
    {
      "cell_type": "code",
      "execution_count": null,
      "metadata": {
        "tags": []
      },
      "outputs": [],
      "source": [
        "print(a-b)"
      ]
    },
    {
      "cell_type": "markdown",
      "metadata": {},
      "source": [
        "Multiplication :"
      ]
    },
    {
      "cell_type": "code",
      "execution_count": null,
      "metadata": {
        "tags": []
      },
      "outputs": [],
      "source": [
        "print(a*b)"
      ]
    },
    {
      "cell_type": "markdown",
      "metadata": {},
      "source": [
        "Division :"
      ]
    },
    {
      "cell_type": "code",
      "execution_count": null,
      "metadata": {
        "tags": []
      },
      "outputs": [],
      "source": [
        "print(a/b)"
      ]
    },
    {
      "cell_type": "markdown",
      "metadata": {},
      "source": [
        "Square Root Transformation : "
      ]
    },
    {
      "cell_type": "code",
      "execution_count": null,
      "metadata": {
        "tags": []
      },
      "outputs": [],
      "source": [
        "a = np.array([[1,4,9],[16,25,36]])\n",
        "print(np.sqrt(a))"
      ]
    },
    {
      "cell_type": "markdown",
      "metadata": {},
      "source": [
        "**These functions can also be as**:\n",
        "\n",
        "1. np.add(a,b)\n",
        "2. np.substract(a,b)\n",
        "3. np.multiply(a,b)\n",
        "4. np.divide(a,b)\n",
        "5. np.sqrt(a)\n",
        "6. mp.log(a)"
      ]
    },
    {
      "cell_type": "markdown",
      "metadata": {},
      "source": [
        "**Practice usage of following aggregate functions**:\n",
        "\n",
        "1. a.sum()    Array-wise sum\n",
        "2. a.min()    Array-wise minimum value\n",
        "3. a.max(axis=0)    Maximum value of an array row\n",
        "4. a.cumsum(axis=1)    Cumulative sum of the elements\n",
        "5. a.mean()    Mean\n",
        "6. np.median(a)    Median\n",
        "7. np.corrcoef(a)    Correlation coefficient\n",
        "8. np.std(a)    Standard deviation\n",
        "\n",
        "\n",
        "Roots of a quadratic equation can also be calculated using NumPy:\n",
        "\n"
      ]
    },
    {
      "cell_type": "code",
      "execution_count": null,
      "metadata": {
        "tags": []
      },
      "outputs": [],
      "source": [
        "coefficients =  np.array([1,-4,4])\n",
        "roots = np.roots(coefficients)\n",
        "print(roots)"
      ]
    },
    {
      "cell_type": "markdown",
      "metadata": {},
      "source": [
        "### Array Comparison and Understanding Axes Notation:\n",
        "\n",
        "**Array Comparison**:\n",
        "\n",
        "Entire array can be compared to another array using function np.array_equal\n"
      ]
    },
    {
      "cell_type": "code",
      "execution_count": null,
      "metadata": {
        "tags": []
      },
      "outputs": [],
      "source": [
        "# Example:\n",
        "\n",
        "a = np.array([5,6,7,8])\n",
        "b = np.array([5,6,7,8])\n",
        "print(np.array_equal(a,b))"
      ]
    },
    {
      "cell_type": "markdown",
      "metadata": {},
      "source": [
        "It compares both size and elements of the array.\n"
      ]
    },
    {
      "cell_type": "markdown",
      "metadata": {},
      "source": [
        "### Axes Notation:\n",
        "\n",
        "Axes refer to a particular dimension of a multidimensional array. Axis determines whether the action will be performed row-wise, column-wise or on the whole array.\n",
        "\n",
        "Let's see an example:"
      ]
    },
    {
      "cell_type": "code",
      "execution_count": null,
      "metadata": {
        "tags": []
      },
      "outputs": [],
      "source": [
        "a = np.array([[2,5,7],[4,25,30]])\n",
        "\n",
        "# computes sum over columns\n",
        "print(a.sum(axis=0))\n",
        "print('==========')\n",
        "\n",
        "# computes sum over rows\n",
        "print(a.sum(axis=1))\n",
        "print('==========')\n",
        "\n",
        "# computes total sum\n",
        "print(a.sum())"
      ]
    },
    {
      "cell_type": "markdown",
      "metadata": {},
      "source": [
        "### Practice Exercise:\n",
        "\n",
        "We have a buy sell problem:\n",
        "\n",
        "Initialize an array [[40, 35, 20], [21, 48, 70]] which constitutes the prices on 2 consecutive day at 3 different sessions of the day. The objective is to buy at minimum price on day 1 and sell at maximum on day.\n",
        "\n",
        "1. Find the minimum price on day 1.\n",
        "2. Find the maximum price on day 2.\n",
        "3. Calculate the profit and print it.\n",
        "4. Find the index of the session on which buying and selling took place."
      ]
    },
    {
      "cell_type": "markdown",
      "metadata": {},
      "source": [
        "### Hint:\n",
        "\n",
        "1. Use array.min() and array.max() to find the minimum and maximum prices.\n",
        "2. Filter arrays for different days using array[0:] and array[1:]\n",
        "3. Index = list(array).index(value)"
      ]
    },
    {
      "cell_type": "markdown",
      "metadata": {},
      "source": [
        "## 5. Broadcasting:"
      ]
    },
    {
      "cell_type": "markdown",
      "metadata": {},
      "source": [
        "Have you wondered how this operation np.array([1, 2, 3]) + 4 was successfully carried out? It was all due to the broadcasting power of NumPy arrays. Let's discuss this property in details.\n",
        "\n",
        "In NumPy you do not need arrays to be of the same shape while performing operations among them until these conditions are satisfied:\n",
        "\n",
        "  1. If the arrays do not have the same rank, prepend the shape of the lower rank array with 1s until both shapes have the \n",
        "  same length.\n",
        "\n",
        "  2. The two arrays are said to be compatible in a dimension if they have the same size in the dimension, or if one of the \n",
        "  arrays has size 1 in that dimension.\n",
        "\n",
        "  3. The arrays can be broadcast together if they are compatible in all dimensions.\n",
        "\n",
        "  4. After broadcasting, each array behaves as if it had shape equal to the element-wise maximum of shapes of the two input \n",
        "  arrays.\n",
        "  \n",
        "  5. In any dimension where one array had size 1 and the other array had a size greater than 1, the first array behaves as \n",
        "  if it were copied along that dimension."
      ]
    },
    {
      "cell_type": "markdown",
      "metadata": {},
      "source": [
        "#### Print the following to visualize the above points:\n",
        "\n",
        "1. np.arange(3) + 4\n",
        "2. np.ones((3,3)) + np.arange(3)\n",
        "3. np.arange(3).reshape((3,1)) + np.arange(3)"
      ]
    },
    {
      "cell_type": "markdown",
      "metadata": {},
      "source": [
        "### Practice Exercise\n",
        "In this task, you will normalize i.e. subtract the minimum value and divide by the range:\n",
        "\n",
        "1. Create a random 5x5 matrix with the help of np.random.random((5,5))\n",
        "2. Calculate the minimum and maximum value with the help of .min() and .max() methods respectively\n",
        "3. Now using the power of broadcasting subtract the minimum value from each element and divide by their range (maximum-minimum) to normalize. Save this normalized as z_norm\n",
        "4. Print the standardized array"
      ]
    },
    {
      "cell_type": "markdown",
      "metadata": {},
      "source": [
        "### Mini Project:"
      ]
    },
    {
      "cell_type": "markdown",
      "metadata": {},
      "source": [
        "Let us build a project to learn more about NumPy:\n",
        "\n",
        "Features of the data set:\n",
        "\n",
        "Age: Age of the person \n",
        "\n",
        "education-num:    No. of years of education they had\n",
        "\n",
        "race: Person's race 0 - Amer-Indian-Eskimo <br>\n",
        "                    1 - Asian-Pac-Islander <br>\n",
        "                    2 - Black <br>\n",
        "                    3 - Other <br>\n",
        "                    4 - White <br>\n",
        "\n",
        "sex:    Person's gender\n",
        "        0 - Female <br>\n",
        "        1 - Male <br>\n",
        "        \n",
        "capital-gain: Income from investment sources, apart from wages/salary\n",
        "\n",
        "capital loss: Losses from investment sources, apart from wages/salary\n",
        "\n",
        "hours-per-week:    No. of hours per week the person works\n",
        "\n",
        "income:    Annual Income of the person <br>\n",
        "        0 : Less than or equal to 50K <br>\n",
        "        1 : More than 50K <br>"
      ]
    },
    {
      "cell_type": "markdown",
      "metadata": {},
      "source": [
        "## Step 1 : Read the Data! \n",
        "\n",
        "<Please add the file>"
      ]
    },
    {
      "cell_type": "code",
      "execution_count": null,
      "metadata": {},
      "outputs": [],
      "source": [
        "data_file ='makeSenseOfCensus.csv'"
      ]
    },
    {
      "cell_type": "markdown",
      "metadata": {},
      "source": [
        "### Loading the data"
      ]
    },
    {
      "cell_type": "code",
      "execution_count": null,
      "metadata": {},
      "outputs": [],
      "source": [
        "data = np.genfromtxt(data_file, delimiter=\",\", skip_header=1)\n",
        "\n",
        "# printing the data\n",
        "\n",
        "print(\"\\nData: \\n\\n\", data)"
      ]
    },
    {
      "cell_type": "markdown",
      "metadata": {},
      "source": [
        "#### Printing the type of data"
      ]
    },
    {
      "cell_type": "code",
      "execution_count": null,
      "metadata": {},
      "outputs": [],
      "source": [
        "print(\"\\nType of data: \\n\\n\", type(data))"
      ]
    },
    {
      "cell_type": "markdown",
      "metadata": {},
      "source": [
        "## Step 2 : Append the Data\n",
        "\n",
        "#### Append 'new_record' (given) to 'data' using \"np.concatenate()\"¶\n"
      ]
    },
    {
      "cell_type": "code",
      "execution_count": null,
      "metadata": {},
      "outputs": [],
      "source": [
        "new_record=[[50, 9, 4, 1, 0, 0, 40, 0]]"
      ]
    },
    {
      "cell_type": "markdown",
      "metadata": {},
      "source": [
        "## Step 3 : Check if it's a young country or old country"
      ]
    },
    {
      "cell_type": "markdown",
      "metadata": {},
      "source": [
        "- Create a new array called 'age' by taking only age column(age is the column with index 0) of 'census' array.\n",
        "\n",
        "- Find the max age and store it in a variable called 'max_age'.\n",
        "\n",
        "- Find the min age and store it in a variable called 'min_age'.\n",
        "\n",
        "- Find the mean of the age and store it in a variable called 'age_mean'.\n",
        "\n",
        "- Find the standard deviation of the age and store it in a variable called 'age_std'"
      ]
    },
    {
      "cell_type": "markdown",
      "metadata": {},
      "source": [
        "## Step 4: Let's check the country's race distribution to identify the minorities\n",
        "\n"
      ]
    },
    {
      "cell_type": "markdown",
      "metadata": {},
      "source": [
        "- Create four different arrays by subsetting 'census' array by Race column(Race is the column with index 2) and save them in 'race_0','race_1', 'race_2', 'race_3' and 'race_4' respectively(Meaning: Store the array where 'race'column has value 0 in 'race_0', so on and so forth)\n",
        "\n",
        "- Store the length of the above created arrays in 'len_0', 'len_1','len_2', 'len_3' and 'len_4' respectively\n",
        "\n",
        "- Find out which is the race with the minimum no. of citizens\n",
        "\n",
        "- Store the number associated with the minority race in a variable called 'minority_race'(For eg: if \"len(race_5)\" is the minimum, store 5 in 'minority_race' because that is the index of the race having the least no. of citizens )"
      ]
    },
    {
      "cell_type": "markdown",
      "metadata": {},
      "source": [
        "## Step 5: As per govt. records citizens above 60 should not work more than 25 hours a week. Let us check if the policy is in place\n",
        "\n"
      ]
    },
    {
      "cell_type": "markdown",
      "metadata": {},
      "source": [
        "- Create a new subset array called 'senior_citizens' by filtering 'census' according to age>60 (age is the column with index 0)\n",
        "\n",
        "- Add all the working hours(working hours is the column with index 6) of 'senior_citizens' and store it in a variable called 'working_hours_sum'\n",
        "\n",
        "- Find the length of 'senior_citizens' and store it in a variable called 'senior_citizens_len'\n",
        "\n",
        "- Finally find the average working hours of the senior citizens by dividing 'working_hours_sum' by 'senior_citizens_len' and store it in a variable called 'avg_working hours'.\n",
        "\n",
        "- Print 'avg_working_hours' and see if the govt. policy is followed."
      ]
    },
    {
      "cell_type": "markdown",
      "metadata": {},
      "source": [
        "## Step 6: Let's check that higher educated people have better pay in general.\n",
        "\n"
      ]
    },
    {
      "cell_type": "markdown",
      "metadata": {},
      "source": [
        "- Create two new subset arrays called 'high' and 'low' by filtering 'census' according to education-num>10 and education-num<=10 (education-num is the column with index 1) respectively.\n",
        "\n",
        "- Find the mean of income column(income is the column with index 7) of 'high' array and store it in 'avg_pay_high'. Do the same for 'low' array and store it's mean in 'avg_pay_low'.\n",
        "\n"
      ]
    },
    {
      "cell_type": "markdown",
      "metadata": {},
      "source": [
        "### Project :"
      ]
    },
    {
      "cell_type": "markdown",
      "metadata": {},
      "source": [
        "Let us build a complete project using NumPy (without any help).\n",
        "\n",
        "#### Path: project_data = 'KAG_Conversion_Data.csv'\n",
        "\n",
        "#### Features:\n",
        "\n",
        "1. ad_id:    unique ID for each ad\n",
        "2. xyzcampaignid:    an ID associated with each ad campaign of XYZ company\n",
        "3. fbcampaignid:    an ID associated with how Facebook tracks each campaign\n",
        "4. age:    age of the person to whom the ad is shown\n",
        "5. gender:    gender of the person to whom the add is shown\n",
        "6. interest:    a code specifying the category to which the person’s interest belongs (interests are as mentioned in the person’s Facebook public profile)\n",
        "7. Impressions:    the number of times the ad was shown\n",
        "8. Clicks:    number of clicks on for that ad\n",
        "9. Spent:    Amount paid by company xyz to Facebook, to show that ad\n",
        "10. Total conversion:    Total number of people who enquired about the product after seeing the ad\n",
        "11. Approved conversion:    Total number of people who bought the product after seeing the ad"
      ]
    },
    {
      "cell_type": "markdown",
      "metadata": {},
      "source": [
        "#### Instructions:\n",
        "\n",
        "- Load the data. Data is already given to you in variable path\n",
        "\n",
        "- How many unique ad campaigns (xyzcampaignid) does this data contain ? And for how many times was each campaign run ?\n",
        "\n",
        "- What are the age groups that were targeted through these ad campaigns?\n",
        "\n",
        "- What was the average, minimum and maximum amount spent on the ads?\n",
        "\n",
        "- What is the id of the ad having the maximum number of clicks ?\n",
        "\n",
        "- How many people bought the product after seeing the ad with most clicks? Is that the maximum number of purchases in this dataset?\n",
        "\n",
        "- So the ad with the most clicks didn't fetch the maximum number of purchases. Find the details of the product having maximum number of purchases"
      ]
    }
  ],
  "metadata": {
    "kernelspec": {
      "display_name": "Python 3.8.3 64-bit",
      "language": "python",
      "name": "python_defaultSpec_1594911538685"
    },
    "language_info": {
      "codemirror_mode": {
        "name": "ipython",
        "version": 3
      },
      "file_extension": ".py",
      "mimetype": "text/x-python",
      "name": "python",
      "nbconvert_exporter": "python",
      "pygments_lexer": "ipython3",
      "version": "3.7.3"
    },
    "colab": {
      "name": "Numpy.ipynb",
      "provenance": []
    }
  },
  "nbformat": 4,
  "nbformat_minor": 0
}