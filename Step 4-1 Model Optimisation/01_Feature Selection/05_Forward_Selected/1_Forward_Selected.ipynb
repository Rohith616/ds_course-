{
  "nbformat": 4,
  "nbformat_minor": 0,
  "metadata": {
    "colab": {
      "name": "q05_forward_selected.ipynb",
      "provenance": []
    },
    "kernelspec": {
      "name": "python3",
      "display_name": "Python 3"
    }
  },
  "cells": [
    {
      "cell_type": "code",
      "metadata": {
        "id": "C7crG787c4Ld",
        "colab_type": "code",
        "colab": {}
      },
      "source": [
        "# Default imports\n",
        "import pandas as pd\n",
        "from sklearn.linear_model import LinearRegression\n",
        "\n",
        "data = pd.read_csv('data/house_prices_multivariate.csv')\n",
        "\n",
        "model = LinearRegression()\n",
        "\n",
        "\n",
        "# Your solution code here\n",
        "from  sklearn.metrics import r2_score\n",
        "from operator import itemgetter\n",
        "import numpy as np\n",
        "\n",
        "def get_r2score_for_feature(X,y,featurename):\n",
        "    model.fit(X,y)\n",
        "    return list((featurename, r2_score(y, model.predict(X))))\n",
        "\n",
        "def get_featurelist_for_iteration(selected_features,columnname):\n",
        "    # created to get new list with additonal value.Note: Append does in place add.\n",
        "    iteration_features =selected_features[:]\n",
        "    iteration_features.append (columnname)\n",
        "    return iteration_features\n",
        "\n",
        "def forward_selected (data, model):\n",
        "    features, target_variable = data.iloc[:,:-1], data.iloc[:,-1]\n",
        "    selected_features =list()\n",
        "    selected_r2_scores= list()\n",
        "\n",
        "    #start with zero feature and keep adding one in each iteration\n",
        "    for i in range (1,len(features.columns) ):\n",
        "        # Add each feature one at a time and check the r2square and get best one\n",
        "        scores_iterations = [ get_r2score_for_feature(\n",
        "                                                    features.loc[:\n",
        "                                                        , get_featurelist_for_iteration (\n",
        "                                                            selected_features,colname)]\n",
        "                                                    ,target_variable, colname)\n",
        "                            for colname in features]\n",
        "\n",
        "        scores_iterations = sorted(scores_iterations, key=itemgetter(1),reverse=True)\n",
        "\n",
        "        # add details of best_feature selected in iteration to carry forward next iteration\n",
        "        selected_features.append( scores_iterations[0][0])\n",
        "        selected_r2_scores.append( scores_iterations[0][1])\n",
        "\n",
        "    return selected_features, selected_r2_scores"
      ],
      "execution_count": 8,
      "outputs": []
    }
  ]
}
