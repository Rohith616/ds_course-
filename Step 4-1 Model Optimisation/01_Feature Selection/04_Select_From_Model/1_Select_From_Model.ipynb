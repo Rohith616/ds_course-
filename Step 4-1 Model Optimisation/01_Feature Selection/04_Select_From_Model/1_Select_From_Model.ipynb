{
  "nbformat": 4,
  "nbformat_minor": 0,
  "metadata": {
    "colab": {
      "name": "q04_select_from_model.ipynb",
      "provenance": []
    },
    "kernelspec": {
      "name": "python3",
      "display_name": "Python 3"
    }
  },
  "cells": [
    {
      "cell_type": "code",
      "metadata": {
        "id": "C7crG787c4Ld",
        "colab_type": "code",
        "colab": {}
      },
      "source": [
        "# Default imports\n",
        "from sklearn.feature_selection import SelectFromModel\n",
        "from sklearn.ensemble import RandomForestClassifier\n",
        "import pandas as pd\n",
        "import numpy as np\n",
        "\n",
        "data = pd.read_csv('house_prices_multivariate.csv')\n",
        "\n",
        "\n",
        "# Your solution code here\n",
        "def select_from_model(df):\n",
        "    X=df.iloc[:,:-1]\n",
        "    y=df.iloc[:,-1:]\n",
        "    model=RandomForestClassifier()\n",
        "    model.fit(X,y)\n",
        "    sf=SelectFromModel(model,prefit=True)\n",
        "    features=X.columns[sf.get_support()==True]\n",
        "    return features.tolist()"
      ],
      "execution_count": 8,
      "outputs": []
    }
  ]
}
