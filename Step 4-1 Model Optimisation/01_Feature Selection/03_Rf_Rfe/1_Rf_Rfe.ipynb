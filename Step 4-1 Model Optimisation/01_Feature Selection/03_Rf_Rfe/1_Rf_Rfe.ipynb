{
  "nbformat": 4,
  "nbformat_minor": 0,
  "metadata": {
    "colab": {
      "name": "q03_rf_rfe.ipynb",
      "provenance": []
    },
    "kernelspec": {
      "name": "python3",
      "display_name": "Python 3"
    }
  },
  "cells": [
    {
      "cell_type": "code",
      "metadata": {
        "id": "C7crG787c4Ld",
        "colab_type": "code",
        "colab": {}
      },
      "source": [
        "# Default imports\n",
        "\n",
        "import pandas as pd\n",
        "import numpy as np\n",
        "\n",
        "data = pd.read_csv('data/house_prices_multivariate.csv')\n",
        "\n",
        "from sklearn.feature_selection import RFE\n",
        "from sklearn.ensemble import RandomForestClassifier\n",
        "\n",
        "\n",
        "# Your solution code here\n",
        "def rf_rfe(df):\n",
        "    X=df.iloc[:,:-1]\n",
        "    y=df.iloc[:,-1]\n",
        "    model=RandomForestClassifier()\n",
        "    rfe=RFE(model)\n",
        "    rfe.fit(X,y)\n",
        "    features=X.columns[rfe.ranking_ == 1]\n",
        "\n",
        "    return features.tolist()"
      ],
      "execution_count": 4,
      "outputs": []
    }
  ]
}
