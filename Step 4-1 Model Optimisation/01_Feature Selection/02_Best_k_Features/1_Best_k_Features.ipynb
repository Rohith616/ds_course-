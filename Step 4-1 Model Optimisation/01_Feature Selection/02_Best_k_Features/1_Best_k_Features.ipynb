{
  "nbformat": 4,
  "nbformat_minor": 0,
  "metadata": {
    "colab": {
      "name": "q02_best_k_features.ipynb",
      "provenance": []
    },
    "kernelspec": {
      "name": "python3",
      "display_name": "Python 3"
    }
  },
  "cells": [
    {
      "cell_type": "code",
      "metadata": {
        "id": "C7crG787c4Ld",
        "colab_type": "code",
        "colab": {}
      },
      "source": [
        "# Default imports\n",
        "\n",
        "import pandas as pd\n",
        "import numpy as np\n",
        "\n",
        "data = pd.read_csv('data/house_prices_multivariate.csv')\n",
        "\n",
        "from sklearn.feature_selection import SelectPercentile\n",
        "from sklearn.feature_selection import f_regression\n",
        "\n",
        "\n",
        "# Write your solution here:\n",
        "def percentile_k_features(df,k=20):\n",
        "\n",
        "    X=df.iloc[:,:-1]\n",
        "    y=df.iloc[:,-1]\n",
        "    features=X.columns\n",
        "    sp=SelectPercentile(f_regression,percentile=k)\n",
        "    sp.fit_transform(X,y)\n",
        "    imp_features=[features[i] for i in np.argsort(sp.scores_)[::-1]]\n",
        "    return imp_features[:7]"
      ],
      "execution_count": 4,
      "outputs": []
    }
  ]
}
