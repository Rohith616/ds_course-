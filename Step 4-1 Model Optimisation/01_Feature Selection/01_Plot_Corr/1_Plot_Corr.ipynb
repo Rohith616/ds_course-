{
  "nbformat": 4,
  "nbformat_minor": 0,
  "metadata": {
    "colab": {
      "name": "q01_plot_corr.ipynb",
      "provenance": []
    },
    "kernelspec": {
      "name": "python3",
      "display_name": "Python 3"
    }
  },
  "cells": [
    {
      "cell_type": "code",
      "metadata": {
        "id": "C7crG787c4Ld",
        "colab_type": "code",
        "colab": {}
      },
      "source": [
        "# Default imports\n",
        "import pandas as pd\n",
        "from matplotlib.pyplot import yticks, xticks, subplots, set_cmap\n",
        "\n",
        "data = pd.read_csv('data/house_prices_multivariate.csv')\n",
        "\n",
        "\n",
        "# Write your solution here:\n",
        "def plot_corr(data,size=11):\n",
        "    corr = data.corr()\n",
        "    fig, ax = subplots(figsize=(size, size))\n",
        "    set_cmap(\"YlOrRd\")\n",
        "    ax.matshow(corr)\n",
        "    xticks(range(len(corr.columns)), corr.columns, rotation=90)\n",
        "    yticks(range(len(corr.columns)), corr.columns)\n",
        "    return ax"
      ],
      "execution_count": 2,
      "outputs": []
    }
  ]
}
