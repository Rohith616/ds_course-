{
  "nbformat": 4,
  "nbformat_minor": 0,
  "metadata": {
    "language_info": {
      "codemirror_mode": {
        "name": "ipython",
        "version": 3
      },
      "file_extension": ".py",
      "mimetype": "text/x-python",
      "name": "python",
      "nbconvert_exporter": "python",
      "pygments_lexer": "ipython3",
      "version": 3
    },
    "orig_nbformat": 2,
    "kernelspec": {
      "name": "python_defaultSpec_1594304659779",
      "display_name": "Python 3.8.3 64-bit"
    },
    "colab": {
      "name": "Step1-2a_SQL_01.ipynb",
      "provenance": [],
      "collapsed_sections": []
    }
  },
  "cells": [
    {
      "cell_type": "markdown",
      "metadata": {
        "id": "NRiYVbt1t0eD",
        "colab_type": "text"
      },
      "source": [
        "## Getting Started with SQL\n",
        "\n",
        "Databases are everywhere!\n",
        "\n",
        "Even though, when learning data science you’ve only dealt with CSVs, that will hardly resemble reality since most companies tend to store data into databases.\n",
        "\n",
        "### What is SQL ? \n",
        "\n",
        "- SQL stands for Structured Query Language\n",
        "- SQL lets you access and manipulate databases\n",
        "\n",
        "### What Can SQL do for you ?\n",
        "\n",
        "- SQL can execute queries from databases - That means you can ask questions from the database and it will answer you !\n",
        "- You can extract data and information from the database and use it\n",
        "- You can Insert your own data into the databases\n",
        "\n",
        "And so Much more! That this notebook will help you accomplish\n"
      ]
    },
    {
      "cell_type": "markdown",
      "metadata": {
        "id": "g3ojn-Fbt0eE",
        "colab_type": "text"
      },
      "source": [
        "## Components of a SQL ecosystem \n",
        "\n",
        "Any SQL system has one major component that is the database  \n",
        "\n",
        "Databases ⇉ Tables ⇉ Queries"
      ]
    },
    {
      "cell_type": "code",
      "metadata": {
        "tags": [],
        "id": "WW1ad4kyt0eF",
        "colab_type": "code",
        "colab": {}
      },
      "source": [
        "## Getting some pip libraries incase your environment does not have it \n",
        "!pip3 install ipython-sql\n",
        "!pip3 install sqlalchemy-utils"
      ],
      "execution_count": null,
      "outputs": []
    },
    {
      "cell_type": "markdown",
      "metadata": {
        "id": "AXv8b7Trt0eJ",
        "colab_type": "text"
      },
      "source": [
        "## Set up your own MySQL Server \n",
        "\n",
        "To get started with SQL first you need local SQL-based service running on your system to get this done we will be implementing a Mysql server so that you can get started with creating and interacting with your databases \n",
        "\n",
        "### If you are a MAC user \n",
        "\n",
        "Download the pkg from from the this link https://dev.mysql.com/doc/refman/5.7/en/osx-installation-pkg.html\n",
        "\n",
        "Follow the steps along to have a server running on your local server \n",
        "During the steps you might have created a project -> for this setup use the password as \"musu1234\" So that we have default value to use in this set up process\n",
        "\n",
        "In your terminal perform the command\n",
        "\n",
        "#### /usr/local/mysql/bin/mysql -u root -p\n",
        "\n",
        "Once inside the mysql\n",
        "\n",
        "#### create database techisDB;\n",
        "\n",
        "### If you are a Windows user\n",
        "\n",
        "#### Note : Have not tested yet , will make a window VM and test soon\n",
        "\n",
        "For windows , download from https://dev.mysql.com/downloads/installer/ and install for the architecture that your hardware supports\n",
        "\n",
        "Another source that helps in intial set up is https://dev.mysql.com/doc/mysql-getting-started/en/\n",
        "\n",
        "On Windows, click Start, All Programs, MySQL, MySQL 5.7 Command Line Client\n",
        "\n",
        "And then in the environment \n",
        "\n",
        "#### C:\\> mysql -u root -p\n",
        "\n",
        "and when inside , create our reference database\n",
        "\n",
        "#### create database techisDB;\n",
        "\n",
        "\n",
        "\n",
        "\n",
        "\n",
        "\n"
      ]
    },
    {
      "cell_type": "markdown",
      "metadata": {
        "id": "GgfOEm9It0eK",
        "colab_type": "text"
      },
      "source": [
        "## Connecting to your MySQL Server\n",
        "\n",
        "Now we are going to access and work on the SQL system that we have set up inside the python environment using the mysql library"
      ]
    },
    {
      "cell_type": "code",
      "metadata": {
        "id": "NWGn8cmst0eK",
        "colab_type": "code",
        "colab": {}
      },
      "source": [
        "import mysql.connector\n",
        "from mysql.connector import Error\n",
        "import pandas as pd\n",
        "\n",
        "connection = mysql.connector.connect(host='localhost',\n",
        "                                    database='techisDB',\n",
        "                                    user='root',\n",
        "                                    password='musu1234')"
      ],
      "execution_count": null,
      "outputs": []
    },
    {
      "cell_type": "markdown",
      "metadata": {
        "id": "FAZCambCt0eN",
        "colab_type": "text"
      },
      "source": [
        "## CREATE Table Queries\n",
        "\n",
        "Before you start using your SQL , let us create a table to get started  \n",
        "\n"
      ]
    },
    {
      "cell_type": "code",
      "metadata": {
        "tags": [],
        "id": "b-H7zJcGt0eO",
        "colab_type": "code",
        "colab": {},
        "outputId": "889abb9b-abb0-4c08-fe5f-cb83f112fc52"
      },
      "source": [
        "mySql_Create_Table_Query = \"\"\"CREATE TABLE Laptop( \n",
        "                             Id int(11) NOT NULL,\n",
        "                             Name varchar(250) NOT NULL,\n",
        "                             Price float NOT NULL,\n",
        "                             Purchase_date Date NOT NULL,\n",
        "                             PRIMARY KEY (Id)) \"\"\"\n",
        "        \n",
        "cursor = connection.cursor()\n",
        "result = cursor.execute(mySql_Create_Table_Query)\n",
        "print(\"Laptop Table created successfully \")"
      ],
      "execution_count": null,
      "outputs": [
        {
          "output_type": "stream",
          "text": [
            "Laptop Table created successfully \n"
          ],
          "name": "stdout"
        }
      ]
    },
    {
      "cell_type": "markdown",
      "metadata": {
        "id": "j0W2wEBKt0eT",
        "colab_type": "text"
      },
      "source": [
        "## INSERT Queries"
      ]
    },
    {
      "cell_type": "code",
      "metadata": {
        "tags": [],
        "id": "LLohoiKgt0eT",
        "colab_type": "code",
        "colab": {},
        "outputId": "73125743-0943-4df7-aa80-7c73a4528f66"
      },
      "source": [
        "mySql_insert_query = \"\"\"INSERT INTO Laptop (Id, Name, Price, Purchase_date) \n",
        "                        VALUES \n",
        "                        (10, 'Lenovo ThinkPad P71', 6459, '2020-08-14') \"\"\"\n",
        "\n",
        "cursor = connection.cursor()\n",
        "cursor.execute(mySql_insert_query)\n",
        "connection.commit()\n",
        "print(cursor.rowcount, \"Record inserted successfully into Laptop table\")\n",
        "cursor.close()"
      ],
      "execution_count": null,
      "outputs": [
        {
          "output_type": "stream",
          "text": [
            "1 Record inserted successfully into Laptop table\n"
          ],
          "name": "stdout"
        },
        {
          "output_type": "execute_result",
          "data": {
            "text/plain": [
              "True"
            ]
          },
          "metadata": {
            "tags": []
          },
          "execution_count": 2
        }
      ]
    },
    {
      "cell_type": "markdown",
      "metadata": {
        "id": "lI0sqSQAt0eW",
        "colab_type": "text"
      },
      "source": [
        "Now let's make this process much easier by creating a python function that helps us add more records into our Laptop table more easily!"
      ]
    },
    {
      "cell_type": "code",
      "metadata": {
        "tags": [],
        "id": "9yuVlqFit0eX",
        "colab_type": "code",
        "colab": {},
        "outputId": "9fdc7d34-b689-481c-b68f-c7405eeb1140"
      },
      "source": [
        "def insertVariblesIntoTable(id, name, price, purchase_date):\n",
        "    cursor = connection.cursor()\n",
        "    mySql_insert_query = \"\"\"INSERT INTO Laptop (Id, Name, Price, Purchase_date) \n",
        "                            VALUES (%s, %s, %s, %s) \"\"\"\n",
        "\n",
        "    recordTuple = (id, name, price, purchase_date)\n",
        "    cursor.execute(mySql_insert_query, recordTuple)\n",
        "    connection.commit()\n",
        "    print(\"Record inserted successfully into Laptop table\")\n",
        "\n",
        "\n",
        "insertVariblesIntoTable(2, 'Area 51M', 6999, '2019-04-14')\n",
        "insertVariblesIntoTable(3, 'MacBook Pro', 2499, '2019-06-20')"
      ],
      "execution_count": null,
      "outputs": [
        {
          "output_type": "stream",
          "text": [
            "Record inserted successfully into Laptop table\n",
            "Record inserted successfully into Laptop table\n"
          ],
          "name": "stdout"
        }
      ]
    },
    {
      "cell_type": "markdown",
      "metadata": {
        "id": "EuYR9AElt0ea",
        "colab_type": "text"
      },
      "source": [
        "## SELECTING data from SQL"
      ]
    },
    {
      "cell_type": "code",
      "metadata": {
        "tags": [],
        "id": "0MJaNMJMt0ea",
        "colab_type": "code",
        "colab": {},
        "outputId": "3f6bd01f-c740-48bc-edd1-384941757d79"
      },
      "source": [
        "# To check some version of our DB\n",
        "db_Info = connection.get_server_info()\n",
        "print(\"Connected to MySQL Server version \", db_Info)\n",
        "\n",
        "cursor = connection.cursor()\n",
        "cursor.execute(\"select * from techisDB.Laptop\")\n",
        "query = cursor.fetchall()\n",
        "PylibDB = pd.DataFrame(query, columns=cursor.column_names)\n",
        "\n",
        "display(PylibDB)\n"
      ],
      "execution_count": null,
      "outputs": [
        {
          "output_type": "stream",
          "text": [
            "Connected to MySQL Server version  8.0.20\n"
          ],
          "name": "stdout"
        },
        {
          "output_type": "display_data",
          "data": {
            "text/plain": [
              "   Id                 Name   Price Purchase Data\n",
              "0   2             Area 51M  6999.0    2019-04-14\n",
              "1   3          MacBook Pro  2499.0    2019-06-20\n",
              "2  10  Lenovo ThinkPad P71  6459.0    2020-08-14"
            ],
            "text/html": [
              "<div>\n",
              "<style scoped>\n",
              "    .dataframe tbody tr th:only-of-type {\n",
              "        vertical-align: middle;\n",
              "    }\n",
              "\n",
              "    .dataframe tbody tr th {\n",
              "        vertical-align: top;\n",
              "    }\n",
              "\n",
              "    .dataframe thead th {\n",
              "        text-align: right;\n",
              "    }\n",
              "</style>\n",
              "<table border=\"1\" class=\"dataframe\">\n",
              "  <thead>\n",
              "    <tr style=\"text-align: right;\">\n",
              "      <th></th>\n",
              "      <th>Id</th>\n",
              "      <th>Name</th>\n",
              "      <th>Price</th>\n",
              "      <th>Purchase Data</th>\n",
              "    </tr>\n",
              "  </thead>\n",
              "  <tbody>\n",
              "    <tr>\n",
              "      <th>0</th>\n",
              "      <td>2</td>\n",
              "      <td>Area 51M</td>\n",
              "      <td>6999.0</td>\n",
              "      <td>2019-04-14</td>\n",
              "    </tr>\n",
              "    <tr>\n",
              "      <th>1</th>\n",
              "      <td>3</td>\n",
              "      <td>MacBook Pro</td>\n",
              "      <td>2499.0</td>\n",
              "      <td>2019-06-20</td>\n",
              "    </tr>\n",
              "    <tr>\n",
              "      <th>2</th>\n",
              "      <td>10</td>\n",
              "      <td>Lenovo ThinkPad P71</td>\n",
              "      <td>6459.0</td>\n",
              "      <td>2020-08-14</td>\n",
              "    </tr>\n",
              "  </tbody>\n",
              "</table>\n",
              "</div>"
            ]
          },
          "metadata": {
            "tags": []
          }
        }
      ]
    }
  ]
}
