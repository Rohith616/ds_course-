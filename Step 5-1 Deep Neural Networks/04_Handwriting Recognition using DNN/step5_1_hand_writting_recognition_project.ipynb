{
 "cells": [
  {
   "cell_type": "markdown",
   "metadata": {
    "id": "xx9Oh1BI7Thk"
   },
   "source": [
    "# Deep Neural Network with Keras for MNIST handwritten classification and recognition\n",
    "\n",
    "Welcome to this end-to-end project that will include various design logics that are required to create stable training and evaluation deep neural network models !\n",
    "\n",
    "We are going to employ the keras based python deep learning framework that readily offers complex mathematical layers that compute and form weights that are resultant of the data the model is viewing and learning from and then predict on new dataset.\n",
    "\n",
    "Keras automates large amount of mathetmatical design that helps to rapidly develop and protype datasets and ML logic\n",
    "\n",
    "![keras basic nn](https://user-images.githubusercontent.com/67789350/102743004-6dad1f00-437c-11eb-9c77-b1c97bceafaf.png)"
   ]
  },
  {
   "cell_type": "markdown",
   "metadata": {
    "id": "RgczKUsh-H5X"
   },
   "source": [
    "## Section O : Things to Know \n",
    "\n",
    "- Understand how to call in or import [Keras-Based](https://en.wikipedia.org/wiki/Keras) mathematical layers into your colab environment \n",
    "- Spend time on how a neural network is built and the logic to implement efficient and [Optimal Training Networks](https://en.wikipedia.org/wiki/Convolutional_neural_network) for image classification \n",
    "- Explore the official documentation about the [MNIST Dataset](https://en.wikipedia.org/wiki/MNIST_database)"
   ]
  },
  {
   "source": [
    "## Section D : Load the data in \n",
    "\n",
    "- Let's load in the dataset using Keras "
   ],
   "cell_type": "markdown",
   "metadata": {}
  },
  {
   "cell_type": "code",
   "execution_count": null,
   "metadata": {},
   "outputs": [],
   "source": [
    "from keras.datasets import mnist \n",
    "\n",
    "(trainsetX, trainsety),(testsetX,testsety) = mnist.load_data()\n",
    "\n",
    "print('Train: X = {}, y = {}'.format(trainsetX.shape, trainsety.shape)) \n",
    "print('Test: X = {}, y = {}'.format(testsetX.shape, testsety.shape))"
   ]
  },
  {
   "cell_type": "markdown",
   "metadata": {
    "id": "i6lRzTMG890M"
   },
   "source": [
    "## Section I.I : Initial Data Indagation\n",
    "\n",
    "- Start off by understanding what MNIST Data is in more detail\n",
    "- Note down the dimensions and other practical information about the MNIST dataset\n",
    "- Load in the dataset into your Colab Environment [Using Keras Datasets]\n",
    "\n",
    "## Section I.II : Initial EDA\n",
    "\n",
    "- Explore the datasets descriptive statistics if needed\n",
    "- Create graphs of the counts of each class\n",
    "- Make deductions upon the class distribution "
   ]
  },
  {
   "cell_type": "markdown",
   "metadata": {
    "id": "vyyI_722IvLG"
   },
   "source": [
    "## Section II : Data Preparation \n",
    "\n",
    "- Normalize the pixel value of the all images \n",
    "- Why is scaling of the pixel value required ? Make a note\n",
    "- Explain the difference between pre-processed images and the normalized images"
   ]
  },
  {
   "cell_type": "markdown",
   "metadata": {
    "id": "QkIDvJroJnZc"
   },
   "source": [
    "## Section III : Model Construction \n",
    "\n",
    "- What sort of Neural Network would you employ for this problem statement ?\n",
    "- Write down the skeleton flow of the model \n",
    "- Create a baseline model \n",
    "- Train the model"
   ]
  },
  {
   "cell_type": "markdown",
   "metadata": {
    "id": "-R0hSkOZLats"
   },
   "source": [
    "## Section IV : Model Evaluation \n",
    "\n",
    "- It is recommeded to to use Kfolds to evaluate your model, what other validation process could you employ ? \n",
    "- What would be the best value for K and why for this baseline model \n",
    "- Evaluate the model accordingly and make a note of it's performance with respect to it's accuracy"
   ]
  },
  {
   "cell_type": "markdown",
   "metadata": {
    "id": "LJHCFBysNVkw"
   },
   "source": [
    "##Section V : Model Evaluation Metrics \n",
    "\n",
    "- Create Graphical plots of the model performance on the train and test set during individual folds\n",
    "- Is your model overfitting , underfitting or has the optimum fit ? Provide reasoning \n",
    "- Get the loss and validation loss of the model and also the accuracy and the validation accuracy \n",
    "- What are your inferences about the model performance ? Can you summarize your observations ? "
   ]
  },
  {
   "cell_type": "markdown",
   "metadata": {
    "id": "VcxoBCyvzQkD"
   },
   "source": [
    "## Section VI : Improving your models \n",
    "\n",
    "- What are some ways you can improve the performance of of your baseline model ? \n",
    "- Change some hyperparameters and observe the performance \n",
    "- Make note in the difference in performance between the baseline model and your improved model"
   ]
  },
  {
   "cell_type": "markdown",
   "metadata": {
    "id": "qXcpgTgPz3xv"
   },
   "source": [
    "## Section VII : Improve the depth \n",
    "\n",
    "- Add more convolutional layers to your baseline model\n",
    "- Increase the filter size of the conv layer as well  \n",
    "- Add the pooling layers suitably\n",
    "- Compare the performance of the model with the baseline model\n",
    "- How much did the model improve? \n",
    "- What are the merits and demerits of increasing the depth of the model ?\n",
    "- Save the final model\n"
   ]
  }
 ],
 "metadata": {
  "colab": {
   "name": "step5-1_hand_writting_recognition_project.ipynb",
   "provenance": []
  },
  "kernelspec": {
   "display_name": "Python 3",
   "language": "python",
   "name": "python3"
  },
  "language_info": {
   "codemirror_mode": {
    "name": "ipython",
    "version": 3
   },
   "file_extension": ".py",
   "mimetype": "text/x-python",
   "name": "python",
   "nbconvert_exporter": "python",
   "pygments_lexer": "ipython3",
   "version": "3.7.6"
  }
 },
 "nbformat": 4,
 "nbformat_minor": 4
}