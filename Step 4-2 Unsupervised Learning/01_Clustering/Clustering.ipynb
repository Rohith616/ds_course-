{
 "cells": [
  {
   "cell_type": "markdown",
   "metadata": {},
   "source": [
    "# Clustering - Introduction"
   ]
  },
  {
   "cell_type": "markdown",
   "metadata": {},
   "source": [
    "Imagine grouping your friends based on a their likes, dislikes, interests ,behaviour.\n",
    "\n",
    "Now let us regroup them based on the common characteristics they share.\n",
    "\n",
    "Keep iterating the above steps till you get groups of friends who shares most \n",
    "\n",
    "characteristics.\n",
    "\n",
    "The task we achieved in the above process is termed as clustering.\n",
    "\n",
    "\n",
    "\n",
    "Now , let us understand clustering of data points with the help of this example.\n",
    "\n",
    "Assume your friends to be the data points, the similarity between them as the distance \n",
    "\n",
    "between these data points.If two friends are more similar ,in XY plane it means two data \n",
    "\n",
    "points with lesser distance between them.\n"
   ]
  },
  {
   "cell_type": "markdown",
   "metadata": {},
   "source": [
    "![Clust_intro.png](https://upload.wikimedia.org/wikipedia/commons/thumb/e/e5/KMeans-Gaussian-data.svg/434px-KMeans-Gaussian-data.svg.png)\n"
   ]
  },
  {
   "cell_type": "markdown",
   "metadata": {},
   "source": [
    "In Machine learning,Clustering is an unsupervised algorithm, since there are no labels to predict.\n",
    "\n",
    "\n",
    "Why do we cluster data since we have nothing to predict?\n",
    "\n",
    "That’s to study the underlying patterns of data.\n",
    "\n",
    "Out of many clustering algorithms that we have,K-means clustering is one of the simplest \n",
    "\n",
    "and popular unsupervised machine learning algorithms.\n"
   ]
  },
  {
   "cell_type": "markdown",
   "metadata": {},
   "source": [
    "# Applications of Clustering"
   ]
  },
  {
   "cell_type": "markdown",
   "metadata": {},
   "source": [
    "### Few Use cases of Clustering are defined here:\n",
    "\n",
    "\n",
    "1. Market segmentation\n",
    "\n",
    "\n",
    "2. Social network analysis\n",
    "\n",
    "\n",
    "3. Search result grouping\n",
    "\n",
    "\n",
    "4. Image segmentation\n",
    "\n",
    "\n",
    "5. Anomaly detection"
   ]
  },
  {
   "cell_type": "markdown",
   "metadata": {},
   "source": [
    "# Types of Clustering Algorithms"
   ]
  },
  {
   "cell_type": "markdown",
   "metadata": {},
   "source": [
    "1. Centroid-based Clustering\n",
    "\n",
    "\n",
    "2. Density-based Clustering\n",
    "\n",
    "\n",
    "3. Distribution-based Clustering\n",
    "\n",
    "\n",
    "4. Hierarchical Clustering"
   ]
  },
  {
   "cell_type": "markdown",
   "metadata": {},
   "source": [
    "A important step involved in any clustering algorithm is choosing a metric based on which we are\n",
    "going to classify if any two points are similar or not.\n",
    "\n",
    "The similarity metric we are using here is Eucledian distance."
   ]
  },
  {
   "cell_type": "markdown",
   "metadata": {},
   "source": [
    "## What is Eucledian distance?"
   ]
  },
  {
   "cell_type": "markdown",
   "metadata": {},
   "source": [
    "Euclidean distance is one of most commonly used distance measurements. The figure below \n",
    "\n",
    "shows how to calculate euclidean distance between two points in a 2-dimensional space. \n",
    "\n",
    "It is calculated using Pythagoras theorum\n",
    "\n",
    "Eucledian Distance between two points (x,y) is shown below:\n"
   ]
  },
  {
   "cell_type": "markdown",
   "metadata": {},
   "source": [
    "![distance.png](https://miro.medium.com/max/2678/0*1CRCixWSa2RTWpl4.png)"
   ]
  },
  {
   "cell_type": "markdown",
   "metadata": {},
   "source": [
    "## K-Means Clustering\n",
    "\n",
    "\n",
    "K-Means is a type of centroid based clustering algorithm.It focuses on creating K \n",
    "\n",
    "clusters of similar data points to study their underlying patterns.\n",
    "\n",
    "So, the K-means algorithm identifies k number of centroids, and then allocates every \n",
    "\n",
    "data point to the nearest cluster, while keeping the centroids as small as possible.\n"
   ]
  },
  {
   "cell_type": "markdown",
   "metadata": {},
   "source": [
    "![K means.png](https://sandipanweb.files.wordpress.com/2017/03/kmeans1.gif?w=676)"
   ]
  },
  {
   "cell_type": "markdown",
   "metadata": {},
   "source": [
    "### How K-means run on the dataset\n",
    "\n",
    "1.Specify number of clusters K.\n",
    "\n",
    "2.Initialize centroids by randomly selecting K data points for the centroids.\n",
    "\n",
    "3.Keep iterating until no more new data points are added to clusters.\n",
    "\n",
    "4.Compute the sum of the squared distance between data points and all centroids. The less variation we have within clusters, the more homogeneous (similar) the data points are within the same cluster.\n",
    "\n",
    "5.Assign each data point to the closest cluster (centroid).\n",
    "\n",
    "6.Compute the centroids for the clusters by taking the average of the all data points that belong to each cluster.\n",
    "\n",
    "\n",
    "Unlike supervised learning where we have the ground truth to evaluate the model’s \n",
    "\n",
    "performance, clustering analysis doesn’t have a solid evaluation metric that we can use \n",
    "\n",
    "to evaluate the outcome of different clustering algorithms.\n"
   ]
  },
  {
   "cell_type": "markdown",
   "metadata": {},
   "source": [
    "![kmeans.png](https://storage.googleapis.com/aihub-c2t-containers-public/release-0.2.0/kfp-components/oob_algorithm/kmeans/assets/kmeans.png)"
   ]
  },
  {
   "cell_type": "markdown",
   "metadata": {},
   "source": [
    "\n",
    "\n",
    "\n",
    "\n",
    "\n",
    "\n"
   ]
  },
  {
   "cell_type": "markdown",
   "metadata": {},
   "source": [
    "## Choosing K value\n",
    "\n",
    "### Elbow Method\n",
    "\n",
    "What a good k number of clusters would be? This can be evaluated based on the sum of \n",
    "\n",
    "squared distance (SSE) between data points and their assigned clusters’ centroids. We \n",
    "\n",
    "pick k at the spot where SSE starts to flatten out and forming an elbow.\n",
    "\n",
    "In the graph shown below ,K=6 ,can be a good option!"
   ]
  },
  {
   "cell_type": "markdown",
   "metadata": {},
   "source": [
    "![Elbow%20curve.png](https://miro.medium.com/proxy/0*jWe7Ns_ubBpOaemM.png)"
   ]
  },
  {
   "cell_type": "markdown",
   "metadata": {},
   "source": [
    "### Sum of Squared Distance \n",
    "\n",
    "In the graph, the average internal per cluster is the sum of squares distance which is \n",
    "\n",
    "the Y-parameter, the number of clusters is on the X-axis.The aim is to find a visual \n",
    "\n",
    "“elbow” which is the optimal number of clusters. The average internal sum of squares is \n",
    "\n",
    "the average distance between points inside of a cluster."
   ]
  },
  {
   "cell_type": "markdown",
   "metadata": {},
   "source": [
    "## How do we evaluate K-Means results?\n",
    "\n",
    "As opposed to classfication, it is difficult to assess the quality of results from \n",
    "\n",
    "clustering. Here, a metric cannot depend on the labels but only on the goodness of \n",
    "\n",
    "split. Secondly, we do not usually have true labels of the observations when we use \n",
    "\n",
    "clustering.\n",
    "\n",
    "There are internal and external goodness metrics. External metrics use the information \n",
    "\n",
    "about the known true split while internal metrics do not use any external information \n",
    "\n",
    "and assess the goodness of clusters based only on the initial data. The optimal number \n",
    "\n",
    "of clusters is usually defined with respect to some internal metrics."
   ]
  },
  {
   "cell_type": "markdown",
   "metadata": {},
   "source": [
    "### Advantages of K-Means\n",
    "\n",
    "1. Relatively simple to implement.\n",
    "\n",
    "\n",
    "2. Scales to large data sets.\n",
    "\n",
    "\n",
    "3. Guarantees convergence.\n",
    "\n",
    "\n",
    "4. Can warm-start the positions of centroids.\n",
    "\n",
    "\n",
    "5. Easily adapts to new examples.\n",
    "\n",
    "\n",
    "6. Generalizes to clusters of different shapes and sizes, such as elliptical clusters.\n",
    "\n"
   ]
  },
  {
   "cell_type": "markdown",
   "metadata": {},
   "source": [
    "### Disadvantages of K-Means\n",
    "\n",
    "\n",
    "\n",
    "1. Use the “Loss vs. Clusters” plot to find the optimal (k), as discussed in Interpret      Results.\n",
    "\n",
    "\n",
    "2. Being dependent on initial values.\n",
    "\n",
    "\n",
    "3. Clustering data of varying sizes and density.\n",
    "\n",
    "\n",
    "4. Centroids can be dragged by outliers, or outliers might get their own cluster instead    of being ignored. \n",
    "\n",
    "\n",
    "5. Scaling with number of dimensions.\n",
    "\n",
    "    "
   ]
  },
  {
   "cell_type": "markdown",
   "metadata": {},
   "source": [
    "## Hierarchical Clustering\n",
    "\n",
    "\n",
    "Now, we know how K-means works we can dive into hierarchical clustering.\n",
    "\n",
    "Just as we grouped similar points in K-means, we can group clusters based on the \n",
    "\n",
    "similarity, we can combine the most similar clusters together and repeat this process \n",
    "\n",
    "until only a single cluster is left.\n",
    "\n",
    "We are essentially building a hierarchy of clusters. That’s why this algorithm is called \n",
    "\n",
    "hierarchical clustering\n",
    "\n",
    "\n",
    "Hierarchical Clusters are best visualized and explained with the help of dendograms."
   ]
  },
  {
   "cell_type": "markdown",
   "metadata": {},
   "source": [
    "## Hierarchichal clustering can be sub divided into two types:\n",
    "\n",
    "\n",
    "1. Agglomerative Hierarchical clustering Technique\n",
    "\n",
    "\n",
    "2. Divisive Hierarchical clustering Technique"
   ]
  },
  {
   "cell_type": "markdown",
   "metadata": {},
   "source": [
    "### Let's dive  into Dendograms"
   ]
  },
  {
   "cell_type": "markdown",
   "metadata": {},
   "source": [
    "A Dendrogram is a tree-like diagram that records the sequences of merges or splits."
   ]
  },
  {
   "cell_type": "markdown",
   "metadata": {},
   "source": [
    "\n",
    "## Agglomerative Hierarchical clustering Technique: \n",
    "\n",
    "\n",
    "\n",
    "It considers each data point an individual cluster. \n",
    "\n",
    "The basic algorithm of Agglomerative is here.\n",
    "\n",
    "1. Let each data point be a cluster\n",
    "\n",
    "\n",
    "2. Merge the two closest clusters\n",
    "\n",
    "\n",
    "3. Keep merging until only a single cluster remains.\n"
   ]
  },
  {
   "cell_type": "markdown",
   "metadata": {},
   "source": [
    "![Agg_hirar_clustering.jpeg](https://miro.medium.com/max/500/1*fw1vlNtq2vPFmAXsBy1_dA.jpeg)"
   ]
  },
  {
   "cell_type": "markdown",
   "metadata": {},
   "source": [
    "To understand better let’s see a pictorial representation of the Agglomerative Hierarchical clustering Technique. \n",
    "\n",
    "\n",
    "Lets say we have six data points as shown down.\n",
    "\n",
    "1: First,we consider all the six data points as individual clusters as shown in the image below.\n",
    "\n",
    "\n",
    "2: In step two, similar clusters are merged together and formed as a single cluster. Let’s consider B,C, and D,E are similar clusters that are merged in step two. Now, we’re left with four clusters which are A, BC, DE, F.\n",
    "\n",
    "3: We again calculate the proximity of new clusters and merge the similar clusters to form new clusters A, BC, DEF.\n",
    "\n",
    "4: Calculate the proximity of the new clusters. The clusters DEF and BC are similar and merged together to form a new cluster. We’re now left with two clusters A, BCDEF.\n",
    "\n",
    "5: Finally, all the clusters are merged together and form a single cluster\n",
    "\n"
   ]
  },
  {
   "cell_type": "markdown",
   "metadata": {},
   "source": [
    "## Dendrogram for above process"
   ]
  },
  {
   "attachments": {
    "Dendo.jpeg": {
     "image/jpeg": "[encoded data removed]"
    }
   },
   "cell_type": "markdown",
   "metadata": {},
   "source": [
    "![Dendo.jpeg](https://miro.medium.com/max/500/1*JPQRbJDw2E1_HEvwzVTDDw.jpeg)"
   ]
  },
  {
   "cell_type": "markdown",
   "metadata": {},
   "source": [
    "## Divisive Hierarchical clustering Technique: \n",
    "\n",
    "We can say that the Divisive Hierarchical clustering is exactly the opposite of the Agglomerative Hierarchical clustering. \n",
    "\n",
    "In Divisive Hierarchical clustering, we consider all the data points as a single cluster \n",
    "\n",
    "and in each iteration, we separate the data points from the cluster which are not \n",
    "\n",
    "similar. Each data point which is separated is considered as an individual cluster. In \n",
    "\n",
    "the end, we’ll be left with n clusters.\n"
   ]
  },
  {
   "cell_type": "markdown",
   "metadata": {},
   "source": [
    "## Calculating the similarity between two clusters \n",
    "\n",
    "Similarity between two clusters is important to merge or divide the clusters. There are \n",
    "\n",
    "certain approaches which are used to calculate the similarity between two clusters:\n",
    "\n",
    "1.MIN\n",
    "\n",
    "2.MAX\n",
    "\n",
    "3.Group Average\n",
    "\n",
    "4.Distance Between Centroids\n",
    "\n",
    "5.Ward’s Method\n",
    "\n",
    "Note: The one we used here is distance Between Centroids"
   ]
  },
  {
   "cell_type": "markdown",
   "metadata": {},
   "source": [
    "## Types of Linkages \n",
    "    \n",
    "    \n",
    "\n",
    "As said above during both the types of hierarchical clustering, the distance between two \n",
    "\n",
    "sub-clusters needs to be computed.  \n",
    "\n",
    "\n",
    "The different types of ways of computing the distances are:-\n",
    "\n",
    "1. Single Linkage\n",
    "\n",
    "\n",
    "2. Complete Linkage\n",
    "\n",
    "\n",
    "3. Average Linkage"
   ]
  },
  {
   "cell_type": "markdown",
   "metadata": {},
   "source": [
    "![Linkages.jpeg](https://www.dexlabanalytics.com/wp-content/uploads/2018/06/1-1.png)"
   ]
  },
  {
   "cell_type": "markdown",
   "metadata": {},
   "source": [
    "1. Single Linkage: For two clusters,the single linkage returns the minimum distance \n",
    "\n",
    "between two points belonging to different cluster.\n",
    "\n",
    "\n",
    "\n",
    "\n",
    "2. Complete Linkage: For two clusters , the complete linkage returns the maximum \n",
    "\n",
    "distance between two points belonging to different cluster.\n",
    "\n",
    "\n",
    "\n",
    "\n",
    "3. Average Linkage: For two clusters, the arithmetic mean of distances between any data-\n",
    "\n",
    "points in one cluster to data-points in other cluster are calculated. Average Linkage \n",
    "\n",
    "returns this value of the arithmetic mean.\n",
    "\n"
   ]
  },
  {
   "cell_type": "markdown",
   "metadata": {},
   "source": [
    "\n"
   ]
  },
  {
   "cell_type": "markdown",
   "metadata": {},
   "source": [
    "## Limitations of Hierarchical clustering Technique:\n",
    "\n",
    "There is no mathematical objective for Hierarchical clustering.\n",
    "\n",
    "All the approaches to calculate the similarity between clusters has its own disadvantages.\n",
    "\n",
    "High space and time complexity for Hierarchical clustering. Hence this clustering algorithm cannot be used when we have huge data."
   ]
  },
  {
   "cell_type": "markdown",
   "metadata": {},
   "source": [
    "# You know Clustering now!!"
   ]
  },
  {
   "cell_type": "code",
   "execution_count": null,
   "metadata": {},
   "outputs": [],
   "source": []
  }
 ],
 "metadata": {
  "kernelspec": {
   "display_name": "Python 3",
   "language": "python",
   "name": "python3"
  },
  "language_info": {
   "codemirror_mode": {
    "name": "ipython",
    "version": 3
   },
   "file_extension": ".py",
   "mimetype": "text/x-python",
   "name": "python",
   "nbconvert_exporter": "python",
   "pygments_lexer": "ipython3",
   "version": "3.7.6"
  }
 },
 "nbformat": 4,
 "nbformat_minor": 2
}
