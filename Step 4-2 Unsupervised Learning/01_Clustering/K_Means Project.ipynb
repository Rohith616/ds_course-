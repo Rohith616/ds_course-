{
 "cells": [
  {
   "cell_type": "markdown",
   "metadata": {},
   "source": [
    "![Customer segmentation.png](https://miro.medium.com/max/700/1*rFATWK6tWBrDJ1o1rzEZ8w.png)"
   ]
  },
  {
   "cell_type": "markdown",
   "metadata": {},
   "source": [
    "# Source of Data\n",
    "\n",
    "\n",
    "\n",
    "The San Francisco Controller's Office maintains a database of the salary and benefits \n",
    "\n",
    "paid to City employees since fiscal year 2013. This data is summarized and presented on \n",
    "\n",
    "the Employee Compensation  and is also \n",
    "\n",
    "available in CSV format in the directory. \n",
    "\n"
   ]
  },
  {
   "cell_type": "markdown",
   "metadata": {},
   "source": [
    "## Overview of the problem\n",
    "\n",
    "\n",
    "\n",
    "\n",
    "### Description of Data : \n",
    "\n",
    "Each row is an employee, and has columns about employee's information like their job type,salary, hours of overtime,other benefits etc.Overall there are 22 columns.\n",
    "\n",
    "\n",
    "\n",
    "### Column definations:\n",
    "\n",
    "1. Year Type\tFiscal (July through June) or Calendar (January through December)\n",
    "\n",
    "2. Year\t        An accounting period of 12 months. The City and County of San Francisco                 operates on a fiscal year that begins on July 1 and ends on June 30 the                 following year. The Fiscal Year ending June 30, 2012 is represented as                   FY2011-2012.\n",
    "\n",
    "3. Organization Group Code\tOrg Group is a group of Departments. For example, the Public                             Protection Org Group includes departments such as the                                   Police, Fire, Adult Probation, District Attorney,                                       and Sheriff.\n",
    "\n",
    "4. Organization Group\t    Org Group is a group of Departments. For example, the Public                             Protection Org Group includes departments such as the                                   Police, Fire, Adult Probation, District Attorney, and                                   Sheriff.\n",
    "\n",
    "5. Department Code\t        Departments are the primary organizational unit used by the                             City and County of San Francisco. Examples include           \n",
    "7. Code\t                    Unions represent employees in collective bargaining                                     agreements. A job belongs to one union, although some jobs                               are unrepresented (usually temporarily).\n",
    "\n",
    "8. Union\t                Unions represent employees in collective bargaining                                     agreements. A job belongs to one union, although some jobs                               are unrepresented (usually temporarily).\n",
    "\n",
    "9. Job Family Code\t        Job Family combines similar Jobs into meaningful groups.\n",
    "\n",
    "10. Job Family\t            Job Family combines similar Jobs into meaningful groups.\n",
    "\n",
    "11. Job Code\t            Jobs are defined by the Human Resources classification unit.                             Examples include gardeners, police officers, and                                         accountants.\n",
    "\n",
    "12. Job\t                    Jobs are defined by the Human Resources classification unit.                             Examples include gardeners, police officers, and                                         accountants.\n",
    "\n",
    "13. Employee Identifier\t    Each distinct number in the “Employee Identifier” column                                 represents one employee. These identifying numbers are not                               meaningful but rather are randomly assigned for the purpose                             of building this dataset. The column does not appear on the                             Employee Compensation report hosted on openbook.sfgov.org,                               but that report does show one row for each employee.                                     Employee ID has been included here to allow users to                                     reconstruct the original report. Note that each employee’s                               identifier will change each time this dataset is updated, so                             comparisons by employee across multiple versions of the                                 dataset are not possible.\n",
    "\n",
    "14. Salaries\t            Normal salaries paid to permanent or temporary City                                     employees.\n",
    "\n",
    "\n",
    "15. Overtime\t            Amounts paid to City employees working in excess of 40 hours                             per week.\n",
    "\n",
    "16. Other Salaries\t        Various irregular payments made to City employees including                             premium pay, incentive pay, or other one-time payments.\n",
    "\n",
    "17. Total Salary\t        The sum of all salaries paid to City employees.\n",
    "\n",
    "18. Retirement\t            City contributions to employee retirement plans.\n",
    "\n",
    "19. Health and Dental\t    City-paid premiums to health and dental insurance plans                                 covering City employees. To protect confidentiality as                                   legally required, pro-rated citywide averages are presented                             in lieu of employee-specific health and dental benefits.\n",
    "\n",
    "20. Other Benefits\t        Mandatory benefits paid on behalf of employees, such as                                 Social Security (FICA and Medicare) contributions,                                       unemployment insurance premiums, and minor discretionary                                 benefits not included in the above categories.\n",
    "\n",
    "21. Total Benefits\t        The sum of all benefits paid to City employees.\n",
    "\n",
    "22. Total Compensation\t    The sum of all salaries and benefits paid to City employees.\n",
    "\n",
    "  \n"
   ]
  },
  {
   "cell_type": "markdown",
   "metadata": {},
   "source": [
    "![Customer segmentation.png](https://miro.medium.com/max/700/1*jg90VC_It42Cq0KZO6JQ3A.png)"
   ]
  },
  {
   "cell_type": "markdown",
   "metadata": {},
   "source": [
    "# Try answering the below questions to stay on the right track for solving the assignment."
   ]
  },
  {
   "cell_type": "markdown",
   "metadata": {},
   "source": [
    "###  Do you need to reduce the number of columns?"
   ]
  },
  {
   "cell_type": "markdown",
   "metadata": {},
   "source": [
    "###  Is your data clean?"
   ]
  },
  {
   "cell_type": "markdown",
   "metadata": {},
   "source": [
    "### What all parameters do we need to give to our clustering algorithm?"
   ]
  },
  {
   "cell_type": "markdown",
   "metadata": {},
   "source": [
    "### How can we get these parameters?"
   ]
  },
  {
   "cell_type": "markdown",
   "metadata": {},
   "source": [
    "### Does your data has some interesting insights?"
   ]
  },
  {
   "cell_type": "markdown",
   "metadata": {},
   "source": [
    "### Objective of Problem :\n",
    "\n",
    "You have to fit the data to a clustering model.\n",
    "\n",
    "Find the number of clusters for the data.\n",
    "\n",
    "Try fitting the model to both the clustering algorithms you have learnt,K-Means and Hierarchical clustering.\n",
    "\n",
    "Which one suits this data better?\n",
    "\n",
    "Your model should help the State authorities/Policy makers to understand how they can improve on their policies for employee benefits.\n"
   ]
  },
  {
   "cell_type": "markdown",
   "metadata": {},
   "source": [
    "# You are good to GO!!"
   ]
  }
 ],
 "metadata": {
  "kernelspec": {
   "display_name": "Python 3",
   "language": "python",
   "name": "python3"
  },
  "language_info": {
   "codemirror_mode": {
    "name": "ipython",
    "version": 3
   },
   "file_extension": ".py",
   "mimetype": "text/x-python",
   "name": "python",
   "nbconvert_exporter": "python",
   "pygments_lexer": "ipython3",
   "version": "3.7.6"
  }
 },
 "nbformat": 4,
 "nbformat_minor": 4
}
