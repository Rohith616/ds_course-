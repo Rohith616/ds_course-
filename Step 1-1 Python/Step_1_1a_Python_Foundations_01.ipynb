{
  "nbformat": 4,
  "nbformat_minor": 0,
  "metadata": {
    "colab": {
      "name": "Step 1-1a. Python Foundations - 01.ipynb",
      "provenance": [],
      "collapsed_sections": [
        "lpSmGhBc8LLD",
        "5o0nTXQs_wli",
        "22s4O8ASG5zi",
        "ngbp6qMB8HCp",
        "V-Ryyr41WjJa",
        "DOfHS6uMYNZz",
        "cyZwHE0NZf8h",
        "NRCc4X9t7txo",
        "lKKc8_txEZfZ",
        "AqPov5UZGKGn",
        "hznBCmMWTo-3",
        "FVEWNfE2tBmO",
        "RnXfEOFTtIlQ",
        "-BeCjQwTtksj"
      ],
      "toc_visible": true
    },
    "kernelspec": {
      "name": "python3",
      "display_name": "Python 3"
    }
  },
  "cells": [
    {
      "cell_type": "markdown",
      "metadata": {
        "id": "lpSmGhBc8LLD",
        "colab_type": "text"
      },
      "source": [
        "# Hello World\n",
        "\n",
        "- `print` function is used to print the content inside the quotes \n",
        "- can be in 'single quotes' or \"double quotes\""
      ]
    },
    {
      "cell_type": "code",
      "metadata": {
        "id": "SYwfRR4V54WD",
        "colab_type": "code",
        "colab": {}
      },
      "source": [
        " print(\"Hello World\")"
      ],
      "execution_count": null,
      "outputs": []
    },
    {
      "cell_type": "markdown",
      "metadata": {
        "id": "DtT5-GHsBSgr",
        "colab_type": "text"
      },
      "source": [
        "### What just happened? \n",
        "\n",
        "-  when you run Python code\n",
        "    - the computer interprets the code and executes it \n",
        "\n",
        "- `print` is a function which will display whatever is provided in brackets \n",
        "    - in case of a mathematical expression, the result is evaluated and displayed\n",
        "    - if there is a string, it is simply displayed \n",
        "\n",
        "- there are many such functions in Python built for specifc tasks\n",
        "    - simply call the function and give it an input\n",
        "\n",
        "- `type` is another such function  \n",
        "    - it displays the type of the data provided in brackets \n"
      ]
    },
    {
      "cell_type": "markdown",
      "metadata": {
        "id": "nkurFbdhUamk",
        "colab_type": "text"
      },
      "source": [
        "\n",
        "\n",
        "---\n",
        "\n"
      ]
    },
    {
      "cell_type": "markdown",
      "metadata": {
        "id": "5o0nTXQs_wli",
        "colab_type": "text"
      },
      "source": [
        "# Comments\n",
        "\n",
        "- comments are text in code that is not executed by the interpreter \n",
        "  - in Python, comments begin with `#`\n",
        "- comments may be used creatively to comment out pieces of code to stop the interpreter from running it\n",
        "- shortcut to toggle comment on a line \n",
        "  - `CMD + /` (macOS) \n",
        "  - `Ctrl + /` (Windows)"
      ]
    },
    {
      "cell_type": "code",
      "metadata": {
        "id": "8yhm3nX-BGyM",
        "colab_type": "code",
        "colab": {}
      },
      "source": [
        "# this is a single comment\n",
        "print('this is not a comment')\n",
        "\n",
        "\"\"\"\n",
        "This is a \n",
        "multi-line comment\n",
        "\"\"\"\n",
        "print(\"this is not a comment either\") # but comments can be added liek this as well"
      ],
      "execution_count": null,
      "outputs": []
    },
    {
      "cell_type": "markdown",
      "metadata": {
        "id": "22s4O8ASG5zi",
        "colab_type": "text"
      },
      "source": [
        "# Variables\n",
        "\n",
        "- data entities that takes a value "
      ]
    },
    {
      "cell_type": "code",
      "metadata": {
        "id": "JodvxoYHUGMV",
        "colab_type": "code",
        "colab": {}
      },
      "source": [
        "# bind number 7 to variable 'x'\n",
        "x = 7 # the value of 7 is assigned to x \n",
        "\n",
        "# print value of 'x'\n",
        "print(x)"
      ],
      "execution_count": null,
      "outputs": []
    },
    {
      "cell_type": "markdown",
      "metadata": {
        "id": "V_d9kh4IXiP4",
        "colab_type": "text"
      },
      "source": [
        "### Python Variable Naming Convention (Industry Standard)\n",
        "\n",
        "- variables names must start with a lowercase letter or underscore \n",
        "  - can be followed by numbers or underscore\n",
        "- `snake_case` is the conventional way of writing variable names with multiple words\n"
      ]
    },
    {
      "cell_type": "markdown",
      "metadata": {
        "id": "ngbp6qMB8HCp",
        "colab_type": "text"
      },
      "source": [
        "# Simple Program \n",
        "\n",
        "- *input*: uses the `input` command\n",
        "- *output*: used the `print` command"
      ]
    },
    {
      "cell_type": "code",
      "metadata": {
        "id": "hwduqFnf9AQf",
        "colab_type": "code",
        "colab": {}
      },
      "source": [
        "name = input('What is your name? ')\n",
        "print('Welcome to the world of Python,', name )"
      ],
      "execution_count": null,
      "outputs": []
    },
    {
      "cell_type": "markdown",
      "metadata": {
        "id": "HOIueHltjINE",
        "colab_type": "text"
      },
      "source": [
        "\n",
        "\n",
        "---\n",
        "\n"
      ]
    },
    {
      "cell_type": "markdown",
      "metadata": {
        "id": "MbnLml7e-kuY",
        "colab_type": "text"
      },
      "source": [
        "# Data Types\n",
        "\n",
        "- a particular kind of data entity, defined by the values it can take\n",
        "\n",
        "- Python has several built-in data types, some of them are:\n",
        "  - *numeric* data types\n",
        "  - *text sequence* data type\n",
        "  - *sequence* data types\n",
        "  - *mapping* data type\n",
        "  - *boolean* data type\n",
        "  - *set* data type\n",
        "\n",
        "- the `type()` function is used to check the data type of something in Python"
      ]
    },
    {
      "cell_type": "markdown",
      "metadata": {
        "id": "V-Ryyr41WjJa",
        "colab_type": "text"
      },
      "source": [
        "### Numeric Data Types\n",
        "\n",
        "- two basic numeric data types\n",
        "  1. `int`: integers \n",
        "  2. `float`: decimal numbers \n"
      ]
    },
    {
      "cell_type": "code",
      "metadata": {
        "id": "VhUBnDvjWeG_",
        "colab_type": "code",
        "colab": {}
      },
      "source": [
        "# create int type variable\n",
        "x = 7 # 7 is an integer\n",
        "\n",
        "# check type of variable\n",
        "type(x)"
      ],
      "execution_count": null,
      "outputs": []
    },
    {
      "cell_type": "code",
      "metadata": {
        "id": "KuCIeAxaXBpu",
        "colab_type": "code",
        "colab": {}
      },
      "source": [
        "# create float type variable\n",
        "x = 3.14 # 3.14 is a decimal number with a characteristic and mantissa\n",
        "\n",
        "# check type of variable\n",
        "type(x)"
      ],
      "execution_count": null,
      "outputs": []
    },
    {
      "cell_type": "markdown",
      "metadata": {
        "id": "DOfHS6uMYNZz",
        "colab_type": "text"
      },
      "source": [
        "### Text Sequence Types\n",
        "\n",
        "- strings are a *text sequence* type\n",
        "  - they are a sequence of characters\n",
        "  - they are immutable\n",
        "  - they are ordered\n",
        "\n"
      ]
    },
    {
      "cell_type": "code",
      "metadata": {
        "id": "89E9Qtk_YfRW",
        "colab_type": "code",
        "colab": {}
      },
      "source": [
        "# define a string \n",
        "python_string = 'TECH I.S. is awesome!'\n",
        "\n",
        "# check type \n",
        "type(python_string)"
      ],
      "execution_count": null,
      "outputs": []
    },
    {
      "cell_type": "markdown",
      "metadata": {
        "id": "cyZwHE0NZf8h",
        "colab_type": "text"
      },
      "source": [
        "### Sequence Types\n",
        "\n",
        "- there are three kinds of *sequence* types:\n",
        "  - `list`: mutable sequence\n",
        "  - `tuple`: immutable sequence\n",
        "  - `range`: immutable sequence\n"
      ]
    },
    {
      "cell_type": "markdown",
      "metadata": {
        "id": "8YpT0uyZ4bp9",
        "colab_type": "text"
      },
      "source": [
        "##### List"
      ]
    },
    {
      "cell_type": "code",
      "metadata": {
        "id": "CLOPmGjAZ0nq",
        "colab_type": "code",
        "colab": {}
      },
      "source": [
        "# define a list\n",
        "list_example = ['3',92,'x',3.14]\n",
        "print(list_example)\n",
        "\n",
        "# check length of the list\n",
        "print(len(list_example))\n",
        "\n",
        "# check type\n",
        "type(list_example)"
      ],
      "execution_count": null,
      "outputs": []
    },
    {
      "cell_type": "markdown",
      "metadata": {
        "id": "uHQcpC1n4eD4",
        "colab_type": "text"
      },
      "source": [
        "##### Tuple"
      ]
    },
    {
      "cell_type": "code",
      "metadata": {
        "id": "2dJtc4-faFva",
        "colab_type": "code",
        "colab": {}
      },
      "source": [
        "# define a tuple\n",
        "tuple_example = (5,'11','a',2.86)\n",
        "print(tuple_example)\n",
        "\n",
        "# check length of tuple\n",
        "print(len(tuple_example))\n",
        "\n",
        "# check type\n",
        "type(tuple_example)"
      ],
      "execution_count": null,
      "outputs": []
    },
    {
      "cell_type": "markdown",
      "metadata": {
        "id": "S0-c3qakBxiL",
        "colab_type": "text"
      },
      "source": [
        "##### Tuple vs List Comparison"
      ]
    },
    {
      "cell_type": "markdown",
      "metadata": {
        "id": "Q7Mcr3g3KCvf",
        "colab_type": "text"
      },
      "source": [
        "|Lists |Tuples |\n",
        "|------|-------|\n",
        "|ordered group of comma seperated values in *square brackets* |ordered group of comma seperated values in *parenthesis*   |\n",
        "|square brackets are mandatory |parenthesis not mandatory |\n",
        "|mutable |immutable|\n",
        "|once created, content changes *can* be made | once created, content *cannot* be changed |\n",
        "|should be chosen if content is not fixed, and keeps changing| chosen if content is fixed and never changes|\n",
        "| cannot be used as keys for dictionaries  | can be used as keys for dictionaries |\n",
        "|are *not* hashable and immutable| are hashable and immutable|"
      ]
    },
    {
      "cell_type": "markdown",
      "metadata": {
        "id": "2m96nP1r4fx1",
        "colab_type": "text"
      },
      "source": [
        "##### Range"
      ]
    },
    {
      "cell_type": "code",
      "metadata": {
        "id": "f1gavBzpjJdx",
        "colab_type": "code",
        "colab": {}
      },
      "source": [
        "# define a range\n",
        "range_example = range(7)\n",
        "print(range_example)\n",
        "\n",
        "# check length of the range\n",
        "print(len(range_example))\n",
        "\n",
        "# check type\n",
        "type(range_example)"
      ],
      "execution_count": null,
      "outputs": []
    },
    {
      "cell_type": "code",
      "metadata": {
        "id": "4QwVQkXs7Tww",
        "colab_type": "code",
        "colab": {}
      },
      "source": [
        "# define range with (start,stop,step)\n",
        "range_example = range(0,20,2)\n",
        "print(range_example)\n",
        "\n",
        "# check length of the range\n",
        "print(len(range_example))\n",
        "\n",
        "# check type\n",
        "type(range_example)"
      ],
      "execution_count": null,
      "outputs": []
    },
    {
      "cell_type": "markdown",
      "metadata": {
        "id": "NRCc4X9t7txo",
        "colab_type": "text"
      },
      "source": [
        "### Mapping Types\n",
        "\n",
        "- `dictionary` is a mapping data type\n",
        "  - it is mutable\n",
        "  - unordered"
      ]
    },
    {
      "cell_type": "code",
      "metadata": {
        "id": "V7E5S_Pi8CL5",
        "colab_type": "code",
        "colab": {}
      },
      "source": [
        "# define a dictionary\n",
        "b = {'one': 1, 'two': 2, 'three': 3}\n",
        "print(b)\n",
        "\n",
        "# check type\n",
        "type(b)\n"
      ],
      "execution_count": null,
      "outputs": []
    },
    {
      "cell_type": "markdown",
      "metadata": {
        "id": "lKKc8_txEZfZ",
        "colab_type": "text"
      },
      "source": [
        "### Boolean Types\n",
        "\n",
        "- state of truth\n",
        "  - may be `True` or `False`"
      ]
    },
    {
      "cell_type": "code",
      "metadata": {
        "id": "r-vpeu0EE2qO",
        "colab_type": "code",
        "colab": {}
      },
      "source": [
        "# define a 'true' boolean \n",
        "boolean = True\n",
        "\n",
        "# check type\n",
        "type(boolean)"
      ],
      "execution_count": null,
      "outputs": []
    },
    {
      "cell_type": "code",
      "metadata": {
        "id": "41VjvkEnFlTr",
        "colab_type": "code",
        "colab": {}
      },
      "source": [
        "# define a 'false' boolean \n",
        "boolean = False\n",
        "\n",
        "# check type\n",
        "type(boolean)"
      ],
      "execution_count": null,
      "outputs": []
    },
    {
      "cell_type": "markdown",
      "metadata": {
        "id": "AqPov5UZGKGn",
        "colab_type": "text"
      },
      "source": [
        "### Set Types\n",
        "\n",
        "- `set` is an unordered collection of *distinct* objects\n"
      ]
    },
    {
      "cell_type": "code",
      "metadata": {
        "id": "SZeVqBS6PhGR",
        "colab_type": "code",
        "colab": {}
      },
      "source": [
        "set_of_numbers = {0,9,1,5,7}\n",
        "print(set_of_numbers)"
      ],
      "execution_count": null,
      "outputs": []
    },
    {
      "cell_type": "code",
      "metadata": {
        "id": "wJXC95qEQO9-",
        "colab_type": "code",
        "colab": {}
      },
      "source": [
        "names = ['olivia', 'caleb', 'olivia']\n",
        "names_set = set(names)\n",
        "unique_names = list(names_set)\n",
        "print(unique_names)"
      ],
      "execution_count": null,
      "outputs": []
    },
    {
      "cell_type": "markdown",
      "metadata": {
        "id": "tjCS2ZYwSzzr",
        "colab_type": "text"
      },
      "source": [
        "# Operators\n",
        "\n",
        "- popular kinds of operators \n",
        "  - `numeric` operators \n",
        "  - `comparison` operators\n",
        "  - `logical` operators \n",
        "  - `assignment` operators\n",
        "  - `idenity` operators\n",
        "  - `membership` operators\n",
        "  - `bitwise` operators \n",
        "\n",
        "- some are discussed below"
      ]
    },
    {
      "cell_type": "markdown",
      "metadata": {
        "id": "hznBCmMWTo-3",
        "colab_type": "text"
      },
      "source": [
        "### Numeric Operators\n",
        "\n",
        "- used with numeric data types to perform mathematical operations\n",
        "  - `+`: addition\n",
        "  - `-`: subtraction\n",
        "  - `*`: multiplication\n",
        "  - `/`: division\n",
        "  - `//`: floor division\n",
        "  - `%`: modulus (remainder)\n",
        "  - `**`: raising to power\n",
        "  - `abs()`: absolute value of number\n",
        "  - `round()`: rounds a number\n",
        "  - `bin()`: get binary version of a number\n",
        "  - `hex()`: get hexadecimal version of a number\n",
        "  "
      ]
    },
    {
      "cell_type": "code",
      "metadata": {
        "id": "WXUYntQ2UBrw",
        "colab_type": "code",
        "colab": {}
      },
      "source": [
        "# set values of x, y and z for numeric operators exploration\n",
        "x = 5   # integer value\n",
        "y = 2.0 # float value\n",
        "z = -13 # negative integer\n",
        "\n",
        "#(run this cell to initialize values for the next few cells!)"
      ],
      "execution_count": null,
      "outputs": []
    },
    {
      "cell_type": "code",
      "metadata": {
        "id": "M1uVWljKURAc",
        "colab_type": "code",
        "colab": {}
      },
      "source": [
        "# sum of x and y\n",
        "print(x + y)"
      ],
      "execution_count": null,
      "outputs": []
    },
    {
      "cell_type": "code",
      "metadata": {
        "id": "Z-MpQqRYUWOJ",
        "colab_type": "code",
        "colab": {}
      },
      "source": [
        "# difference of x and y\n",
        "print(x - y)"
      ],
      "execution_count": null,
      "outputs": []
    },
    {
      "cell_type": "code",
      "metadata": {
        "id": "WE4mrvqSUcoy",
        "colab_type": "code",
        "colab": {}
      },
      "source": [
        "# product of x and y\n",
        "print(x * y)"
      ],
      "execution_count": null,
      "outputs": []
    },
    {
      "cell_type": "code",
      "metadata": {
        "id": "dky2S8LAUp1w",
        "colab_type": "code",
        "colab": {}
      },
      "source": [
        "# quotient of x and y\n",
        "print(x / y)"
      ],
      "execution_count": null,
      "outputs": []
    },
    {
      "cell_type": "code",
      "metadata": {
        "id": "Xuho9rIaVfGu",
        "colab_type": "code",
        "colab": {}
      },
      "source": [
        "# floored quotient of x and y\n",
        "print(x // y)"
      ],
      "execution_count": null,
      "outputs": []
    },
    {
      "cell_type": "code",
      "metadata": {
        "id": "Y10YZhtXVlkC",
        "colab_type": "code",
        "colab": {}
      },
      "source": [
        "# remainder of x / y\n",
        "print(x % y)"
      ],
      "execution_count": null,
      "outputs": []
    },
    {
      "cell_type": "code",
      "metadata": {
        "id": "ZeyJGUhAWxC0",
        "colab_type": "code",
        "colab": {}
      },
      "source": [
        "# absolute value \n",
        "print(abs(z))"
      ],
      "execution_count": null,
      "outputs": []
    },
    {
      "cell_type": "code",
      "metadata": {
        "id": "3A9He5KSZSoS",
        "colab_type": "code",
        "colab": {}
      },
      "source": [
        "# x raised to power y\n",
        "print(x ** y)"
      ],
      "execution_count": null,
      "outputs": []
    },
    {
      "cell_type": "code",
      "metadata": {
        "id": "IY8J4GvSrDy3",
        "colab_type": "code",
        "colab": {}
      },
      "source": [
        "# rounding a decimal example - round down\n",
        "print(round(2.1))"
      ],
      "execution_count": null,
      "outputs": []
    },
    {
      "cell_type": "code",
      "metadata": {
        "id": "erUbhft0rI8_",
        "colab_type": "code",
        "colab": {}
      },
      "source": [
        "# rounding a decimal example - round up\n",
        "print(round(3.7))"
      ],
      "execution_count": null,
      "outputs": []
    },
    {
      "cell_type": "code",
      "metadata": {
        "id": "0fH3cpqiTO4I",
        "colab_type": "code",
        "colab": {}
      },
      "source": [
        "# binary version of the number\n",
        "print(bin(37))"
      ],
      "execution_count": null,
      "outputs": []
    },
    {
      "cell_type": "code",
      "metadata": {
        "id": "eCP52MxxTqEN",
        "colab_type": "code",
        "colab": {}
      },
      "source": [
        "# hexadecimal version of the number\n",
        "print(hex(37))"
      ],
      "execution_count": null,
      "outputs": []
    },
    {
      "cell_type": "markdown",
      "metadata": {
        "id": "FVEWNfE2tBmO",
        "colab_type": "text"
      },
      "source": [
        "### Comparison Operators\n",
        "\n",
        "- used to compare two values\n",
        "  - `<`: less than \n",
        "  - `>`: greater than \n",
        "  - `<=`: less than or equal to\n",
        "  - `>=`: greater than or equal to\n",
        "  - `==`: equality \n",
        "  - `!=`: inequality \n"
      ]
    },
    {
      "cell_type": "code",
      "metadata": {
        "id": "UQ_B2f9G0s-Q",
        "colab_type": "code",
        "colab": {}
      },
      "source": [
        "# Greater Than \n",
        "i = 3 \n",
        "j = 7\n",
        "\n",
        "print(i > j) "
      ],
      "execution_count": null,
      "outputs": []
    },
    {
      "cell_type": "code",
      "metadata": {
        "id": "oDAqMFFL07RE",
        "colab_type": "code",
        "colab": {}
      },
      "source": [
        "# Greater Than or Equal\n",
        "i = 3 \n",
        "j = 7\n",
        "\n",
        "print(i >= j) "
      ],
      "execution_count": null,
      "outputs": []
    },
    {
      "cell_type": "code",
      "metadata": {
        "id": "uwY13XEW1DMx",
        "colab_type": "code",
        "colab": {}
      },
      "source": [
        "# Less Than \n",
        "i = 3 \n",
        "j = 7\n",
        "\n",
        "print(i < j) "
      ],
      "execution_count": null,
      "outputs": []
    },
    {
      "cell_type": "code",
      "metadata": {
        "id": "JjaE8Vlp1IbX",
        "colab_type": "code",
        "colab": {}
      },
      "source": [
        "# Less Than or Equal \n",
        "i = 3 \n",
        "j = 7\n",
        "\n",
        "print(i <= j) "
      ],
      "execution_count": null,
      "outputs": []
    },
    {
      "cell_type": "code",
      "metadata": {
        "id": "rCV0Eqr51QNy",
        "colab_type": "code",
        "colab": {}
      },
      "source": [
        "# Equality Test #1\n",
        "i = 3\n",
        "j = 7\n",
        "\n",
        "print(i == j)"
      ],
      "execution_count": null,
      "outputs": []
    },
    {
      "cell_type": "code",
      "metadata": {
        "id": "IrDlCVTh1WcW",
        "colab_type": "code",
        "colab": {}
      },
      "source": [
        "# Equality Test #2\n",
        "i = 3\n",
        "j = 3\n",
        "\n",
        "print(i == j)"
      ],
      "execution_count": null,
      "outputs": []
    },
    {
      "cell_type": "code",
      "metadata": {
        "id": "3FNeOVhL1YvU",
        "colab_type": "code",
        "colab": {}
      },
      "source": [
        "# Inequality Test #1\n",
        "i = 3\n",
        "j = 7\n",
        "\n",
        "print(i != j)"
      ],
      "execution_count": null,
      "outputs": []
    },
    {
      "cell_type": "code",
      "metadata": {
        "id": "iCCqDBvn1cRK",
        "colab_type": "code",
        "colab": {}
      },
      "source": [
        "# Inequality Test #2\n",
        "i = 3\n",
        "j = 3\n",
        "\n",
        "print(i != j)"
      ],
      "execution_count": null,
      "outputs": []
    },
    {
      "cell_type": "markdown",
      "metadata": {
        "id": "RnXfEOFTtIlQ",
        "colab_type": "text"
      },
      "source": [
        "### Logic Operators\n",
        "\n",
        "- used to combine conditional statements\n",
        "  - `and` \n",
        "  - `or`\n",
        "  - `not`"
      ]
    },
    {
      "cell_type": "markdown",
      "metadata": {
        "id": "O4f26P_b6dtP",
        "colab_type": "text"
      },
      "source": [
        "##### `not` Operator"
      ]
    },
    {
      "cell_type": "code",
      "metadata": {
        "id": "Ct9tSfdF1xXc",
        "colab_type": "code",
        "colab": {}
      },
      "source": [
        "##  'not' operator \n",
        "a = True\n",
        "\n",
        "print(not a)"
      ],
      "execution_count": null,
      "outputs": []
    },
    {
      "cell_type": "markdown",
      "metadata": {
        "id": "24vGgjHNhmwd",
        "colab_type": "text"
      },
      "source": [
        "![Logic Tables](https://i.imgur.com/42pVFtJ.jpg \"Logic Tables\")"
      ]
    },
    {
      "cell_type": "markdown",
      "metadata": {
        "id": "sAQx5pF_6fze",
        "colab_type": "text"
      },
      "source": [
        "##### `and` Operator"
      ]
    },
    {
      "cell_type": "code",
      "metadata": {
        "id": "NoztpM2w15TD",
        "colab_type": "code",
        "colab": {}
      },
      "source": [
        "# a and b are true\n",
        "a = True \n",
        "b = True\n",
        "\n",
        "print(a and b)\n",
        "\n",
        "# only a is true \n",
        "a = True \n",
        "b = False\n",
        "\n",
        "print(a and b)\n",
        "\n",
        "# only b is true \n",
        "a = False \n",
        "b = True\n",
        "\n",
        "print(a and b)\n",
        "\n",
        "# a and b are both false\n",
        "a = False \n",
        "b = False\n",
        "\n",
        "print(a and b)"
      ],
      "execution_count": null,
      "outputs": []
    },
    {
      "cell_type": "markdown",
      "metadata": {
        "id": "7dyMpmJX6qHl",
        "colab_type": "text"
      },
      "source": [
        "##### `or` Operator"
      ]
    },
    {
      "cell_type": "code",
      "metadata": {
        "id": "vV85OnE_2oMp",
        "colab_type": "code",
        "colab": {}
      },
      "source": [
        "## 'or' operator \n",
        "\n",
        "# a and b are true\n",
        "a = True \n",
        "b = True\n",
        "\n",
        "print(a or b)\n",
        "\n",
        "# only a is true \n",
        "a = True \n",
        "b = False\n",
        "\n",
        "print(a or b)\n",
        "\n",
        "# only b is true \n",
        "a = False \n",
        "b = True\n",
        "\n",
        "print(a or b)\n",
        "\n",
        "# a and b are both false\n",
        "a = False \n",
        "b = False\n",
        "\n",
        "print(a or b)"
      ],
      "execution_count": null,
      "outputs": []
    },
    {
      "cell_type": "markdown",
      "metadata": {
        "id": "-BeCjQwTtksj",
        "colab_type": "text"
      },
      "source": [
        "### Assignment Operators\n",
        "\n",
        "- used to assign values to variables\n",
        "  - `=`\n",
        "\n",
        "- following operators combine numerical operations at the same time as assignment\n",
        "  - `+=`\n",
        "  - `-=`\n",
        "  - `*=`\n",
        "  - `/=`\n",
        "  - `//=`\n",
        "  - `%=`\n",
        "  - `**=`"
      ]
    },
    {
      "cell_type": "code",
      "metadata": {
        "id": "RWqDHPkCrg9-",
        "colab_type": "code",
        "colab": {}
      },
      "source": [
        "# assignment operator \n",
        "\n",
        "x = 21\n",
        "print(x)\n"
      ],
      "execution_count": null,
      "outputs": []
    },
    {
      "cell_type": "code",
      "metadata": {
        "id": "z2hJSnnFtj61",
        "colab_type": "code",
        "colab": {}
      },
      "source": [
        "# += operator\n",
        "\n",
        "x += 3\n",
        "print(x)"
      ],
      "execution_count": null,
      "outputs": []
    },
    {
      "cell_type": "code",
      "metadata": {
        "id": "KtZ7kRbRufSO",
        "colab_type": "code",
        "colab": {}
      },
      "source": [
        "# -= operator\n",
        "\n",
        "x -= 3\n",
        "print(x)"
      ],
      "execution_count": null,
      "outputs": []
    },
    {
      "cell_type": "code",
      "metadata": {
        "id": "FjTFdiMjuiTX",
        "colab_type": "code",
        "colab": {}
      },
      "source": [
        "# *= operator\n",
        "\n",
        "x *= 3\n",
        "print(x)"
      ],
      "execution_count": null,
      "outputs": []
    },
    {
      "cell_type": "code",
      "metadata": {
        "id": "E6HlKtnzulaT",
        "colab_type": "code",
        "colab": {}
      },
      "source": [
        "# /= operator\n",
        "\n",
        "x /= 3\n",
        "print(x)"
      ],
      "execution_count": null,
      "outputs": []
    },
    {
      "cell_type": "code",
      "metadata": {
        "id": "zG3np5y6uoOh",
        "colab_type": "code",
        "colab": {}
      },
      "source": [
        "# //= operator\n",
        "\n",
        "x //= 3\n",
        "print(x)"
      ],
      "execution_count": null,
      "outputs": []
    },
    {
      "cell_type": "code",
      "metadata": {
        "id": "7rlcVC-Zu7uw",
        "colab_type": "code",
        "colab": {}
      },
      "source": [
        "# %= operator\n",
        "\n",
        "x %= 3\n",
        "print(x)"
      ],
      "execution_count": null,
      "outputs": []
    }
  ]
}