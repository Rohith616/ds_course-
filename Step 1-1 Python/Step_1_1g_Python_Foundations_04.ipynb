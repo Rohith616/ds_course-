{
  "nbformat": 4,
  "nbformat_minor": 0,
  "metadata": {
    "colab": {
      "name": "Step_1_1g_Python_Foundations_04.ipynb",
      "provenance": [],
      "collapsed_sections": []
    },
    "kernelspec": {
      "name": "python3",
      "display_name": "Python 3"
    }
  },
  "cells": [
    {
      "cell_type": "markdown",
      "metadata": {
        "id": "q0IXoYJMRznQ",
        "colab_type": "text"
      },
      "source": [
        "# Dictionaries \n",
        "\n",
        "- a dictionary is a collection which is:\n",
        "  - unordered, \n",
        "  - changeable and \n",
        "  - indexed\n",
        "  \n",
        "- in Python dictionaries are written with curly brackets \n",
        "  - inside, they have *keys-value* pairs"
      ]
    },
    {
      "cell_type": "code",
      "metadata": {
        "id": "Pb1hoM5HRs3M",
        "colab_type": "code",
        "colab": {}
      },
      "source": [
        "# create dictionary \n",
        "car_info_dict = {\n",
        "  \"brand\": \"Ford\", # key-value pair #1\n",
        "  \"model\": \"Mustang\", # key-value pair #2\n",
        "  \"year\": 1964 # key-value pair #3\n",
        "}\n",
        "\n",
        "# print dictionary\n",
        "print(car_info_dict)"
      ],
      "execution_count": null,
      "outputs": []
    },
    {
      "cell_type": "code",
      "metadata": {
        "id": "g8-EOgMKXMae",
        "colab_type": "code",
        "colab": {}
      },
      "source": [
        "# check type\n",
        "type(car_info_dict)"
      ],
      "execution_count": null,
      "outputs": []
    },
    {
      "cell_type": "markdown",
      "metadata": {
        "id": "SoMiLQ5YaCPa",
        "colab_type": "text"
      },
      "source": [
        "### \"`dict()`\" Constructor"
      ]
    },
    {
      "cell_type": "code",
      "metadata": {
        "id": "hKNiyOo62_Vm",
        "colab_type": "code",
        "colab": {}
      },
      "source": [
        "# use a `dict()` constructor \n",
        "car_model_info = dict(brand=\"Tesla\", model=\"Model 3\", year=\"2017\")\n",
        "\n",
        "# print the dictionary \n",
        "print(car_model_info)"
      ],
      "execution_count": null,
      "outputs": []
    },
    {
      "cell_type": "markdown",
      "metadata": {
        "id": "lanHggysXYhf",
        "colab_type": "text"
      },
      "source": [
        "### Accessing Values\n",
        "\n",
        "- access the *values* of a dictionary by referring to its *key* name inside square brackets:\n"
      ]
    },
    {
      "cell_type": "code",
      "metadata": {
        "id": "yecwE8tnaqnt",
        "colab_type": "code",
        "colab": {}
      },
      "source": [
        "# get the value of the \"model\" key\n",
        "model_value = car_info_dict[\"model\"]\n",
        "\n",
        "# print the value\n",
        "print(model_value)\n"
      ],
      "execution_count": null,
      "outputs": []
    },
    {
      "cell_type": "markdown",
      "metadata": {
        "id": "K-sz90kJf72X",
        "colab_type": "text"
      },
      "source": [
        "##### \"`.get()`\" to get values \n"
      ]
    },
    {
      "cell_type": "code",
      "metadata": {
        "id": "45TunwVDgWr6",
        "colab_type": "code",
        "colab": {}
      },
      "source": [
        "# get the value of the \"model\" key using `.get()`\n",
        "model_value = car_info_dict.get(\"model\")\n",
        "\n",
        "# print the value\n",
        "print(model_value)\n"
      ],
      "execution_count": null,
      "outputs": []
    },
    {
      "cell_type": "markdown",
      "metadata": {
        "id": "EYMzXaGpY0qU",
        "colab_type": "text"
      },
      "source": [
        "### Change Values"
      ]
    },
    {
      "cell_type": "code",
      "metadata": {
        "id": "R3xuI0r7g4zD",
        "colab_type": "code",
        "colab": {}
      },
      "source": [
        "# create dictionary \n",
        "car_info_dict = {\n",
        "  \"brand\": \"Ford\", # key-value pair #1\n",
        "  \"model\": \"Mustang\", # key-value pair #2\n",
        "  \"year\": 1964 # key-value pair #3\n",
        "}\n",
        "\n",
        "# check the dictionary \n",
        "print(car_info_dict)\n",
        "\n",
        "# change the value for year  \n",
        "car_info_dict[\"year\"] = 2018 \n",
        "\n",
        "# check the dictionary \n",
        "print(car_info_dict)\n"
      ],
      "execution_count": null,
      "outputs": []
    },
    {
      "cell_type": "markdown",
      "metadata": {
        "id": "HCEk9_tsY3rL",
        "colab_type": "text"
      },
      "source": [
        "### Loop Through a Dictionary \n",
        "\n",
        "- loop through a dictionary by using a \"`for`\" loop\n"
      ]
    },
    {
      "cell_type": "markdown",
      "metadata": {
        "id": "roNFNgEHj2X5",
        "colab_type": "text"
      },
      "source": [
        "##### Print all *key* names in the dictionary, one by one"
      ]
    },
    {
      "cell_type": "code",
      "metadata": {
        "id": "njVtOqf2j6sT",
        "colab_type": "code",
        "colab": {}
      },
      "source": [
        "# print only the keys of the dictionary\n",
        "for entry in car_info_dict:\n",
        "  print(entry)"
      ],
      "execution_count": null,
      "outputs": []
    },
    {
      "cell_type": "markdown",
      "metadata": {
        "id": "yppHsrEAkZPN",
        "colab_type": "text"
      },
      "source": [
        "##### Print all *values* in the dictionary, one by one"
      ]
    },
    {
      "cell_type": "code",
      "metadata": {
        "id": "NogB3nsqkdWd",
        "colab_type": "code",
        "colab": {}
      },
      "source": [
        "# print only the values of the keys of the dictionary\n",
        "for entry in car_info_dict:\n",
        "  print(car_info_dict[entry])"
      ],
      "execution_count": null,
      "outputs": []
    },
    {
      "cell_type": "markdown",
      "metadata": {
        "id": "x5hmQDPNlKk9",
        "colab_type": "text"
      },
      "source": [
        "##### Use the \"`.values()`\" method to return values of a dictionary"
      ]
    },
    {
      "cell_type": "code",
      "metadata": {
        "id": "3cR64lZjlVlo",
        "colab_type": "code",
        "colab": {}
      },
      "source": [
        "for entry in car_info_dict.values():\n",
        "  print(entry)"
      ],
      "execution_count": null,
      "outputs": []
    },
    {
      "cell_type": "markdown",
      "metadata": {
        "id": "ShBsVYKOl2oZ",
        "colab_type": "text"
      },
      "source": [
        "##### Loop through both *keys* and *values*, by using the \"`.items()`\" method:"
      ]
    },
    {
      "cell_type": "code",
      "metadata": {
        "id": "ErizKq4ql-BC",
        "colab_type": "code",
        "colab": {}
      },
      "source": [
        "for key,value in car_info_dict.items():\n",
        "  print(key,value)"
      ],
      "execution_count": null,
      "outputs": []
    },
    {
      "cell_type": "markdown",
      "metadata": {
        "id": "rrrczDsuZbcz",
        "colab_type": "text"
      },
      "source": [
        "### Check if Key Exists \n",
        "\n",
        "- to determine if a specified key is present in a dictionary use the \"`in`\" keyword"
      ]
    },
    {
      "cell_type": "code",
      "metadata": {
        "id": "fpcuvxqwm2VS",
        "colab_type": "code",
        "colab": {}
      },
      "source": [
        "# create dictionary \n",
        "car_info_dict = {\n",
        "  \"brand\": \"Ford\", # key-value pair #1\n",
        "  \"model\": \"Mustang\", # key-value pair #2\n",
        "  \"year\": 1964 # key-value pair #3\n",
        "}\n",
        "\n",
        "# check if brand key exists\n",
        "if \"brand\" in car_info_dict:\n",
        "  print(\"Brand info is available.\")\n"
      ],
      "execution_count": null,
      "outputs": []
    },
    {
      "cell_type": "markdown",
      "metadata": {
        "id": "2k6RWFKNZnDy",
        "colab_type": "text"
      },
      "source": [
        "### Dictionary Length\n",
        "\n",
        "- to determine how many items (key-value pairs) a dictionary has, use the \"`len()`\" function"
      ]
    },
    {
      "cell_type": "code",
      "metadata": {
        "id": "9Jzj1HAUoH9n",
        "colab_type": "code",
        "colab": {}
      },
      "source": [
        "# create dictionary \n",
        "car_info_dict = {\n",
        "  \"brand\": \"Ford\", # key-value pair #1\n",
        "  \"model\": \"Mustang\", # key-value pair #2\n",
        "  \"year\": 1964 # key-value pair #3\n",
        "}\n",
        "\n",
        "# get length of the dictionary\n",
        "print(len(car_info_dict))"
      ],
      "execution_count": null,
      "outputs": []
    },
    {
      "cell_type": "markdown",
      "metadata": {
        "id": "U4tYXp4eZqjM",
        "colab_type": "text"
      },
      "source": [
        "### Adding Items \n",
        "\n",
        "- adding an item to the dictionary is done by using a new index key and assigning a value to it"
      ]
    },
    {
      "cell_type": "code",
      "metadata": {
        "id": "XbZy4WOCodDg",
        "colab_type": "code",
        "colab": {}
      },
      "source": [
        "# create dictionary \n",
        "car_info_dict = {\n",
        "  \"brand\": \"Ford\", # key-value pair #1\n",
        "  \"model\": \"Mustang\", # key-value pair #2\n",
        "  \"year\": 1964 # key-value pair #3\n",
        "}\n",
        "\n",
        "# check the dictionary\n",
        "print(car_info_dict)\n",
        "\n",
        "# add color entry into car_info_dict dictionary\n",
        "car_info_dict[\"color\"] = \"green\"\n",
        "\n",
        "# check the updated dictionary\n",
        "print(car_info_dict)"
      ],
      "execution_count": null,
      "outputs": []
    },
    {
      "cell_type": "markdown",
      "metadata": {
        "id": "EJWNOaTvZvQe",
        "colab_type": "text"
      },
      "source": [
        "### Removing Items \n",
        "\n",
        "- there are several methods to remove items from a dictionary\n",
        " "
      ]
    },
    {
      "cell_type": "markdown",
      "metadata": {
        "id": "s7qjpgCk6JSc",
        "colab_type": "text"
      },
      "source": [
        "  #####  \"`.pop()`\" method"
      ]
    },
    {
      "cell_type": "code",
      "metadata": {
        "id": "1yM296HB4KUW",
        "colab_type": "code",
        "colab": {}
      },
      "source": [
        "# initialize dictionary \n",
        "car_model_info = {\n",
        "                  \"brand\":\"Tesla\",\n",
        "                  \"model\":\"Model 3\", \n",
        "                  \"year\":\"2017\"\n",
        "                  }\n",
        "\n",
        "# print car model dictionary\n",
        "print(car_model_info)\n",
        "\n",
        "# remove item with specified key name\n",
        "car_model_info.pop(\"model\")\n",
        "\n",
        "# print car model dictionary after pop\n",
        "print(car_model_info)"
      ],
      "execution_count": null,
      "outputs": []
    },
    {
      "cell_type": "markdown",
      "metadata": {
        "id": "HNPuHIDT9hTa",
        "colab_type": "text"
      },
      "source": [
        "##### \"`.popitem()`\" method\n",
        "\n",
        "- removes the last inserted item \n",
        "  - in versions before Python 3.7, a random item is removed instead"
      ]
    },
    {
      "cell_type": "code",
      "metadata": {
        "id": "DjSQ-CZ042hA",
        "colab_type": "code",
        "colab": {}
      },
      "source": [
        "# initialize dictionary \n",
        "car_model_info = {\n",
        "                  \"brand\":\"Tesla\",\n",
        "                  \"model\":\"Model 3\", \n",
        "                  \"year\":\"2017\"\n",
        "                  }\n",
        "\n",
        "# print car model dictionary\n",
        "print(car_model_info)\n",
        "\n",
        "# remove dictionary last added entry with popitem()\n",
        "car_model_info.popitem()\n",
        "\n",
        "# print car model dictionary after removing last added item\n",
        "print(car_model_info)"
      ],
      "execution_count": null,
      "outputs": []
    },
    {
      "cell_type": "markdown",
      "metadata": {
        "id": "mnbAMpTW91RB",
        "colab_type": "text"
      },
      "source": [
        "##### \"`del`\" method\n",
        "\n",
        "- removes the item with the specified key name"
      ]
    },
    {
      "cell_type": "code",
      "metadata": {
        "id": "A6nBfa5095mW",
        "colab_type": "code",
        "colab": {}
      },
      "source": [
        "# initialize dictionary \n",
        "car_model_info = {\n",
        "                  \"brand\":\"Tesla\",\n",
        "                  \"model\":\"Model 3\", \n",
        "                  \"year\":\"2017\"\n",
        "                  }\n",
        "\n",
        "# print car model dictionary\n",
        "print(car_model_info)\n",
        "\n",
        "# remove entry with specified key name using del command\n",
        "del car_model_info[\"model\"]\n",
        "\n",
        "# print car model dictionary after del command\n",
        "print(car_model_info)"
      ],
      "execution_count": null,
      "outputs": []
    },
    {
      "cell_type": "markdown",
      "metadata": {
        "id": "gNx_SKr_Z1u1",
        "colab_type": "text"
      },
      "source": [
        "### Copy a Dictionary \n",
        "\n",
        "- you cannot copy a dictionary simply by typing `dict2 = dict1`, because:\n",
        "  - `dict2` will only be a reference to `dict1`\n",
        "  - this way, changes made in `dict1` will automatically also be made in `dict2`"
      ]
    },
    {
      "cell_type": "markdown",
      "metadata": {
        "id": "wCsvPyjk_08W",
        "colab_type": "text"
      },
      "source": [
        "- there are ways to make copy of a dictionary"
      ]
    },
    {
      "cell_type": "markdown",
      "metadata": {
        "id": "-qskA5YM_54j",
        "colab_type": "text"
      },
      "source": [
        "##### \"`.copy()`\" method:"
      ]
    },
    {
      "cell_type": "code",
      "metadata": {
        "id": "qYvro6LB4Jt2",
        "colab_type": "code",
        "colab": {}
      },
      "source": [
        "# initialize dictionary \n",
        "car_model_info = {\n",
        "                  \"brand\":\"Tesla\",\n",
        "                  \"model\":\"Model 3\", \n",
        "                  \"year\":\"2017\"\n",
        "                  }\n",
        "\n",
        "# print car model dictionary\n",
        "print(car_model_info)\n",
        "\n",
        "# copy car model info into a new dictionary using .copy()\n",
        "new_car_model_info = car_model_info.copy()\n",
        "\n",
        "# print new car model dictionary after copy\n",
        "print(new_car_model_info)"
      ],
      "execution_count": null,
      "outputs": []
    },
    {
      "cell_type": "markdown",
      "metadata": {
        "id": "Nu-JXqEaC7Dx",
        "colab_type": "text"
      },
      "source": [
        "##### \"`dict()`\" constructor method:"
      ]
    },
    {
      "cell_type": "code",
      "metadata": {
        "id": "16gvTRFnDlvw",
        "colab_type": "code",
        "colab": {}
      },
      "source": [
        "# initialize dictionary \n",
        "car_model_info = {\n",
        "                  \"brand\":\"Tesla\",\n",
        "                  \"model\":\"Model 3\", \n",
        "                  \"year\":\"2017\"\n",
        "                  }\n",
        "\n",
        "# print car model dictionary\n",
        "print(car_model_info)\n",
        "\n",
        "# copy car model info into a new dictionary using dict()\n",
        "new_car_model_info = dict(car_model_info)\n",
        "\n",
        "# print new car model dictionary after copy\n",
        "print(new_car_model_info)"
      ],
      "execution_count": null,
      "outputs": []
    },
    {
      "cell_type": "markdown",
      "metadata": {
        "id": "WYxCypADZ5fa",
        "colab_type": "text"
      },
      "source": [
        "### Nested Dictionaries\n",
        "\n",
        "- a dictionary can also contain many dictionaries, this is called nested dictionaries"
      ]
    },
    {
      "cell_type": "code",
      "metadata": {
        "id": "BOwtJ0ARpEcn",
        "colab_type": "code",
        "colab": {}
      },
      "source": [
        "# create a nested dictionary \n",
        "family = {\n",
        "  \"child1\" : {\n",
        "    \"name\" : \"Emil\",\n",
        "    \"year\" : 2004\n",
        "  },\n",
        "  \"child2\" : {\n",
        "    \"name\" : \"Tobias\",\n",
        "    \"year\" : 2007\n",
        "  },\n",
        "  \"child3\" : {\n",
        "    \"name\" : \"Linus\",\n",
        "    \"year\" : 2011\n",
        "  }\n",
        "}\n",
        "\n",
        "# print the family dictionary\n",
        "print(family)"
      ],
      "execution_count": null,
      "outputs": []
    },
    {
      "cell_type": "markdown",
      "metadata": {
        "id": "_nYVPj7txDOG",
        "colab_type": "text"
      },
      "source": [
        "- another way is to create three dictionaries separately\n",
        "- then create one dictionary that will contain the other three dictionaries"
      ]
    },
    {
      "cell_type": "code",
      "metadata": {
        "id": "Hmq2E4f7xDnv",
        "colab_type": "code",
        "colab": {}
      },
      "source": [
        "# create three separate dictionaries \n",
        "child1 = {\n",
        "  \"name\" : \"Emil\",\n",
        "  \"year\" : 2004\n",
        "}\n",
        "child2 = {\n",
        "  \"name\" : \"Tobias\",\n",
        "  \"year\" : 2007\n",
        "}\n",
        "child3 = {\n",
        "  \"name\" : \"Linus\",\n",
        "  \"year\" : 2011\n",
        "}\n",
        "\n",
        "# create parent dicitonary \n",
        "family = {\n",
        "  \"child1\" : child1,\n",
        "  \"child2\" : child2,\n",
        "  \"child3\" : child3\n",
        "}\n",
        "\n",
        "# print the parent dicitonary \n",
        "print(family)"
      ],
      "execution_count": null,
      "outputs": []
    }
  ]
}