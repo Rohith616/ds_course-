{
  "nbformat": 4,
  "nbformat_minor": 0,
  "metadata": {
    "orig_nbformat": 2,
    "kernelspec": {
      "name": "python3",
      "display_name": "Python 3"
    },
    "colab": {
      "name": "Step_1_1f_Object_Oriented_Python.ipynb",
      "provenance": [],
      "collapsed_sections": [],
      "toc_visible": true
    }
  },
  "cells": [
    {
      "cell_type": "markdown",
      "metadata": {
        "id": "WJd4xQQ6kvOm",
        "colab_type": "text"
      },
      "source": [
        "# Objected Oriented Python Topics\n",
        "\n",
        "- Objects and Classes\n",
        "\n",
        "- Inheritance\n",
        "\n",
        "- Encapsulation\n",
        "\n",
        "- Abstract Classes\n",
        "\n",
        "- Interfaces"
      ]
    },
    {
      "cell_type": "markdown",
      "metadata": {
        "id": "HLNger8TGctC",
        "colab_type": "text"
      },
      "source": [
        "Object Oriented Programming is a paradigm of programming used to represent real-world objects in programs.\n",
        "\n",
        "Real-world objects have certain properties and behaviours. These are modelled with Classes and Objects in Python. \n",
        "\n",
        "Properties or Data Fields capture the state of real-world objects and Methods capture the behavior of real-world objects "
      ]
    },
    {
      "cell_type": "markdown",
      "metadata": {
        "id": "1sEfWEszkvOo",
        "colab_type": "text"
      },
      "source": [
        "\n",
        "# Objects and Classes\n",
        "\n",
        "- *Classes* and *Objects* are the two main aspects of Object Oriented Programming (OOP)\n",
        "\n",
        "- A **class** creates a new *type* (remember data types?)\n",
        "    - where **objects** are instances of the **class** type\n",
        "\n",
        "![Objects and Classses](https://i.imgur.com/c82ZQmfl.png \"Instantiating\")\n",
        "\n",
        "*Fig 1 - Instantiating*\n",
        "\n"
      ]
    },
    {
      "cell_type": "code",
      "metadata": {
        "tags": [],
        "id": "heTtTM7OkvOq",
        "colab_type": "code",
        "colab": {}
      },
      "source": [
        "# create an empty class called `Person`\n",
        "# (NOTE: class names always begin with a capital letter!)\n",
        "class Person:\n",
        "    pass # empty block\n",
        "\n",
        "# Create object `p` from class `Person`\n",
        "p = Person()\n",
        "\n",
        "# Print `p` \n",
        "print(p)"
      ],
      "execution_count": null,
      "outputs": []
    },
    {
      "cell_type": "markdown",
      "metadata": {
        "id": "nDs1MeJUkvOy",
        "colab_type": "text"
      },
      "source": [
        "### Attributes of a Class\n",
        "\n",
        "- **(Data) Fields**: Variables that belong to an object or class are referred to as fields\n",
        "\n",
        "    - Objects can store data using ordinary variables that *belong* to the object\n",
        "    \n",
        "- **Methods**: Objects can also have functionality by using functions that belong to a class\n",
        "\n",
        "    - Such functions are called methods of the class\n",
        "\n",
        "\n",
        "- Collectively, the **fields** and **methods** can be referred to as the **attributes** of that class.\n",
        "\n",
        "![Phone Fields and Methods](https://i.imgur.com/bpI6Kswl.jpg)\n",
        "\n",
        "*Fig 2a - Data Fields (Properties) and Methods*\n",
        "\n",
        "![Car Fields and Methods](https://i.imgur.com/LtHHg3wl.jpg)\n",
        "\n",
        "*Fig 2b - Data Fields (Properties) and Methods*"
      ]
    },
    {
      "cell_type": "markdown",
      "metadata": {
        "id": "gBfpsGunBPcR",
        "colab_type": "text"
      },
      "source": [
        "### Methods"
      ]
    },
    {
      "cell_type": "code",
      "metadata": {
        "tags": [],
        "id": "Vr4M81T0kvOz",
        "colab_type": "code",
        "colab": {}
      },
      "source": [
        "# create a class called `Person`\n",
        "class Person:\n",
        "    # create a new built in method called say_hi\n",
        "    def say_hi(self):\n",
        "        print('Hello, how are you?')\n",
        "\n",
        "# instantiate object `p` from `Person` class\n",
        "p = Person()\n",
        "\n",
        "# run the built-in method from object `p`\n",
        "p.say_hi()"
      ],
      "execution_count": null,
      "outputs": []
    },
    {
      "cell_type": "markdown",
      "metadata": {
        "id": "TbBVf_V5kvO5",
        "colab_type": "text"
      },
      "source": [
        "- Notice that the `say_hi` method takes no parameters when calling it in the object \n",
        "\n",
        "    - but still has the `self` in the class function definition\n",
        "\n",
        "   "
      ]
    },
    {
      "cell_type": "markdown",
      "metadata": {
        "id": "M6s7X-z7sNlI",
        "colab_type": "text"
      },
      "source": [
        "##### `self` keyword\n",
        "\n",
        "- Class methods have only one specific difference from ordinary functions \n",
        "  - they must have an extra first parameter that has to be added to the beginning of the parameter list\n",
        "  - by convention, it is given the name `self`.\n",
        "- do not give a value for this parameter when you call the method \n",
        "  - Python will automatically provide it \n",
        "  - this particular variable refers to the object itself\n",
        "  "
      ]
    },
    {
      "cell_type": "markdown",
      "metadata": {
        "id": "GEvK-AKFtZBS",
        "colab_type": "text"
      },
      "source": [
        "### Data Fields\n",
        "\n",
        "- we have already discussed the functionality part of classes and objects (i.e. *methods*), \n",
        "  \n",
        "  - now let us learn about the data part. \n",
        " \n",
        "- the data part, i.e. *fields*, are nothing but ordinary variables that are bound to the *namespaces* of the classes and objects\n",
        "\n",
        "    - recall scope of variables in functions, this works similar to that, but at `class` and `object` levels"
      ]
    },
    {
      "cell_type": "markdown",
      "metadata": {
        "id": "8ZG1c9OksIip",
        "colab_type": "text"
      },
      "source": [
        "\n",
        "##### `__init__` method: the constructor function\n",
        "\n",
        "- There are many method names which have special significance in Python classes \n",
        "\n",
        "- We will see the significance of the `__init__` method \n",
        "\n",
        "    - The `__init__` method is run as soon as an object of a class is *instantiated* (i.e. created)\n",
        "\n",
        "    - The method is useful to do any *initialization* you want to do with your object\n",
        "    \n",
        "        - i.e. passing initial values to your object variables"
      ]
    },
    {
      "cell_type": "code",
      "metadata": {
        "tags": [],
        "id": "8X3GlE0xkvO6",
        "colab_type": "code",
        "colab": {}
      },
      "source": [
        "# create Class called `Person`\n",
        "class Person:\n",
        "    \n",
        "    # create the __init__ constructor function \n",
        "    def __init__(self,name):\n",
        "        self.name = name # object variable\n",
        "    \n",
        "    # create method called say_hi\n",
        "    # this will be a built-in function for this class `Person`\n",
        "    def say_hi(self):\n",
        "        print('Hello, my name is ', self.name)\n",
        "\n",
        "# instatiate an object `p` from class `Person`\n",
        "# remember to input the `name` as Class argument\n",
        "p = Person('Jill')\n",
        "\n",
        "# call built-in method\n",
        "p.say_hi()"
      ],
      "execution_count": null,
      "outputs": []
    },
    {
      "cell_type": "markdown",
      "metadata": {
        "id": "FWl_eR5bkvO_",
        "colab_type": "text"
      },
      "source": [
        "- The variables under the `__init__` function have to be passed as arugments when creating the object from the class\n",
        "\n",
        "  - When creating new instance `p`, of the class `Person`\n",
        "      \n",
        "    - we do so by using the class name, followed by the arguments in the parentheses\n",
        "\n",
        "- We define the `__init__` method as taking a parameter name \n",
        "  \n",
        "  - We do not explicitly call the __init__ method, this is the special significance of this method\n",
        "\n",
        "- `self.name` means that there is something called \"name\" that is part of the object called \"self\" \n",
        "  \n",
        "  - the other `name` is a local variable\n",
        "\n",
        "<br>\n",
        "\n",
        "\n",
        "    \n",
        "\n"
      ]
    },
    {
      "cell_type": "markdown",
      "metadata": {
        "id": "JT5QI71mL6A1",
        "colab_type": "text"
      },
      "source": [
        "### Class Variable vs. Object Variable\n",
        "\n",
        "- there are two types of *data fields*\n",
        "  - class variables\n",
        "  - object variables \n",
        "  \n",
        "- these are classified depending on whether the class or the object owns the variables respectively\n",
        "\n",
        "\n",
        "![Objects and Classses](https://i.imgur.com/c82ZQmfl.png \"Instantiating\")\n",
        "\n",
        "*Fig 3 - Class vs. Object*\n",
        "\n",
        "**class variable**:\n",
        "\n",
        "  - they can be accessed by all instances of that class\n",
        "  - here is only one copy of the class variable and when any one object makes a change to a class variable \n",
        "  - that change will be seen by all the other instances.\n",
        "\n",
        "**object variable**:\n",
        "\n",
        "  - are owned by each individual object/instance of the class\n",
        "  - each object has its own copy of the field\n",
        "  - they are not shared and are not related in any way to the field by the same name in a different instance"
      ]
    },
    {
      "cell_type": "markdown",
      "metadata": {
        "id": "51kxnFsnPGcJ",
        "colab_type": "text"
      },
      "source": [
        "### `Robot` Class Example\n",
        "\n",
        "- it is important to learn `classes` and `objects` with examples \n",
        "  - so we will look at a `Robot` class example\n",
        "\n",
        "- We define a `Robot` class with the following attributes:\n",
        "  - Class Variables:\n",
        "    - `population`: keeps count of the number of objects instantiated from the class\n",
        "  - Class Function:\n",
        "    - `how_many`: returns the current number of robots\n",
        "  - Properties:\n",
        "    - `name`: object varible that hold the name of the current robot \n",
        "  - Methods:\n",
        "    - `say_hi`: robot says hi\n",
        "    - `die`: robot gets terminated and updates the number of total robots "
      ]
    },
    {
      "cell_type": "markdown",
      "metadata": {
        "id": "o1o6soALedtS",
        "colab_type": "text"
      },
      "source": [
        "##### **ASIDE #1**: \n",
        "\n",
        "- *Docstrings*:\n",
        "  - these are string literals that appear right after the definition of a function, method, class, or module\n",
        "  - they appear when `help(function_name)` is run "
      ]
    },
    {
      "cell_type": "code",
      "metadata": {
        "id": "0UywmjlchQa_",
        "colab_type": "code",
        "colab": {}
      },
      "source": [
        "# Docstrings Example\n",
        "\n",
        "def is_even(num):\n",
        "  # Docstring\n",
        "  \"\"\"\n",
        "  Input: an integer\n",
        "  Output: if input is even (True for even, False for not)\n",
        "  \"\"\"\n",
        "  return num % 2 == 0\n",
        "\n",
        "help(is_even)\n"
      ],
      "execution_count": null,
      "outputs": []
    },
    {
      "cell_type": "markdown",
      "metadata": {
        "id": "GUIIgv1gic5d",
        "colab_type": "text"
      },
      "source": [
        "##### **ASIDE #2**: \n",
        "- `.format()`\n",
        "  - used to fill in the blanks of a string in the `print()` statement\n"
      ]
    },
    {
      "cell_type": "code",
      "metadata": {
        "id": "hbLYvbAdjJh-",
        "colab_type": "code",
        "colab": {}
      },
      "source": [
        "# `.format()` example\n",
        "\n",
        "pi_value = 3.14\n",
        "print(\"The value of Pi is {}\".format(pi_value))"
      ],
      "execution_count": null,
      "outputs": []
    },
    {
      "cell_type": "markdown",
      "metadata": {
        "id": "dJHJvZGr8crz",
        "colab_type": "text"
      },
      "source": [
        "**Robot Class Setup**"
      ]
    },
    {
      "cell_type": "code",
      "metadata": {
        "id": "ByFhF1SEL5u6",
        "colab_type": "code",
        "colab": {}
      },
      "source": [
        "# Define a class called Robot\n",
        "class Robot:\n",
        "  \"\"\"Represents a robot, with a name.\"\"\" # Docstrings\n",
        "\n",
        "  # Class Variable: population\n",
        "  population = 0\n",
        "\n",
        "  # Constructor Function: __init__()\n",
        "  def __init__(self, name):\n",
        "      \"\"\"Initializes the data.\"\"\" # Docstrings\n",
        "      self.name = name # Object Variable\n",
        "      print(\"(Initializing {})\".format(self.name))\n",
        "\n",
        "      # When a new robot is created, the robot\n",
        "      # adds to the population\n",
        "      Robot.population += 1\n",
        "\n",
        "  # Object Method: die()\n",
        "  def die(self):\n",
        "      \"\"\"I am dying.\"\"\" # Docstrings\n",
        "      print(\"{} is being destroyed!\".format(self.name))\n",
        "\n",
        "      Robot.population -= 1\n",
        "\n",
        "      if Robot.population == 0:\n",
        "          print(\"{} was the last one.\".format(self.name))\n",
        "      else:\n",
        "          print(\"There are still {:d} robots working.\".format(\n",
        "              Robot.population))\n",
        "\n",
        "  # Object Method: say_hi()\n",
        "  def say_hi(self):\n",
        "      \"\"\"Greeting by the robot. \n",
        "      Yeah, they can do that.\"\"\" # Docstrings\n",
        "      print(\"Greetings, my masters call me {}.\".format(self.name))\n",
        "\n",
        "  # Class Method: how_many() \n",
        "  @classmethod\n",
        "  def how_many(cls):\n",
        "      \"\"\"Prints the current population.\"\"\" # Docstrings\n",
        "      print(\"We have {:d} robots.\".format(cls.population))\n"
      ],
      "execution_count": null,
      "outputs": []
    },
    {
      "cell_type": "markdown",
      "metadata": {
        "id": "-vIks-iNNE3O",
        "colab_type": "text"
      },
      "source": [
        "##### **Explanation of Robot Class Setup**\n",
        "\n",
        "**object variables**\n",
        "\n",
        "- the `name` variable belongs to the object (it is assigned using `self`) and hence is an *object variable*\n",
        "\n",
        "- we refer to the *object variable* name using `self.name` notation in the methods of that object\n",
        "\n",
        "- **NOTE**: an *object variable* with the same name as a *class variable* will hide the class variable!\n",
        "\n",
        "- instead of `Robot.population`, we could have also used `self.__class__.population` because every object refers to its class via the `self.__class__` attribute\n",
        "\n",
        "\n",
        "**object methods**\n",
        "\n",
        "- in the `say_hi` built-in object method, the robot outputs a greeting \n",
        "\n",
        "- in the `die` built-in object method, we simply decrease the `Robot.population` count by 1\n",
        "\n",
        "**docstrings**\n",
        "\n",
        "- in this program, we see the use of `docstrings` for classes as well as methods\n",
        "  - we can access the class docstring using `Robot.__doc__` and the method docstring as `Robot.say_hi.__doc__`\n",
        "\n",
        "\n",
        "**constructor function**\n",
        "\n",
        "- observe that the `__init__` method is used to initialize the `Robot` instance with a name \n",
        "  - in this method, we increase the population count by 1 since we have one more robot being added \n",
        "  - also observe that the values of `self.name` is specific to each object which indicates the nature of object variables\n",
        "\n",
        "\n",
        "**class variable**\n",
        "\n",
        "- `population` belongs to the `Robot` class \n",
        "  - hence is a *class variable* \n",
        "\n",
        "- thus, we refer to the `population` *class variable* as `Robot.population` and not as `self.population` \n",
        "\n",
        "**class function**\n",
        "\n",
        "- the `how_many` is actually a method that belongs to the class and not to the object\n",
        "\n",
        "- this means we can define it as either a `classmethod` or a `staticmethod` depending on whether we need to know which class we are part of\n",
        "  - since we refer to a *class variable*, let's use `classmethod`\n",
        "\n",
        "- we have marked the `how_many` method as a class method using a decorator\n",
        "\n",
        "- *decorators* can be imagined to be a shortcut to calling a wrapper function (i.e. a function that \"wraps\" around another function so that it can do something before or after the inner function), so applying the `@classmethod` decorator is the same as calling:\n",
        "```\n",
        "how_many = classmethod(how_many)\n",
        "```\n",
        "\n",
        "**public vs. private attributes**\n",
        "\n",
        "- all class members are public\n",
        "  - *One exception*: if you use data members with names using the double underscore prefix such as `__privatevar`, Python uses name-mangling to effectively make it a private variable.\n",
        "\n",
        "- the convention followed is that any variable that is to be used only within the class or object should begin with an underscore and all other names are public and can be used by other classes/objects \n",
        "  - remember that this is only a convention and is not enforced by Python (except for the double underscore prefix)"
      ]
    },
    {
      "cell_type": "code",
      "metadata": {
        "id": "jVkC1YkINIrM",
        "colab_type": "code",
        "colab": {}
      },
      "source": [
        "# Using the above Robot Class setup\n",
        "\n",
        "#------------------------------------------------------\n",
        "# Initialize Robot 1 called 'R2-D2' in `droid1`\n",
        "droid1 = Robot(\"R2-D2\")\n",
        "\n",
        "# Call the Built-In Object Function for `droid1`\n",
        "droid1.say_hi()\n",
        "\n",
        "# Call the Class Function\n",
        "Robot.how_many()\n",
        "\n",
        "#------------------------------------------------------\n",
        "# Initialize Robot 2 called 'C-3PO' \n",
        "droid2 = Robot(\"C-3PO\")\n",
        "\n",
        "# Call the Built-In Object Function for droid2\n",
        "droid2.say_hi()\n",
        "\n",
        "# Call the Class Function\n",
        "Robot.how_many()\n",
        "\n",
        "#------------------------------------------------------\n",
        "# Print a note about Robots working\n",
        "print(\"\\nRobots can do some work here.\\n\")\n",
        "\n",
        "# Print a note about destroying Robots\n",
        "print(\"Robots have finished their work. So let's destroy them.\")\n",
        "\n",
        "#------------------------------------------------------\n",
        "# Use Built-In Object Functions \n",
        "droid1.die()\n",
        "droid2.die()\n",
        "\n",
        "# Call the Class Function\n",
        "Robot.how_many()"
      ],
      "execution_count": null,
      "outputs": []
    },
    {
      "cell_type": "markdown",
      "metadata": {
        "id": "JzVyRGLnD-v1",
        "colab_type": "text"
      },
      "source": [
        "# Inheritance\n",
        "\n",
        "- a major benefit of OOP is reuse of code \n",
        "  - one way this is achieved is through *inheritance* mechanism\n",
        "\n",
        "- inheritance can be best imagined as implementing a type (parent class) and subtype (child class) relationship between classes\n",
        "\n",
        "![Inheritance Schematic](https://i.imgur.com/DF6P030l.jpg \"Inheritance Schematic\")"
      ]
    },
    {
      "cell_type": "markdown",
      "metadata": {
        "id": "1EhpG7Q2Higf",
        "colab_type": "text"
      },
      "source": [
        "### School Members Example \n",
        "\n",
        "##### **Problem Statement**:\n",
        "\n",
        "- suppose you want to write a program for a college which has to keep track of \n",
        "  - *teachers* \n",
        "  - *students* \n",
        "\n",
        "- they both have some common characteristics such as \n",
        "  - name, \n",
        "  - age and \n",
        "  - address \n",
        "  \n",
        "- they also have specific characteristics such as \n",
        "  - for *teachers*\n",
        "    - salary\n",
        "    - courses  \n",
        "    - leaves  \n",
        "  - for *students*\n",
        "    - marks  \n",
        "    - fees\n",
        "\n",
        "\n"
      ]
    },
    {
      "cell_type": "markdown",
      "metadata": {
        "id": "qSmfwlxIOejM",
        "colab_type": "text"
      },
      "source": [
        "##### **Solution Strategy:**\n",
        "\n",
        "\n",
        "**independent classes**\n",
        "- you can create two independent classes for each type (*teachers* and *students*), but adding a new common characteristic would mean adding to both of these independent classes\n",
        "  - this quickly becomes unwieldy\n",
        "\n",
        "**inherited classes**\n",
        "- a better way would be to create a common class called `SchoolMember` and then have the *teacher* and *student* classes **inherit** from this class\n",
        "  - i.e. they will become sub-types (child classes) of this type (parent class) and then we can add specific characteristics to these sub-types\n",
        "\n",
        "- there are many advantages to this approach\n",
        "  1. if we add/change any functionality in `SchoolMember`, this is automatically reflected in the subtypes as well\n",
        "    - for example, you can add a new ID card field for both *teachers* and *students* by simply adding it to the `SchoolMember` class \n",
        "    - however, changes in one subtype (child class) does not affect other subtype (child class)\n",
        "    \n",
        "  2. another advantage is that you can refer to a *teacher* or *student* object as a `SchoolMember` object which could be useful in some situations such as counting of the number of school members \n",
        "    - this is called polymorphism where a sub-type can be substituted in any situation where a parent type is expected, \n",
        "    - i.e. the object can be treated as an instance of the parent class.\n",
        "\n",
        "  3. also observe that we reuse the code of the parent class and we do not need to repeat it in the child classes as we would have had to in case we had used independent classes\n",
        "\n",
        "- the `SchoolMember` class in this situation is known as the *base class*, *parent class* or the *superclass*. \n",
        "- the *Teacher* and *Student* classes are called the *derived classes*, *child class* or *subclasses*\n",
        "\n",
        "\n",
        "\n"
      ]
    },
    {
      "cell_type": "markdown",
      "metadata": {
        "id": "miotP7j2SKB6",
        "colab_type": "text"
      },
      "source": [
        "##### **Implementing the Strategy:**\n",
        "\n",
        "###### Create a Parent Class\n",
        "\n",
        "- parent class called `SchoolMember`"
      ]
    },
    {
      "cell_type": "code",
      "metadata": {
        "id": "tm9QlKEqSLYl",
        "colab_type": "code",
        "colab": {}
      },
      "source": [
        "class SchoolMember:\n",
        "    '''Represents any school member.'''\n",
        "    def __init__(self, name, age):\n",
        "        self.name = name\n",
        "        self.age = age\n",
        "        print('(Initialized SchoolMember: {})'.format(self.name))\n",
        "\n",
        "    def tell(self):\n",
        "        '''Tell my details.'''\n",
        "        print('Name:\"{}\" Age:\"{}\"'.format(self.name, self.age), end=\" \")"
      ],
      "execution_count": null,
      "outputs": []
    },
    {
      "cell_type": "markdown",
      "metadata": {
        "id": "KlfAGf9TSXmc",
        "colab_type": "text"
      },
      "source": [
        "##### Create a Child Class\n",
        "\n",
        "- child class `TeacherClass` from Parent `SchoolMember`"
      ]
    },
    {
      "cell_type": "code",
      "metadata": {
        "id": "5_GFsmVBSd5y",
        "colab_type": "code",
        "colab": {}
      },
      "source": [
        "class Teacher(SchoolMember):\n",
        "    '''Represents a teacher.'''\n",
        "    def __init__(self, name, age, salary):\n",
        "        SchoolMember.__init__(self, name, age)\n",
        "        self.salary = salary\n",
        "        print('(Initialized Teacher: {})'.format(self.name))\n",
        "\n",
        "    def tell(self):\n",
        "        SchoolMember.tell(self)\n",
        "        print('Salary: \"{:d}\"'.format(self.salary))"
      ],
      "execution_count": null,
      "outputs": []
    },
    {
      "cell_type": "markdown",
      "metadata": {
        "id": "W7W9CS9nS5S-",
        "colab_type": "text"
      },
      "source": [
        "##### Create a Child Class\n",
        "\n",
        "- child class `StudentClass` from Parent `SchoolMember`"
      ]
    },
    {
      "cell_type": "code",
      "metadata": {
        "id": "-oOc2IFpS4wN",
        "colab_type": "code",
        "colab": {}
      },
      "source": [
        "class Student(SchoolMember):\n",
        "    '''Represents a student.'''\n",
        "    def __init__(self, name, age, grade):\n",
        "        SchoolMember.__init__(self, name, age)\n",
        "        self.grade = grade\n",
        "        print('(Initialized Student: {})'.format(self.name))\n",
        "\n",
        "    def tell(self):\n",
        "        SchoolMember.tell(self)\n",
        "        print('Grade: \"{:d}\"'.format(self.grade))"
      ],
      "execution_count": null,
      "outputs": []
    },
    {
      "cell_type": "markdown",
      "metadata": {
        "id": "K8O-L9WSTB1k",
        "colab_type": "text"
      },
      "source": [
        "##### Initialize a new *Teacher Object* and *Student Object*"
      ]
    },
    {
      "cell_type": "code",
      "metadata": {
        "id": "kdq7ctj5TdWY",
        "colab_type": "code",
        "colab": {}
      },
      "source": [
        "# initialize `t` - teacher object \n",
        "t = Teacher('Mrs. Alyssa', 40, 30000)\n",
        "# name: Mrs. Alyssa\n",
        "# age: 40\n",
        "# salary: 30000\n",
        "\n",
        "# prints a blank line\n",
        "print()\n",
        "\n",
        "# initialize `s` - student object\n",
        "s = Student('Daniel', 25, 75)\n",
        "# name: Daniel\n",
        "# age: 25\n",
        "# grade: 75\n",
        "\n",
        "# prints a blank line\n",
        "print()\n",
        "\n",
        "members = [t, s]\n",
        "for member in members:\n",
        "    # Works for both Teachers and Students\n",
        "    member.tell()"
      ],
      "execution_count": null,
      "outputs": []
    },
    {
      "cell_type": "markdown",
      "metadata": {
        "id": "JwmnZW89XExE",
        "colab_type": "text"
      },
      "source": [
        "### Explanation of Inheritance\n",
        "\n",
        "- to use inheritance, we specify the parent-class names in a tuple following the class name in the class definition \n",
        "  - for example, `class Teacher(SchoolMember)`\n",
        "\n",
        "- next, we observe that the `__init__` method of the parent-class is explicitly called using the `self` variable so that we can initialize the parent class part of an instance in the child-class \n",
        "  - since we are defining a `__init__` method in *Teacher* and *Student* subclasses, Python does not automatically call the constructor of the child-class `SchoolMember`, you have to explicitly call it yourself\n",
        "  - in contrast, if we had not defined an `__init__` method in the child-classes, Python will call the constructor of the parent-class automatically\n",
        "\n",
        "- while we could treat instances of *Teacher* or *Student* as we would an instance of `SchoolMember` and access the tell method of `SchoolMember` by simply typing `Teacher.tell` or `Student.tell`, we instead define another `tell` method in each child-class (using the `tell` method of `SchoolMember` for part of it) to tailor it for that subclass   \n",
        "  - because we have done this, when we write `Teacher.tell`, Python uses the `tell` method for that child-class vs the parent-class\n",
        "  - however, if we did not have a `tell` method in the child-class, Python would use the `tell` method in the parent-class \n",
        "  - Python always starts looking for methods in the actual child-class type first\n",
        "    - and if it doesn’t find anything, it starts looking at the methods in the child-class's parent-classes, one-by-one in the order they are specified in the tuple in the class definition\n",
        "\n",
        "- here we only have 1 base class, but you can have *multiple parent classes*\n",
        "\n",
        "- a note on terminology - if more than one class is listed in the inheritance tuple, then it is called **multiple inheritance**\n",
        "\n",
        "- the `end` parameter is used in the `print` function in the parent-class's `tell()` method to print a line and allow the next `print` to continue on the same line\n",
        "  - this is a trick to make `print` not print a `\\n` (newline) symbol at the end of the printing"
      ]
    },
    {
      "cell_type": "markdown",
      "metadata": {
        "id": "Soq5bcXncvSa",
        "colab_type": "text"
      },
      "source": [
        "# Encapsulation\n",
        "\n",
        "- an object's variables should not always be directly accessible\n",
        "\n",
        "- to prevent accidental change, an object's variables can sometimes only be changed with an objects methods\n",
        "  - those type of variables are private variables\n",
        "\n",
        "- the methods can ensure the correct values are set \n",
        "  - if an incorrect value is set, the method can return an error\n",
        "\n",
        "- Python does not have the *private* keyword, unlike some other object oriented languages, but encapsulation can be done\n",
        "  - to achieve this, it relies on the convention\n",
        "  - a class variable that should not directly be accessed should be prefixed with an underscore"
      ]
    },
    {
      "cell_type": "code",
      "metadata": {
        "id": "yV5gQCOsdZXI",
        "colab_type": "code",
        "colab": {}
      },
      "source": [
        "## Encapsulation Example \n",
        "\n",
        "# initialize a new class \n",
        "class Robot:\n",
        "\n",
        "  # constructor function\n",
        "   def __init__(self):\n",
        "      self.a = 123 # public object variable\n",
        "      self._b = 123 # private object variable (by convention - not a hard variable)\n",
        "      self.__c = 123 # Python enforced private variable\n",
        "\n",
        "# instantiate a new object \n",
        "new_robot = Robot()\n",
        "\n",
        "\n",
        "print(new_robot.a) # publicly accessible\n",
        "print(new_robot._b) # publicly accessible, but private by convention\n",
        "print(new_robot.__c) # Python enforced private variable, access throws error"
      ],
      "execution_count": null,
      "outputs": []
    },
    {
      "cell_type": "markdown",
      "metadata": {
        "id": "25KyGceUeOuE",
        "colab_type": "text"
      },
      "source": [
        "- an attempt to access the Python enforced private variable yields an error as seen above\n",
        "\n",
        "- *single underscore*: \n",
        "  - Private variable, it should not be accessed directly. But nothing stops you from doing that (except convention).\n",
        "  - More specifically, a \"protected\" variable, if drawing parallels to other programming langauages\n",
        "\n",
        "- *double underscore*: \n",
        "  - Private variable, harder to access but still possible.\n",
        "\n",
        "- Both are still accessible: Python only has private variables by convention."
      ]
    },
    {
      "cell_type": "markdown",
      "metadata": {
        "id": "DMky94T2fKy4",
        "colab_type": "text"
      },
      "source": [
        "### Getters and Setters\n",
        "\n",
        "- private variables are intended to be changed using *getter* and *setter* methods\n",
        "  - These provide indirect access to them"
      ]
    },
    {
      "cell_type": "code",
      "metadata": {
        "id": "Yyy9yNQYfKUa",
        "colab_type": "code",
        "colab": {}
      },
      "source": [
        "# initialize a new Robot class \n",
        "class Robot:\n",
        "\n",
        "  # constructor function\n",
        "  def __init__(self):\n",
        "    self.__version = 22\n",
        "\n",
        "  # getter function\n",
        "  def getVersion(self):\n",
        "    print(self.__version)\n",
        "\n",
        "  # setter function\n",
        "  def setVersion(self, version):\n",
        "    self.__version = version\n",
        "\n",
        "# instantiate a new object called 'new_robot'\n",
        "new_robot = Robot()\n",
        "\n",
        "# use the getter function\n",
        "new_robot.getVersion()\n"
      ],
      "execution_count": null,
      "outputs": []
    },
    {
      "cell_type": "code",
      "metadata": {
        "id": "sNlidFMjeOLN",
        "colab_type": "code",
        "colab": {}
      },
      "source": [
        "# use the built in setter function\n",
        "new_robot.setVersion(23)\n",
        "\n",
        "# use the getter function again\n",
        "new_robot.getVersion()"
      ],
      "execution_count": null,
      "outputs": []
    },
    {
      "cell_type": "code",
      "metadata": {
        "id": "QzIRBILhgDMp",
        "colab_type": "code",
        "colab": {}
      },
      "source": [
        "# but try accessing the private variable\n",
        "print(new_robot.__version) # throws error\n"
      ],
      "execution_count": null,
      "outputs": []
    },
    {
      "cell_type": "markdown",
      "metadata": {
        "id": "LfYlEdbLiGLe",
        "colab_type": "text"
      },
      "source": [
        "### Encapsulation Boundaries\n",
        "\n",
        "- private properties do not extend to child classes, or the public object\n",
        "\n",
        "- protected properties extend to child classes, but not the public object\n",
        "\n",
        "- when overriding with functions in the child classes,\n",
        "  - the access level can be same or weaker\n",
        "  - not stronger\n",
        "\n",
        "- once the object is created\n",
        "  - only public attributes and methods can be accessed"
      ]
    },
    {
      "cell_type": "markdown",
      "metadata": {
        "id": "F_ZGsNbkhrS_",
        "colab_type": "text"
      },
      "source": [
        "# Abstract Classes\n",
        "\n",
        "\n",
        "- an abstract class can be considered as a blueprint for other classes\n",
        "\n",
        "- it allows you to create a set of methods that *must* be created within any child classes built from the parent abstract class \n",
        "\n",
        "- a class which contains one or more abstract methods is called an abstract class. \n",
        "\n",
        "- an abstract method: *a method that has a declaration but does not have an implementation* \n",
        "\n",
        "- while we are designing large functional units we use an abstract class. \n",
        "  - when we want to provide a common interface for different implementations of a component, we use an abstract class"
      ]
    },
    {
      "cell_type": "markdown",
      "metadata": {
        "id": "vOK4H2g0LTxs",
        "colab_type": "text"
      },
      "source": [
        "### Why use Abstract Classes?\n",
        "\n",
        "- by defining an abstract parent class, you can define a common Application Program Interface (API) for a set of subclasses (chidren classes)\n",
        "\n",
        "- this capability is especially useful in situations where a third-party is going to provide implementations, such as with plugins, but can also help you when working in a large team or with a large code-base where keeping all classes in your mind is difficult or not possible"
      ]
    },
    {
      "cell_type": "markdown",
      "metadata": {
        "id": "dWfX_iLx24aU",
        "colab_type": "text"
      },
      "source": [
        "### Python and Abstract Classes\n",
        "\n",
        "- by default, Python does not provide abstract classes\n",
        "\n",
        "- Python comes with a module which provides the base for defining Abstract Base classes (ABC) \n",
        "\n",
        "  - that module name is ABC\n",
        "  \n",
        "- ABC works by decorating methods of the parent class as abstract and then registering concrete classes as implementations of the abstract parent \n",
        "\n",
        "- A method becomes abstract when decorated with the keyword `@abstractmethod`"
      ]
    },
    {
      "cell_type": "markdown",
      "metadata": {
        "id": "_x0jyqeMREq6",
        "colab_type": "text"
      },
      "source": [
        "### Abstract Class Example\n",
        "\n",
        "- define abstact class called `Polygon`\n",
        "  - with an abstract method called noofsides\n",
        "  - the abstract method forces this method to be defined again (overridden) in the children classes\n",
        "\n",
        "- then, define following children classes from the parent `Polygon` class\n",
        "  - `Triangle`\n",
        "  - `Quadilateral`\n",
        "  - `Pentagon`\n",
        "  - `Hexagon`\n",
        "\n",
        "- within each child class, the abstract method `noofsides` is overrideen with a custom method, but with the same name"
      ]
    },
    {
      "cell_type": "code",
      "metadata": {
        "id": "5o0-E6WXhq8P",
        "colab_type": "code",
        "colab": {}
      },
      "source": [
        "# imported abstract base class  \n",
        "\n",
        "from abc import ABC, abstractmethod \n",
        "\n",
        "# Parent Abstract Method ---------------------------------------------------\n",
        "class Polygon(ABC): \n",
        "\n",
        "\t# abstract method inside the parent Abstract Class\n",
        "\tdef noofsides(self): \n",
        "\t\tpass\n",
        "\n",
        "# Child Class #1 of Polygon Parent Abstract Class --------------------------\n",
        "class Triangle(Polygon): \n",
        "\n",
        "\t# overriding abstract method \n",
        "\tdef noofsides(self): \n",
        "\t\tprint(\"I have 3 sides\") \n",
        "\n",
        "# Child Class #2 of Polygon Parent Abstract Class --------------------------\n",
        "class Pentagon(Polygon): \n",
        "\n",
        "\t# overriding abstract method \n",
        "\tdef noofsides(self): \n",
        "\t\tprint(\"I have 5 sides\") \n",
        "\n",
        "# Child Class #3 of Polygon Parent Abstract Class --------------------------\n",
        "class Hexagon(Polygon): \n",
        "\n",
        "\t# overriding abstract method \n",
        "\tdef noofsides(self): \n",
        "\t\tprint(\"I have 6 sides\") \n",
        "\n",
        "# Child Class #4 of Polygon Parent Abstract Class --------------------------\n",
        "class Quadrilateral(Polygon): \n",
        "\n",
        "\t# overriding abstract method \n",
        "\tdef noofsides(self): \n",
        "\t\tprint(\"I have 4 sides\") \n"
      ],
      "execution_count": null,
      "outputs": []
    },
    {
      "cell_type": "markdown",
      "metadata": {
        "id": "CmF6x7c4Q3iM",
        "colab_type": "text"
      },
      "source": [
        "- Instantiate objects from the childen classes "
      ]
    },
    {
      "cell_type": "code",
      "metadata": {
        "id": "4y_aO4GoQBRW",
        "colab_type": "code",
        "colab": {}
      },
      "source": [
        "# Create Objects from Children Classes \n",
        "\n",
        "# Triangle Child Class Object\n",
        "R = Triangle() \n",
        "R.noofsides() \n",
        "\n",
        "# Quadilateral Child Class Object\n",
        "K = Quadrilateral() \n",
        "K.noofsides() \n",
        "\n",
        "# Pentagon Child Class Object\n",
        "R = Pentagon() \n",
        "R.noofsides() \n",
        "\n",
        "# Hexagon Child Class Object\n",
        "K = Hexagon() \n",
        "K.noofsides() "
      ],
      "execution_count": null,
      "outputs": []
    },
    {
      "cell_type": "markdown",
      "metadata": {
        "id": "Siy1z2oUyEV0",
        "colab_type": "text"
      },
      "source": [
        "### Concrete Methods in Abstract Base Classes\n",
        "\n",
        "- concrete classes contain only concrete (normal) methods whereas abstract classes may contains both concrete methods and abstract methods \n",
        "\n",
        "- concrete classes provide an implementation of abstract methods \n",
        "\n",
        "- the abstract base class can also provide an implementation by invoking the methods via `super()` in the child classes"
      ]
    },
    {
      "cell_type": "code",
      "metadata": {
        "id": "1BR2ycCryg76",
        "colab_type": "code",
        "colab": {}
      },
      "source": [
        "# Python program invoking a \n",
        "# method using super() \n",
        "\n",
        "from abc import ABC, abstractmethod \n",
        "\n",
        "# create a parent Abstract Class\n",
        "class Parent(ABC): \n",
        "  # define concrete method in abstract class\n",
        "\tdef rk(self): \n",
        "\t\tprint(\"Abstract Base Class\") \n",
        "\n",
        "# create a child Concrete Class\n",
        "class Child(Parent): \n",
        "  # extend \n",
        "\tdef rk(self): \n",
        "\t\tsuper().rk() \n",
        "\t\tprint(\"subclass \") "
      ],
      "execution_count": null,
      "outputs": []
    },
    {
      "cell_type": "markdown",
      "metadata": {
        "id": "agZ1gTPMys2-",
        "colab_type": "text"
      },
      "source": [
        "- call the child class to instantiate a new object\n",
        "- in the above code, we can invoke the methods in abstract classes by using `super()`"
      ]
    },
    {
      "cell_type": "code",
      "metadata": {
        "id": "JYvlBVZOytye",
        "colab_type": "code",
        "colab": {}
      },
      "source": [
        "# create new object from Concrete Class\n",
        "new_object = Child() \n",
        "new_object.rk()"
      ],
      "execution_count": null,
      "outputs": []
    },
    {
      "cell_type": "markdown",
      "metadata": {
        "id": "I3eT9qks_2PX",
        "colab_type": "text"
      },
      "source": [
        "### Abstract Properties\n",
        "\n",
        "- abstract classes includes attributes in addition to methods\n",
        "- you can require the attributes in concrete classes by defining them with `@abstractproperty`"
      ]
    },
    {
      "cell_type": "code",
      "metadata": {
        "id": "eghF_QHZBalu",
        "colab_type": "code",
        "colab": {
          "base_uri": "https://localhost:8080/",
          "height": 51
        },
        "outputId": "3cd1ab87-9a93-4d1f-b95e-103c993c8cea"
      },
      "source": [
        "# Python program showing abstract properties \n",
        "\n",
        "import abc \n",
        "from abc import ABC, abstractmethod \n",
        "\n",
        "# create a parent Abstract Class\n",
        "class parent(ABC): \n",
        "\t@abc.abstractproperty # abstract property\n",
        "\tdef geeks(self): \n",
        "\t\treturn \"parent class\"\n",
        "\n",
        "# create a child Concrete Class\n",
        "class child(parent): \n",
        "\t@property # reference abstact property\n",
        "\tdef geeks(self): \n",
        "\t\treturn \"child class\"\n",
        "\n",
        "try: \n",
        "\tnew_object = parent() \n",
        "\tprint(new_object.geeks) \n",
        "except Exception as err: \n",
        "\tprint (err) \n",
        "\n",
        "new_object = child() \n",
        "print(new_object.geeks) \n"
      ],
      "execution_count": 1,
      "outputs": [
        {
          "output_type": "stream",
          "text": [
            "Can't instantiate abstract class parent with abstract methods geeks\n",
            "child class\n"
          ],
          "name": "stdout"
        }
      ]
    },
    {
      "cell_type": "markdown",
      "metadata": {
        "id": "u1LM1aD-BQxI",
        "colab_type": "text"
      },
      "source": [
        "- in the above example, the Parent class cannot be instantiated because it has only an abstract version of the property getter method"
      ]
    },
    {
      "cell_type": "markdown",
      "metadata": {
        "id": "0oMcEaw3FQUS",
        "colab_type": "text"
      },
      "source": [
        "### Abstract Class Instantiation\n",
        "\n",
        "- abstract classes are incomplete because they have methods which have no body\n",
        "\n",
        "- if python allows creating an object for abstract classes, then using that object, if anyone calls the abstract method, there is no actual implementation to invoke \n",
        "\n",
        "- so *we use an abstract class as a template* and according to the need we extend it and build on it before we can use it. \n",
        "\n",
        "- *due to the fact that an abstract class is not a concrete class, it cannot be instantiated*\n",
        "\n",
        "- when we create an object from the abstract class, it raises an error"
      ]
    },
    {
      "cell_type": "code",
      "metadata": {
        "id": "xN-z1bN7HJ_1",
        "colab_type": "code",
        "colab": {}
      },
      "source": [
        "# Python program showing \n",
        "# abstract class cannot \n",
        "# be an instantiation \n",
        "\n",
        "from abc import ABC,abstractmethod \n",
        "\n",
        "class Animal(ABC): \n",
        "\t@abstractmethod\n",
        "\tdef move(self): \n",
        "\t\tpass\n",
        "\n",
        "class Human(Animal): \n",
        "\tdef move(self): \n",
        "\t\tprint(\"I can walk and run\") \n",
        "\n",
        "class Snake(Animal): \n",
        "\tdef move(self): \n",
        "\t\tprint(\"I can crawl\") \n",
        "\n",
        "class Dog(Animal): \n",
        "\tdef move(self): \n",
        "\t\tprint(\"I can bark\") \n",
        "\n",
        "class Lion(Animal): \n",
        "\tdef move(self): \n",
        "\t\tprint(\"I can roar\") \n",
        "\n",
        "cat = Animal() \n"
      ],
      "execution_count": null,
      "outputs": []
    },
    {
      "cell_type": "markdown",
      "metadata": {
        "id": "b_HCibt0Jh5E",
        "colab_type": "text"
      },
      "source": [
        "# Interface\n",
        "\n",
        "- it is like abstract classes but allows child classes to implement multiple classes\n",
        "\n",
        "- cannot define variables (data members) in an interface or constructor functions\n",
        "  - only abstract methods\n",
        "\n",
        "- only public functions can be defined, no private and protected functions can be defined\n",
        "\n",
        "- an interface is a set of publicly accessible methods on an object which can be used by other parts of the program to interact with that object\n",
        "  - Interfaces set clear boundaries and help us organize our code better\n",
        "\n",
        "\n",
        "\n",
        "\n"
      ]
    },
    {
      "cell_type": "markdown",
      "metadata": {
        "id": "XGj8DOulNI4a",
        "colab_type": "text"
      },
      "source": [
        "### informal Interfaces - Dynamic Language and Duck Typing\n",
        "\n",
        "- There’s no explicit `interface` keyword in Python like Java/C++ because Python is a dynamically typed language\n",
        "  - in the dynamic language world, things are more implicit\n",
        "  - more focus on how an object behaves, rather than it’s type/class\n",
        "\n",
        "- if we have an object that can fly and quack like a duck, we consider it as a duck\n",
        "    - this is called “Duck Typing”\n",
        "\n",
        "- to be safe, we often handle the exceptions in a `try..except` block or use `hasattr` to check if an object has the specific method\n",
        "\n",
        "- in the Python world, we often hear “file like object” or “an iterable” \n",
        "  - if an object has a `read` method, it can be treated as a 'file like object'\n",
        "  - if it has an `__iter__` magic method, it is an iterable\n",
        "  \n",
        "- so any object, regardless of it’s class/type, can conform to a certain interface just by implementing the expected behavior (methods) \n",
        "  - these informal interfaces are termed as *protocols* \n",
        "  - since they are informal, they can not be formally enforced\n",
        "  - they are mostly illustrated in the documentations or defined by convention"
      ]
    },
    {
      "cell_type": "markdown",
      "metadata": {
        "id": "DgdhAYtYN4pA",
        "colab_type": "text"
      },
      "source": [
        "### Informal Interface Example "
      ]
    },
    {
      "cell_type": "code",
      "metadata": {
        "id": "c7t9t-imN5Fl",
        "colab_type": "code",
        "colab": {}
      },
      "source": [
        "## Create class called Team\n",
        "class Team:\n",
        "\n",
        "  # define constructor\n",
        "  def __init__(self, members):\n",
        "      self.__members = members\n",
        "\n",
        "  # define built-in length method\n",
        "  def __len__(self):\n",
        "      return len(self.__members)\n",
        "\n",
        "  # define membership method\n",
        "  def __contains__(self, member):\n",
        "      return member in self.__members\n",
        "\n",
        "## Instantiate object from Team Class \n",
        "justice_league_fav = Team([\"batman\", \"wonder woman\", \"flash\"])\n",
        "\n",
        "## Size protocol\n",
        "print(len(justice_league_fav))\n",
        "\n",
        "## Membership protocol\n",
        "print(\"batman\" in justice_league_fav)\n",
        "print(\"superman\" in justice_league_fav)\n",
        "print(\"cyborg\" not in justice_league_fav)"
      ],
      "execution_count": null,
      "outputs": []
    },
    {
      "cell_type": "markdown",
      "metadata": {
        "id": "dW2S_ryoOdKm",
        "colab_type": "text"
      },
      "source": [
        "- in the above example, by implementing the `__len__` and `__contains__` method, we can now directly use the `len` function on a `Team` instance and check for membership using the `in` and `not in` operators\n",
        "\n",
        "- so we can see that protocols are like informal interfaces"
      ]
    },
    {
      "cell_type": "markdown",
      "metadata": {
        "id": "rqtSzTXrOuz8",
        "colab_type": "text"
      },
      "source": [
        "### Formal Interfaces - Abstact Base Classes\n",
        "\n",
        "- there are situations where informal interfaces or duck typing in general can cause confusion\n",
        "\n",
        "- for example, a Bird and Aeroplane both can `fly()` \n",
        "  - but they are not the same thing even if they implement the same interfaces / protocols. \n",
        "  \n",
        "- Abstract Base Classes or ABCs can help solve this issue\n",
        "\n",
        "- the concept behind ABCs is simple:\n",
        "  - we define base classes which are abstract in nature \n",
        "  - we define certain methods on the base classes as abstract methods\n",
        "  - any objects deriving from these base classes are forced to implement those methods. \n",
        "  - since we’re using base classes, if we see an object has our class as a base class, *we can say that this object implements the interface* \n",
        "  - that is now we can use types to tell if an object implements a certain interface"
      ]
    },
    {
      "cell_type": "markdown",
      "metadata": {
        "id": "Hh7Cct_5PKsx",
        "colab_type": "text"
      },
      "source": [
        "### Formal Interface - Example\n",
        "\n",
        "- there’s the `abc` module which has a metaclass named `ABCMeta` \n",
        "  - ABCs (Abstract Base Classes) are created from this metaclass \n",
        "  - we can either use it directly as the metaclass of our ABC i.e. something like this \n",
        "    - `class Bird(metaclass=abc.ABCMeta):` \n",
        "    - or we can subclass from the `abc.ABC` class which has the `abc.ABCMeta` as it’s metaclass already\n",
        "\n",
        "- then we have to use the `abc.abstractmethod` decorator to mark our methods abstract \n"
      ]
    },
    {
      "cell_type": "code",
      "metadata": {
        "id": "8lJfb1w3Pd9D",
        "colab_type": "code",
        "colab": {}
      },
      "source": [
        "import abc\n",
        "\n",
        "class Bird(abc.ABC):\n",
        "    @abc.abstractmethod\n",
        "    def fly(self):\n",
        "        pass"
      ],
      "execution_count": 2,
      "outputs": []
    },
    {
      "cell_type": "markdown",
      "metadata": {
        "id": "Is_4KIjSQNPi",
        "colab_type": "text"
      },
      "source": [
        "- if any class derives from our base `Bird` class, it must implement the fly method too"
      ]
    },
    {
      "cell_type": "code",
      "metadata": {
        "id": "l4LZNyTRQM6q",
        "colab_type": "code",
        "colab": {}
      },
      "source": [
        "class Parrot(Bird):\n",
        "    def fly(self):\n",
        "        print(\"Flying\")\n",
        "\n",
        "p = Parrot()\n",
        "\n",
        "# check if p is an instance of Bird Class\n",
        "isinstance(p, Bird)"
      ],
      "execution_count": null,
      "outputs": []
    },
    {
      "cell_type": "markdown",
      "metadata": {
        "id": "gL0sFk5SQb60",
        "colab_type": "text"
      },
      "source": [
        "- since our parrot is recognized as an instance of Bird ABC, we can be sure from it’s type that it definitely implements our desired interface"
      ]
    },
    {
      "cell_type": "markdown",
      "metadata": {
        "id": "k7U6zhmdQhb2",
        "colab_type": "text"
      },
      "source": [
        "- let’s define another `ABC` named `Aeroplane`:"
      ]
    },
    {
      "cell_type": "code",
      "metadata": {
        "id": "mKuqCWICQhxo",
        "colab_type": "code",
        "colab": {}
      },
      "source": [
        "class Aeroplane(abc.ABC):\n",
        "  @abc.abstractmethod\n",
        "  def fly(self):\n",
        "    pass\n",
        "\n",
        "class Boeing(Aeroplane):\n",
        "  def fly(self):\n",
        "    print(\"Flying!\")\n",
        "\n",
        "b = Boeing()\n",
        "\n",
        "isinstance(p, Aeroplane)\n",
        "isinstance(b, Bird)"
      ],
      "execution_count": null,
      "outputs": []
    },
    {
      "cell_type": "markdown",
      "metadata": {
        "id": "2bjfFl05QvkB",
        "colab_type": "text"
      },
      "source": [
        "- even though both objects have the same method `fly`\n",
        "  - we can differentiate easily which one implements the `Bird` interface and which implements the `Aeroplane` interface."
      ]
    },
    {
      "cell_type": "markdown",
      "metadata": {
        "id": "Jkr14EIyvPj8",
        "colab_type": "text"
      },
      "source": [
        "### Interfaces and Multiple Base Classes\n",
        "\n",
        "- multiple parent abstract classes can be implemented in a child class"
      ]
    },
    {
      "cell_type": "code",
      "metadata": {
        "id": "SoXW1KxUwPQw",
        "colab_type": "code",
        "colab": {}
      },
      "source": [
        "## define `apple` and `banana` parent classes\n",
        "class Apple(abc.ABC):\n",
        "  @abc.abstractmethod\n",
        "  def apple_one(self):\n",
        "    pass\n",
        "\n",
        "class Banana(abc.ABC):\n",
        "  @abc.abstractmethod\n",
        "  def banana_one(self):\n",
        "    pass\n",
        "\n",
        "## define child class from Apple and Banana\n",
        "class Fruits(Apple, Banana):\n",
        "  \n",
        "  def apple_one(self):\n",
        "    print(\"Child Class - Apple\")\n",
        "\n",
        "  def banana_one(self):\n",
        "    print(\"Child Class - Banana\")"
      ],
      "execution_count": 6,
      "outputs": []
    },
    {
      "cell_type": "markdown",
      "metadata": {
        "id": "5xqNn8zbGJ81",
        "colab_type": "text"
      },
      "source": [
        "- instantiate object and use methods from both parent classes"
      ]
    },
    {
      "cell_type": "code",
      "metadata": {
        "id": "P3maofHMDhdH",
        "colab_type": "code",
        "colab": {
          "base_uri": "https://localhost:8080/",
          "height": 51
        },
        "outputId": "f3fea9b4-baa2-4123-fc92-0c66ebf87b71"
      },
      "source": [
        "## instantiate objects\n",
        "\n",
        "fruit_bowl = Fruits()\n",
        "fruit_bowl.apple_one() # call function initialized in Apple Base Class\n",
        "fruit_bowl.banana_one() # call function initialized in Banana Base Class"
      ],
      "execution_count": 9,
      "outputs": [
        {
          "output_type": "stream",
          "text": [
            "Child Class - Apple\n",
            "Child Class - Banana\n"
          ],
          "name": "stdout"
        }
      ]
    },
    {
      "cell_type": "markdown",
      "metadata": {
        "id": "i08o2Mo3EFPt",
        "colab_type": "text"
      },
      "source": [
        "# Reference\n",
        "\n",
        "- [Swaroop's Blog](https://python.swaroopch.com/oop.html)\n",
        "- [Encapsulation in Python](https://pythonprogramminglanguage.com/encapsulation/)\n",
        "- [Abstract Base Classes - Python Docs](https://docs.python.org/3/library/abc.html)\n",
        "- [Abstract Classes](https://www.geeksforgeeks.org/abstract-classes-in-python/)\n",
        "- [Informal Interface](http://masnun.rocks/2017/04/15/interfaces-in-python-protocols-and-abcs/)\n",
        "- [Abstract Base Classes for Containers - Python Docs](https://docs.python.org/3/library/collections.abc.html#module-collections.abc)\n"
      ]
    }
  ]
}