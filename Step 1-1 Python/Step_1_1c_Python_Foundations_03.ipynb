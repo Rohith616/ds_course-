{
  "nbformat": 4,
  "nbformat_minor": 0,
  "metadata": {
    "colab": {
      "name": "Step 1-1c. Python Foundations - 03.ipynb",
      "provenance": [],
      "collapsed_sections": [],
      "toc_visible": true
    },
    "kernelspec": {
      "name": "python3",
      "display_name": "Python 3"
    }
  },
  "cells": [
    {
      "cell_type": "markdown",
      "metadata": {
        "id": "x3B1PCalZW9z",
        "colab_type": "text"
      },
      "source": [
        "# Type Conversions"
      ]
    },
    {
      "cell_type": "markdown",
      "metadata": {
        "id": "ZatErvRUZ1G6",
        "colab_type": "text"
      },
      "source": [
        "##### `int` to `float`"
      ]
    },
    {
      "cell_type": "code",
      "metadata": {
        "id": "-hxID8mRZa1D",
        "colab_type": "code",
        "colab": {}
      },
      "source": [
        "## convert int to float \n",
        "x = 3 # int\n",
        "print(x)\n",
        "print(type(x))\n",
        "\n",
        "y = float(x)\n",
        "print(y)\n",
        "print(type(y))"
      ],
      "execution_count": null,
      "outputs": []
    },
    {
      "cell_type": "markdown",
      "metadata": {
        "id": "PeguSXXuZ7Is",
        "colab_type": "text"
      },
      "source": [
        "##### `float` to `int`"
      ]
    },
    {
      "cell_type": "code",
      "metadata": {
        "id": "hS-vKjWBZihP",
        "colab_type": "code",
        "colab": {}
      },
      "source": [
        "## convert float to int\n",
        "y = 56.213 # float\n",
        "print(y)\n",
        "print(type(y))\n",
        "\n",
        "z = int(y) # converting y to int\n",
        "print(z)\n",
        "print(type(z))"
      ],
      "execution_count": null,
      "outputs": []
    },
    {
      "cell_type": "markdown",
      "metadata": {
        "id": "VFv7yjqVZ_aT",
        "colab_type": "text"
      },
      "source": [
        "##### `string` to `int`"
      ]
    },
    {
      "cell_type": "code",
      "metadata": {
        "id": "NaF8lRSyquSd",
        "colab_type": "code",
        "colab": {}
      },
      "source": [
        "## convert string to int\n",
        "x = '50' # string\n",
        "print(x)\n",
        "print(type(x))\n",
        "\n",
        "y = int(x) # converting x to int\n",
        "print(y)\n",
        "print(type(y))"
      ],
      "execution_count": null,
      "outputs": []
    },
    {
      "cell_type": "markdown",
      "metadata": {
        "id": "6yVJVOsAaI1f",
        "colab_type": "text"
      },
      "source": [
        "##### `int` to `string`"
      ]
    },
    {
      "cell_type": "code",
      "metadata": {
        "id": "3k5ySjKjYv1Q",
        "colab_type": "code",
        "colab": {}
      },
      "source": [
        "## convert int to string \n",
        "x = 2020\n",
        "print(x)\n",
        "print(type(x))\n",
        "\n",
        "y = str(x)\n",
        "print(y)\n",
        "print(type(y))"
      ],
      "execution_count": null,
      "outputs": []
    },
    {
      "cell_type": "markdown",
      "metadata": {
        "id": "jw4CI75-aDt5",
        "colab_type": "text"
      },
      "source": [
        "##### `string` to `float`"
      ]
    },
    {
      "cell_type": "code",
      "metadata": {
        "id": "1vBmh6i_sCJh",
        "colab_type": "code",
        "colab": {}
      },
      "source": [
        "## convert str to float\n",
        "x = '3.14'\n",
        "print(x)\n",
        "print(type(x))\n",
        "\n",
        "y = float(x) # converting x to float\n",
        "print(y)\n",
        "print(type(y))"
      ],
      "execution_count": null,
      "outputs": []
    },
    {
      "cell_type": "markdown",
      "metadata": {
        "id": "fkkrcJG4aN-Q",
        "colab_type": "text"
      },
      "source": [
        "##### `float` to `string`"
      ]
    },
    {
      "cell_type": "code",
      "metadata": {
        "id": "0rsklWAys4gT",
        "colab_type": "code",
        "colab": {}
      },
      "source": [
        "## convert float to string \n",
        "x = 37.5\n",
        "print(x)\n",
        "print(type(x))\n",
        "\n",
        "y = str(x) # converting x to string\n",
        "print(y)\n",
        "print(type(y))"
      ],
      "execution_count": null,
      "outputs": []
    },
    {
      "cell_type": "markdown",
      "metadata": {
        "id": "OJyO-OXjaRg5",
        "colab_type": "text"
      },
      "source": [
        "##### `list` to `tuple`"
      ]
    },
    {
      "cell_type": "code",
      "metadata": {
        "id": "zeZM4tPZtFb5",
        "colab_type": "code",
        "colab": {}
      },
      "source": [
        "## convert list to tuple\n",
        "new_list = [3,7,20,'@','TECH I.S.', 'makes learning fun!']\n",
        "print(new_list)\n",
        "print(type(new_list))\n",
        "\n",
        "new_tuple = tuple(new_list) # converting new_list to new_tuple\n",
        "print(new_tuple)\n",
        "print(type(new_tuple))"
      ],
      "execution_count": null,
      "outputs": []
    },
    {
      "cell_type": "markdown",
      "metadata": {
        "id": "0qinqxHYahaw",
        "colab_type": "text"
      },
      "source": [
        "##### `tuple` to `list`"
      ]
    },
    {
      "cell_type": "code",
      "metadata": {
        "id": "p4XjMnT1sSUl",
        "colab_type": "code",
        "colab": {}
      },
      "source": [
        "## convert tuple to list\n",
        "new_tuple = 4,1,45,92,31,60,84\n",
        "print(new_tuple)\n",
        "print(type(new_tuple))\n",
        "\n",
        "new_list = list(new_tuple) # converting new_tuple to new_list\n",
        "print(new_list)\n",
        "print(type(new_list))"
      ],
      "execution_count": null,
      "outputs": []
    },
    {
      "cell_type": "markdown",
      "metadata": {
        "id": "kpEVEtzwsWME",
        "colab_type": "text"
      },
      "source": [
        "##### `list` to `set` \n"
      ]
    },
    {
      "cell_type": "code",
      "metadata": {
        "id": "bk12o2-y_emw",
        "colab_type": "code",
        "colab": {}
      },
      "source": [
        "# define list\n",
        "new_list = [\"olivia\",\"kaseem\",\"caleb\",\"olivia\",\"owen\", \"olivia\"]\n",
        "print(new_list)\n",
        "print(type(new_list))\n",
        "\n",
        "# convert to set \n",
        "new_set = set(new_list) # extracts only the unique values\n",
        "print(new_set)\n",
        "print(type(new_set))"
      ],
      "execution_count": null,
      "outputs": []
    },
    {
      "cell_type": "markdown",
      "metadata": {
        "id": "8Ax0yFWTAGrQ",
        "colab_type": "text"
      },
      "source": [
        "##### `set` to `list`"
      ]
    },
    {
      "cell_type": "code",
      "metadata": {
        "id": "Eg_0vQ-oAGIL",
        "colab_type": "code",
        "colab": {}
      },
      "source": [
        "#define a set \n",
        "new_set = {'kaseem', 'olivia', 'caleb', 'owen'}\n",
        "print(new_set)\n",
        "print(type(new_set))\n",
        "\n",
        "# convert this set to a list\n",
        "new_list = list(new_set) \n",
        "print(new_list) \n",
        "print(type(new_list))"
      ],
      "execution_count": null,
      "outputs": []
    },
    {
      "cell_type": "markdown",
      "metadata": {
        "id": "iXU3Wbujst7v",
        "colab_type": "text"
      },
      "source": [
        "# Flow Control"
      ]
    },
    {
      "cell_type": "markdown",
      "metadata": {
        "id": "5SzZoEZLtZu4",
        "colab_type": "text"
      },
      "source": [
        "### `if... elif... else...` \n",
        "\n",
        "- `if`, `elif` and `else` keywords are used to make decisions \n",
        "  - executes different blocks of code based on certain conditions\n",
        "\n",
        "- comparison operators and logical operators can be used to specify these conditions \n",
        "\n",
        "![If Conditional Flow Chart](https://i.imgur.com/NDtXKvsl.jpg \"If Conditional Flow Chart\")"
      ]
    },
    {
      "cell_type": "code",
      "metadata": {
        "id": "ACF0D6cLBDml",
        "colab_type": "code",
        "colab": {}
      },
      "source": [
        "# 'if' conditional  \n",
        "x = 5\n",
        "y = 5\n",
        "\n",
        "if x == y:\n",
        "    print('x and y are equal')"
      ],
      "execution_count": null,
      "outputs": []
    },
    {
      "cell_type": "code",
      "metadata": {
        "id": "63MLTftQoscX",
        "colab_type": "code",
        "colab": {}
      },
      "source": [
        "# 'if' conditional  \n",
        "x = 5\n",
        "y = 6\n",
        "\n",
        "if x == y:\n",
        "    print('x and y are equal')\n",
        "\n",
        "# no output because x and y are not equal"
      ],
      "execution_count": null,
      "outputs": []
    },
    {
      "cell_type": "code",
      "metadata": {
        "id": "3vcpnnvLpAe-",
        "colab_type": "code",
        "colab": {}
      },
      "source": [
        "# 'if... else...' conditional\n",
        "x = 5\n",
        "y = 6\n",
        "\n",
        "if x == y:\n",
        "    print('x and y are equal')\n",
        "else:\n",
        "    print('x and y are not equal')"
      ],
      "execution_count": null,
      "outputs": []
    },
    {
      "cell_type": "code",
      "metadata": {
        "id": "S_JkSc9epIc-",
        "colab_type": "code",
        "colab": {}
      },
      "source": [
        "# 'if... elif... else...' conditional\n",
        "x = 6\n",
        "y = 3\n",
        "\n",
        "if x == y:\n",
        "    print('x and y are equal')\n",
        "elif x < y:\n",
        "    print('x is smaller')\n",
        "else:\n",
        "    print('y is smaller')"
      ],
      "execution_count": null,
      "outputs": []
    },
    {
      "cell_type": "markdown",
      "metadata": {
        "id": "AQVYVkZFOus6",
        "colab_type": "text"
      },
      "source": [
        "### single line `if... else...` \n",
        "\n",
        "- use `if` and `else` in a single line as shown below"
      ]
    },
    {
      "cell_type": "code",
      "metadata": {
        "id": "l_Y_iBsgOugv",
        "colab_type": "code",
        "colab": {}
      },
      "source": [
        "is_single = True\n",
        "message = 'You can date.' if is_single else 'You cannot date.'\n",
        "print(message) "
      ],
      "execution_count": null,
      "outputs": []
    },
    {
      "cell_type": "markdown",
      "metadata": {
        "id": "W44KVOKCtPnL",
        "colab_type": "text"
      },
      "source": [
        "### \"`=`\" vs. \"`==`\"\n",
        "\n",
        "- `=` is an assigment operator\n",
        "  - is used to set values of variables \n",
        "\n",
        "- `==` is a comparison operator \n",
        "  - is used to compare the equality of two objects/variables\n",
        "\n",
        "- if `==` is used instead of `=` for comparison in `if` statement, for instance, then a syntanx error is thrown "
      ]
    },
    {
      "cell_type": "code",
      "metadata": {
        "id": "Y_J3YmXG-Jkv",
        "colab_type": "code",
        "colab": {}
      },
      "source": [
        "# get user input for variables 'x' and 'y'\n",
        "x = float(input(\"Enter a number for x: \")) # `=` is an assignment operator\n",
        "y = float(input(\"Enter a number for y: \")) # `=` is an assignment operator\n",
        "\n",
        "# compare values of x and y \n",
        "if x == y: # `==` is a comparison operator\n",
        "  print(\"x and y are equal\") # if equality testest passed\n",
        "  if y != 0: \n",
        "    print(\"therefore, x / y is\", x/y) \n",
        "elif x < y: \n",
        "  print(\"x is smaller\") # if x is less than y\n",
        "else:\n",
        "  print(\"y is smaller\") # if y is less than x\n",
        "\n",
        "print(\"thanks!\")"
      ],
      "execution_count": null,
      "outputs": []
    },
    {
      "cell_type": "markdown",
      "metadata": {
        "id": "8tdDeXShtkNO",
        "colab_type": "text"
      },
      "source": [
        "### \"`while`\" loops\n",
        "\n",
        "- the `while` loop executes a block of code as long as a condition is true\n",
        "\n",
        "![While Loop](https://i.imgur.com/XQaBsR3l.jpg \"While Loop Schematic\")"
      ]
    },
    {
      "cell_type": "code",
      "metadata": {
        "id": "t4uBW-Hx_k8x",
        "colab_type": "code",
        "colab": {}
      },
      "source": [
        "# while loop example #1\n",
        "n = 0 \n",
        "while n < 5:\n",
        "  print(n)\n",
        "  n += 1"
      ],
      "execution_count": null,
      "outputs": []
    },
    {
      "cell_type": "markdown",
      "metadata": {
        "id": "6wBD55J_DkvK",
        "colab_type": "text"
      },
      "source": [
        "##### \"`while`\" loop with \"`else`\" statement\n",
        "\n",
        "- `else` can be added at the end of a `while` loop\n",
        "- to run a piece of code when the `while` condition is no longer is true"
      ]
    },
    {
      "cell_type": "code",
      "metadata": {
        "id": "9W3FqoNZBLAk",
        "colab_type": "code",
        "colab": {}
      },
      "source": [
        "# while loop example #2\n",
        "n = 0 \n",
        "while n < 5:\n",
        "  print(n)\n",
        "  n += 1\n",
        "else:\n",
        "  print('n is not less than 5 anymore')"
      ],
      "execution_count": null,
      "outputs": []
    },
    {
      "cell_type": "markdown",
      "metadata": {
        "id": "q29hYRk9tpoE",
        "colab_type": "text"
      },
      "source": [
        "### \"`for`\" loops\n",
        "\n",
        "- `for` keyword is used along with `in` membership query keyword to loop over strings, lists, tuple, and dictionaries\n",
        "\n",
        "![For Loop](https://i.imgur.com/gCVX3sPl.jpg \"For Loop SChematic\")"
      ]
    },
    {
      "cell_type": "markdown",
      "metadata": {
        "id": "kFRqGNDLEKus",
        "colab_type": "text"
      },
      "source": [
        "##### `for... in range()`\n",
        "\n",
        "- `for` can be used with `in` and `range()` to generate numbers "
      ]
    },
    {
      "cell_type": "code",
      "metadata": {
        "id": "tqKxCjBGETzR",
        "colab_type": "code",
        "colab": {}
      },
      "source": [
        "for n in range(5):\n",
        "    print(n)"
      ],
      "execution_count": null,
      "outputs": []
    },
    {
      "cell_type": "code",
      "metadata": {
        "id": "jusgQ2ZHEdlV",
        "colab_type": "code",
        "colab": {}
      },
      "source": [
        "for n in range(2, 6):\n",
        "  print(n)"
      ],
      "execution_count": null,
      "outputs": []
    },
    {
      "cell_type": "code",
      "metadata": {
        "id": "BrPxr3ZHEgWP",
        "colab_type": "code",
        "colab": {}
      },
      "source": [
        "for x in range(2, 30, 3):\n",
        "  print(x)"
      ],
      "execution_count": null,
      "outputs": []
    },
    {
      "cell_type": "markdown",
      "metadata": {
        "id": "CtYKL1f2ObD6",
        "colab_type": "text"
      },
      "source": [
        "##### \"`for`\" loops with strings\n",
        "\n",
        "- foor loops can use used to loop over strings"
      ]
    },
    {
      "cell_type": "code",
      "metadata": {
        "id": "ibriyHIjObQy",
        "colab_type": "code",
        "colab": {}
      },
      "source": [
        "text = \"TECH I.S.\"\n",
        "for letter in text:\n",
        "  print(letter)"
      ],
      "execution_count": null,
      "outputs": []
    },
    {
      "cell_type": "markdown",
      "metadata": {
        "id": "uKW9iNjoO2Wd",
        "colab_type": "text"
      },
      "source": [
        "##### \"`for`\" loop with lists, tuples, sets and dictionaries\n",
        "\n",
        "- \"`for`\" loop can be used with data types like lists, tuples, sets and dictionaries"
      ]
    },
    {
      "cell_type": "code",
      "metadata": {
        "id": "iJxdZrrLO2Ka",
        "colab_type": "code",
        "colab": {}
      },
      "source": [
        "# define a list\n",
        "fruits_list = [\"apple\", \"banana\", \"cherry\"]\n",
        "\n",
        "# run a for loop to print the elements of the list\n",
        "for fruit in fruits_list:\n",
        "  print(fruit)"
      ],
      "execution_count": null,
      "outputs": []
    },
    {
      "cell_type": "code",
      "metadata": {
        "id": "4vS1iQjwPjRv",
        "colab_type": "code",
        "colab": {}
      },
      "source": [
        "# define a tuple\n",
        "animals_list = \"dog\",\"cat\",\"elephant\",\"otter\"\n",
        "\n",
        "# run a for loop to print the elements of the tuple\n",
        "for animal in animals_list:\n",
        "  print(animal)"
      ],
      "execution_count": null,
      "outputs": []
    },
    {
      "cell_type": "code",
      "metadata": {
        "id": "wGYeT6h7QcCq",
        "colab_type": "code",
        "colab": {}
      },
      "source": [
        "# define a set \n",
        "names = {'oliva','caleb','kaseem'}\n",
        "\n",
        "# loop over the set with for \n",
        "for name in names:\n",
        "  print(name)"
      ],
      "execution_count": null,
      "outputs": []
    },
    {
      "cell_type": "code",
      "metadata": {
        "id": "nLjJxuNOQrXe",
        "colab_type": "code",
        "colab": {}
      },
      "source": [
        "# define a dicitonary\n",
        "translations = {'a':1, 'b':2, 'c':3}\n",
        "\n",
        "# loop over the dicitonary with for\n",
        "\n",
        "# keys:\n",
        "for entry in translations:\n",
        "  print(entry)\n",
        "\n",
        "# values:\n",
        "for entry in translations.values():\n",
        "  print(entry)"
      ],
      "execution_count": null,
      "outputs": []
    },
    {
      "cell_type": "markdown",
      "metadata": {
        "id": "9m6FpLb8RnGX",
        "colab_type": "text"
      },
      "source": [
        "##### `list` comprehension \n",
        "\n",
        "- for loops can be written in a single line in python\n",
        "  - using list comprehension\n"
      ]
    },
    {
      "cell_type": "code",
      "metadata": {
        "id": "ILiLe7ERRmU6",
        "colab_type": "code",
        "colab": {}
      },
      "source": [
        "# create a new list of powers of 0 to 9\n",
        "powers = [num**2 for num in range(10)] # a for loop defined with list comprehension\n",
        "print(powers)"
      ],
      "execution_count": null,
      "outputs": []
    },
    {
      "cell_type": "markdown",
      "metadata": {
        "id": "0mwQaulMSRAG",
        "colab_type": "text"
      },
      "source": [
        "##### `generator` object\n",
        "\n",
        "- is not explicitly executed at creation \n",
        "\n",
        "- the formula (expression) for creating values is stored inside the generator\n",
        "\n",
        "- the values are accessed with the `next` function"
      ]
    },
    {
      "cell_type": "code",
      "metadata": {
        "id": "8hIMHVXSSErL",
        "colab_type": "code",
        "colab": {}
      },
      "source": [
        "# create a generator object with powers of 0 to 9\n",
        "powers = (num**2 for num in range(10))\n",
        "print(powers)\n",
        "\n",
        "next(powers) # call the first value in the generator "
      ],
      "execution_count": null,
      "outputs": []
    },
    {
      "cell_type": "code",
      "metadata": {
        "id": "qnmbalcxSnlg",
        "colab_type": "code",
        "colab": {}
      },
      "source": [
        "next(powers) # call the next value in the generator "
      ],
      "execution_count": null,
      "outputs": []
    },
    {
      "cell_type": "code",
      "metadata": {
        "id": "lMxebwsDSpTI",
        "colab_type": "code",
        "colab": {}
      },
      "source": [
        "next(powers) # call the next value in the generator "
      ],
      "execution_count": null,
      "outputs": []
    },
    {
      "cell_type": "code",
      "metadata": {
        "id": "9DXbzvPzS41l",
        "colab_type": "code",
        "colab": {}
      },
      "source": [
        "next(powers) # call the next value in the generator "
      ],
      "execution_count": null,
      "outputs": []
    },
    {
      "cell_type": "markdown",
      "metadata": {
        "id": "2baKje6FVdVS",
        "colab_type": "text"
      },
      "source": [
        "##### nested \"`for`\" loops\n",
        "\n",
        "- `for` loops can be nested to achieve looping over multiple lists\n"
      ]
    },
    {
      "cell_type": "code",
      "metadata": {
        "id": "Av9CAHh8VcwE",
        "colab_type": "code",
        "colab": {}
      },
      "source": [
        "adjectives = [\"juicy\", \"big\", \"tasty\"] # list 1\n",
        "fruits = [\"apple\", \"banana\", \"cherry\"] # list 2\n",
        "\n",
        "for fruit in fruits: # looping over list 2 - outer loop\n",
        "  for adjective in adjectives: # looping over list 1 - inner loop\n",
        "    print(adjective, fruit)"
      ],
      "execution_count": null,
      "outputs": []
    },
    {
      "cell_type": "markdown",
      "metadata": {
        "id": "qPH81fzh_0cX",
        "colab_type": "text"
      },
      "source": [
        "### \"`break`\" statement\n",
        "\n",
        "- stops a while loop even if the while condition is true\n"
      ]
    },
    {
      "cell_type": "code",
      "metadata": {
        "id": "RAfC-c3n_xVx",
        "colab_type": "code",
        "colab": {}
      },
      "source": [
        "n = 0\n",
        "while n < 6:\n",
        "  print(n)\n",
        "  if n == 3:\n",
        "    break # break loop when it is equal to 3\n",
        "  n += 1"
      ],
      "execution_count": null,
      "outputs": []
    },
    {
      "cell_type": "markdown",
      "metadata": {
        "id": "GHtxqNVPVOUx",
        "colab_type": "text"
      },
      "source": [
        "- stops a for loop before it has looped through all the items"
      ]
    },
    {
      "cell_type": "code",
      "metadata": {
        "id": "-D1M08mNU-6z",
        "colab_type": "code",
        "colab": {}
      },
      "source": [
        "fruits = [\"apple\", \"banana\", \"cherry\"]\n",
        "for fruit in fruits:\n",
        "  print(fruit)\n",
        "  if fruit == \"banana\":\n",
        "    break # break loop after after printing banana"
      ],
      "execution_count": null,
      "outputs": []
    },
    {
      "cell_type": "markdown",
      "metadata": {
        "id": "RsBo1ZLtAO2a",
        "colab_type": "text"
      },
      "source": [
        "### \"`continue`\" statement\n",
        "\n",
        "- the continue statement stops the current iteration, and continues with the next"
      ]
    },
    {
      "cell_type": "code",
      "metadata": {
        "id": "j64PM3KRAPml",
        "colab_type": "code",
        "colab": {}
      },
      "source": [
        "n = 0\n",
        "while n < 6:\n",
        "  n += 1\n",
        "  if n == 3: # skip 3\n",
        "    continue\n",
        "  print(n)\n",
        "  "
      ],
      "execution_count": null,
      "outputs": []
    },
    {
      "cell_type": "code",
      "metadata": {
        "id": "ZA8sjN3Qbw1y",
        "colab_type": "code",
        "colab": {}
      },
      "source": [
        "fruits = [\"apple\", \"banana\", \"cherry\"]\n",
        "for x in fruits:\n",
        "  if x == \"banana\":\n",
        "    continue # skip banana\n",
        "  print(x)"
      ],
      "execution_count": null,
      "outputs": []
    },
    {
      "cell_type": "markdown",
      "metadata": {
        "id": "Mi5oZxNVsz6Y",
        "colab_type": "text"
      },
      "source": [
        "### Indentation\n",
        "\n",
        "- matters in Python\n",
        "- blocks of code are denoted by indentation \n",
        "- `if...`,`while` and `for` code examples above shows how indentation works\n",
        "  - the codes below `if`, `elif` and `else` are indented \n",
        "  - the code below `while` is indented \n",
        "  - the code below `for` is indented\n",
        "- nested indentations:\n",
        "  - when `while`,`for` and `if` statements are nested within each other, the code has to be further indented \n",
        "\n",
        "![indentation scheme](https://i.imgur.com/QmTWEcRl.jpg \"Code Block Indentation\")"
      ]
    },
    {
      "cell_type": "markdown",
      "metadata": {
        "id": "EXYSLIYRvCCk",
        "colab_type": "text"
      },
      "source": [
        "### \"`for`\" vs. \"`while`\" loops\n",
        "\n",
        "- choosing the right loop type makes your code more legible and can also help prevent bugs\n",
        "\n",
        "- everything that can be written with a `for` loop can be written with a `while` loop, but `while` loops can solve some problems that `for` loops don't address easily\n",
        "\n",
        "- you should usually write `for` loops when possible; use `for` loops when \n",
        "  - you know the number of iterations you need to do - e.g., 500 trials, \n",
        "  - one operation per character in a string, or \n",
        "  - an action on every element in a list\n",
        "\n",
        "- if you can describe the problem you're trying to solve in terms of each or every element in an iterable\n",
        "object, aim for a `for` loop. \n",
        "\n",
        "- benefits of a `for` loop:\n",
        "  - using a `for` loop when possible will decrease the risk of writing an infinite loop \n",
        "  - will generally prevent you from running into errors with incrementing counter variables"
      ]
    },
    {
      "cell_type": "markdown",
      "metadata": {
        "id": "jNrWXaPCgf4_",
        "colab_type": "text"
      },
      "source": [
        "### Exception Handling\n",
        "\n",
        "- exception handling block framework \n",
        "\n",
        "  ```\n",
        "  try:\n",
        "    ...\n",
        "  except:\n",
        "    ...\n",
        "  finally:\n",
        "    ...\n",
        "  ```\n",
        "\n",
        "- `try` block:\n",
        "  - lets you test a block of code for errors\n",
        "- `except` block:\n",
        "  - lets you set the response to an error \n",
        "- `finally` block:\n",
        "  - execute code regardless of the outcome of the try-except block\n",
        "\n"
      ]
    },
    {
      "cell_type": "markdown",
      "metadata": {
        "id": "cBpkH5k4hqLm",
        "colab_type": "text"
      },
      "source": [
        "##### Exceptiion Handling Examples"
      ]
    },
    {
      "cell_type": "code",
      "metadata": {
        "id": "jv3J2Lwugfol",
        "colab_type": "code",
        "colab": {}
      },
      "source": [
        "# setup an error handling block \n",
        "try:\n",
        "  print(x_val) # without defining x_val before, we try to print the value of x_val\n",
        "except:\n",
        "  print('An exception occured')\n",
        "\n",
        "# here, since the try block code throws an error because of x_val not being defined, the except block is executed\n",
        "# lets try this without a try block\n",
        "print(x_val) # this raises a NameError"
      ],
      "execution_count": null,
      "outputs": []
    },
    {
      "cell_type": "code",
      "metadata": {
        "id": "dqcZl6y9ioKI",
        "colab_type": "code",
        "colab": {}
      },
      "source": [
        "# multiple exceptions handling\n",
        "try:\n",
        "  print(x_val)\n",
        "except NameError: # exception handling #1\n",
        "  print(\"x_val is not defined\")\n",
        "except: # exception handling #2\n",
        "  print(\"Something else went wrong\")"
      ],
      "execution_count": null,
      "outputs": []
    },
    {
      "cell_type": "code",
      "metadata": {
        "id": "osn70Xvtm0XY",
        "colab_type": "code",
        "colab": {}
      },
      "source": [
        "# `finally` block example #1\n",
        "try:\n",
        "  print(x)\n",
        "except: # this executes if the try block has an error\n",
        "  print(\"Something went wrong\")\n",
        "finally: # this is executed whether an error is raised or not\n",
        "  print(\"The 'try except' is finished!\")\n"
      ],
      "execution_count": null,
      "outputs": []
    },
    {
      "cell_type": "markdown",
      "metadata": {
        "id": "mnJN5r3PnwYY",
        "colab_type": "text"
      },
      "source": [
        "##### `finally` block example #2\n",
        "\n",
        "```python\n",
        "try: # define try block\n",
        "  f = open(\"file.txt\") # open a file that exists, but with no write permission\n",
        "  f.write(\"text to write\") # try to write to file\n",
        "except: # respond to error \n",
        "  print(\"Something went wrong when writing to file\")\n",
        "finally: # run this code regardless of the outcome of the try-error outcome\n",
        "  f.close()\n",
        "```"
      ]
    },
    {
      "cell_type": "markdown",
      "metadata": {
        "id": "1GcSUYjEoXB9",
        "colab_type": "text"
      },
      "source": [
        "##### `raise()` keyword\n",
        "\n",
        "- you can geenrate a custom error if an exception occurs \n",
        "  - this is done with the `raise()` keyword"
      ]
    },
    {
      "cell_type": "code",
      "metadata": {
        "id": "Rlc7yas4onXS",
        "colab_type": "code",
        "colab": {}
      },
      "source": [
        "## raise exception example #1\n",
        "x = -1\n",
        "\n",
        "if x < 0:\n",
        "  raise Exception(\"Sorry, number below zero!\")"
      ],
      "execution_count": null,
      "outputs": []
    },
    {
      "cell_type": "code",
      "metadata": {
        "id": "-GQ4kq-no5zd",
        "colab_type": "code",
        "colab": {}
      },
      "source": [
        "## raise exception example #2\n",
        "# you can choose the specific type of Exception to raise\n",
        "x = \"hello\"\n",
        "\n",
        "if not type(x) is int:\n",
        "  raise TypeError(\"Only integers are allowed!\")"
      ],
      "execution_count": null,
      "outputs": []
    },
    {
      "cell_type": "markdown",
      "metadata": {
        "id": "LYbj1sz_w7-2",
        "colab_type": "text"
      },
      "source": [
        "# Functions\n",
        "\n",
        "- functions are reusable pieces of code\n",
        "- they *only run when called* \n",
        "- they may take input `arguments`\n",
        "- they may `return` processed values\n",
        "\n",
        "- `def` keyword is used at the begeinning of a function to start defining a function\n",
        "- `return` keyword is used to send some value back after processing\n",
        "\n",
        "![Function Anatomy](https://i.imgur.com/5qSLCBil.jpg \"Function Anatomy\")"
      ]
    },
    {
      "cell_type": "code",
      "metadata": {
        "id": "1n0OCxdbhLBc",
        "colab_type": "code",
        "colab": {}
      },
      "source": [
        "# define a function to test for even numbers \n",
        "  # takes one integer number as an argument\n",
        "  # and returns true if even and false if not \n",
        "\n",
        "def is_even(num):\n",
        "  return num % 2 == 0\n",
        "\n",
        "# test evenness of 55 by calling the function is_even()\n",
        "print(is_even(55)) # call function and print output\n",
        "\n",
        "# test evenness of 100 by calling the function is_even()\n",
        "print(is_even(100)) # call function and print output"
      ],
      "execution_count": null,
      "outputs": []
    },
    {
      "cell_type": "code",
      "metadata": {
        "id": "VFkMJ0_n9b2N",
        "colab_type": "code",
        "colab": {}
      },
      "source": [
        "# define function to calculate area of a circle\n",
        "# input argument is radius \n",
        "\n",
        "def area_circle(radius):\n",
        "  ''' # start doc string \n",
        "  input: radius of circle \n",
        "  return value: computed value of area\n",
        "  '''\n",
        "  area = (22.0/7.0)*radius**2\n",
        "  return area\n",
        "\n",
        "print(area_circle(5))"
      ],
      "execution_count": null,
      "outputs": []
    },
    {
      "cell_type": "markdown",
      "metadata": {
        "id": "AL-RPRAgdKhx",
        "colab_type": "text"
      },
      "source": [
        "# Scope\n",
        "\n",
        "- a variable is only available from inside the region it is created \n",
        "  - this is called *scope*\n"
      ]
    },
    {
      "cell_type": "markdown",
      "metadata": {
        "id": "guOr2NBfdcjo",
        "colab_type": "text"
      },
      "source": [
        "### Local Scope \n",
        "\n",
        "- a variable created inside a function belongs to the local scope of that function \n",
        "  - and can only be used inside that function"
      ]
    },
    {
      "cell_type": "code",
      "metadata": {
        "id": "EWcAIJjVdguc",
        "colab_type": "code",
        "colab": {}
      },
      "source": [
        "def myfunc():\n",
        "  inside_variable = 300 # inside_variable is available only inside myfunc() and not accessible outside\n",
        "  print(inside_variable)\n",
        "\n",
        "myfunc() # call the function myfunc()\n",
        "print(inside_variable) # throws error"
      ],
      "execution_count": null,
      "outputs": []
    },
    {
      "cell_type": "markdown",
      "metadata": {
        "id": "VeQ4MM4ieJEi",
        "colab_type": "text"
      },
      "source": [
        "- however, the local variable can be accessed from a function within the function"
      ]
    },
    {
      "cell_type": "code",
      "metadata": {
        "id": "_hgLmGa6eNNF",
        "colab_type": "code",
        "colab": {}
      },
      "source": [
        "def myfunc():\n",
        "\n",
        "  inside_variable = 300\n",
        "\n",
        "  def myinnerfunc(): # this is the inner function\n",
        "    print(inside_variable) # this line accesses the inside_variable value\n",
        "\n",
        "  myinnerfunc() # call the function myinnerfunc()\n",
        "\n",
        "myfunc() # call the function myfunc()\n",
        "\n",
        "print(inside_variable) # but this still throws error"
      ],
      "execution_count": null,
      "outputs": []
    },
    {
      "cell_type": "markdown",
      "metadata": {
        "id": "B6KYAxrgdeZf",
        "colab_type": "text"
      },
      "source": [
        "### Global Scope\n",
        "\n",
        "- a variable created in the main body of the Python code is a global variable and belongs to the global scope.\n",
        "\n",
        "- global variables are available from within any scope, global and local"
      ]
    },
    {
      "cell_type": "code",
      "metadata": {
        "id": "-s2siRPuexxO",
        "colab_type": "code",
        "colab": {}
      },
      "source": [
        "outer_variable = 300\n",
        "\n",
        "def myfunc():\n",
        "  print(outer_variable)\n",
        "\n",
        "myfunc()\n",
        "\n",
        "print(outer_variable)"
      ],
      "execution_count": null,
      "outputs": []
    },
    {
      "cell_type": "markdown",
      "metadata": {
        "id": "1MWoX34tfAq3",
        "colab_type": "text"
      },
      "source": [
        "##### \"`global`\" keyword\n",
        "\n",
        "- if you need to create a global variable, but are stuck in the local scope, you can use the `global` keyword.\n",
        "\n",
        "- the `global` keyword makes the variable global."
      ]
    },
    {
      "cell_type": "code",
      "metadata": {
        "id": "REZFHDtZfMid",
        "colab_type": "code",
        "colab": {}
      },
      "source": [
        "def myfunc():\n",
        "  global global_variable\n",
        "  global_variable = 300\n",
        "  print(global_variable)\n",
        "\n",
        "myfunc()\n",
        "\n",
        "print(global_variable)"
      ],
      "execution_count": null,
      "outputs": []
    },
    {
      "cell_type": "markdown",
      "metadata": {
        "id": "2qXJ0rV3Tv7I",
        "colab_type": "text"
      },
      "source": [
        "# Lambda \n",
        "\n",
        "- is a small anonymous function\n",
        "- can take any number of arguments, but can only have one expression\n",
        "\n",
        "- syntax: `lambda arguments : expression`"
      ]
    },
    {
      "cell_type": "code",
      "metadata": {
        "id": "dXu441qITwy_",
        "colab_type": "code",
        "colab": {}
      },
      "source": [
        "# lambda function example #1:\n",
        "\n",
        "plus_ten = lambda x : x + 10\n",
        "print(plus_ten(5))\n"
      ],
      "execution_count": null,
      "outputs": []
    },
    {
      "cell_type": "code",
      "metadata": {
        "id": "1IIPzYWWUt5u",
        "colab_type": "code",
        "colab": {}
      },
      "source": [
        "# lambda function example #2:\n",
        "\n",
        "multiply = lambda a, b : a * b\n",
        "print(multiply(5, 6))"
      ],
      "execution_count": null,
      "outputs": []
    },
    {
      "cell_type": "code",
      "metadata": {
        "id": "Jl0TRNIQWEyG",
        "colab_type": "code",
        "colab": {}
      },
      "source": [
        "# lambda function example #3:\n",
        "\n",
        "triple_sum = lambda a, b, c : a + b + c\n",
        "print(triple_sum(5, 6, 3))"
      ],
      "execution_count": null,
      "outputs": []
    }
  ]
}