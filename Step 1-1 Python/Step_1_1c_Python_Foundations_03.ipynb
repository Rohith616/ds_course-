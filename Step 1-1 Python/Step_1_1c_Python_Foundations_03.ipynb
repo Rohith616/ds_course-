{
  "cells": [
    {
      "cell_type": "markdown",
      "metadata": {
        "colab_type": "text",
        "id": "x3B1PCalZW9z"
      },
      "source": [
        "# Type Conversions"
      ]
    },
    {
      "cell_type": "markdown",
      "metadata": {
        "colab_type": "text",
        "id": "ZatErvRUZ1G6"
      },
      "source": [
        "##### `int` to `float`"
      ]
    },
    {
      "cell_type": "code",
      "execution_count": null,
      "metadata": {
        "colab": {},
        "colab_type": "code",
        "id": "-hxID8mRZa1D",
        "vscode": {
          "languageId": "python"
        }
      },
      "outputs": [],
      "source": [
        "## convert int to float \n",
        "x = 3 # int\n",
        "print(x)\n",
        "print(type(x))\n",
        "\n",
        "y = float(x)\n",
        "print(y)\n",
        "print(type(y))"
      ]
    },
    {
      "cell_type": "markdown",
      "metadata": {
        "colab_type": "text",
        "id": "PeguSXXuZ7Is"
      },
      "source": [
        "##### `float` to `int`"
      ]
    },
    {
      "cell_type": "code",
      "execution_count": null,
      "metadata": {
        "colab": {},
        "colab_type": "code",
        "id": "hS-vKjWBZihP",
        "vscode": {
          "languageId": "python"
        }
      },
      "outputs": [],
      "source": [
        "## convert float to int\n",
        "y = 56.213 # float\n",
        "print(y)\n",
        "print(type(y))\n",
        "\n",
        "z = int(y) # converting y to int\n",
        "print(z)\n",
        "print(type(z))"
      ]
    },
    {
      "cell_type": "markdown",
      "metadata": {
        "colab_type": "text",
        "id": "VFv7yjqVZ_aT"
      },
      "source": [
        "##### `string` to `int`"
      ]
    },
    {
      "cell_type": "code",
      "execution_count": null,
      "metadata": {
        "colab": {},
        "colab_type": "code",
        "id": "NaF8lRSyquSd",
        "vscode": {
          "languageId": "python"
        }
      },
      "outputs": [],
      "source": [
        "## convert string to int\n",
        "x = '50' # string\n",
        "print(x)\n",
        "print(type(x))\n",
        "\n",
        "y = int(x) # converting x to int\n",
        "print(y)\n",
        "print(type(y))"
      ]
    },
    {
      "cell_type": "markdown",
      "metadata": {
        "colab_type": "text",
        "id": "6yVJVOsAaI1f"
      },
      "source": [
        "##### `int` to `string`"
      ]
    },
    {
      "cell_type": "code",
      "execution_count": null,
      "metadata": {
        "colab": {},
        "colab_type": "code",
        "id": "3k5ySjKjYv1Q",
        "vscode": {
          "languageId": "python"
        }
      },
      "outputs": [],
      "source": [
        "## convert int to string \n",
        "x = 2020\n",
        "print(x)\n",
        "print(type(x))\n",
        "\n",
        "y = str(x)\n",
        "print(y)\n",
        "print(type(y))"
      ]
    },
    {
      "cell_type": "markdown",
      "metadata": {
        "colab_type": "text",
        "id": "jw4CI75-aDt5"
      },
      "source": [
        "##### `string` to `float`"
      ]
    },
    {
      "cell_type": "code",
      "execution_count": null,
      "metadata": {
        "colab": {},
        "colab_type": "code",
        "id": "1vBmh6i_sCJh",
        "vscode": {
          "languageId": "python"
        }
      },
      "outputs": [],
      "source": [
        "## convert str to float\n",
        "x = '3.14'\n",
        "print(x)\n",
        "print(type(x))\n",
        "\n",
        "y = float(x) # converting x to float\n",
        "print(y)\n",
        "print(type(y))"
      ]
    },
    {
      "cell_type": "markdown",
      "metadata": {
        "colab_type": "text",
        "id": "fkkrcJG4aN-Q"
      },
      "source": [
        "##### `float` to `string`"
      ]
    },
    {
      "cell_type": "code",
      "execution_count": null,
      "metadata": {
        "colab": {},
        "colab_type": "code",
        "id": "0rsklWAys4gT",
        "vscode": {
          "languageId": "python"
        }
      },
      "outputs": [],
      "source": [
        "## convert float to string \n",
        "x = 37.5\n",
        "print(x)\n",
        "print(type(x))\n",
        "\n",
        "y = str(x) # converting x to string\n",
        "print(y)\n",
        "print(type(y))"
      ]
    },
    {
      "cell_type": "markdown",
      "metadata": {
        "colab_type": "text",
        "id": "OJyO-OXjaRg5"
      },
      "source": [
        "##### `list` to `tuple`"
      ]
    },
    {
      "cell_type": "code",
      "execution_count": null,
      "metadata": {
        "colab": {},
        "colab_type": "code",
        "id": "zeZM4tPZtFb5",
        "vscode": {
          "languageId": "python"
        }
      },
      "outputs": [],
      "source": [
        "## convert list to tuple\n",
        "new_list = [3,7,20,'@','CYC', 'makes learning fun!']\n",
        "print(new_list)\n",
        "print(type(new_list))\n",
        "\n",
        "new_tuple = tuple(new_list) # converting new_list to new_tuple\n",
        "print(new_tuple)\n",
        "print(type(new_tuple))"
      ]
    },
    {
      "cell_type": "markdown",
      "metadata": {
        "colab_type": "text",
        "id": "0qinqxHYahaw"
      },
      "source": [
        "##### `tuple` to `list`"
      ]
    },
    {
      "cell_type": "code",
      "execution_count": null,
      "metadata": {
        "colab": {},
        "colab_type": "code",
        "id": "p4XjMnT1sSUl",
        "vscode": {
          "languageId": "python"
        }
      },
      "outputs": [],
      "source": [
        "## convert tuple to list\n",
        "new_tuple = 4,1,45,92,31,60,84\n",
        "print(new_tuple)\n",
        "print(type(new_tuple))\n",
        "\n",
        "new_list = list(new_tuple) # converting new_tuple to new_list\n",
        "print(new_list)\n",
        "print(type(new_list))"
      ]
    },
    {
      "cell_type": "markdown",
      "metadata": {
        "colab_type": "text",
        "id": "kpEVEtzwsWME"
      },
      "source": [
        "##### `list` to `set` \n"
      ]
    },
    {
      "cell_type": "code",
      "execution_count": null,
      "metadata": {
        "colab": {},
        "colab_type": "code",
        "id": "bk12o2-y_emw",
        "vscode": {
          "languageId": "python"
        }
      },
      "outputs": [],
      "source": [
        "# define list\n",
        "new_list = [\"olivia\",\"kaseem\",\"caleb\",\"olivia\",\"owen\", \"olivia\"]\n",
        "print(new_list)\n",
        "print(type(new_list))\n",
        "\n",
        "# convert to set \n",
        "new_set = set(new_list) # extracts only the unique values\n",
        "print(new_set)\n",
        "print(type(new_set))"
      ]
    },
    {
      "cell_type": "markdown",
      "metadata": {
        "colab_type": "text",
        "id": "8Ax0yFWTAGrQ"
      },
      "source": [
        "##### `set` to `list`"
      ]
    },
    {
      "cell_type": "code",
      "execution_count": null,
      "metadata": {
        "colab": {},
        "colab_type": "code",
        "id": "Eg_0vQ-oAGIL",
        "vscode": {
          "languageId": "python"
        }
      },
      "outputs": [],
      "source": [
        "#define a set \n",
        "new_set = {'kaseem', 'olivia', 'caleb', 'owen'}\n",
        "print(new_set)\n",
        "print(type(new_set))\n",
        "\n",
        "# convert this set to a list\n",
        "new_list = list(new_set) \n",
        "print(new_list) \n",
        "print(type(new_list))"
      ]
    },
    {
      "cell_type": "markdown",
      "metadata": {
        "colab_type": "text",
        "id": "iXU3Wbujst7v"
      },
      "source": [
        "# Flow Control"
      ]
    },
    {
      "cell_type": "markdown",
      "metadata": {
        "colab_type": "text",
        "id": "5SzZoEZLtZu4"
      },
      "source": [
        "### `if... elif... else...` \n",
        "\n",
        "- `if`, `elif` and `else` keywords are used to make decisions \n",
        "  - executes different blocks of code based on certain conditions\n",
        "\n",
        "- comparison operators and logical operators can be used to specify these conditions \n",
        "\n",
        "![If Conditional Flow Chart](https://i.imgur.com/NDtXKvsl.jpg \"If Conditional Flow Chart\")"
      ]
    },
    {
      "cell_type": "code",
      "execution_count": null,
      "metadata": {
        "colab": {},
        "colab_type": "code",
        "id": "ACF0D6cLBDml",
        "vscode": {
          "languageId": "python"
        }
      },
      "outputs": [],
      "source": [
        "# 'if' conditional  \n",
        "x = 5\n",
        "y = 5\n",
        "\n",
        "if x == y:\n",
        "    print('x and y are equal')"
      ]
    },
    {
      "cell_type": "code",
      "execution_count": null,
      "metadata": {
        "colab": {},
        "colab_type": "code",
        "id": "63MLTftQoscX",
        "vscode": {
          "languageId": "python"
        }
      },
      "outputs": [],
      "source": [
        "# 'if' conditional  \n",
        "x = 5\n",
        "y = 6\n",
        "\n",
        "if x == y:\n",
        "    print('x and y are equal')\n",
        "\n",
        "# no output because x and y are not equal"
      ]
    },
    {
      "cell_type": "code",
      "execution_count": null,
      "metadata": {
        "colab": {},
        "colab_type": "code",
        "id": "3vcpnnvLpAe-",
        "vscode": {
          "languageId": "python"
        }
      },
      "outputs": [],
      "source": [
        "# 'if... else...' conditional\n",
        "x = 5\n",
        "y = 6\n",
        "\n",
        "if x == y:\n",
        "    print('x and y are equal')\n",
        "else:\n",
        "    print('x and y are not equal')"
      ]
    },
    {
      "cell_type": "code",
      "execution_count": null,
      "metadata": {
        "colab": {},
        "colab_type": "code",
        "id": "S_JkSc9epIc-",
        "vscode": {
          "languageId": "python"
        }
      },
      "outputs": [],
      "source": [
        "# 'if... elif... else...' conditional\n",
        "x = 6\n",
        "y = 3\n",
        "\n",
        "if x == y:\n",
        "    print('x and y are equal')\n",
        "elif x < y:\n",
        "    print('x is smaller')\n",
        "else:\n",
        "    print('y is smaller')"
      ]
    },
    {
      "cell_type": "markdown",
      "metadata": {
        "colab_type": "text",
        "id": "AQVYVkZFOus6"
      },
      "source": [
        "### single line `if... else...` \n",
        "\n",
        "- use `if` and `else` in a single line as shown below"
      ]
    },
    {
      "cell_type": "code",
      "execution_count": null,
      "metadata": {
        "colab": {},
        "colab_type": "code",
        "id": "l_Y_iBsgOugv",
        "vscode": {
          "languageId": "python"
        }
      },
      "outputs": [],
      "source": [
        "is_single = True\n",
        "message = 'You can date.' if is_single else 'You cannot date.'\n",
        "print(message) "
      ]
    },
    {
      "cell_type": "markdown",
      "metadata": {
        "colab_type": "text",
        "id": "W44KVOKCtPnL"
      },
      "source": [
        "### \"`=`\" vs. \"`==`\"\n",
        "\n",
        "- `=` is an assigment operator\n",
        "  - is used to set values of variables \n",
        "\n",
        "- `==` is a comparison operator \n",
        "  - is used to compare the equality of two objects/variables\n",
        "\n",
        "- if `==` is used instead of `=` for comparison in `if` statement, for instance, then a syntanx error is thrown "
      ]
    },
    {
      "cell_type": "code",
      "execution_count": null,
      "metadata": {
        "colab": {},
        "colab_type": "code",
        "id": "Y_J3YmXG-Jkv",
        "vscode": {
          "languageId": "python"
        }
      },
      "outputs": [],
      "source": [
        "# get user input for variables 'x' and 'y'\n",
        "x = float(input(\"Enter a number for x: \")) # `=` is an assignment operator\n",
        "y = float(input(\"Enter a number for y: \")) # `=` is an assignment operator\n",
        "\n",
        "# compare values of x and y \n",
        "if x == y: # `==` is a comparison operator\n",
        "  print(\"x and y are equal\") # if equality testest passed\n",
        "  if y != 0: \n",
        "    print(\"therefore, x / y is\", x/y) \n",
        "elif x < y: \n",
        "  print(\"x is smaller\") # if x is less than y\n",
        "else:\n",
        "  print(\"y is smaller\") # if y is less than x\n",
        "\n",
        "print(\"thanks!\")"
      ]
    },
    {
      "cell_type": "markdown",
      "metadata": {
        "colab_type": "text",
        "id": "8tdDeXShtkNO"
      },
      "source": [
        "### \"`while`\" loops\n",
        "\n",
        "- the `while` loop executes a block of code as long as a condition is true\n",
        "\n",
        "![While Loop](https://i.imgur.com/XQaBsR3l.jpg \"While Loop Schematic\")"
      ]
    },
    {
      "cell_type": "code",
      "execution_count": null,
      "metadata": {
        "colab": {},
        "colab_type": "code",
        "id": "t4uBW-Hx_k8x",
        "vscode": {
          "languageId": "python"
        }
      },
      "outputs": [],
      "source": [
        "# while loop example #1\n",
        "n = 0 \n",
        "while n < 5:\n",
        "  print(n)\n",
        "  n += 1"
      ]
    },
    {
      "cell_type": "markdown",
      "metadata": {
        "colab_type": "text",
        "id": "6wBD55J_DkvK"
      },
      "source": [
        "##### \"`while`\" loop with \"`else`\" statement\n",
        "\n",
        "- `else` can be added at the end of a `while` loop\n",
        "- to run a piece of code when the `while` condition is no longer is true"
      ]
    },
    {
      "cell_type": "code",
      "execution_count": null,
      "metadata": {
        "colab": {},
        "colab_type": "code",
        "id": "9W3FqoNZBLAk",
        "vscode": {
          "languageId": "python"
        }
      },
      "outputs": [],
      "source": [
        "# while loop example #2\n",
        "n = 0 \n",
        "while n < 5:\n",
        "  print(n)\n",
        "  n += 1\n",
        "else:\n",
        "  print('n is not less than 5 anymore')"
      ]
    },
    {
      "cell_type": "markdown",
      "metadata": {
        "colab_type": "text",
        "id": "q29hYRk9tpoE"
      },
      "source": [
        "### \"`for`\" loops\n",
        "\n",
        "- `for` keyword is used along with `in` membership query keyword to loop over strings, lists, tuple, and dictionaries\n",
        "\n",
        "![For Loop](https://i.imgur.com/gCVX3sPl.jpg \"For Loop SChematic\")"
      ]
    },
    {
      "cell_type": "markdown",
      "metadata": {
        "colab_type": "text",
        "id": "kFRqGNDLEKus"
      },
      "source": [
        "##### `for... in range()`\n",
        "\n",
        "- `for` can be used with `in` and `range()` to generate numbers "
      ]
    },
    {
      "cell_type": "code",
      "execution_count": null,
      "metadata": {
        "colab": {},
        "colab_type": "code",
        "id": "tqKxCjBGETzR",
        "vscode": {
          "languageId": "python"
        }
      },
      "outputs": [],
      "source": [
        "for n in range(5):\n",
        "    print(n)"
      ]
    },
    {
      "cell_type": "code",
      "execution_count": null,
      "metadata": {
        "colab": {},
        "colab_type": "code",
        "id": "jusgQ2ZHEdlV",
        "vscode": {
          "languageId": "python"
        }
      },
      "outputs": [],
      "source": [
        "for n in range(2, 6):\n",
        "  print(n)"
      ]
    },
    {
      "cell_type": "code",
      "execution_count": null,
      "metadata": {
        "colab": {},
        "colab_type": "code",
        "id": "BrPxr3ZHEgWP",
        "vscode": {
          "languageId": "python"
        }
      },
      "outputs": [],
      "source": [
        "for x in range(2, 30, 3):\n",
        "  print(x)"
      ]
    },
    {
      "cell_type": "markdown",
      "metadata": {
        "colab_type": "text",
        "id": "CtYKL1f2ObD6"
      },
      "source": [
        "##### \"`for`\" loops with strings\n",
        "\n",
        "- foor loops can use used to loop over strings"
      ]
    },
    {
      "cell_type": "code",
      "execution_count": null,
      "metadata": {
        "colab": {},
        "colab_type": "code",
        "id": "ibriyHIjObQy",
        "vscode": {
          "languageId": "python"
        }
      },
      "outputs": [],
      "source": [
        "text = \"CodeYourCareer\"\n",
        "for letter in text:\n",
        "  print(letter)"
      ]
    },
    {
      "cell_type": "markdown",
      "metadata": {
        "colab_type": "text",
        "id": "uKW9iNjoO2Wd"
      },
      "source": [
        "##### \"`for`\" loop with lists, tuples, sets and dictionaries\n",
        "\n",
        "- \"`for`\" loop can be used with data types like lists, tuples, sets and dictionaries"
      ]
    },
    {
      "cell_type": "code",
      "execution_count": null,
      "metadata": {
        "colab": {},
        "colab_type": "code",
        "id": "iJxdZrrLO2Ka",
        "vscode": {
          "languageId": "python"
        }
      },
      "outputs": [],
      "source": [
        "# define a list\n",
        "fruits_list = [\"apple\", \"banana\", \"cherry\"]\n",
        "\n",
        "# run a for loop to print the elements of the list\n",
        "for fruit in fruits_list:\n",
        "  print(fruit)"
      ]
    },
    {
      "cell_type": "code",
      "execution_count": null,
      "metadata": {
        "colab": {},
        "colab_type": "code",
        "id": "4vS1iQjwPjRv",
        "vscode": {
          "languageId": "python"
        }
      },
      "outputs": [],
      "source": [
        "# define a tuple\n",
        "animals_list = \"dog\",\"cat\",\"elephant\",\"otter\"\n",
        "\n",
        "# run a for loop to print the elements of the tuple\n",
        "for animal in animals_list:\n",
        "  print(animal)"
      ]
    },
    {
      "cell_type": "code",
      "execution_count": null,
      "metadata": {
        "colab": {},
        "colab_type": "code",
        "id": "wGYeT6h7QcCq",
        "vscode": {
          "languageId": "python"
        }
      },
      "outputs": [],
      "source": [
        "# define a set \n",
        "names = {'oliva','caleb','kaseem'}\n",
        "\n",
        "# loop over the set with for \n",
        "for name in names:\n",
        "  print(name)"
      ]
    },
    {
      "cell_type": "code",
      "execution_count": null,
      "metadata": {
        "colab": {},
        "colab_type": "code",
        "id": "nLjJxuNOQrXe",
        "vscode": {
          "languageId": "python"
        }
      },
      "outputs": [],
      "source": [
        "# define a dicitonary\n",
        "translations = {'a':1, 'b':2, 'c':3}\n",
        "\n",
        "# loop over the dicitonary with for\n",
        "\n",
        "# keys:\n",
        "for entry in translations:\n",
        "  print(entry)\n",
        "\n",
        "# values:\n",
        "for entry in translations.values():\n",
        "  print(entry)"
      ]
    },
    {
      "cell_type": "markdown",
      "metadata": {
        "colab_type": "text",
        "id": "9m6FpLb8RnGX"
      },
      "source": [
        "##### `list` comprehension \n",
        "\n",
        "- for loops can be written in a single line in python\n",
        "  - using list comprehension\n"
      ]
    },
    {
      "cell_type": "code",
      "execution_count": null,
      "metadata": {
        "colab": {},
        "colab_type": "code",
        "id": "ILiLe7ERRmU6",
        "vscode": {
          "languageId": "python"
        }
      },
      "outputs": [],
      "source": [
        "# create a new list of powers of 0 to 9\n",
        "powers = [num**2 for num in range(10)] # a for loop defined with list comprehension\n",
        "print(powers)"
      ]
    },
    {
      "cell_type": "markdown",
      "metadata": {
        "colab_type": "text",
        "id": "0mwQaulMSRAG"
      },
      "source": [
        "##### `generator` object\n",
        "\n",
        "- is not explicitly executed at creation \n",
        "\n",
        "- the formula (expression) for creating values is stored inside the generator\n",
        "\n",
        "- the values are accessed with the `next` function"
      ]
    },
    {
      "cell_type": "code",
      "execution_count": null,
      "metadata": {
        "colab": {},
        "colab_type": "code",
        "id": "8hIMHVXSSErL",
        "vscode": {
          "languageId": "python"
        }
      },
      "outputs": [],
      "source": [
        "# create a generator object with powers of 0 to 9\n",
        "powers = (num**2 for num in range(10))\n",
        "print(powers)\n",
        "\n",
        "next(powers) # call the first value in the generator "
      ]
    },
    {
      "cell_type": "code",
      "execution_count": null,
      "metadata": {
        "colab": {},
        "colab_type": "code",
        "id": "qnmbalcxSnlg",
        "vscode": {
          "languageId": "python"
        }
      },
      "outputs": [],
      "source": [
        "next(powers) # call the next value in the generator "
      ]
    },
    {
      "cell_type": "code",
      "execution_count": null,
      "metadata": {
        "colab": {},
        "colab_type": "code",
        "id": "lMxebwsDSpTI",
        "vscode": {
          "languageId": "python"
        }
      },
      "outputs": [],
      "source": [
        "next(powers) # call the next value in the generator "
      ]
    },
    {
      "cell_type": "code",
      "execution_count": null,
      "metadata": {
        "colab": {},
        "colab_type": "code",
        "id": "9DXbzvPzS41l",
        "vscode": {
          "languageId": "python"
        }
      },
      "outputs": [],
      "source": [
        "next(powers) # call the next value in the generator "
      ]
    },
    {
      "cell_type": "markdown",
      "metadata": {
        "colab_type": "text",
        "id": "2baKje6FVdVS"
      },
      "source": [
        "##### nested \"`for`\" loops\n",
        "\n",
        "- `for` loops can be nested to achieve looping over multiple lists\n"
      ]
    },
    {
      "cell_type": "code",
      "execution_count": null,
      "metadata": {
        "colab": {},
        "colab_type": "code",
        "id": "Av9CAHh8VcwE",
        "vscode": {
          "languageId": "python"
        }
      },
      "outputs": [],
      "source": [
        "adjectives = [\"juicy\", \"big\", \"tasty\"] # list 1\n",
        "fruits = [\"apple\", \"banana\", \"cherry\"] # list 2\n",
        "\n",
        "for fruit in fruits: # looping over list 2 - outer loop\n",
        "  for adjective in adjectives: # looping over list 1 - inner loop\n",
        "    print(adjective, fruit)"
      ]
    },
    {
      "cell_type": "markdown",
      "metadata": {
        "colab_type": "text",
        "id": "qPH81fzh_0cX"
      },
      "source": [
        "### \"`break`\" statement\n",
        "\n",
        "- stops a while loop even if the while condition is true\n"
      ]
    },
    {
      "cell_type": "code",
      "execution_count": null,
      "metadata": {
        "colab": {},
        "colab_type": "code",
        "id": "RAfC-c3n_xVx",
        "vscode": {
          "languageId": "python"
        }
      },
      "outputs": [],
      "source": [
        "n = 0\n",
        "while n < 6:\n",
        "  print(n)\n",
        "  if n == 3:\n",
        "    break # break loop when it is equal to 3\n",
        "  n += 1"
      ]
    },
    {
      "cell_type": "markdown",
      "metadata": {
        "colab_type": "text",
        "id": "GHtxqNVPVOUx"
      },
      "source": [
        "- stops a for loop before it has looped through all the items"
      ]
    },
    {
      "cell_type": "code",
      "execution_count": null,
      "metadata": {
        "colab": {},
        "colab_type": "code",
        "id": "-D1M08mNU-6z",
        "vscode": {
          "languageId": "python"
        }
      },
      "outputs": [],
      "source": [
        "fruits = [\"apple\", \"banana\", \"cherry\"]\n",
        "for fruit in fruits:\n",
        "  print(fruit)\n",
        "  if fruit == \"banana\":\n",
        "    break # break loop after after printing banana"
      ]
    },
    {
      "cell_type": "markdown",
      "metadata": {
        "colab_type": "text",
        "id": "RsBo1ZLtAO2a"
      },
      "source": [
        "### \"`continue`\" statement\n",
        "\n",
        "- the continue statement stops the current iteration, and continues with the next"
      ]
    },
    {
      "cell_type": "code",
      "execution_count": null,
      "metadata": {
        "colab": {},
        "colab_type": "code",
        "id": "j64PM3KRAPml",
        "vscode": {
          "languageId": "python"
        }
      },
      "outputs": [],
      "source": [
        "n = 0\n",
        "while n < 6:\n",
        "  n += 1\n",
        "  if n == 3: # skip 3\n",
        "    continue\n",
        "  print(n)\n",
        "  "
      ]
    },
    {
      "cell_type": "code",
      "execution_count": null,
      "metadata": {
        "colab": {},
        "colab_type": "code",
        "id": "ZA8sjN3Qbw1y",
        "vscode": {
          "languageId": "python"
        }
      },
      "outputs": [],
      "source": [
        "fruits = [\"apple\", \"banana\", \"cherry\"]\n",
        "for x in fruits:\n",
        "  if x == \"banana\":\n",
        "    continue # skip banana\n",
        "  print(x)"
      ]
    },
    {
      "cell_type": "markdown",
      "metadata": {
        "colab_type": "text",
        "id": "Mi5oZxNVsz6Y"
      },
      "source": [
        "### Indentation\n",
        "\n",
        "- matters in Python\n",
        "- blocks of code are denoted by indentation \n",
        "- `if...`,`while` and `for` code examples above shows how indentation works\n",
        "  - the codes below `if`, `elif` and `else` are indented \n",
        "  - the code below `while` is indented \n",
        "  - the code below `for` is indented\n",
        "- nested indentations:\n",
        "  - when `while`,`for` and `if` statements are nested within each other, the code has to be further indented \n",
        "\n",
        "![indentation scheme](https://i.imgur.com/QmTWEcRl.jpg \"Code Block Indentation\")"
      ]
    },
    {
      "cell_type": "markdown",
      "metadata": {
        "colab_type": "text",
        "id": "EXYSLIYRvCCk"
      },
      "source": [
        "### \"`for`\" vs. \"`while`\" loops\n",
        "\n",
        "- choosing the right loop type makes your code more legible and can also help prevent bugs\n",
        "\n",
        "- everything that can be written with a `for` loop can be written with a `while` loop, but `while` loops can solve some problems that `for` loops don't address easily\n",
        "\n",
        "- you should usually write `for` loops when possible; use `for` loops when \n",
        "  - you know the number of iterations you need to do - e.g., 500 trials, \n",
        "  - one operation per character in a string, or \n",
        "  - an action on every element in a list\n",
        "\n",
        "- if you can describe the problem you're trying to solve in terms of each or every element in an iterable\n",
        "object, aim for a `for` loop. \n",
        "\n",
        "- benefits of a `for` loop:\n",
        "  - using a `for` loop when possible will decrease the risk of writing an infinite loop \n",
        "  - will generally prevent you from running into errors with incrementing counter variables"
      ]
    },
    {
      "cell_type": "markdown",
      "metadata": {
        "colab_type": "text",
        "id": "jNrWXaPCgf4_"
      },
      "source": [
        "### Exception Handling\n",
        "\n",
        "- exception handling block framework \n",
        "\n",
        "  ```\n",
        "  try:\n",
        "    ...\n",
        "  except:\n",
        "    ...\n",
        "  finally:\n",
        "    ...\n",
        "  ```\n",
        "\n",
        "- `try` block:\n",
        "  - lets you test a block of code for errors\n",
        "- `except` block:\n",
        "  - lets you set the response to an error \n",
        "- `finally` block:\n",
        "  - execute code regardless of the outcome of the try-except block\n",
        "\n"
      ]
    },
    {
      "cell_type": "markdown",
      "metadata": {
        "colab_type": "text",
        "id": "cBpkH5k4hqLm"
      },
      "source": [
        "##### Exceptiion Handling Examples"
      ]
    },
    {
      "cell_type": "code",
      "execution_count": null,
      "metadata": {
        "colab": {},
        "colab_type": "code",
        "id": "jv3J2Lwugfol",
        "vscode": {
          "languageId": "python"
        }
      },
      "outputs": [],
      "source": [
        "# setup an error handling block \n",
        "try:\n",
        "  print(x_val) # without defining x_val before, we try to print the value of x_val\n",
        "except:\n",
        "  print('An exception occured')\n",
        "\n",
        "# here, since the try block code throws an error because of x_val not being defined, the except block is executed\n",
        "# lets try this without a try block\n",
        "print(x_val) # this raises a NameError"
      ]
    },
    {
      "cell_type": "code",
      "execution_count": null,
      "metadata": {
        "colab": {},
        "colab_type": "code",
        "id": "dqcZl6y9ioKI",
        "vscode": {
          "languageId": "python"
        }
      },
      "outputs": [],
      "source": [
        "# multiple exceptions handling\n",
        "try:\n",
        "  print(x_val)\n",
        "except NameError: # exception handling #1\n",
        "  print(\"x_val is not defined\")\n",
        "except: # exception handling #2\n",
        "  print(\"Something else went wrong\")"
      ]
    },
    {
      "cell_type": "code",
      "execution_count": null,
      "metadata": {
        "colab": {},
        "colab_type": "code",
        "id": "osn70Xvtm0XY",
        "vscode": {
          "languageId": "python"
        }
      },
      "outputs": [],
      "source": [
        "# `finally` block example #1\n",
        "try:\n",
        "  print(x)\n",
        "except: # this executes if the try block has an error\n",
        "  print(\"Something went wrong\")\n",
        "finally: # this is executed whether an error is raised or not\n",
        "  print(\"The 'try except' is finished!\")\n"
      ]
    },
    {
      "cell_type": "markdown",
      "metadata": {
        "colab_type": "text",
        "id": "mnJN5r3PnwYY"
      },
      "source": [
        "##### `finally` block example #2\n",
        "\n",
        "```python\n",
        "try: # define try block\n",
        "  f = open(\"file.txt\") # open a file that exists, but with no write permission\n",
        "  f.write(\"text to write\") # try to write to file\n",
        "except: # respond to error \n",
        "  print(\"Something went wrong when writing to file\")\n",
        "finally: # run this code regardless of the outcome of the try-error outcome\n",
        "  f.close()\n",
        "```"
      ]
    },
    {
      "cell_type": "markdown",
      "metadata": {
        "colab_type": "text",
        "id": "1GcSUYjEoXB9"
      },
      "source": [
        "##### `raise()` keyword\n",
        "\n",
        "- you can geenrate a custom error if an exception occurs \n",
        "  - this is done with the `raise()` keyword"
      ]
    },
    {
      "cell_type": "code",
      "execution_count": null,
      "metadata": {
        "colab": {},
        "colab_type": "code",
        "id": "Rlc7yas4onXS",
        "vscode": {
          "languageId": "python"
        }
      },
      "outputs": [],
      "source": [
        "## raise exception example #1\n",
        "x = -1\n",
        "\n",
        "if x < 0:\n",
        "  raise Exception(\"Sorry, number below zero!\")"
      ]
    },
    {
      "cell_type": "code",
      "execution_count": null,
      "metadata": {
        "colab": {},
        "colab_type": "code",
        "id": "-GQ4kq-no5zd",
        "vscode": {
          "languageId": "python"
        }
      },
      "outputs": [],
      "source": [
        "## raise exception example #2\n",
        "# you can choose the specific type of Exception to raise\n",
        "x = \"hello\"\n",
        "\n",
        "if not type(x) is int:\n",
        "  raise TypeError(\"Only integers are allowed!\")"
      ]
    },
    {
      "cell_type": "markdown",
      "metadata": {
        "colab_type": "text",
        "id": "LYbj1sz_w7-2"
      },
      "source": [
        "# Functions\n",
        "\n",
        "- functions are reusable pieces of code\n",
        "- they *only run when called* \n",
        "- they may take input `arguments`\n",
        "- they may `return` processed values\n",
        "\n",
        "- `def` keyword is used at the begeinning of a function to start defining a function\n",
        "- `return` keyword is used to send some value back after processing\n",
        "\n",
        "![Function Anatomy](https://i.imgur.com/5qSLCBil.jpg \"Function Anatomy\")"
      ]
    },
    {
      "cell_type": "code",
      "execution_count": null,
      "metadata": {
        "colab": {},
        "colab_type": "code",
        "id": "1n0OCxdbhLBc",
        "vscode": {
          "languageId": "python"
        }
      },
      "outputs": [],
      "source": [
        "# define a function to test for even numbers \n",
        "  # takes one integer number as an argument\n",
        "  # and returns true if even and false if not \n",
        "\n",
        "def is_even(num):\n",
        "  return num % 2 == 0\n",
        "\n",
        "# test evenness of 55 by calling the function is_even()\n",
        "print(is_even(55)) # call function and print output\n",
        "\n",
        "# test evenness of 100 by calling the function is_even()\n",
        "print(is_even(100)) # call function and print output"
      ]
    },
    {
      "cell_type": "code",
      "execution_count": null,
      "metadata": {
        "colab": {},
        "colab_type": "code",
        "id": "VFkMJ0_n9b2N",
        "vscode": {
          "languageId": "python"
        }
      },
      "outputs": [],
      "source": [
        "# define function to calculate area of a circle\n",
        "# input argument is radius \n",
        "\n",
        "def area_circle(radius):\n",
        "  ''' # start doc string \n",
        "  input: radius of circle \n",
        "  return value: computed value of area\n",
        "  '''\n",
        "  area = (22.0/7.0)*radius**2\n",
        "  return area\n",
        "\n",
        "print(area_circle(5))"
      ]
    },
    {
      "cell_type": "markdown",
      "metadata": {
        "colab_type": "text",
        "id": "AL-RPRAgdKhx"
      },
      "source": [
        "# Scope\n",
        "\n",
        "- a variable is only available from inside the region it is created \n",
        "  - this is called *scope*\n"
      ]
    },
    {
      "cell_type": "markdown",
      "metadata": {
        "colab_type": "text",
        "id": "guOr2NBfdcjo"
      },
      "source": [
        "### Local Scope \n",
        "\n",
        "- a variable created inside a function belongs to the local scope of that function \n",
        "  - and can only be used inside that function"
      ]
    },
    {
      "cell_type": "code",
      "execution_count": null,
      "metadata": {
        "colab": {},
        "colab_type": "code",
        "id": "EWcAIJjVdguc",
        "vscode": {
          "languageId": "python"
        }
      },
      "outputs": [],
      "source": [
        "def myfunc():\n",
        "  inside_variable = 300 # inside_variable is available only inside myfunc() and not accessible outside\n",
        "  print(inside_variable)\n",
        "\n",
        "myfunc() # call the function myfunc()\n",
        "print(inside_variable) # throws error"
      ]
    },
    {
      "cell_type": "markdown",
      "metadata": {
        "colab_type": "text",
        "id": "VeQ4MM4ieJEi"
      },
      "source": [
        "- however, the local variable can be accessed from a function within the function"
      ]
    },
    {
      "cell_type": "code",
      "execution_count": null,
      "metadata": {
        "colab": {},
        "colab_type": "code",
        "id": "_hgLmGa6eNNF",
        "vscode": {
          "languageId": "python"
        }
      },
      "outputs": [],
      "source": [
        "def myfunc():\n",
        "\n",
        "  inside_variable = 300\n",
        "\n",
        "  def myinnerfunc(): # this is the inner function\n",
        "    print(inside_variable) # this line accesses the inside_variable value\n",
        "\n",
        "  myinnerfunc() # call the function myinnerfunc()\n",
        "\n",
        "myfunc() # call the function myfunc()\n",
        "\n",
        "print(inside_variable) # but this still throws error"
      ]
    },
    {
      "cell_type": "markdown",
      "metadata": {
        "colab_type": "text",
        "id": "B6KYAxrgdeZf"
      },
      "source": [
        "### Global Scope\n",
        "\n",
        "- a variable created in the main body of the Python code is a global variable and belongs to the global scope.\n",
        "\n",
        "- global variables are available from within any scope, global and local"
      ]
    },
    {
      "cell_type": "code",
      "execution_count": null,
      "metadata": {
        "colab": {},
        "colab_type": "code",
        "id": "-s2siRPuexxO",
        "vscode": {
          "languageId": "python"
        }
      },
      "outputs": [],
      "source": [
        "outer_variable = 300\n",
        "\n",
        "def myfunc():\n",
        "  print(outer_variable)\n",
        "\n",
        "myfunc()\n",
        "\n",
        "print(outer_variable)"
      ]
    },
    {
      "cell_type": "markdown",
      "metadata": {
        "colab_type": "text",
        "id": "1MWoX34tfAq3"
      },
      "source": [
        "##### \"`global`\" keyword\n",
        "\n",
        "- if you need to create a global variable, but are stuck in the local scope, you can use the `global` keyword.\n",
        "\n",
        "- the `global` keyword makes the variable global."
      ]
    },
    {
      "cell_type": "code",
      "execution_count": null,
      "metadata": {
        "colab": {},
        "colab_type": "code",
        "id": "REZFHDtZfMid",
        "vscode": {
          "languageId": "python"
        }
      },
      "outputs": [],
      "source": [
        "def myfunc():\n",
        "  global global_variable\n",
        "  global_variable = 300\n",
        "  print(global_variable)\n",
        "\n",
        "myfunc()\n",
        "\n",
        "print(global_variable)"
      ]
    },
    {
      "cell_type": "markdown",
      "metadata": {
        "colab_type": "text",
        "id": "2qXJ0rV3Tv7I"
      },
      "source": [
        "# Lambda \n",
        "\n",
        "- is a small anonymous function\n",
        "- can take any number of arguments, but can only have one expression\n",
        "\n",
        "- syntax: `lambda arguments : expression`"
      ]
    },
    {
      "cell_type": "code",
      "execution_count": null,
      "metadata": {
        "colab": {},
        "colab_type": "code",
        "id": "dXu441qITwy_",
        "vscode": {
          "languageId": "python"
        }
      },
      "outputs": [],
      "source": [
        "# lambda function example #1:\n",
        "\n",
        "plus_ten = lambda x : x + 10\n",
        "print(plus_ten(5))\n"
      ]
    },
    {
      "cell_type": "code",
      "execution_count": null,
      "metadata": {
        "colab": {},
        "colab_type": "code",
        "id": "1IIPzYWWUt5u",
        "vscode": {
          "languageId": "python"
        }
      },
      "outputs": [],
      "source": [
        "# lambda function example #2:\n",
        "\n",
        "multiply = lambda a, b : a * b\n",
        "print(multiply(5, 6))"
      ]
    },
    {
      "cell_type": "code",
      "execution_count": null,
      "metadata": {
        "colab": {},
        "colab_type": "code",
        "id": "Jl0TRNIQWEyG",
        "vscode": {
          "languageId": "python"
        }
      },
      "outputs": [],
      "source": [
        "# lambda function example #3:\n",
        "\n",
        "triple_sum = lambda a, b, c : a + b + c\n",
        "print(triple_sum(5, 6, 3))"
      ]
    }
  ],
  "metadata": {
    "colab": {
      "collapsed_sections": [],
      "name": "Step 1-1c. Python Foundations - 03.ipynb",
      "provenance": [],
      "toc_visible": true
    },
    "kernelspec": {
      "display_name": "Python 3",
      "name": "python3"
    }
  },
  "nbformat": 4,
  "nbformat_minor": 0
}
