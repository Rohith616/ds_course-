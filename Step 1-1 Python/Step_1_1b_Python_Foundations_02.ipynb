{
  "nbformat": 4,
  "nbformat_minor": 0,
  "metadata": {
    "colab": {
      "name": "Step 1-1b. Python Foundations - 02.ipynb",
      "provenance": [],
      "collapsed_sections": [
        "c83XRni0Rmq9",
        "FJDJa5YyRrAr",
        "ADav9xGNRvUN",
        "UT0A5BXVRz42",
        "bMK65s68JhFw",
        "50KfTP7HNOmn",
        "z5h8mVD0OzyY",
        "3X2-j5UVX-fg",
        "8iEvjh9hZ0fn",
        "QIqKhP0KabCo",
        "BrUqmXU1xP-y",
        "9VrT4pmea6Xd",
        "_gqiJWMEIeu2",
        "hstXjV6OK4YN"
      ],
      "toc_visible": true
    },
    "kernelspec": {
      "name": "python3",
      "display_name": "Python 3"
    }
  },
  "cells": [
    {
      "cell_type": "markdown",
      "metadata": {
        "id": "7b33QKzrSYDd",
        "colab_type": "text"
      },
      "source": [
        "# Strings\n",
        "\n",
        "- strings are *ordered* sequence of characters\n",
        "- strings are *immutable* \n",
        "  - i.e. cannot be modified after being created"
      ]
    },
    {
      "cell_type": "markdown",
      "metadata": {
        "id": "acEsMQcbqDe-",
        "colab_type": "text"
      },
      "source": [
        "### Defining Strings"
      ]
    },
    {
      "cell_type": "code",
      "metadata": {
        "id": "6wFv97JHccxA",
        "colab_type": "code",
        "colab": {}
      },
      "source": [
        "# string defined with single quotes\n",
        "name_one = 'TECH I.S.'\n",
        "print(name_one)\n",
        "\n",
        "# string defined with double quotes\n",
        "name_two = \"TECH I.S.\"\n",
        "print(name_two)\n",
        "\n",
        "# string defined with triple single quotes\n",
        "name_three = '''This is a long string and supports \n",
        "                multiline statements as well\n",
        "             '''\n",
        "print(name_three)\n",
        "\n",
        "# string defined with double quotes inside the single quotes\n",
        "name_four = 'Hello, \"TECH I.S. Student\"'\n",
        "print(name_four) "
      ],
      "execution_count": null,
      "outputs": []
    },
    {
      "cell_type": "markdown",
      "metadata": {
        "id": "G_OlPOgakwSU",
        "colab_type": "text"
      },
      "source": [
        "### String Immutability Test"
      ]
    },
    {
      "cell_type": "code",
      "metadata": {
        "id": "sPZ7UGDLhxpQ",
        "colab_type": "code",
        "colab": {}
      },
      "source": [
        "# define string\n",
        "s = \"hello\"\n",
        "\n",
        "# attempt assigment\n",
        "s[0] = 'y' #throws error - hence strings are immutable"
      ],
      "execution_count": null,
      "outputs": []
    },
    {
      "cell_type": "code",
      "metadata": {
        "id": "ACETF6u1lBdw",
        "colab_type": "code",
        "colab": {}
      },
      "source": [
        "# however, rebinding works \n",
        "# reassigning s with 'y' concatenated with 'ello' extracted from s\n",
        "s = 'y' + s[1:len(s)]\n",
        "\n",
        "print(s)"
      ],
      "execution_count": null,
      "outputs": []
    },
    {
      "cell_type": "markdown",
      "metadata": {
        "id": "_VngL6DeqOcT",
        "colab_type": "text"
      },
      "source": [
        "### String Concatenation"
      ]
    },
    {
      "cell_type": "code",
      "metadata": {
        "id": "MPC_ePYQqR_a",
        "colab_type": "code",
        "colab": {}
      },
      "source": [
        "first_name = \"TECH\"\n",
        "last_name = \"I.S.\"\n",
        "full_name = first_name + ' ' + last_name\n",
        "print(full_name)"
      ],
      "execution_count": null,
      "outputs": []
    },
    {
      "cell_type": "markdown",
      "metadata": {
        "id": "_sy2yI8N8TtT",
        "colab_type": "text"
      },
      "source": [
        "### String Length"
      ]
    },
    {
      "cell_type": "code",
      "metadata": {
        "id": "hg6njQ81v3NU",
        "colab_type": "code",
        "colab": {}
      },
      "source": [
        "# check length of string\n",
        "name = \"TECH I.S.\"\n",
        "len(name)"
      ],
      "execution_count": null,
      "outputs": []
    },
    {
      "cell_type": "markdown",
      "metadata": {
        "id": "e95uNr2K8WJ0",
        "colab_type": "text"
      },
      "source": [
        "### String Indexing\n",
        "\n",
        "- in Python, \n",
        "  - indexing of sequences starts from 0\n",
        "- string is a text sequence, \n",
        "  - so indexing for strings starts from 0\n",
        "\n",
        "![string indexing](https://i.imgur.com/eYQmNiWl.jpg \"String Indexing\")"
      ]
    },
    {
      "cell_type": "code",
      "metadata": {
        "id": "aFZyKenk9BxD",
        "colab_type": "code",
        "colab": {}
      },
      "source": [
        "# define a string \n",
        "s = \"abc\"\n",
        "\n",
        "# indexing starts from 0 in Python\n",
        "\n",
        "# use square brackets and the index number to access data\n",
        "print(s[0]) # output: a\n",
        "print(s[1]) # output: b\n",
        "print(s[2]) # output: c\n",
        "\n",
        "print(s[-1]) # output: c\n",
        "print(s[-2]) # output: b\n",
        "print(s[-3]) # output: a\n",
        "\n",
        "print(s[3]) # output: index error"
      ],
      "execution_count": null,
      "outputs": []
    },
    {
      "cell_type": "markdown",
      "metadata": {
        "id": "g5OC13xWiEKX",
        "colab_type": "text"
      },
      "source": [
        "### String Slicing \n",
        "\n",
        "- extract sub-sections of a string\n",
        "- slice strings using format `[start:stop:step]`\n",
        "  - `step = 1` by default\n",
        "  - you may also omit numbers and use only colons (`:`)"
      ]
    },
    {
      "cell_type": "code",
      "metadata": {
        "id": "slnXsNFnhmjh",
        "colab_type": "code",
        "colab": {}
      },
      "source": [
        "# define a new string \n",
        "s = 'abcdefgh'\n",
        "\n",
        "print(s[3:6])     #output: def\n",
        "print(s[3:6:1])   #output: def\n",
        "print(s[3:6:2])   #output: df\n",
        "print(s[::])      #output: abcdefgh (useful for copying string content into new memory location)\n",
        "print(s[::-1])    #output: hgfedbca (reverse string command)\n",
        "print(s[4:1:-2])  #output: ec\n"
      ],
      "execution_count": null,
      "outputs": []
    },
    {
      "cell_type": "markdown",
      "metadata": {
        "id": "N6OloXhe7su4",
        "colab_type": "text"
      },
      "source": [
        "# Lists\n",
        "\n",
        "- lists are ordered sequences of objects\n",
        "  - they are mutable"
      ]
    },
    {
      "cell_type": "code",
      "metadata": {
        "id": "YZ4O3qgS98kE",
        "colab_type": "code",
        "colab": {}
      },
      "source": [
        "# define a list\n",
        "new_list = [3,7,20,'@','TECH I.S.', 'makes learning fun!']\n",
        "\n",
        "# view list \n",
        "print(new_list)"
      ],
      "execution_count": null,
      "outputs": []
    },
    {
      "cell_type": "markdown",
      "metadata": {
        "id": "dsk--t9fN_Q0",
        "colab_type": "text"
      },
      "source": [
        "##### Accessing List Elements\n",
        "\n",
        "- indexing in lists works just like strings \n",
        "- indexing starts from zero\n"
      ]
    },
    {
      "cell_type": "code",
      "metadata": {
        "id": "8lG50DfXOCjK",
        "colab_type": "code",
        "colab": {}
      },
      "source": [
        "# define a list\n",
        "new_list = [3,7,20,'@','TECH I.S.', 'makes learning fun!']\n",
        "\n",
        "\n",
        "print(new_list[0]) # zeroth element\n",
        "print(new_list[1]) # first element\n",
        "print(new_list[2]) # second element\n",
        "print(new_list[3]) # third element\n",
        "\n",
        "print(new_list[-1]) # last element\n",
        "print(new_list[-2]) # last but one element\n",
        "print(new_list[-3]) # last but two element\n",
        "print(new_list[-4]) # last but three element\n",
        "\n"
      ],
      "execution_count": null,
      "outputs": []
    },
    {
      "cell_type": "markdown",
      "metadata": {
        "id": "zJK6-NsOP0lr",
        "colab_type": "text"
      },
      "source": [
        "##### Nested Lists\n",
        "\n",
        "- lists can be embedded inside lists\n",
        "  - multiple nesting is also supported"
      ]
    },
    {
      "cell_type": "code",
      "metadata": {
        "id": "WGziiPigPzu8",
        "colab_type": "code",
        "colab": {}
      },
      "source": [
        "# define nested lists \n",
        "nested_list = [\n",
        "               [1,2,3],\n",
        "               ['a','b','c'],\n",
        "               [True,False,7],\n",
        "              ]\n",
        "\n",
        "# check nested list\n",
        "print(nested_list)"
      ],
      "execution_count": null,
      "outputs": []
    },
    {
      "cell_type": "markdown",
      "metadata": {
        "id": "P-BfjNpCOvzO",
        "colab_type": "text"
      },
      "source": [
        "##### List Mutability Test"
      ]
    },
    {
      "cell_type": "code",
      "metadata": {
        "id": "Jt8P12B2O--N",
        "colab_type": "code",
        "colab": {}
      },
      "source": [
        "# define list\n",
        "new_list = [3,7,20,'@','TECH I.S.', 'makes learning fun!']\n",
        "\n",
        "# try changing content in list\n",
        "new_list[2] = 'one' # accepts change\n",
        "\n",
        "# check list\n",
        "print(new_list)"
      ],
      "execution_count": null,
      "outputs": []
    },
    {
      "cell_type": "markdown",
      "metadata": {
        "id": "iM1Ac6pTQnIN",
        "colab_type": "text"
      },
      "source": [
        "##### Append to List\n",
        "\n",
        "- append can add *only one* element at the end of a list at a time"
      ]
    },
    {
      "cell_type": "code",
      "metadata": {
        "id": "HeqMVtcl_CcA",
        "colab_type": "code",
        "colab": {}
      },
      "source": [
        "# define a list\n",
        "new_list = [3,7,20,'@','TECH I.S.', 'makes learning fun!']\n",
        "\n",
        "# print new list\n",
        "print(new_list)\n",
        "\n",
        "# append 'wohoo' to new_list\n",
        "new_list.append('wohoo!')\n",
        "\n",
        "# check apended value\n",
        "print(new_list)"
      ],
      "execution_count": null,
      "outputs": []
    },
    {
      "cell_type": "markdown",
      "metadata": {
        "id": "biFKcYu4QuXd",
        "colab_type": "text"
      },
      "source": [
        "##### Extend List\n",
        "\n",
        "- used to add multiple elements at the end of the list"
      ]
    },
    {
      "cell_type": "code",
      "metadata": {
        "id": "PQUkHCuW_Tm5",
        "colab_type": "code",
        "colab": {}
      },
      "source": [
        "# define a list\n",
        "new_list = [3,7,20,'@','TECH I.S.', 'makes learning fun!']\n",
        "\n",
        "# print new list\n",
        "print(new_list)\n",
        "\n",
        "# extend new_list with multiple elements in an array\n",
        "new_list.extend([\"Let's\", \"do\", \"this\",\"!\"])\n",
        "# NOTE: multiple elements have to be input in array\n",
        "\n",
        "print(new_list)\n"
      ],
      "execution_count": null,
      "outputs": []
    },
    {
      "cell_type": "markdown",
      "metadata": {
        "id": "v8dX3sZcQ7Zt",
        "colab_type": "text"
      },
      "source": [
        "##### Insert to List\n",
        "\n",
        "- can add an element at a given position in the list\n",
        "- can add only one element at a time\n",
        "- two arguments: \n",
        "  - first argument specifies the position \n",
        "  - second argument specifies the element to be inserted"
      ]
    },
    {
      "cell_type": "code",
      "metadata": {
        "id": "WixdKFalQdTZ",
        "colab_type": "code",
        "colab": {}
      },
      "source": [
        "# define list\n",
        "new_list = [3,7,20,'@','TECH I.S.', 'makes learning fun!']\n",
        "\n",
        "# insert element 'Chocolate' at spot 3 in new_list\n",
        "new_list.insert(3,'Chocolate')\n",
        "\n",
        "# check insertion\n",
        "print(new_list)"
      ],
      "execution_count": null,
      "outputs": []
    },
    {
      "cell_type": "markdown",
      "metadata": {
        "id": "fUY3RWxwQ8C3",
        "colab_type": "text"
      },
      "source": [
        "##### Remove from List\n",
        "\n",
        "- used to remove an element from the list\n",
        "  - in the case of multiple occurrences, only the first is removed"
      ]
    },
    {
      "cell_type": "code",
      "metadata": {
        "id": "xSmMhkgfQ6xP",
        "colab_type": "code",
        "colab": {}
      },
      "source": [
        "# define list\n",
        "new_list = [3,7,20,'@','TECH I.S.', 'makes learning fun!']\n",
        "\n",
        "# remove 20 from new_list\n",
        "new_list.remove(20)\n",
        "\n",
        "# check removal\n",
        "print(new_list)"
      ],
      "execution_count": null,
      "outputs": []
    },
    {
      "cell_type": "markdown",
      "metadata": {
        "id": "t-T9cLYHRIpD",
        "colab_type": "text"
      },
      "source": [
        "##### Pop from List\n",
        "\n",
        "- can remove an element from any position in the list\n",
        "  - removes index item\n",
        "- element is not specified like in `remove()` method, only the index position\n"
      ]
    },
    {
      "cell_type": "code",
      "metadata": {
        "id": "ud9hd_0URJcS",
        "colab_type": "code",
        "colab": {}
      },
      "source": [
        "# define list\n",
        "new_list = [3,7,20,'@','TECH I.S.', 'makes learning fun!']\n",
        "\n",
        "# pop spot 2 from list\n",
        "new_list.pop(2)\n",
        "\n",
        "# check list \n",
        "print(new_list)\n"
      ],
      "execution_count": null,
      "outputs": []
    },
    {
      "cell_type": "markdown",
      "metadata": {
        "id": "zk1CAILxiE0Y",
        "colab_type": "text"
      },
      "source": [
        "##### `remove()` vs. `pop()`\n",
        "\n",
        "|`remove()`|`pop()`|\n",
        "|---|---|\n",
        "|removes element by identification|removes by index|\n",
        "|`new_list.remove(element_to_remove)`|`new_list.remove(index_number_to_remove)`|"
      ]
    },
    {
      "cell_type": "markdown",
      "metadata": {
        "id": "u2DNJGYgRPhY",
        "colab_type": "text"
      },
      "source": [
        "##### List Slicing\n",
        "\n",
        "- used to extract a sub-section of the list\n",
        "  - index access works like string indexing and slicing"
      ]
    },
    {
      "cell_type": "code",
      "metadata": {
        "id": "vWH0nts9RSvc",
        "colab_type": "code",
        "colab": {}
      },
      "source": [
        "# define list\n",
        "new_list = [3,7,20,'@','TECH I.S.', 'makes learning fun!']\n",
        "\n",
        "# extract combinations of new_list extracts\n",
        "print(new_list[:4])\n",
        "print(new_list[2:])\n",
        "print(new_list[1:5])\n",
        "print(new_list[:])"
      ],
      "execution_count": null,
      "outputs": []
    },
    {
      "cell_type": "markdown",
      "metadata": {
        "id": "2ZsAjb-aRTDx",
        "colab_type": "text"
      },
      "source": [
        "##### Reverse a List\n",
        "\n",
        "- used to reverse the elements of a list\n",
        "\n",
        "- can be done in two ways\n",
        "  - modify the original list\n",
        "  - without modifying the original list"
      ]
    },
    {
      "cell_type": "code",
      "metadata": {
        "id": "ljRBmDWlRXcQ",
        "colab_type": "code",
        "colab": {}
      },
      "source": [
        "# define list\n",
        "new_list = [3,7,20,'@','TECH I.S.', 'makes learning fun!']\n",
        "\n",
        "# without modifying the original list\n",
        "print(new_list[::-1])\n",
        "print(new_list) # unmodified original list\n",
        "\n",
        "# modify the original list\n",
        "new_list.reverse() # modify original list\n",
        "print(new_list) "
      ],
      "execution_count": null,
      "outputs": []
    },
    {
      "cell_type": "markdown",
      "metadata": {
        "id": "hYPWSz97RWdn",
        "colab_type": "text"
      },
      "source": [
        "##### Length of a List\n",
        "\n",
        "- returns the number of elements in the list"
      ]
    },
    {
      "cell_type": "code",
      "metadata": {
        "id": "Ej4FTnMlRd0o",
        "colab_type": "code",
        "colab": {}
      },
      "source": [
        "# define list\n",
        "new_list = [3,7,20,'@','TECH I.S.', 'makes learning fun!']\n",
        "\n",
        "# print length of new_list\n",
        "len(new_list)"
      ],
      "execution_count": null,
      "outputs": []
    },
    {
      "cell_type": "markdown",
      "metadata": {
        "id": "c83XRni0Rmq9",
        "colab_type": "text"
      },
      "source": [
        "##### Min & Max Values of a List\n",
        "\n",
        "- min() returns the *minimum* value in the list\n",
        "- max() returns the *maximum* value in the list\n",
        "\n",
        "- NOTE: both methods accept only *homogeneous* lists \n",
        "  - i.e. list having elements of similar data type"
      ]
    },
    {
      "cell_type": "code",
      "metadata": {
        "id": "39dvJCbrRl9d",
        "colab_type": "code",
        "colab": {}
      },
      "source": [
        "# define list\n",
        "new_list = [8,12,7,10,52,33,21,99]\n",
        "\n",
        "# check min and max of new_list\n",
        "print(min(new_list))\n",
        "print(max(new_list))\n",
        "\n",
        "# define list\n",
        "new_list = ['x','10','99','twenty','%$','--']\n",
        "\n",
        "# check min and max of new_list\n",
        "print(min(new_list))\n",
        "print(max(new_list))"
      ],
      "execution_count": null,
      "outputs": []
    },
    {
      "cell_type": "markdown",
      "metadata": {
        "id": "FJDJa5YyRrAr",
        "colab_type": "text"
      },
      "source": [
        "##### Count of an Element in a List\n",
        "\n",
        "- returns the number of occurrences of a given element in the list"
      ]
    },
    {
      "cell_type": "code",
      "metadata": {
        "id": "TZi2U9kNRu_h",
        "colab_type": "code",
        "colab": {}
      },
      "source": [
        "# define list\n",
        "new_list = [8,12,7,10,7,33,21,7]\n",
        "\n",
        "# count the number of occurences of 7\n",
        "print(new_list.count(7))\n",
        "\n",
        "# count the number of occurences of 10\n",
        "print(new_list.count(10))"
      ],
      "execution_count": null,
      "outputs": []
    },
    {
      "cell_type": "markdown",
      "metadata": {
        "id": "ADav9xGNRvUN",
        "colab_type": "text"
      },
      "source": [
        "##### Concatenate Lists\n",
        "\n",
        "- used to merge two lists and return a single list"
      ]
    },
    {
      "cell_type": "code",
      "metadata": {
        "id": "0AUNcmgfRzb-",
        "colab_type": "code",
        "colab": {}
      },
      "source": [
        "# define two lists\n",
        "list_first = ['three','hundred']\n",
        "print(list_first)\n",
        "\n",
        "list_second = ['words','in','a','paragraph']\n",
        "print(list_second)\n",
        "\n",
        "# concatenate lists\n",
        "list_combined = list_first + list_second\n",
        "print(list_combined)\n"
      ],
      "execution_count": null,
      "outputs": []
    },
    {
      "cell_type": "markdown",
      "metadata": {
        "id": "UT0A5BXVRz42",
        "colab_type": "text"
      },
      "source": [
        "##### Multiply List Content\n",
        "\n",
        "- allows duplicating the list n times\n",
        "- resultant list is the original list iterated n times"
      ]
    },
    {
      "cell_type": "code",
      "metadata": {
        "id": "dhg26Lf_R6e0",
        "colab_type": "code",
        "colab": {}
      },
      "source": [
        "# define list\n",
        "new_list = [3,7,20,'@','TECH I.S.', 'makes learning fun!']\n",
        "\n",
        "# multiply list\n",
        "print(new_list*2)\n",
        "print(new_list*3)"
      ],
      "execution_count": null,
      "outputs": []
    },
    {
      "cell_type": "markdown",
      "metadata": {
        "id": "pX5vnJIYR61W",
        "colab_type": "text"
      },
      "source": [
        "##### Location of the First Occurence\n",
        "\n",
        " - `index()` method returns the position of the first occurrence of the given element\n",
        "\n",
        "\n",
        " - optional parameters: \n",
        "  - the begin index and \n",
        "  - the end index\n",
        "\n",
        "- when optional arguments are given:\n",
        "  - the element is searched only in the sub-list bound by the begin and end indices\n",
        "\n",
        "- when not supplied,\n",
        "  - the element is searched in the whole list"
      ]
    },
    {
      "cell_type": "code",
      "metadata": {
        "id": "ilF2qzJaSA6-",
        "colab_type": "code",
        "colab": {}
      },
      "source": [
        "# define list\n",
        "new_list = [3,7,20,'@','TECH I.S.', 'makes learning fun!']\n",
        "\n",
        "# search index of 'TECH I.S.'\n",
        "print(new_list.index('TECH I.S.'))\n",
        "\n",
        "# search '@' with optional arguments\n",
        "print(new_list.index('@',1,4))\n"
      ],
      "execution_count": null,
      "outputs": []
    },
    {
      "cell_type": "markdown",
      "metadata": {
        "id": "nHdhrbk-SDRT",
        "colab_type": "text"
      },
      "source": [
        "##### Sort a List in Place \n",
        "\n",
        "- sort method sorts the list in ascending order\n",
        "  - can only be performed on homogeneous lists, i.e. lists having elements of similar data type"
      ]
    },
    {
      "cell_type": "code",
      "metadata": {
        "id": "_qBL9eZdSHCJ",
        "colab_type": "code",
        "colab": {}
      },
      "source": [
        "# define list\n",
        "new_list = [4, 2, 6, 5, 0, 1] \n",
        "\n",
        "# check unsorted list\n",
        "print(new_list)\n",
        "\n",
        "# sort list\n",
        "new_list.sort()\n",
        "\n",
        "# check sorted list\n",
        "print(new_list)"
      ],
      "execution_count": null,
      "outputs": []
    },
    {
      "cell_type": "markdown",
      "metadata": {
        "id": "nYni1ncPpHzz",
        "colab_type": "text"
      },
      "source": [
        "##### Create copy of Sorted List \n",
        "\n",
        "- leave the original list unsorted \n",
        "  - but create a new list with sorted items"
      ]
    },
    {
      "cell_type": "code",
      "metadata": {
        "id": "ZNuTzitjpI9q",
        "colab_type": "code",
        "colab": {}
      },
      "source": [
        "# define list\n",
        "new_list = [4, 2, 6, 5, 0, 1] \n",
        "\n",
        "# print sorted list\n",
        "new_sorted_list = sorted(new_list)\n",
        "\n",
        "# check original list\n",
        "print(new_list)\n",
        "\n",
        "# check sorted list\n",
        "print(new_sorted_list)\n"
      ],
      "execution_count": null,
      "outputs": []
    },
    {
      "cell_type": "markdown",
      "metadata": {
        "id": "wSNbQSPFSHqf",
        "colab_type": "text"
      },
      "source": [
        "##### Erase List Content"
      ]
    },
    {
      "cell_type": "code",
      "metadata": {
        "id": "L8GoGOPZSKst",
        "colab_type": "code",
        "colab": {}
      },
      "source": [
        "# define list\n",
        "new_list = [4, 2, 6, 5, 0, 1] \n",
        "\n",
        "# check unsorted list\n",
        "print(new_list)\n",
        "\n",
        "# clear list\n",
        "new_list.clear()\n",
        "\n",
        "# check cleared list\n",
        "print(new_list)"
      ],
      "execution_count": null,
      "outputs": []
    },
    {
      "cell_type": "markdown",
      "metadata": {
        "id": "DwzlGWDB7xPV",
        "colab_type": "text"
      },
      "source": [
        "# Tuples\n",
        "\n",
        "- tuples are ordered sequences of objects\n",
        "  - they are immutable\n",
        "  - i.e. their content cannot be changed after creation"
      ]
    },
    {
      "cell_type": "markdown",
      "metadata": {
        "id": "bMK65s68JhFw",
        "colab_type": "text"
      },
      "source": [
        "##### Define a Tuple\n",
        "\n"
      ]
    },
    {
      "cell_type": "code",
      "metadata": {
        "id": "-Q17E-wFMGGk",
        "colab_type": "code",
        "colab": {}
      },
      "source": [
        "# create a new tuple - without specifying brackets\n",
        "new_tuple_one = 1,2,3,4\n",
        "\n",
        "# print tuple\n",
        "print(new_tuple_one)\n",
        "\n",
        "#--------------------------------------------------------\n",
        "# create a new tuple - with brackets\n",
        "new_tuple_two = (5,6,\"python\",8)\n",
        "\n",
        "# print tuple\n",
        "print(new_tuple_two)\n",
        "\n",
        "#--------------------------------------------------------\n",
        "# create empty tuple\n",
        "empty_tuple = ()\n",
        "\n",
        "# check empty tuple\n",
        "print(empty_tuple)\n",
        "\n",
        "#--------------------------------------------------------\n",
        "# create tuple using Constructor\n",
        "new_tuple_three = tuple((\"apple\",\"banana\",\"cherry\"))\n",
        "\n",
        "# check empty tuple\n",
        "print(new_tuple_three)\n",
        "\n",
        "#--------------------------------------------------------\n",
        "# single element tuples \n",
        "new_tuple_wrong = (\"apple\") # wrong single element tuple\n",
        "print(type(new_tuple_wrong))  # outputs string\n",
        "print(new_tuple_wrong)\n",
        "\n",
        "new_tuple_right = (\"apple\",) # correct single element tuple\n",
        "print(type(new_tuple_right)) # outputs tuple\n",
        "print(new_tuple_right) \n"
      ],
      "execution_count": null,
      "outputs": []
    },
    {
      "cell_type": "markdown",
      "metadata": {
        "id": "50KfTP7HNOmn",
        "colab_type": "text"
      },
      "source": [
        "##### Indexing in Tuples\n",
        "\n",
        "- indexing in tuples works just like strings "
      ]
    },
    {
      "cell_type": "code",
      "metadata": {
        "id": "fB9lCbuLM1YA",
        "colab_type": "code",
        "colab": {}
      },
      "source": [
        "# define a new tuple\n",
        "new_tuple = \"apple\",\"orange\",\"banana\",\"berry\",\"mango\"\n",
        "\n",
        "print(new_tuple[0]) # zeroth element\n",
        "print(new_tuple[1]) # first element\n",
        "print(new_tuple[2]) # second element\n",
        "print(new_tuple[3]) # third element\n",
        "print(new_tuple[4]) # fourth element\n",
        "\n",
        "print(new_tuple[-1]) #last element\n",
        "print(new_tuple[-2]) #last but one element\n",
        "print(new_tuple[-3]) #last but two element\n",
        "print(new_tuple[-4]) #last but three element\n",
        "\n",
        "print(new_tuple[5]) # throws error - no fifth element"
      ],
      "execution_count": null,
      "outputs": []
    },
    {
      "cell_type": "markdown",
      "metadata": {
        "id": "z5h8mVD0OzyY",
        "colab_type": "text"
      },
      "source": [
        "##### Tuple Immutability Test"
      ]
    },
    {
      "cell_type": "code",
      "metadata": {
        "id": "OaLGsYMAO_mD",
        "colab_type": "code",
        "colab": {}
      },
      "source": [
        "# define tuple\n",
        "new_tuple = (1,7,'$', 'Summers', 'Winters' )\n",
        "\n",
        "# try changing tuple content\n",
        "new_tuple[4] = 'Spring' # throws error"
      ],
      "execution_count": null,
      "outputs": []
    },
    {
      "cell_type": "markdown",
      "metadata": {
        "id": "3X2-j5UVX-fg",
        "colab_type": "text"
      },
      "source": [
        "##### Concatenation of Tuples\n",
        "\n",
        "-  tuples are immutable, hence the data stored in a tuple cannot be edited \n",
        "- but it's definitely possible to merge two tuples to create a new tuple"
      ]
    },
    {
      "cell_type": "code",
      "metadata": {
        "id": "rxsW_V1dX7zW",
        "colab_type": "code",
        "colab": {}
      },
      "source": [
        "# define two new tuple\n",
        "new_tuple_one = 9,5,6,4,2,1\n",
        "new_tuple_two = 'a',5,7,6,3,1\n",
        "\n",
        "print(new_tuple_one)\n",
        "print(new_tuple_two)\n",
        "\n",
        "# add a new element\n",
        "merged_tuple = new_tuple_one + new_tuple_two\n",
        "\n",
        "# check merged tuple\n",
        "print(merged_tuple)"
      ],
      "execution_count": null,
      "outputs": []
    },
    {
      "cell_type": "markdown",
      "metadata": {
        "id": "8iEvjh9hZ0fn",
        "colab_type": "text"
      },
      "source": [
        "##### Multiplication (Duplication) of Tuples\n",
        "\n",
        "- duplicates the content of a tuple, the specified number of times"
      ]
    },
    {
      "cell_type": "code",
      "metadata": {
        "id": "ty9eT1tpJhmo",
        "colab_type": "code",
        "colab": {}
      },
      "source": [
        "# define a tuple\n",
        "new_tuple = 'a',5,7,6,3,1\n",
        "\n",
        "print(new_tuple)\n",
        "\n",
        "# multiply and print result\n",
        "print(new_tuple*2)\n",
        "print(new_tuple*3)\n"
      ],
      "execution_count": null,
      "outputs": []
    },
    {
      "cell_type": "markdown",
      "metadata": {
        "id": "QIqKhP0KabCo",
        "colab_type": "text"
      },
      "source": [
        "##### Length of a Tuple"
      ]
    },
    {
      "cell_type": "code",
      "metadata": {
        "id": "goa_O7a3aXXz",
        "colab_type": "code",
        "colab": {}
      },
      "source": [
        "# define a tuple\n",
        "new_tuple = 'a',5,7,6,3,1\n",
        "\n",
        "len(new_tuple)"
      ],
      "execution_count": null,
      "outputs": []
    },
    {
      "cell_type": "markdown",
      "metadata": {
        "colab_type": "text",
        "id": "BrUqmXU1xP-y"
      },
      "source": [
        "##### Min & Max Values of a Tuple\n",
        "\n",
        "- min() returns the minimum value in the tuple\n",
        "- max() returns the maximum value in the tuple\n",
        "\n",
        "- both methods accept only homogeneous tuples \n",
        "  - i.e. tuples having elements of similar data type"
      ]
    },
    {
      "cell_type": "code",
      "metadata": {
        "colab_type": "code",
        "id": "th4-eJWMxP-0",
        "colab": {}
      },
      "source": [
        "# define tuple\n",
        "new_tuple = 8,12,7,10,52,33,21,99\n",
        "\n",
        "# check min and max of new_tuple\n",
        "print(min(new_tuple))\n",
        "print(max(new_tuple))\n",
        "\n",
        "# define list\n",
        "new_tuple = 'x','10','99','twenty','%$','--'\n",
        "\n",
        "# check min and max of new_list\n",
        "print(min(new_tuple))\n",
        "print(max(new_tuple))"
      ],
      "execution_count": null,
      "outputs": []
    },
    {
      "cell_type": "markdown",
      "metadata": {
        "id": "9VrT4pmea6Xd",
        "colab_type": "text"
      },
      "source": [
        "##### Count of an Element in a Tuple"
      ]
    },
    {
      "cell_type": "code",
      "metadata": {
        "id": "eNAfIi5ma9p7",
        "colab_type": "code",
        "colab": {}
      },
      "source": [
        "# define a tuple\n",
        "new_tuple = 5,3,6,3,1,3,2,3\n",
        "\n",
        "# count the number of 3s in the tuple\n",
        "print(new_tuple.count(3)) "
      ],
      "execution_count": null,
      "outputs": []
    },
    {
      "cell_type": "markdown",
      "metadata": {
        "id": "_gqiJWMEIeu2",
        "colab_type": "text"
      },
      "source": [
        "##### Location of First Occurence\n",
        "\n"
      ]
    },
    {
      "cell_type": "code",
      "metadata": {
        "id": "_LaKx68gIfLK",
        "colab_type": "code",
        "colab": {}
      },
      "source": [
        "# define a tuple\n",
        "new_tuple = 5,6,3,1,3,2,3\n",
        "\n",
        "# find the index location of the first occurence of 3\n",
        "print(new_tuple.index(3)) "
      ],
      "execution_count": null,
      "outputs": []
    },
    {
      "cell_type": "markdown",
      "metadata": {
        "id": "hstXjV6OK4YN",
        "colab_type": "text"
      },
      "source": [
        "##### Delete a Tuple\n",
        "\n",
        "- you cannot remove the elements in a tuple\n",
        "- but you can delete an entire tuple"
      ]
    },
    {
      "cell_type": "code",
      "metadata": {
        "id": "xqQ7YFalK4Nx",
        "colab_type": "code",
        "colab": {}
      },
      "source": [
        "# define a tuple\n",
        "new_tuple = 5,3,6,3,1,3,2,3\n",
        "\n",
        "# check tuple\n",
        "print(new_tuple)\n",
        "\n",
        "# delete the tuple\n",
        "del(new_tuple)\n",
        "\n",
        "# check deletion\n",
        "print(new_tuple) # will throw an error becasue tuple doesnt exists"
      ],
      "execution_count": null,
      "outputs": []
    },
    {
      "cell_type": "markdown",
      "metadata": {
        "id": "v8JSCnPznp_L",
        "colab_type": "text"
      },
      "source": [
        "\n",
        "\n",
        "---\n",
        "\n"
      ]
    },
    {
      "cell_type": "markdown",
      "metadata": {
        "id": "XtnQDSvxrKkT",
        "colab_type": "text"
      },
      "source": [
        "# Identity Operators \n",
        "\n",
        "- used to compare objects \n",
        "  - not if they are equal\n",
        "  - but if they are actually the same object \n",
        "    - *with the same memory location*\n",
        "\n",
        "- two identity operators:\n",
        "  - `is`\n",
        "  - `is not`"
      ]
    },
    {
      "cell_type": "code",
      "metadata": {
        "id": "S5V4cnBbs5ve",
        "colab_type": "code",
        "colab": {}
      },
      "source": [
        "# define lists\n",
        "x = [\"apple\", \"banana\"]\n",
        "y = [\"apple\", \"banana\"]\n",
        "z = x\n",
        "\n",
        "# 'is' test \n",
        "print(x is z)\n",
        "\n",
        "# 'is' test \n",
        "print(x is y)\n",
        "\n",
        "# equality test\n",
        "print(x == y)\n",
        "\n",
        "# 'is not' test\n",
        "print(x is not y)"
      ],
      "execution_count": null,
      "outputs": []
    },
    {
      "cell_type": "markdown",
      "metadata": {
        "id": "efVPbygdnpZJ",
        "colab_type": "text"
      },
      "source": [
        "# Membership Operators\n",
        "\n",
        "- used to test if a sequence has specified object\n",
        "\n",
        "- two membership operators:\n",
        "  - `in`\n",
        "  - `not in`"
      ]
    },
    {
      "cell_type": "code",
      "metadata": {
        "id": "jtMYbAEunpBQ",
        "colab_type": "code",
        "colab": {}
      },
      "source": [
        "# define list \n",
        "x = [\"apple\", \"banana\"]\n",
        "\n",
        "# 'in' test\n",
        "print(\"banana\" in x)\n",
        "\n",
        "# 'in' test\n",
        "print(\"pineapple\" in x)\n",
        "\n",
        "# 'not in' test\n",
        "print(\"pineapple\" not in x)"
      ],
      "execution_count": null,
      "outputs": []
    }
  ]
}