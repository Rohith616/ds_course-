{
 "cells": [
  {
   "cell_type": "code",
   "execution_count": null,
   "metadata": {},
   "outputs": [],
   "source": [
    "#!pip install pyspark\n",
    "\n",
    "import sys\n",
    "!{sys.executable} -m pip install pyspark\n",
    "\n",
    "import pandas as pd\n",
    "from pyspark.sql import SparkSession\n",
    "\n",
    "spark = SparkSession.builder\\\n",
    "        .master(\"local\")\\\n",
    "        .appName(\"Colab\")\\\n",
    "        .config('spark.ui.port', '4050')\\\n",
    "        .getOrCreate()"
   ]
  },
  {
   "cell_type": "code",
   "execution_count": 1,
   "metadata": {},
   "outputs": [
    {
     "data": {
      "text/html": [
       "\n",
       "            <div>\n",
       "                <p><b>SparkSession - hive</b></p>\n",
       "                \n",
       "        <div>\n",
       "            <p><b>SparkContext</b></p>\n",
       "\n",
       "            <p><a href=\"http://10.1.123.22:4040\">Spark UI</a></p>\n",
       "\n",
       "            <dl>\n",
       "              <dt>Version</dt>\n",
       "                <dd><code>v2.3.1</code></dd>\n",
       "              <dt>Master</dt>\n",
       "                <dd><code>local[*]</code></dd>\n",
       "              <dt>AppName</dt>\n",
       "                <dd><code>PySparkShell</code></dd>\n",
       "            </dl>\n",
       "        </div>\n",
       "        \n",
       "            </div>\n",
       "        "
      ],
      "text/plain": [
       "<pyspark.sql.session.SparkSession at 0x7fdc6fc61400>"
      ]
     },
     "execution_count": 1,
     "metadata": {},
     "output_type": "execute_result"
    }
   ],
   "source": [
    "# Initializing the spark session\n",
    "spark"
   ]
  },
  {
   "cell_type": "markdown",
   "metadata": {},
   "source": [
    "## Exploring Spark\n",
    "\n",
    "To start our exploration of PySpark we are going to look at some of the basic data structures and how we can use their inbuilt functions for manipulating the data they contain. We will start off by reviewing some of the commonalities and differences between `Pandas` and `PySpark` dataframes since many `Python` developers are familiar with the `Pandas` library."
   ]
  },
  {
   "cell_type": "markdown",
   "metadata": {},
   "source": [
    "## What is a dataframe?\n",
    "\n",
    "\n",
    "DataFrame is a 2-dimensional labeled data structure with columns of potentially different types. You can think of it like a spreadsheet or SQL table, or a dict of Series objects.\n",
    "\n",
    "[Source](https://pandas.pydata.org/pandas-docs/stable/dsintro.html)"
   ]
  },
  {
   "cell_type": "code",
   "execution_count": 2,
   "metadata": {},
   "outputs": [],
   "source": [
    "pd_answers_df = pd.read_csv('./data/stacksample/Answers.csv', encoding='latin1')\n",
    "pd_questions_df = pd.read_csv('./data/stacksample/Questions.csv', encoding='latin1')\n",
    "pd_tags_df = pd.read_csv('./data/stacksample/Tags.csv', encoding='latin1')"
   ]
  },
  {
   "cell_type": "code",
   "execution_count": 3,
   "metadata": {},
   "outputs": [
    {
     "data": {
      "text/html": [
       "<div>\n",
       "<style scoped>\n",
       "    .dataframe tbody tr th:only-of-type {\n",
       "        vertical-align: middle;\n",
       "    }\n",
       "\n",
       "    .dataframe tbody tr th {\n",
       "        vertical-align: top;\n",
       "    }\n",
       "\n",
       "    .dataframe thead th {\n",
       "        text-align: right;\n",
       "    }\n",
       "</style>\n",
       "<table border=\"1\" class=\"dataframe\">\n",
       "  <thead>\n",
       "    <tr style=\"text-align: right;\">\n",
       "      <th></th>\n",
       "      <th>Id</th>\n",
       "      <th>OwnerUserId</th>\n",
       "      <th>CreationDate</th>\n",
       "      <th>ParentId</th>\n",
       "      <th>Score</th>\n",
       "      <th>Body</th>\n",
       "    </tr>\n",
       "  </thead>\n",
       "  <tbody>\n",
       "    <tr>\n",
       "      <th>0</th>\n",
       "      <td>92</td>\n",
       "      <td>61.0</td>\n",
       "      <td>2008-08-01T14:45:37Z</td>\n",
       "      <td>90</td>\n",
       "      <td>13</td>\n",
       "      <td>&lt;p&gt;&lt;a href=\"http://svnbook.red-bean.com/\"&gt;Vers...</td>\n",
       "    </tr>\n",
       "    <tr>\n",
       "      <th>1</th>\n",
       "      <td>124</td>\n",
       "      <td>26.0</td>\n",
       "      <td>2008-08-01T16:09:47Z</td>\n",
       "      <td>80</td>\n",
       "      <td>12</td>\n",
       "      <td>&lt;p&gt;I wound up using this. It is a kind of a ha...</td>\n",
       "    </tr>\n",
       "    <tr>\n",
       "      <th>2</th>\n",
       "      <td>199</td>\n",
       "      <td>50.0</td>\n",
       "      <td>2008-08-01T19:36:46Z</td>\n",
       "      <td>180</td>\n",
       "      <td>1</td>\n",
       "      <td>&lt;p&gt;I've read somewhere the human eye can't dis...</td>\n",
       "    </tr>\n",
       "    <tr>\n",
       "      <th>3</th>\n",
       "      <td>269</td>\n",
       "      <td>91.0</td>\n",
       "      <td>2008-08-01T23:49:57Z</td>\n",
       "      <td>260</td>\n",
       "      <td>4</td>\n",
       "      <td>&lt;p&gt;Yes, I thought about that, but I soon figur...</td>\n",
       "    </tr>\n",
       "    <tr>\n",
       "      <th>4</th>\n",
       "      <td>307</td>\n",
       "      <td>49.0</td>\n",
       "      <td>2008-08-02T01:49:46Z</td>\n",
       "      <td>260</td>\n",
       "      <td>28</td>\n",
       "      <td>&lt;p&gt;&lt;a href=\"http://www.codeproject.com/Article...</td>\n",
       "    </tr>\n",
       "  </tbody>\n",
       "</table>\n",
       "</div>"
      ],
      "text/plain": [
       "    Id  OwnerUserId          CreationDate  ParentId  Score  \\\n",
       "0   92         61.0  2008-08-01T14:45:37Z        90     13   \n",
       "1  124         26.0  2008-08-01T16:09:47Z        80     12   \n",
       "2  199         50.0  2008-08-01T19:36:46Z       180      1   \n",
       "3  269         91.0  2008-08-01T23:49:57Z       260      4   \n",
       "4  307         49.0  2008-08-02T01:49:46Z       260     28   \n",
       "\n",
       "                                                Body  \n",
       "0  <p><a href=\"http://svnbook.red-bean.com/\">Vers...  \n",
       "1  <p>I wound up using this. It is a kind of a ha...  \n",
       "2  <p>I've read somewhere the human eye can't dis...  \n",
       "3  <p>Yes, I thought about that, but I soon figur...  \n",
       "4  <p><a href=\"http://www.codeproject.com/Article...  "
      ]
     },
     "execution_count": 3,
     "metadata": {},
     "output_type": "execute_result"
    }
   ],
   "source": [
    "pd_answers_df.head()"
   ]
  },
  {
   "cell_type": "code",
   "execution_count": 4,
   "metadata": {},
   "outputs": [
    {
     "data": {
      "text/html": [
       "<div>\n",
       "<style scoped>\n",
       "    .dataframe tbody tr th:only-of-type {\n",
       "        vertical-align: middle;\n",
       "    }\n",
       "\n",
       "    .dataframe tbody tr th {\n",
       "        vertical-align: top;\n",
       "    }\n",
       "\n",
       "    .dataframe thead th {\n",
       "        text-align: right;\n",
       "    }\n",
       "</style>\n",
       "<table border=\"1\" class=\"dataframe\">\n",
       "  <thead>\n",
       "    <tr style=\"text-align: right;\">\n",
       "      <th></th>\n",
       "      <th>Id</th>\n",
       "      <th>OwnerUserId</th>\n",
       "      <th>CreationDate</th>\n",
       "      <th>ClosedDate</th>\n",
       "      <th>Score</th>\n",
       "      <th>Title</th>\n",
       "      <th>Body</th>\n",
       "    </tr>\n",
       "  </thead>\n",
       "  <tbody>\n",
       "    <tr>\n",
       "      <th>0</th>\n",
       "      <td>80</td>\n",
       "      <td>26.0</td>\n",
       "      <td>2008-08-01T13:57:07Z</td>\n",
       "      <td>NaN</td>\n",
       "      <td>26</td>\n",
       "      <td>SQLStatement.execute() - multiple queries in o...</td>\n",
       "      <td>&lt;p&gt;I've written a database generation script i...</td>\n",
       "    </tr>\n",
       "    <tr>\n",
       "      <th>1</th>\n",
       "      <td>90</td>\n",
       "      <td>58.0</td>\n",
       "      <td>2008-08-01T14:41:24Z</td>\n",
       "      <td>2012-12-26T03:45:49Z</td>\n",
       "      <td>144</td>\n",
       "      <td>Good branching and merging tutorials for Torto...</td>\n",
       "      <td>&lt;p&gt;Are there any really good tutorials explain...</td>\n",
       "    </tr>\n",
       "    <tr>\n",
       "      <th>2</th>\n",
       "      <td>120</td>\n",
       "      <td>83.0</td>\n",
       "      <td>2008-08-01T15:50:08Z</td>\n",
       "      <td>NaN</td>\n",
       "      <td>21</td>\n",
       "      <td>ASP.NET Site Maps</td>\n",
       "      <td>&lt;p&gt;Has anyone got experience creating &lt;strong&gt;...</td>\n",
       "    </tr>\n",
       "    <tr>\n",
       "      <th>3</th>\n",
       "      <td>180</td>\n",
       "      <td>2089740.0</td>\n",
       "      <td>2008-08-01T18:42:19Z</td>\n",
       "      <td>NaN</td>\n",
       "      <td>53</td>\n",
       "      <td>Function for creating color wheels</td>\n",
       "      <td>&lt;p&gt;This is something I've pseudo-solved many t...</td>\n",
       "    </tr>\n",
       "    <tr>\n",
       "      <th>4</th>\n",
       "      <td>260</td>\n",
       "      <td>91.0</td>\n",
       "      <td>2008-08-01T23:22:08Z</td>\n",
       "      <td>NaN</td>\n",
       "      <td>49</td>\n",
       "      <td>Adding scripting functionality to .NET applica...</td>\n",
       "      <td>&lt;p&gt;I have a little game written in C#. It uses...</td>\n",
       "    </tr>\n",
       "  </tbody>\n",
       "</table>\n",
       "</div>"
      ],
      "text/plain": [
       "    Id  OwnerUserId          CreationDate            ClosedDate  Score  \\\n",
       "0   80         26.0  2008-08-01T13:57:07Z                   NaN     26   \n",
       "1   90         58.0  2008-08-01T14:41:24Z  2012-12-26T03:45:49Z    144   \n",
       "2  120         83.0  2008-08-01T15:50:08Z                   NaN     21   \n",
       "3  180    2089740.0  2008-08-01T18:42:19Z                   NaN     53   \n",
       "4  260         91.0  2008-08-01T23:22:08Z                   NaN     49   \n",
       "\n",
       "                                               Title  \\\n",
       "0  SQLStatement.execute() - multiple queries in o...   \n",
       "1  Good branching and merging tutorials for Torto...   \n",
       "2                                  ASP.NET Site Maps   \n",
       "3                 Function for creating color wheels   \n",
       "4  Adding scripting functionality to .NET applica...   \n",
       "\n",
       "                                                Body  \n",
       "0  <p>I've written a database generation script i...  \n",
       "1  <p>Are there any really good tutorials explain...  \n",
       "2  <p>Has anyone got experience creating <strong>...  \n",
       "3  <p>This is something I've pseudo-solved many t...  \n",
       "4  <p>I have a little game written in C#. It uses...  "
      ]
     },
     "execution_count": 4,
     "metadata": {},
     "output_type": "execute_result"
    }
   ],
   "source": [
    "pd_questions_df.head()"
   ]
  },
  {
   "cell_type": "code",
   "execution_count": 5,
   "metadata": {},
   "outputs": [
    {
     "data": {
      "text/html": [
       "<div>\n",
       "<style scoped>\n",
       "    .dataframe tbody tr th:only-of-type {\n",
       "        vertical-align: middle;\n",
       "    }\n",
       "\n",
       "    .dataframe tbody tr th {\n",
       "        vertical-align: top;\n",
       "    }\n",
       "\n",
       "    .dataframe thead th {\n",
       "        text-align: right;\n",
       "    }\n",
       "</style>\n",
       "<table border=\"1\" class=\"dataframe\">\n",
       "  <thead>\n",
       "    <tr style=\"text-align: right;\">\n",
       "      <th></th>\n",
       "      <th>Id</th>\n",
       "      <th>Tag</th>\n",
       "    </tr>\n",
       "  </thead>\n",
       "  <tbody>\n",
       "    <tr>\n",
       "      <th>0</th>\n",
       "      <td>80</td>\n",
       "      <td>flex</td>\n",
       "    </tr>\n",
       "    <tr>\n",
       "      <th>1</th>\n",
       "      <td>80</td>\n",
       "      <td>actionscript-3</td>\n",
       "    </tr>\n",
       "    <tr>\n",
       "      <th>2</th>\n",
       "      <td>80</td>\n",
       "      <td>air</td>\n",
       "    </tr>\n",
       "    <tr>\n",
       "      <th>3</th>\n",
       "      <td>90</td>\n",
       "      <td>svn</td>\n",
       "    </tr>\n",
       "    <tr>\n",
       "      <th>4</th>\n",
       "      <td>90</td>\n",
       "      <td>tortoisesvn</td>\n",
       "    </tr>\n",
       "  </tbody>\n",
       "</table>\n",
       "</div>"
      ],
      "text/plain": [
       "   Id             Tag\n",
       "0  80            flex\n",
       "1  80  actionscript-3\n",
       "2  80             air\n",
       "3  90             svn\n",
       "4  90     tortoisesvn"
      ]
     },
     "execution_count": 5,
     "metadata": {},
     "output_type": "execute_result"
    }
   ],
   "source": [
    "pd_tags_df.head()"
   ]
  },
  {
   "cell_type": "code",
   "execution_count": 6,
   "metadata": {},
   "outputs": [
    {
     "data": {
      "text/plain": [
       "Id      int64\n",
       "Tag    object\n",
       "dtype: object"
      ]
     },
     "execution_count": 6,
     "metadata": {},
     "output_type": "execute_result"
    }
   ],
   "source": [
    "pd_tags_df.dtypes"
   ]
  },
  {
   "cell_type": "code",
   "execution_count": 7,
   "metadata": {},
   "outputs": [],
   "source": [
    "sp_answers_df = spark.read.csv('./data/stacksample/Answers.csv', \n",
    "                               sep=',', \n",
    "                               escape='\"', \n",
    "                               header=True, \n",
    "                               inferSchema=True, \n",
    "                               multiLine=True)\n",
    "sp_questions_df = spark.read.csv('./data/stacksample/Questions.csv', \n",
    "                               sep=',', \n",
    "                               escape='\"', \n",
    "                               header=True, \n",
    "                               inferSchema=True, \n",
    "                               multiLine=True)\n",
    "sp_tags_df = spark.read.csv('./data/stacksample/Tags.csv', \n",
    "                               sep=',', \n",
    "                               escape='\"', \n",
    "                               header=True, \n",
    "                               inferSchema=True, \n",
    "                               multiLine=True)"
   ]
  },
  {
   "cell_type": "code",
   "execution_count": 8,
   "metadata": {},
   "outputs": [
    {
     "name": "stdout",
     "output_type": "stream",
     "text": [
      "+---+-----------+-------------------+--------+-----+--------------------+\n",
      "| Id|OwnerUserId|       CreationDate|ParentId|Score|                Body|\n",
      "+---+-----------+-------------------+--------+-----+--------------------+\n",
      "| 92|         61|2008-08-01 10:45:37|      90|   13|<p><a href=\"http:...|\n",
      "|124|         26|2008-08-01 12:09:47|      80|   12|<p>I wound up usi...|\n",
      "|199|         50|2008-08-01 15:36:46|     180|    1|<p>I've read some...|\n",
      "|269|         91|2008-08-01 19:49:57|     260|    4|<p>Yes, I thought...|\n",
      "|307|         49|2008-08-01 21:49:46|     260|   28|<p><a href=\"http:...|\n",
      "+---+-----------+-------------------+--------+-----+--------------------+\n",
      "only showing top 5 rows\n",
      "\n"
     ]
    }
   ],
   "source": [
    "sp_answers_df.show(5)"
   ]
  },
  {
   "cell_type": "code",
   "execution_count": 9,
   "metadata": {},
   "outputs": [
    {
     "name": "stdout",
     "output_type": "stream",
     "text": [
      "+---+-----------+-------------------+--------------------+-----+--------------------+--------------------+\n",
      "| Id|OwnerUserId|       CreationDate|          ClosedDate|Score|               Title|                Body|\n",
      "+---+-----------+-------------------+--------------------+-----+--------------------+--------------------+\n",
      "| 80|         26|2008-08-01 09:57:07|                  NA|   26|SQLStatement.exec...|<p>I've written a...|\n",
      "| 90|         58|2008-08-01 10:41:24|2012-12-26T03:45:49Z|  144|Good branching an...|<p>Are there any ...|\n",
      "|120|         83|2008-08-01 11:50:08|                  NA|   21|   ASP.NET Site Maps|<p>Has anyone got...|\n",
      "+---+-----------+-------------------+--------------------+-----+--------------------+--------------------+\n",
      "only showing top 3 rows\n",
      "\n"
     ]
    }
   ],
   "source": [
    "sp_questions_df.show(3)"
   ]
  },
  {
   "cell_type": "code",
   "execution_count": 10,
   "metadata": {},
   "outputs": [
    {
     "name": "stdout",
     "output_type": "stream",
     "text": [
      "+---+--------------+\n",
      "| Id|           Tag|\n",
      "+---+--------------+\n",
      "| 80|          flex|\n",
      "| 80|actionscript-3|\n",
      "| 80|           air|\n",
      "| 90|           svn|\n",
      "| 90|   tortoisesvn|\n",
      "+---+--------------+\n",
      "only showing top 5 rows\n",
      "\n"
     ]
    }
   ],
   "source": [
    "sp_tags_df.show(5)"
   ]
  },
  {
   "cell_type": "code",
   "execution_count": 11,
   "metadata": {},
   "outputs": [
    {
     "name": "stdout",
     "output_type": "stream",
     "text": [
      "root\n",
      " |-- Id: integer (nullable = true)\n",
      " |-- Tag: string (nullable = true)\n",
      "\n"
     ]
    }
   ],
   "source": [
    "sp_tags_df.printSchema()"
   ]
  },
  {
   "cell_type": "markdown",
   "metadata": {},
   "source": [
    "## Applying a function to a dataframe column\n",
    "\n",
    "Pandas [`.apply`](https://pandas.pydata.org/pandas-docs/stable/generated/pandas.DataFrame.apply.html)\n",
    "\n",
    "Spark [`udf`](https://spark.apache.org/docs/latest/api/python/pyspark.sql.html#pyspark.sql.SQLContext.udf) and [`withColumn`](https://spark.apache.org/docs/latest/api/python/pyspark.sql.html#pyspark.sql.SQLContext.udf)"
   ]
  },
  {
   "cell_type": "code",
   "execution_count": 12,
   "metadata": {},
   "outputs": [],
   "source": [
    "pd_questions_df['match'] = pd_questions_df['Body'].apply(lambda x: 'python' in x)"
   ]
  },
  {
   "cell_type": "code",
   "execution_count": 13,
   "metadata": {},
   "outputs": [
    {
     "data": {
      "text/html": [
       "<div>\n",
       "<style scoped>\n",
       "    .dataframe tbody tr th:only-of-type {\n",
       "        vertical-align: middle;\n",
       "    }\n",
       "\n",
       "    .dataframe tbody tr th {\n",
       "        vertical-align: top;\n",
       "    }\n",
       "\n",
       "    .dataframe thead th {\n",
       "        text-align: right;\n",
       "    }\n",
       "</style>\n",
       "<table border=\"1\" class=\"dataframe\">\n",
       "  <thead>\n",
       "    <tr style=\"text-align: right;\">\n",
       "      <th></th>\n",
       "      <th>Id</th>\n",
       "      <th>OwnerUserId</th>\n",
       "      <th>CreationDate</th>\n",
       "      <th>ClosedDate</th>\n",
       "      <th>Score</th>\n",
       "      <th>Title</th>\n",
       "      <th>Body</th>\n",
       "      <th>match</th>\n",
       "    </tr>\n",
       "  </thead>\n",
       "  <tbody>\n",
       "    <tr>\n",
       "      <th>0</th>\n",
       "      <td>80</td>\n",
       "      <td>26.0</td>\n",
       "      <td>2008-08-01T13:57:07Z</td>\n",
       "      <td>NaN</td>\n",
       "      <td>26</td>\n",
       "      <td>SQLStatement.execute() - multiple queries in o...</td>\n",
       "      <td>&lt;p&gt;I've written a database generation script i...</td>\n",
       "      <td>False</td>\n",
       "    </tr>\n",
       "    <tr>\n",
       "      <th>1</th>\n",
       "      <td>90</td>\n",
       "      <td>58.0</td>\n",
       "      <td>2008-08-01T14:41:24Z</td>\n",
       "      <td>2012-12-26T03:45:49Z</td>\n",
       "      <td>144</td>\n",
       "      <td>Good branching and merging tutorials for Torto...</td>\n",
       "      <td>&lt;p&gt;Are there any really good tutorials explain...</td>\n",
       "      <td>False</td>\n",
       "    </tr>\n",
       "    <tr>\n",
       "      <th>2</th>\n",
       "      <td>120</td>\n",
       "      <td>83.0</td>\n",
       "      <td>2008-08-01T15:50:08Z</td>\n",
       "      <td>NaN</td>\n",
       "      <td>21</td>\n",
       "      <td>ASP.NET Site Maps</td>\n",
       "      <td>&lt;p&gt;Has anyone got experience creating &lt;strong&gt;...</td>\n",
       "      <td>False</td>\n",
       "    </tr>\n",
       "    <tr>\n",
       "      <th>3</th>\n",
       "      <td>180</td>\n",
       "      <td>2089740.0</td>\n",
       "      <td>2008-08-01T18:42:19Z</td>\n",
       "      <td>NaN</td>\n",
       "      <td>53</td>\n",
       "      <td>Function for creating color wheels</td>\n",
       "      <td>&lt;p&gt;This is something I've pseudo-solved many t...</td>\n",
       "      <td>False</td>\n",
       "    </tr>\n",
       "    <tr>\n",
       "      <th>4</th>\n",
       "      <td>260</td>\n",
       "      <td>91.0</td>\n",
       "      <td>2008-08-01T23:22:08Z</td>\n",
       "      <td>NaN</td>\n",
       "      <td>49</td>\n",
       "      <td>Adding scripting functionality to .NET applica...</td>\n",
       "      <td>&lt;p&gt;I have a little game written in C#. It uses...</td>\n",
       "      <td>False</td>\n",
       "    </tr>\n",
       "  </tbody>\n",
       "</table>\n",
       "</div>"
      ],
      "text/plain": [
       "    Id  OwnerUserId          CreationDate            ClosedDate  Score  \\\n",
       "0   80         26.0  2008-08-01T13:57:07Z                   NaN     26   \n",
       "1   90         58.0  2008-08-01T14:41:24Z  2012-12-26T03:45:49Z    144   \n",
       "2  120         83.0  2008-08-01T15:50:08Z                   NaN     21   \n",
       "3  180    2089740.0  2008-08-01T18:42:19Z                   NaN     53   \n",
       "4  260         91.0  2008-08-01T23:22:08Z                   NaN     49   \n",
       "\n",
       "                                               Title  \\\n",
       "0  SQLStatement.execute() - multiple queries in o...   \n",
       "1  Good branching and merging tutorials for Torto...   \n",
       "2                                  ASP.NET Site Maps   \n",
       "3                 Function for creating color wheels   \n",
       "4  Adding scripting functionality to .NET applica...   \n",
       "\n",
       "                                                Body  match  \n",
       "0  <p>I've written a database generation script i...  False  \n",
       "1  <p>Are there any really good tutorials explain...  False  \n",
       "2  <p>Has anyone got experience creating <strong>...  False  \n",
       "3  <p>This is something I've pseudo-solved many t...  False  \n",
       "4  <p>I have a little game written in C#. It uses...  False  "
      ]
     },
     "execution_count": 13,
     "metadata": {},
     "output_type": "execute_result"
    }
   ],
   "source": [
    "pd_questions_df.head()"
   ]
  },
  {
   "cell_type": "code",
   "execution_count": 14,
   "metadata": {},
   "outputs": [],
   "source": [
    "from pyspark.sql.types import BooleanType\n",
    "from pyspark.sql.functions import udf\n",
    " \n",
    "udf_find_python_token = udf(lambda x: 'python' in x, BooleanType())\n",
    "sp_questions_df = sp_questions_df.withColumn(\"match\", udf_find_python_token(\"body\"))"
   ]
  },
  {
   "cell_type": "code",
   "execution_count": 15,
   "metadata": {},
   "outputs": [
    {
     "name": "stdout",
     "output_type": "stream",
     "text": [
      "+---+-----------+-------------------+--------------------+-----+--------------------+--------------------+-----+\n",
      "| Id|OwnerUserId|       CreationDate|          ClosedDate|Score|               Title|                Body|match|\n",
      "+---+-----------+-------------------+--------------------+-----+--------------------+--------------------+-----+\n",
      "| 80|         26|2008-08-01 09:57:07|                  NA|   26|SQLStatement.exec...|<p>I've written a...|false|\n",
      "| 90|         58|2008-08-01 10:41:24|2012-12-26T03:45:49Z|  144|Good branching an...|<p>Are there any ...|false|\n",
      "|120|         83|2008-08-01 11:50:08|                  NA|   21|   ASP.NET Site Maps|<p>Has anyone got...|false|\n",
      "+---+-----------+-------------------+--------------------+-----+--------------------+--------------------+-----+\n",
      "only showing top 3 rows\n",
      "\n"
     ]
    }
   ],
   "source": [
    "sp_questions_df.show(3)"
   ]
  },
  {
   "cell_type": "markdown",
   "metadata": {},
   "source": [
    "## Joining Data\n",
    "\n",
    "Pandas [`.merge`, `.concat`, `.join`](https://pandas.pydata.org/pandas-docs/stable/merging.html)\n",
    "\n",
    "Spark [`.join`](https://spark.apache.org/docs/latest/api/python/pyspark.sql.html?highlight=join#pyspark.sql.DataFrame.join)\n",
    "\n",
    "Spark [`.intersect`](https://spark.apache.org/docs/latest/api/python/pyspark.sql.html?highlight=join#pyspark.sql.DataFrame.intersect)\n",
    "\n",
    "Spark [`.crossJoin`](https://spark.apache.org/docs/latest/api/python/pyspark.sql.html?highlight=join#pyspark.sql.DataFrame.crossJoin)\n",
    "\n"
   ]
  },
  {
   "cell_type": "code",
   "execution_count": 16,
   "metadata": {},
   "outputs": [
    {
     "data": {
      "text/html": [
       "<div>\n",
       "<style scoped>\n",
       "    .dataframe tbody tr th:only-of-type {\n",
       "        vertical-align: middle;\n",
       "    }\n",
       "\n",
       "    .dataframe tbody tr th {\n",
       "        vertical-align: top;\n",
       "    }\n",
       "\n",
       "    .dataframe thead th {\n",
       "        text-align: right;\n",
       "    }\n",
       "</style>\n",
       "<table border=\"1\" class=\"dataframe\">\n",
       "  <thead>\n",
       "    <tr style=\"text-align: right;\">\n",
       "      <th></th>\n",
       "      <th>Id</th>\n",
       "      <th>OwnerUserId</th>\n",
       "      <th>CreationDate</th>\n",
       "      <th>ClosedDate</th>\n",
       "      <th>Score</th>\n",
       "      <th>Title</th>\n",
       "      <th>Body</th>\n",
       "      <th>match</th>\n",
       "      <th>Tag</th>\n",
       "    </tr>\n",
       "  </thead>\n",
       "  <tbody>\n",
       "    <tr>\n",
       "      <th>0</th>\n",
       "      <td>80</td>\n",
       "      <td>26.0</td>\n",
       "      <td>2008-08-01T13:57:07Z</td>\n",
       "      <td>NaN</td>\n",
       "      <td>26</td>\n",
       "      <td>SQLStatement.execute() - multiple queries in o...</td>\n",
       "      <td>&lt;p&gt;I've written a database generation script i...</td>\n",
       "      <td>False</td>\n",
       "      <td>flex</td>\n",
       "    </tr>\n",
       "    <tr>\n",
       "      <th>1</th>\n",
       "      <td>80</td>\n",
       "      <td>26.0</td>\n",
       "      <td>2008-08-01T13:57:07Z</td>\n",
       "      <td>NaN</td>\n",
       "      <td>26</td>\n",
       "      <td>SQLStatement.execute() - multiple queries in o...</td>\n",
       "      <td>&lt;p&gt;I've written a database generation script i...</td>\n",
       "      <td>False</td>\n",
       "      <td>actionscript-3</td>\n",
       "    </tr>\n",
       "    <tr>\n",
       "      <th>2</th>\n",
       "      <td>80</td>\n",
       "      <td>26.0</td>\n",
       "      <td>2008-08-01T13:57:07Z</td>\n",
       "      <td>NaN</td>\n",
       "      <td>26</td>\n",
       "      <td>SQLStatement.execute() - multiple queries in o...</td>\n",
       "      <td>&lt;p&gt;I've written a database generation script i...</td>\n",
       "      <td>False</td>\n",
       "      <td>air</td>\n",
       "    </tr>\n",
       "    <tr>\n",
       "      <th>3</th>\n",
       "      <td>90</td>\n",
       "      <td>58.0</td>\n",
       "      <td>2008-08-01T14:41:24Z</td>\n",
       "      <td>2012-12-26T03:45:49Z</td>\n",
       "      <td>144</td>\n",
       "      <td>Good branching and merging tutorials for Torto...</td>\n",
       "      <td>&lt;p&gt;Are there any really good tutorials explain...</td>\n",
       "      <td>False</td>\n",
       "      <td>svn</td>\n",
       "    </tr>\n",
       "    <tr>\n",
       "      <th>4</th>\n",
       "      <td>90</td>\n",
       "      <td>58.0</td>\n",
       "      <td>2008-08-01T14:41:24Z</td>\n",
       "      <td>2012-12-26T03:45:49Z</td>\n",
       "      <td>144</td>\n",
       "      <td>Good branching and merging tutorials for Torto...</td>\n",
       "      <td>&lt;p&gt;Are there any really good tutorials explain...</td>\n",
       "      <td>False</td>\n",
       "      <td>tortoisesvn</td>\n",
       "    </tr>\n",
       "  </tbody>\n",
       "</table>\n",
       "</div>"
      ],
      "text/plain": [
       "   Id  OwnerUserId          CreationDate            ClosedDate  Score  \\\n",
       "0  80         26.0  2008-08-01T13:57:07Z                   NaN     26   \n",
       "1  80         26.0  2008-08-01T13:57:07Z                   NaN     26   \n",
       "2  80         26.0  2008-08-01T13:57:07Z                   NaN     26   \n",
       "3  90         58.0  2008-08-01T14:41:24Z  2012-12-26T03:45:49Z    144   \n",
       "4  90         58.0  2008-08-01T14:41:24Z  2012-12-26T03:45:49Z    144   \n",
       "\n",
       "                                               Title  \\\n",
       "0  SQLStatement.execute() - multiple queries in o...   \n",
       "1  SQLStatement.execute() - multiple queries in o...   \n",
       "2  SQLStatement.execute() - multiple queries in o...   \n",
       "3  Good branching and merging tutorials for Torto...   \n",
       "4  Good branching and merging tutorials for Torto...   \n",
       "\n",
       "                                                Body  match             Tag  \n",
       "0  <p>I've written a database generation script i...  False            flex  \n",
       "1  <p>I've written a database generation script i...  False  actionscript-3  \n",
       "2  <p>I've written a database generation script i...  False             air  \n",
       "3  <p>Are there any really good tutorials explain...  False             svn  \n",
       "4  <p>Are there any really good tutorials explain...  False     tortoisesvn  "
      ]
     },
     "execution_count": 16,
     "metadata": {},
     "output_type": "execute_result"
    }
   ],
   "source": [
    "pd.merge(pd_questions_df, pd_tags_df, on='Id').head()"
   ]
  },
  {
   "cell_type": "code",
   "execution_count": 17,
   "metadata": {},
   "outputs": [
    {
     "name": "stdout",
     "output_type": "stream",
     "text": [
      "+----+-----------+-------------------+----------+-----+--------------------+--------------------+-----+----+\n",
      "|  Id|OwnerUserId|       CreationDate|ClosedDate|Score|               Title|                Body|match| Tag|\n",
      "+----+-----------+-------------------+----------+-----+--------------------+--------------------+-----+----+\n",
      "|7880|        432|2008-08-11 11:50:51|        NA|   15|How do you open a...|<p>I want to open...|false| c++|\n",
      "|7880|        432|2008-08-11 11:50:51|        NA|   15|How do you open a...|<p>I want to open...|false|file|\n",
      "|7880|        432|2008-08-11 11:50:51|        NA|   15|How do you open a...|<p>I want to open...|false|  io|\n",
      "+----+-----------+-------------------+----------+-----+--------------------+--------------------+-----+----+\n",
      "only showing top 3 rows\n",
      "\n"
     ]
    }
   ],
   "source": [
    "sp_questions_df.join(sp_tags_df, ['id']).show(3)"
   ]
  },
  {
   "cell_type": "code",
   "execution_count": 18,
   "metadata": {},
   "outputs": [
    {
     "data": {
      "text/plain": [
       "[Row(Id=7880, OwnerUserId='432', CreationDate=datetime.datetime(2008, 8, 11, 11, 50, 51), ClosedDate='NA', Score=15, Title='How do you open a file in C++?', Body='<p>I want to open a file for reading, the C++ way. I need to be able to do it for:</p>\\n\\n<ul>\\n<li><p>text files, which would involve some sort of read line function.</p></li>\\n<li><p>binary files, which would provide a way to read raw data into a <code>char*</code> buffer.</p></li>\\n</ul>\\n', match=False, Tag='c++', OwnerUserId=None, CreationDate=None, ParentId=None, Score=None, Body=None),\n",
       " Row(Id=7880, OwnerUserId='432', CreationDate=datetime.datetime(2008, 8, 11, 11, 50, 51), ClosedDate='NA', Score=15, Title='How do you open a file in C++?', Body='<p>I want to open a file for reading, the C++ way. I need to be able to do it for:</p>\\n\\n<ul>\\n<li><p>text files, which would involve some sort of read line function.</p></li>\\n<li><p>binary files, which would provide a way to read raw data into a <code>char*</code> buffer.</p></li>\\n</ul>\\n', match=False, Tag='file', OwnerUserId=None, CreationDate=None, ParentId=None, Score=None, Body=None),\n",
       " Row(Id=7880, OwnerUserId='432', CreationDate=datetime.datetime(2008, 8, 11, 11, 50, 51), ClosedDate='NA', Score=15, Title='How do you open a file in C++?', Body='<p>I want to open a file for reading, the C++ way. I need to be able to do it for:</p>\\n\\n<ul>\\n<li><p>text files, which would involve some sort of read line function.</p></li>\\n<li><p>binary files, which would provide a way to read raw data into a <code>char*</code> buffer.</p></li>\\n</ul>\\n', match=False, Tag='io', OwnerUserId=None, CreationDate=None, ParentId=None, Score=None, Body=None)]"
      ]
     },
     "execution_count": 18,
     "metadata": {},
     "output_type": "execute_result"
    }
   ],
   "source": [
    "sp_questions_df.join(sp_tags_df, ['id']).join(sp_answers_df, ['id'], how='outer').head(3)"
   ]
  },
  {
   "cell_type": "markdown",
   "metadata": {},
   "source": [
    "## Findings Nulls\n",
    "\n",
    "Pandas [`isnull()`](https://pandas.pydata.org/pandas-docs/version/0.23.4/generated/pandas.isnull.html)\n",
    "\n",
    "Spark [`isNull()`](https://spark.apache.org/docs/latest/api/python/pyspark.sql.html#pyspark.sql.SQLContext.udf)\n",
    "\n",
    "Spark [`NullType`](https://spark.apache.org/docs/latest/api/python/pyspark.sql.html#pyspark.sql.types.NullType)\n",
    "\n",
    "Spark [`NA Functions`](https://spark.apache.org/docs/latest/api/python/pyspark.sql.html#pyspark.sql.DataFrameNaFunctions)"
   ]
  },
  {
   "cell_type": "code",
   "execution_count": 20,
   "metadata": {},
   "outputs": [
    {
     "data": {
      "text/plain": [
       "0     True\n",
       "1    False\n",
       "2     True\n",
       "3     True\n",
       "4     True\n",
       "5     True\n",
       "6    False\n",
       "7     True\n",
       "8     True\n",
       "9     True\n",
       "Name: ClosedDate, dtype: bool"
      ]
     },
     "execution_count": 20,
     "metadata": {},
     "output_type": "execute_result"
    }
   ],
   "source": [
    "pd.isnull(pd_questions_df['ClosedDate'])[0:10]"
   ]
  },
  {
   "cell_type": "code",
   "execution_count": 24,
   "metadata": {},
   "outputs": [
    {
     "name": "stdout",
     "output_type": "stream",
     "text": [
      "root\n",
      " |-- Id: integer (nullable = true)\n",
      " |-- OwnerUserId: string (nullable = true)\n",
      " |-- CreationDate: timestamp (nullable = true)\n",
      " |-- ClosedDate: string (nullable = true)\n",
      " |-- Score: integer (nullable = true)\n",
      " |-- Title: string (nullable = true)\n",
      " |-- Body: string (nullable = true)\n",
      " |-- match: boolean (nullable = true)\n",
      "\n"
     ]
    }
   ],
   "source": [
    "sp_questions_df.printSchema()"
   ]
  },
  {
   "cell_type": "code",
   "execution_count": 25,
   "metadata": {},
   "outputs": [
    {
     "name": "stdout",
     "output_type": "stream",
     "text": [
      "+---+-----------+-------------------+--------------------+-----+--------------------+--------------------+-----+------+\n",
      "| Id|OwnerUserId|       CreationDate|          ClosedDate|Score|               Title|                Body|match|Closed|\n",
      "+---+-----------+-------------------+--------------------+-----+--------------------+--------------------+-----+------+\n",
      "| 80|         26|2008-08-01 09:57:07|                  NA|   26|SQLStatement.exec...|<p>I've written a...|false| false|\n",
      "| 90|         58|2008-08-01 10:41:24|2012-12-26T03:45:49Z|  144|Good branching an...|<p>Are there any ...|false| false|\n",
      "|120|         83|2008-08-01 11:50:08|                  NA|   21|   ASP.NET Site Maps|<p>Has anyone got...|false| false|\n",
      "|180|    2089740|2008-08-01 14:42:19|                  NA|   53|Function for crea...|<p>This is someth...|false| false|\n",
      "|260|         91|2008-08-01 19:22:08|                  NA|   49|Adding scripting ...|<p>I have a littl...|false| false|\n",
      "|330|         63|2008-08-01 22:51:36|                  NA|   29|Should I use nest...|<p>I am working o...|false| false|\n",
      "|470|         71|2008-08-02 11:11:47|2016-03-26T05:23:29Z|   13|Homegrown consump...|<p>I've been writ...|false| false|\n",
      "|580|         91|2008-08-02 19:30:59|                  NA|   21|Deploying SQL Ser...|<p>I wonder how y...|false| false|\n",
      "|650|        143|2008-08-03 07:12:52|                  NA|   79|Automatically upd...|<p>I would like t...|false| false|\n",
      "|810|        233|2008-08-03 16:35:01|                  NA|    9|Visual Studio Set...|<p>I'm trying to ...|false| false|\n",
      "+---+-----------+-------------------+--------------------+-----+--------------------+--------------------+-----+------+\n",
      "only showing top 10 rows\n",
      "\n"
     ]
    }
   ],
   "source": [
    "sp_questions_df.withColumn('Closed', sp_questions_df.ClosedDate.isNull()).show(10)"
   ]
  },
  {
   "cell_type": "markdown",
   "metadata": {},
   "source": [
    "## Groupby\n",
    "\n",
    "Pandas [`.groupby()`](https://pandas.pydata.org/pandas-docs/stable/generated/pandas.DataFrame.groupby.html#pandas.DataFrame.groupby)\n",
    "\n",
    "Spark [`.groupBy()`](https://spark.apache.org/docs/2.1.0/api/python/pyspark.sql.html#pyspark.sql.DataFrame.groupBy)"
   ]
  },
  {
   "cell_type": "code",
   "execution_count": 26,
   "metadata": {},
   "outputs": [
    {
     "data": {
      "text/html": [
       "<div>\n",
       "<style scoped>\n",
       "    .dataframe tbody tr th:only-of-type {\n",
       "        vertical-align: middle;\n",
       "    }\n",
       "\n",
       "    .dataframe tbody tr th {\n",
       "        vertical-align: top;\n",
       "    }\n",
       "\n",
       "    .dataframe thead th {\n",
       "        text-align: right;\n",
       "    }\n",
       "</style>\n",
       "<table border=\"1\" class=\"dataframe\">\n",
       "  <thead>\n",
       "    <tr style=\"text-align: right;\">\n",
       "      <th></th>\n",
       "      <th>Id</th>\n",
       "    </tr>\n",
       "    <tr>\n",
       "      <th>Tag</th>\n",
       "      <th></th>\n",
       "    </tr>\n",
       "  </thead>\n",
       "  <tbody>\n",
       "    <tr>\n",
       "      <th>.a</th>\n",
       "      <td>253502670</td>\n",
       "    </tr>\n",
       "    <tr>\n",
       "      <th>.app</th>\n",
       "      <td>290775160</td>\n",
       "    </tr>\n",
       "    <tr>\n",
       "      <th>.aspxauth</th>\n",
       "      <td>93769460</td>\n",
       "    </tr>\n",
       "    <tr>\n",
       "      <th>.bash-profile</th>\n",
       "      <td>1199125500</td>\n",
       "    </tr>\n",
       "    <tr>\n",
       "      <th>.class-file</th>\n",
       "      <td>423826210</td>\n",
       "    </tr>\n",
       "  </tbody>\n",
       "</table>\n",
       "</div>"
      ],
      "text/plain": [
       "                       Id\n",
       "Tag                      \n",
       ".a              253502670\n",
       ".app            290775160\n",
       ".aspxauth        93769460\n",
       ".bash-profile  1199125500\n",
       ".class-file     423826210"
      ]
     },
     "execution_count": 26,
     "metadata": {},
     "output_type": "execute_result"
    }
   ],
   "source": [
    "pd_tags_df.groupby('Tag').sum()[0:5]"
   ]
  },
  {
   "cell_type": "code",
   "execution_count": 27,
   "metadata": {},
   "outputs": [
    {
     "name": "stdout",
     "output_type": "stream",
     "text": [
      "+--------------------+-----------+\n",
      "|                 Tag|    sum(Id)|\n",
      "+--------------------+-----------+\n",
      "|knowledge-management|  147563640|\n",
      "|              iframe|47843084300|\n",
      "|        fuzzy-search| 1164098580|\n",
      "|    fluent-interface|  633226040|\n",
      "|           standards| 3199444790|\n",
      "+--------------------+-----------+\n",
      "only showing top 5 rows\n",
      "\n"
     ]
    }
   ],
   "source": [
    "sp_tags_df.groupby('Tag').sum().show(5)"
   ]
  },
  {
   "cell_type": "markdown",
   "metadata": {},
   "source": [
    "# Spark [SQL](https://spark.apache.org/docs/latest/sql-programming-guide.html#overview)\n",
    "\n",
    "A Spark module for structured data processing. The interfaces provided by Spark SQL provide Spark with more information about the structure of both the data and the computation being performed. Internally, Spark SQL uses this extra information to perform extra optimizations."
   ]
  },
  {
   "cell_type": "markdown",
   "metadata": {},
   "source": [
    "## Creating tables\n",
    "\n",
    "Spark [tables](https://spark.apache.org/docs/latest/api/python/pyspark.sql.html#pyspark.sql.Catalog.createTable)"
   ]
  },
  {
   "cell_type": "code",
   "execution_count": 28,
   "metadata": {},
   "outputs": [],
   "source": [
    "sp_tags_df.registerTempTable(\"tags\")\n",
    "sp_questions_df.registerTempTable(\"questions\")"
   ]
  },
  {
   "cell_type": "markdown",
   "metadata": {},
   "source": [
    "## Using SQL Statements\n",
    "\n",
    "Spark [sql](https://spark.apache.org/docs/latest/api/python/pyspark.sql.html#pyspark.sql.SQLContext.sql)"
   ]
  },
  {
   "cell_type": "code",
   "execution_count": 29,
   "metadata": {},
   "outputs": [
    {
     "name": "stdout",
     "output_type": "stream",
     "text": [
      "+-------------------+\n",
      "|       CreationDate|\n",
      "+-------------------+\n",
      "|2008-08-01 09:57:07|\n",
      "|2008-08-01 10:41:24|\n",
      "|2008-08-01 11:50:08|\n",
      "+-------------------+\n",
      "only showing top 3 rows\n",
      "\n"
     ]
    }
   ],
   "source": [
    "sql_df = sqlContext.sql(\"SELECT CreationDate from questions\")\n",
    "sql_df.show(3)"
   ]
  },
  {
   "cell_type": "code",
   "execution_count": 30,
   "metadata": {},
   "outputs": [
    {
     "name": "stdout",
     "output_type": "stream",
     "text": [
      "+----+--------------------+--------------------+\n",
      "| Tag|               Title|                Body|\n",
      "+----+--------------------+--------------------+\n",
      "| c++|How do you open a...|<p>I want to open...|\n",
      "|file|How do you open a...|<p>I want to open...|\n",
      "|  io|How do you open a...|<p>I want to open...|\n",
      "+----+--------------------+--------------------+\n",
      "only showing top 3 rows\n",
      "\n"
     ]
    }
   ],
   "source": [
    "joined_df = sqlContext.sql(\"SELECT t.Tag, q.Title, q.Body FROM questions q INNER JOIN tags t on q.id = t.id\")\n",
    "joined_df.show(3)"
   ]
  },
  {
   "cell_type": "code",
   "execution_count": 31,
   "metadata": {},
   "outputs": [
    {
     "name": "stdout",
     "output_type": "stream",
     "text": [
      "root\n",
      " |-- Respondent: integer (nullable = true)\n",
      " |-- Professional: string (nullable = true)\n",
      " |-- ProgramHobby: string (nullable = true)\n",
      " |-- Country: string (nullable = true)\n",
      " |-- University: string (nullable = true)\n",
      " |-- EmploymentStatus: string (nullable = true)\n",
      " |-- FormalEducation: string (nullable = true)\n",
      " |-- MajorUndergrad: string (nullable = true)\n",
      " |-- HomeRemote: string (nullable = true)\n",
      " |-- CompanySize: string (nullable = true)\n",
      " |-- CompanyType: string (nullable = true)\n",
      " |-- YearsProgram: string (nullable = true)\n",
      " |-- YearsCodedJob: string (nullable = true)\n",
      " |-- YearsCodedJobPast: string (nullable = true)\n",
      " |-- DeveloperType: string (nullable = true)\n",
      " |-- WebDeveloperType: string (nullable = true)\n",
      " |-- MobileDeveloperType: string (nullable = true)\n",
      " |-- NonDeveloperType: string (nullable = true)\n",
      " |-- CareerSatisfaction: string (nullable = true)\n",
      " |-- JobSatisfaction: string (nullable = true)\n",
      " |-- ExCoderReturn: string (nullable = true)\n",
      " |-- ExCoderNotForMe: string (nullable = true)\n",
      " |-- ExCoderBalance: string (nullable = true)\n",
      " |-- ExCoder10Years: string (nullable = true)\n",
      " |-- ExCoderBelonged: string (nullable = true)\n",
      " |-- ExCoderSkills: string (nullable = true)\n",
      " |-- ExCoderWillNotCode: string (nullable = true)\n",
      " |-- ExCoderActive: string (nullable = true)\n",
      " |-- PronounceGIF: string (nullable = true)\n",
      " |-- ProblemSolving: string (nullable = true)\n",
      " |-- BuildingThings: string (nullable = true)\n",
      " |-- LearningNewTech: string (nullable = true)\n",
      " |-- BoringDetails: string (nullable = true)\n",
      " |-- JobSecurity: string (nullable = true)\n",
      " |-- DiversityImportant: string (nullable = true)\n",
      " |-- AnnoyingUI: string (nullable = true)\n",
      " |-- FriendsDevelopers: string (nullable = true)\n",
      " |-- RightWrongWay: string (nullable = true)\n",
      " |-- UnderstandComputers: string (nullable = true)\n",
      " |-- SeriousWork: string (nullable = true)\n",
      " |-- InvestTimeTools: string (nullable = true)\n",
      " |-- WorkPayCare: string (nullable = true)\n",
      " |-- KinshipDevelopers: string (nullable = true)\n",
      " |-- ChallengeMyself: string (nullable = true)\n",
      " |-- CompetePeers: string (nullable = true)\n",
      " |-- ChangeWorld: string (nullable = true)\n",
      " |-- JobSeekingStatus: string (nullable = true)\n",
      " |-- HoursPerWeek: string (nullable = true)\n",
      " |-- LastNewJob: string (nullable = true)\n",
      " |-- AssessJobIndustry: string (nullable = true)\n",
      " |-- AssessJobRole: string (nullable = true)\n",
      " |-- AssessJobExp: string (nullable = true)\n",
      " |-- AssessJobDept: string (nullable = true)\n",
      " |-- AssessJobTech: string (nullable = true)\n",
      " |-- AssessJobProjects: string (nullable = true)\n",
      " |-- AssessJobCompensation: string (nullable = true)\n",
      " |-- AssessJobOffice: string (nullable = true)\n",
      " |-- AssessJobCommute: string (nullable = true)\n",
      " |-- AssessJobRemote: string (nullable = true)\n",
      " |-- AssessJobLeaders: string (nullable = true)\n",
      " |-- AssessJobProfDevel: string (nullable = true)\n",
      " |-- AssessJobDiversity: string (nullable = true)\n",
      " |-- AssessJobProduct: string (nullable = true)\n",
      " |-- AssessJobFinances: string (nullable = true)\n",
      " |-- ImportantBenefits: string (nullable = true)\n",
      " |-- ClickyKeys: string (nullable = true)\n",
      " |-- JobProfile: string (nullable = true)\n",
      " |-- ResumePrompted: string (nullable = true)\n",
      " |-- LearnedHiring: string (nullable = true)\n",
      " |-- ImportantHiringAlgorithms: string (nullable = true)\n",
      " |-- ImportantHiringTechExp: string (nullable = true)\n",
      " |-- ImportantHiringCommunication: string (nullable = true)\n",
      " |-- ImportantHiringOpenSource: string (nullable = true)\n",
      " |-- ImportantHiringPMExp: string (nullable = true)\n",
      " |-- ImportantHiringCompanies: string (nullable = true)\n",
      " |-- ImportantHiringTitles: string (nullable = true)\n",
      " |-- ImportantHiringEducation: string (nullable = true)\n",
      " |-- ImportantHiringRep: string (nullable = true)\n",
      " |-- ImportantHiringGettingThingsDone: string (nullable = true)\n",
      " |-- Currency: string (nullable = true)\n",
      " |-- Overpaid: string (nullable = true)\n",
      " |-- TabsSpaces: string (nullable = true)\n",
      " |-- EducationImportant: string (nullable = true)\n",
      " |-- EducationTypes: string (nullable = true)\n",
      " |-- SelfTaughtTypes: string (nullable = true)\n",
      " |-- TimeAfterBootcamp: string (nullable = true)\n",
      " |-- CousinEducation: string (nullable = true)\n",
      " |-- WorkStart: string (nullable = true)\n",
      " |-- HaveWorkedLanguage: string (nullable = true)\n",
      " |-- WantWorkLanguage: string (nullable = true)\n",
      " |-- HaveWorkedFramework: string (nullable = true)\n",
      " |-- WantWorkFramework: string (nullable = true)\n",
      " |-- HaveWorkedDatabase: string (nullable = true)\n",
      " |-- WantWorkDatabase: string (nullable = true)\n",
      " |-- HaveWorkedPlatform: string (nullable = true)\n",
      " |-- WantWorkPlatform: string (nullable = true)\n",
      " |-- IDE: string (nullable = true)\n",
      " |-- AuditoryEnvironment: string (nullable = true)\n",
      " |-- Methodology: string (nullable = true)\n",
      " |-- VersionControl: string (nullable = true)\n",
      " |-- CheckInCode: string (nullable = true)\n",
      " |-- ShipIt: string (nullable = true)\n",
      " |-- OtherPeoplesCode: string (nullable = true)\n",
      " |-- ProjectManagement: string (nullable = true)\n",
      " |-- EnjoyDebugging: string (nullable = true)\n",
      " |-- InTheZone: string (nullable = true)\n",
      " |-- DifficultCommunication: string (nullable = true)\n",
      " |-- CollaborateRemote: string (nullable = true)\n",
      " |-- MetricAssess: string (nullable = true)\n",
      " |-- EquipmentSatisfiedMonitors: string (nullable = true)\n",
      " |-- EquipmentSatisfiedCPU: string (nullable = true)\n",
      " |-- EquipmentSatisfiedRAM: string (nullable = true)\n",
      " |-- EquipmentSatisfiedStorage: string (nullable = true)\n",
      " |-- EquipmentSatisfiedRW: string (nullable = true)\n",
      " |-- InfluenceInternet: string (nullable = true)\n",
      " |-- InfluenceWorkstation: string (nullable = true)\n",
      " |-- InfluenceHardware: string (nullable = true)\n",
      " |-- InfluenceServers: string (nullable = true)\n",
      " |-- InfluenceTechStack: string (nullable = true)\n",
      " |-- InfluenceDeptTech: string (nullable = true)\n",
      " |-- InfluenceVizTools: string (nullable = true)\n",
      " |-- InfluenceDatabase: string (nullable = true)\n",
      " |-- InfluenceCloud: string (nullable = true)\n",
      " |-- InfluenceConsultants: string (nullable = true)\n",
      " |-- InfluenceRecruitment: string (nullable = true)\n",
      " |-- InfluenceCommunication: string (nullable = true)\n",
      " |-- StackOverflowDescribes: string (nullable = true)\n",
      " |-- StackOverflowSatisfaction: string (nullable = true)\n",
      " |-- StackOverflowDevices: string (nullable = true)\n",
      " |-- StackOverflowFoundAnswer: string (nullable = true)\n",
      " |-- StackOverflowCopiedCode: string (nullable = true)\n",
      " |-- StackOverflowJobListing: string (nullable = true)\n",
      " |-- StackOverflowCompanyPage: string (nullable = true)\n",
      " |-- StackOverflowJobSearch: string (nullable = true)\n",
      " |-- StackOverflowNewQuestion: string (nullable = true)\n",
      " |-- StackOverflowAnswer: string (nullable = true)\n",
      " |-- StackOverflowMetaChat: string (nullable = true)\n",
      " |-- StackOverflowAdsRelevant: string (nullable = true)\n",
      " |-- StackOverflowAdsDistracting: string (nullable = true)\n",
      " |-- StackOverflowModeration: string (nullable = true)\n",
      " |-- StackOverflowCommunity: string (nullable = true)\n",
      " |-- StackOverflowHelpful: string (nullable = true)\n",
      " |-- StackOverflowBetter: string (nullable = true)\n",
      " |-- StackOverflowWhatDo: string (nullable = true)\n",
      " |-- StackOverflowMakeMoney: string (nullable = true)\n",
      " |-- Gender: string (nullable = true)\n",
      " |-- HighestEducationParents: string (nullable = true)\n",
      " |-- Race: string (nullable = true)\n",
      " |-- SurveyLong: string (nullable = true)\n",
      " |-- QuestionsInteresting: string (nullable = true)\n",
      " |-- QuestionsConfusing: string (nullable = true)\n",
      " |-- InterestedAnswers: string (nullable = true)\n",
      " |-- Salary: string (nullable = true)\n",
      " |-- ExpectedSalary: string (nullable = true)\n",
      "\n"
     ]
    }
   ],
   "source": [
    "so_survey_df = spark.read.csv('./data/so-developer-survey-2017/survey_results_public.csv', \n",
    "                               sep=',', \n",
    "                               escape='\"', \n",
    "                               header=True, \n",
    "                               inferSchema=True, \n",
    "                               multiLine=True)\n",
    "\n",
    "so_survey_df.printSchema()"
   ]
  },
  {
   "cell_type": "code",
   "execution_count": 32,
   "metadata": {},
   "outputs": [
    {
     "name": "stdout",
     "output_type": "stream",
     "text": [
      "+--------------------+\n",
      "|                 IDE|\n",
      "+--------------------+\n",
      "| Atom; Vim; IntelliJ|\n",
      "|Android Studio; V...|\n",
      "|Vim; Android Stud...|\n",
      "|Emacs; Notepad++;...|\n",
      "|Notepad++; TextMa...|\n",
      "+--------------------+\n",
      "only showing top 5 rows\n",
      "\n"
     ]
    }
   ],
   "source": [
    "so_survey_df.select('IDE').distinct().show(5)"
   ]
  },
  {
   "cell_type": "code",
   "execution_count": 33,
   "metadata": {},
   "outputs": [
    {
     "name": "stdout",
     "output_type": "stream",
     "text": [
      "+--------------------+--------+\n",
      "|                 IDE|analysis|\n",
      "+--------------------+--------+\n",
      "|         Atom; Xcode|     Boo|\n",
      "|Atom; Notepad++; ...|     Boo|\n",
      "|Sublime Text; Vim...|     Boo|\n",
      "|Notepad++; Sublim...|     Boo|\n",
      "|                  NA|     Boo|\n",
      "|          Emacs; Vim|     Yay|\n",
      "|Sublime Text; IPy...|     Boo|\n",
      "|                 Vim|     Boo|\n",
      "|Vim; Visual Studi...|     Boo|\n",
      "|Coda; Sublime Tex...|     Boo|\n",
      "+--------------------+--------+\n",
      "only showing top 10 rows\n",
      "\n"
     ]
    }
   ],
   "source": [
    "from pyspark.sql import functions as F\n",
    "from pyspark.sql.functions import col\n",
    "\n",
    "so_survey_df.select('IDE', F.when(col('IDE').contains('Emacs'), 'Yay') \\\n",
    "                            .when(col('IDE').contains('Spacemacs'), 'Yay') \\\n",
    "                            .otherwise('Boo') \\\n",
    "                            .alias('analysis')).show(10)"
   ]
  },
  {
   "cell_type": "markdown",
   "metadata": {},
   "source": [
    "## Using UDFs\n",
    "\n",
    "Spark SQL [UDF](https://spark.apache.org/docs/latest/api/python/pyspark.sql.html#pyspark.sql.UDFRegistration.register)"
   ]
  },
  {
   "cell_type": "code",
   "execution_count": 34,
   "metadata": {},
   "outputs": [
    {
     "name": "stdout",
     "output_type": "stream",
     "text": [
      "+-----------+\n",
      "|body_length|\n",
      "+-----------+\n",
      "|       1941|\n",
      "|        249|\n",
      "|        431|\n",
      "+-----------+\n",
      "only showing top 3 rows\n",
      "\n"
     ]
    }
   ],
   "source": [
    "spark.udf.register(\"string_length\", lambda x: len(x))\n",
    "spark.sql(\"SELECT string_length(body) as body_length from questions\").show(3)"
   ]
  },
  {
   "cell_type": "markdown",
   "metadata": {},
   "source": [
    "## Advanced\n",
    "\n",
    "[Broadcasting](https://spark.apache.org/docs/latest/sql-programming-guide.html#broadcast-hint-for-sql-queries)\n",
    "\n",
    "[Caching](https://spark.apache.org/docs/latest/sql-programming-guide.html#caching-data-in-memory)\n",
    "\n",
    "[JDBC](https://spark.apache.org/docs/latest/sql-programming-guide.html#jdbc-to-other-databases)"
   ]
  },
  {
   "cell_type": "code",
   "execution_count": null,
   "metadata": {},
   "outputs": [],
   "source": []
  }
 ],
 "metadata": {
  "kernelspec": {
   "display_name": "Python 3",
   "language": "python",
   "name": "python3"
  },
  "language_info": {
   "codemirror_mode": {
    "name": "ipython",
    "version": 3
   },
   "file_extension": ".py",
   "mimetype": "text/x-python",
   "name": "python",
   "nbconvert_exporter": "python",
   "pygments_lexer": "ipython3",
   "version": "3.9.6"
  }
 },
 "nbformat": 4,
 "nbformat_minor": 2
}
